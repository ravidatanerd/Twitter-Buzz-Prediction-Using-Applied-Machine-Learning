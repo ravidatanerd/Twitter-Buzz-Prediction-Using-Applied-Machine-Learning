{
 "cells": [
  {
   "cell_type": "markdown",
   "metadata": {},
   "source": [
    "### <font color='red'> Project 3 : Buzz Prediction on Twitter\n",
    "\n",
    "Project Description:\n",
    "- Use same datasets as Project 2.\n",
    "- Run all the models only on 10% data. Use code given in Project 2 for sampling.\n",
    "- Preprocess data: Explore data and apply data scaling.\n",
    "\n",
    "Regression Task:\n",
    "- Apply any two models with bagging and any two models with pasting.\n",
    "- Apply any two models with adaboost boosting\n",
    "- Apply one model with gradient boosting\n",
    "- Apply PCA on data and then apply all the models in project 2 again on data you get from PCA. Compare your results with results in project 2. You don't need to apply all the models twice. Just copy the result table from project 2, prepare similar table for all the models after PCA and compare both tables. Does PCA help in getting better results?\n",
    "- Apply deep learning models covered in class\n",
    "\n",
    "Classification Task:\n",
    "- Apply four voting classifiers - two with hard voting and two with soft voting\n",
    "- Apply any two models with bagging and any two models with pasting.\n",
    "- Apply any two models with adaboost boosting\n",
    "- Apply one model with gradient boosting\n",
    "- Apply PCA on data and then apply all the models in project 2 again on data you get from PCA. Compare your results with results in project 2. You don't need to apply all the models twice. Just copy the result table from project 2, prepare similar table for all the models after PCA and compare both tables. Does PCA help in getting better results?\n",
    "- Apply deep learning models covered in class\n",
    "\n",
    "Deliverables:\n",
    "- Use markdown to provide inline comments for this project.\n",
    "- Your outputs should be clearly executed in the notebook i.e. we should not need to rerun the code to obtain the outputs.\n",
    "- Visualization encouraged.\n",
    "- If you are submitting two different files, then please only one group member submit both the files. If you submit two files separately from different accounts, it will be submitted as two different attempts.\n",
    "- If you are submitting two different files, then please follow below naming convetion:\n",
    "    Project3_Regression_GroupXX_Firstname1_Firstname2.ipynb\n",
    "    Project3_Classification_GroupXX_Firstname1_Firstname2.ipynb\n",
    "- If you are submitting single file, then please follow below naming convetion:\n",
    "    Project3_Both_GroupXX_Firstname1_Firstname2.ipynb\n",
    "\n",
    "Questions regarding the project:\n",
    "- We have created a discussion board under Projects folder on e-learning. Create threads over there and post your queries related to project there.\n",
    "- We will also answer queries there. We will not be answering any project related queries through the mail."
   ]
  },
  {
   "cell_type": "code",
   "execution_count": 1,
   "metadata": {},
   "outputs": [],
   "source": [
    "import numpy as np\n",
    "import pandas as pd\n",
    "import seaborn as sns\n",
    "import matplotlib.pyplot as plt\n",
    "sns.set(color_codes=True)\n",
    "import warnings\n",
    "warnings.filterwarnings('ignore')\n",
    "\n",
    "data=pd.read_csv('Twitter.data',header=None) ## Regression\n",
    "\n"
   ]
  },
  {
   "cell_type": "markdown",
   "metadata": {},
   "source": [
    "### Data Inspect"
   ]
  },
  {
   "cell_type": "code",
   "execution_count": 2,
   "metadata": {},
   "outputs": [
    {
     "data": {
      "text/html": [
       "<div>\n",
       "<style scoped>\n",
       "    .dataframe tbody tr th:only-of-type {\n",
       "        vertical-align: middle;\n",
       "    }\n",
       "\n",
       "    .dataframe tbody tr th {\n",
       "        vertical-align: top;\n",
       "    }\n",
       "\n",
       "    .dataframe thead th {\n",
       "        text-align: right;\n",
       "    }\n",
       "</style>\n",
       "<table border=\"1\" class=\"dataframe\">\n",
       "  <thead>\n",
       "    <tr style=\"text-align: right;\">\n",
       "      <th></th>\n",
       "      <th>0</th>\n",
       "      <th>1</th>\n",
       "      <th>2</th>\n",
       "      <th>3</th>\n",
       "      <th>4</th>\n",
       "      <th>5</th>\n",
       "      <th>6</th>\n",
       "      <th>7</th>\n",
       "      <th>8</th>\n",
       "      <th>9</th>\n",
       "      <th>...</th>\n",
       "      <th>68</th>\n",
       "      <th>69</th>\n",
       "      <th>70</th>\n",
       "      <th>71</th>\n",
       "      <th>72</th>\n",
       "      <th>73</th>\n",
       "      <th>74</th>\n",
       "      <th>75</th>\n",
       "      <th>76</th>\n",
       "      <th>77</th>\n",
       "    </tr>\n",
       "  </thead>\n",
       "  <tbody>\n",
       "    <tr>\n",
       "      <th>0</th>\n",
       "      <td>0</td>\n",
       "      <td>2</td>\n",
       "      <td>0</td>\n",
       "      <td>0</td>\n",
       "      <td>1</td>\n",
       "      <td>1</td>\n",
       "      <td>1</td>\n",
       "      <td>0</td>\n",
       "      <td>1</td>\n",
       "      <td>0</td>\n",
       "      <td>...</td>\n",
       "      <td>1.0</td>\n",
       "      <td>1.0</td>\n",
       "      <td>0</td>\n",
       "      <td>2</td>\n",
       "      <td>0</td>\n",
       "      <td>0</td>\n",
       "      <td>1</td>\n",
       "      <td>1</td>\n",
       "      <td>1</td>\n",
       "      <td>0.0</td>\n",
       "    </tr>\n",
       "    <tr>\n",
       "      <th>1</th>\n",
       "      <td>2</td>\n",
       "      <td>1</td>\n",
       "      <td>0</td>\n",
       "      <td>0</td>\n",
       "      <td>0</td>\n",
       "      <td>0</td>\n",
       "      <td>4</td>\n",
       "      <td>2</td>\n",
       "      <td>1</td>\n",
       "      <td>0</td>\n",
       "      <td>...</td>\n",
       "      <td>0.0</td>\n",
       "      <td>1.0</td>\n",
       "      <td>2</td>\n",
       "      <td>1</td>\n",
       "      <td>0</td>\n",
       "      <td>0</td>\n",
       "      <td>0</td>\n",
       "      <td>0</td>\n",
       "      <td>4</td>\n",
       "      <td>0.5</td>\n",
       "    </tr>\n",
       "    <tr>\n",
       "      <th>2</th>\n",
       "      <td>1</td>\n",
       "      <td>0</td>\n",
       "      <td>0</td>\n",
       "      <td>0</td>\n",
       "      <td>0</td>\n",
       "      <td>4</td>\n",
       "      <td>1</td>\n",
       "      <td>1</td>\n",
       "      <td>0</td>\n",
       "      <td>0</td>\n",
       "      <td>...</td>\n",
       "      <td>1.0</td>\n",
       "      <td>1.0</td>\n",
       "      <td>1</td>\n",
       "      <td>0</td>\n",
       "      <td>0</td>\n",
       "      <td>0</td>\n",
       "      <td>0</td>\n",
       "      <td>4</td>\n",
       "      <td>1</td>\n",
       "      <td>0.0</td>\n",
       "    </tr>\n",
       "    <tr>\n",
       "      <th>3</th>\n",
       "      <td>1</td>\n",
       "      <td>0</td>\n",
       "      <td>0</td>\n",
       "      <td>1</td>\n",
       "      <td>0</td>\n",
       "      <td>0</td>\n",
       "      <td>1</td>\n",
       "      <td>1</td>\n",
       "      <td>0</td>\n",
       "      <td>0</td>\n",
       "      <td>...</td>\n",
       "      <td>0.0</td>\n",
       "      <td>1.0</td>\n",
       "      <td>1</td>\n",
       "      <td>0</td>\n",
       "      <td>0</td>\n",
       "      <td>1</td>\n",
       "      <td>0</td>\n",
       "      <td>0</td>\n",
       "      <td>1</td>\n",
       "      <td>2.5</td>\n",
       "    </tr>\n",
       "    <tr>\n",
       "      <th>4</th>\n",
       "      <td>0</td>\n",
       "      <td>1</td>\n",
       "      <td>0</td>\n",
       "      <td>0</td>\n",
       "      <td>1</td>\n",
       "      <td>2</td>\n",
       "      <td>3</td>\n",
       "      <td>0</td>\n",
       "      <td>1</td>\n",
       "      <td>0</td>\n",
       "      <td>...</td>\n",
       "      <td>1.0</td>\n",
       "      <td>1.0</td>\n",
       "      <td>0</td>\n",
       "      <td>1</td>\n",
       "      <td>0</td>\n",
       "      <td>0</td>\n",
       "      <td>1</td>\n",
       "      <td>2</td>\n",
       "      <td>3</td>\n",
       "      <td>0.5</td>\n",
       "    </tr>\n",
       "  </tbody>\n",
       "</table>\n",
       "<p>5 rows × 78 columns</p>\n",
       "</div>"
      ],
      "text/plain": [
       "   0   1   2   3   4   5   6   7   8   9  ...    68   69  70  71  72  73  74  \\\n",
       "0   0   2   0   0   1   1   1   0   1   0 ...   1.0  1.0   0   2   0   0   1   \n",
       "1   2   1   0   0   0   0   4   2   1   0 ...   0.0  1.0   2   1   0   0   0   \n",
       "2   1   0   0   0   0   4   1   1   0   0 ...   1.0  1.0   1   0   0   0   0   \n",
       "3   1   0   0   1   0   0   1   1   0   0 ...   0.0  1.0   1   0   0   1   0   \n",
       "4   0   1   0   0   1   2   3   0   1   0 ...   1.0  1.0   0   1   0   0   1   \n",
       "\n",
       "   75  76   77  \n",
       "0   1   1  0.0  \n",
       "1   0   4  0.5  \n",
       "2   4   1  0.0  \n",
       "3   0   1  2.5  \n",
       "4   2   3  0.5  \n",
       "\n",
       "[5 rows x 78 columns]"
      ]
     },
     "execution_count": 2,
     "metadata": {},
     "output_type": "execute_result"
    }
   ],
   "source": [
    "data.head()"
   ]
  },
  {
   "cell_type": "code",
   "execution_count": 2,
   "metadata": {},
   "outputs": [],
   "source": [
    "#  Columns Names as per the description Provided\n",
    "\n",
    "colnames = [\"NCD\",\"AI\",\"AS(NA)\",\"BL\",\"NAC\",\"AS(NAC)\",\"CS\",\"AT\",\"NA\",\"ADL\",\"NAD\",\"Buzz_Magnitude\"]\n",
    "\n",
    "# Function for Column name in the data set\n",
    "\n",
    "def colrange(n):\n",
    "    if n in range(0,7):\n",
    "        return(colnames[0]+'_'+str(n-0))\n",
    "    elif n in range(7,14) :\n",
    "        return(colnames[1]+'_'+str(n-7))\n",
    "    elif n in range(14,21) :\n",
    "        return(colnames[2]+'_'+str(n-14))\n",
    "    elif n in range(21,28) :\n",
    "        return(colnames[3]+'_'+str(n-21))\n",
    "    elif n in range(28,35) :\n",
    "        return(colnames[4]+'_'+str(n-28))\n",
    "    elif n in range(35,42) :\n",
    "        return(colnames[5]+'_'+str(n-35))\n",
    "    elif n in range(42,49) :\n",
    "        return(colnames[6]+'_'+str(n-42))\n",
    "    elif n in range(49,56) :\n",
    "        return(colnames[7]+'_'+str(n-49))\n",
    "    elif n in range(56,63) :\n",
    "        return(colnames[8]+'_'+str(n-56))\n",
    "    elif n in range(63,70) :\n",
    "        return(colnames[9]+'_'+str(n-63))\n",
    "    elif n in range(70,77) :\n",
    "        return(colnames[10]+'_'+str(n-70))\n",
    "    elif n==77 :\n",
    "        return(colnames[11])    \n",
    "\n",
    "# Renaming Columns name \n",
    "data.columns=[colrange(col) for col in data.columns]"
   ]
  },
  {
   "cell_type": "code",
   "execution_count": 3,
   "metadata": {},
   "outputs": [
    {
     "data": {
      "text/plain": [
       "(583250, 78)"
      ]
     },
     "execution_count": 3,
     "metadata": {},
     "output_type": "execute_result"
    }
   ],
   "source": [
    "data.shape"
   ]
  },
  {
   "cell_type": "code",
   "execution_count": 4,
   "metadata": {
    "scrolled": true
   },
   "outputs": [
    {
     "data": {
      "text/html": [
       "<div>\n",
       "<style scoped>\n",
       "    .dataframe tbody tr th:only-of-type {\n",
       "        vertical-align: middle;\n",
       "    }\n",
       "\n",
       "    .dataframe tbody tr th {\n",
       "        vertical-align: top;\n",
       "    }\n",
       "\n",
       "    .dataframe thead th {\n",
       "        text-align: right;\n",
       "    }\n",
       "</style>\n",
       "<table border=\"1\" class=\"dataframe\">\n",
       "  <thead>\n",
       "    <tr style=\"text-align: right;\">\n",
       "      <th></th>\n",
       "      <th>NCD_0</th>\n",
       "      <th>NCD_1</th>\n",
       "      <th>NCD_2</th>\n",
       "      <th>NCD_3</th>\n",
       "      <th>NCD_4</th>\n",
       "      <th>NCD_5</th>\n",
       "      <th>NCD_6</th>\n",
       "      <th>AI_0</th>\n",
       "      <th>AI_1</th>\n",
       "      <th>AI_2</th>\n",
       "      <th>...</th>\n",
       "      <th>ADL_5</th>\n",
       "      <th>ADL_6</th>\n",
       "      <th>NAD_0</th>\n",
       "      <th>NAD_1</th>\n",
       "      <th>NAD_2</th>\n",
       "      <th>NAD_3</th>\n",
       "      <th>NAD_4</th>\n",
       "      <th>NAD_5</th>\n",
       "      <th>NAD_6</th>\n",
       "      <th>Buzz_Magnitude</th>\n",
       "    </tr>\n",
       "  </thead>\n",
       "  <tbody>\n",
       "    <tr>\n",
       "      <th>0</th>\n",
       "      <td>0</td>\n",
       "      <td>2</td>\n",
       "      <td>0</td>\n",
       "      <td>0</td>\n",
       "      <td>1</td>\n",
       "      <td>1</td>\n",
       "      <td>1</td>\n",
       "      <td>0</td>\n",
       "      <td>1</td>\n",
       "      <td>0</td>\n",
       "      <td>...</td>\n",
       "      <td>1.0</td>\n",
       "      <td>1.0</td>\n",
       "      <td>0</td>\n",
       "      <td>2</td>\n",
       "      <td>0</td>\n",
       "      <td>0</td>\n",
       "      <td>1</td>\n",
       "      <td>1</td>\n",
       "      <td>1</td>\n",
       "      <td>0.0</td>\n",
       "    </tr>\n",
       "    <tr>\n",
       "      <th>1</th>\n",
       "      <td>2</td>\n",
       "      <td>1</td>\n",
       "      <td>0</td>\n",
       "      <td>0</td>\n",
       "      <td>0</td>\n",
       "      <td>0</td>\n",
       "      <td>4</td>\n",
       "      <td>2</td>\n",
       "      <td>1</td>\n",
       "      <td>0</td>\n",
       "      <td>...</td>\n",
       "      <td>0.0</td>\n",
       "      <td>1.0</td>\n",
       "      <td>2</td>\n",
       "      <td>1</td>\n",
       "      <td>0</td>\n",
       "      <td>0</td>\n",
       "      <td>0</td>\n",
       "      <td>0</td>\n",
       "      <td>4</td>\n",
       "      <td>0.5</td>\n",
       "    </tr>\n",
       "    <tr>\n",
       "      <th>2</th>\n",
       "      <td>1</td>\n",
       "      <td>0</td>\n",
       "      <td>0</td>\n",
       "      <td>0</td>\n",
       "      <td>0</td>\n",
       "      <td>4</td>\n",
       "      <td>1</td>\n",
       "      <td>1</td>\n",
       "      <td>0</td>\n",
       "      <td>0</td>\n",
       "      <td>...</td>\n",
       "      <td>1.0</td>\n",
       "      <td>1.0</td>\n",
       "      <td>1</td>\n",
       "      <td>0</td>\n",
       "      <td>0</td>\n",
       "      <td>0</td>\n",
       "      <td>0</td>\n",
       "      <td>4</td>\n",
       "      <td>1</td>\n",
       "      <td>0.0</td>\n",
       "    </tr>\n",
       "    <tr>\n",
       "      <th>3</th>\n",
       "      <td>1</td>\n",
       "      <td>0</td>\n",
       "      <td>0</td>\n",
       "      <td>1</td>\n",
       "      <td>0</td>\n",
       "      <td>0</td>\n",
       "      <td>1</td>\n",
       "      <td>1</td>\n",
       "      <td>0</td>\n",
       "      <td>0</td>\n",
       "      <td>...</td>\n",
       "      <td>0.0</td>\n",
       "      <td>1.0</td>\n",
       "      <td>1</td>\n",
       "      <td>0</td>\n",
       "      <td>0</td>\n",
       "      <td>1</td>\n",
       "      <td>0</td>\n",
       "      <td>0</td>\n",
       "      <td>1</td>\n",
       "      <td>2.5</td>\n",
       "    </tr>\n",
       "    <tr>\n",
       "      <th>4</th>\n",
       "      <td>0</td>\n",
       "      <td>1</td>\n",
       "      <td>0</td>\n",
       "      <td>0</td>\n",
       "      <td>1</td>\n",
       "      <td>2</td>\n",
       "      <td>3</td>\n",
       "      <td>0</td>\n",
       "      <td>1</td>\n",
       "      <td>0</td>\n",
       "      <td>...</td>\n",
       "      <td>1.0</td>\n",
       "      <td>1.0</td>\n",
       "      <td>0</td>\n",
       "      <td>1</td>\n",
       "      <td>0</td>\n",
       "      <td>0</td>\n",
       "      <td>1</td>\n",
       "      <td>2</td>\n",
       "      <td>3</td>\n",
       "      <td>0.5</td>\n",
       "    </tr>\n",
       "  </tbody>\n",
       "</table>\n",
       "<p>5 rows × 78 columns</p>\n",
       "</div>"
      ],
      "text/plain": [
       "   NCD_0  NCD_1  NCD_2  NCD_3  NCD_4  NCD_5  NCD_6  AI_0  AI_1  AI_2  \\\n",
       "0      0      2      0      0      1      1      1     0     1     0   \n",
       "1      2      1      0      0      0      0      4     2     1     0   \n",
       "2      1      0      0      0      0      4      1     1     0     0   \n",
       "3      1      0      0      1      0      0      1     1     0     0   \n",
       "4      0      1      0      0      1      2      3     0     1     0   \n",
       "\n",
       "        ...        ADL_5  ADL_6  NAD_0  NAD_1  NAD_2  NAD_3  NAD_4  NAD_5  \\\n",
       "0       ...          1.0    1.0      0      2      0      0      1      1   \n",
       "1       ...          0.0    1.0      2      1      0      0      0      0   \n",
       "2       ...          1.0    1.0      1      0      0      0      0      4   \n",
       "3       ...          0.0    1.0      1      0      0      1      0      0   \n",
       "4       ...          1.0    1.0      0      1      0      0      1      2   \n",
       "\n",
       "   NAD_6  Buzz_Magnitude  \n",
       "0      1             0.0  \n",
       "1      4             0.5  \n",
       "2      1             0.0  \n",
       "3      1             2.5  \n",
       "4      3             0.5  \n",
       "\n",
       "[5 rows x 78 columns]"
      ]
     },
     "execution_count": 4,
     "metadata": {},
     "output_type": "execute_result"
    }
   ],
   "source": [
    "data.head()"
   ]
  },
  {
   "cell_type": "code",
   "execution_count": 5,
   "metadata": {
    "scrolled": true
   },
   "outputs": [
    {
     "name": "stdout",
     "output_type": "stream",
     "text": [
      "<class 'pandas.core.frame.DataFrame'>\n",
      "RangeIndex: 583250 entries, 0 to 583249\n",
      "Data columns (total 78 columns):\n",
      "NCD_0             583250 non-null int64\n",
      "NCD_1             583250 non-null int64\n",
      "NCD_2             583250 non-null int64\n",
      "NCD_3             583250 non-null int64\n",
      "NCD_4             583250 non-null int64\n",
      "NCD_5             583250 non-null int64\n",
      "NCD_6             583250 non-null int64\n",
      "AI_0              583250 non-null int64\n",
      "AI_1              583250 non-null int64\n",
      "AI_2              583250 non-null int64\n",
      "AI_3              583250 non-null int64\n",
      "AI_4              583250 non-null int64\n",
      "AI_5              583250 non-null int64\n",
      "AI_6              583250 non-null int64\n",
      "AS(NA)_0          583250 non-null float64\n",
      "AS(NA)_1          583250 non-null float64\n",
      "AS(NA)_2          583250 non-null float64\n",
      "AS(NA)_3          583250 non-null float64\n",
      "AS(NA)_4          583250 non-null float64\n",
      "AS(NA)_5          583250 non-null float64\n",
      "AS(NA)_6          583250 non-null float64\n",
      "BL_0              583250 non-null float64\n",
      "BL_1              583250 non-null float64\n",
      "BL_2              583250 non-null float64\n",
      "BL_3              583250 non-null float64\n",
      "BL_4              583250 non-null float64\n",
      "BL_5              583250 non-null float64\n",
      "BL_6              583250 non-null float64\n",
      "NAC_0             583250 non-null int64\n",
      "NAC_1             583250 non-null int64\n",
      "NAC_2             583250 non-null int64\n",
      "NAC_3             583250 non-null int64\n",
      "NAC_4             583250 non-null int64\n",
      "NAC_5             583250 non-null int64\n",
      "NAC_6             583250 non-null int64\n",
      "AS(NAC)_0         583250 non-null float64\n",
      "AS(NAC)_1         583250 non-null float64\n",
      "AS(NAC)_2         583250 non-null float64\n",
      "AS(NAC)_3         583250 non-null float64\n",
      "AS(NAC)_4         583250 non-null float64\n",
      "AS(NAC)_5         583250 non-null float64\n",
      "AS(NAC)_6         583250 non-null float64\n",
      "CS_0              583250 non-null float64\n",
      "CS_1              583250 non-null float64\n",
      "CS_2              583250 non-null float64\n",
      "CS_3              583250 non-null float64\n",
      "CS_4              583250 non-null float64\n",
      "CS_5              583250 non-null float64\n",
      "CS_6              583250 non-null float64\n",
      "AT_0              583250 non-null float64\n",
      "AT_1              583250 non-null float64\n",
      "AT_2              583250 non-null float64\n",
      "AT_3              583250 non-null float64\n",
      "AT_4              583250 non-null float64\n",
      "AT_5              583250 non-null float64\n",
      "AT_6              583250 non-null float64\n",
      "NA_0              583250 non-null int64\n",
      "NA_1              583250 non-null int64\n",
      "NA_2              583250 non-null int64\n",
      "NA_3              583250 non-null int64\n",
      "NA_4              583250 non-null int64\n",
      "NA_5              583250 non-null int64\n",
      "NA_6              583250 non-null int64\n",
      "ADL_0             583250 non-null float64\n",
      "ADL_1             583250 non-null float64\n",
      "ADL_2             583250 non-null float64\n",
      "ADL_3             583250 non-null float64\n",
      "ADL_4             583250 non-null float64\n",
      "ADL_5             583250 non-null float64\n",
      "ADL_6             583250 non-null float64\n",
      "NAD_0             583250 non-null int64\n",
      "NAD_1             583250 non-null int64\n",
      "NAD_2             583250 non-null int64\n",
      "NAD_3             583250 non-null int64\n",
      "NAD_4             583250 non-null int64\n",
      "NAD_5             583250 non-null int64\n",
      "NAD_6             583250 non-null int64\n",
      "Buzz_Magnitude    583250 non-null float64\n",
      "dtypes: float64(43), int64(35)\n",
      "memory usage: 347.1 MB\n"
     ]
    }
   ],
   "source": [
    "data.info()"
   ]
  },
  {
   "cell_type": "code",
   "execution_count": 6,
   "metadata": {
    "scrolled": true
   },
   "outputs": [
    {
     "data": {
      "text/html": [
       "<div>\n",
       "<style scoped>\n",
       "    .dataframe tbody tr th:only-of-type {\n",
       "        vertical-align: middle;\n",
       "    }\n",
       "\n",
       "    .dataframe tbody tr th {\n",
       "        vertical-align: top;\n",
       "    }\n",
       "\n",
       "    .dataframe thead th {\n",
       "        text-align: right;\n",
       "    }\n",
       "</style>\n",
       "<table border=\"1\" class=\"dataframe\">\n",
       "  <thead>\n",
       "    <tr style=\"text-align: right;\">\n",
       "      <th></th>\n",
       "      <th>NCD_0</th>\n",
       "      <th>NCD_1</th>\n",
       "      <th>NCD_2</th>\n",
       "      <th>NCD_3</th>\n",
       "      <th>NCD_4</th>\n",
       "      <th>NCD_5</th>\n",
       "      <th>NCD_6</th>\n",
       "      <th>AI_0</th>\n",
       "      <th>AI_1</th>\n",
       "      <th>AI_2</th>\n",
       "      <th>...</th>\n",
       "      <th>ADL_5</th>\n",
       "      <th>ADL_6</th>\n",
       "      <th>NAD_0</th>\n",
       "      <th>NAD_1</th>\n",
       "      <th>NAD_2</th>\n",
       "      <th>NAD_3</th>\n",
       "      <th>NAD_4</th>\n",
       "      <th>NAD_5</th>\n",
       "      <th>NAD_6</th>\n",
       "      <th>Buzz_Magnitude</th>\n",
       "    </tr>\n",
       "  </thead>\n",
       "  <tbody>\n",
       "    <tr>\n",
       "      <th>count</th>\n",
       "      <td>583250.000000</td>\n",
       "      <td>583250.000000</td>\n",
       "      <td>583250.000000</td>\n",
       "      <td>583250.000000</td>\n",
       "      <td>583250.000000</td>\n",
       "      <td>583250.000000</td>\n",
       "      <td>583250.000000</td>\n",
       "      <td>583250.000000</td>\n",
       "      <td>583250.000000</td>\n",
       "      <td>583250.000000</td>\n",
       "      <td>...</td>\n",
       "      <td>583250.000000</td>\n",
       "      <td>583250.000000</td>\n",
       "      <td>583250.000000</td>\n",
       "      <td>583250.000000</td>\n",
       "      <td>583250.000000</td>\n",
       "      <td>583250.000000</td>\n",
       "      <td>583250.000000</td>\n",
       "      <td>583250.000000</td>\n",
       "      <td>583250.000000</td>\n",
       "      <td>583250.000000</td>\n",
       "    </tr>\n",
       "    <tr>\n",
       "      <th>mean</th>\n",
       "      <td>140.339640</td>\n",
       "      <td>136.770147</td>\n",
       "      <td>159.679271</td>\n",
       "      <td>181.592091</td>\n",
       "      <td>201.097445</td>\n",
       "      <td>220.175371</td>\n",
       "      <td>219.388214</td>\n",
       "      <td>71.038051</td>\n",
       "      <td>69.829631</td>\n",
       "      <td>82.198203</td>\n",
       "      <td>...</td>\n",
       "      <td>1.136688</td>\n",
       "      <td>1.140372</td>\n",
       "      <td>140.789860</td>\n",
       "      <td>137.181270</td>\n",
       "      <td>160.105922</td>\n",
       "      <td>182.057440</td>\n",
       "      <td>201.596482</td>\n",
       "      <td>220.705900</td>\n",
       "      <td>219.936864</td>\n",
       "      <td>191.279493</td>\n",
       "    </tr>\n",
       "    <tr>\n",
       "      <th>std</th>\n",
       "      <td>431.772639</td>\n",
       "      <td>432.305129</td>\n",
       "      <td>502.057428</td>\n",
       "      <td>574.883713</td>\n",
       "      <td>630.448432</td>\n",
       "      <td>669.205930</td>\n",
       "      <td>672.182204</td>\n",
       "      <td>196.876718</td>\n",
       "      <td>202.199758</td>\n",
       "      <td>239.523042</td>\n",
       "      <td>...</td>\n",
       "      <td>1.432327</td>\n",
       "      <td>1.552313</td>\n",
       "      <td>432.624954</td>\n",
       "      <td>433.026611</td>\n",
       "      <td>502.774408</td>\n",
       "      <td>575.658022</td>\n",
       "      <td>631.258318</td>\n",
       "      <td>670.050977</td>\n",
       "      <td>673.032541</td>\n",
       "      <td>612.352354</td>\n",
       "    </tr>\n",
       "    <tr>\n",
       "      <th>min</th>\n",
       "      <td>0.000000</td>\n",
       "      <td>0.000000</td>\n",
       "      <td>0.000000</td>\n",
       "      <td>0.000000</td>\n",
       "      <td>0.000000</td>\n",
       "      <td>0.000000</td>\n",
       "      <td>0.000000</td>\n",
       "      <td>0.000000</td>\n",
       "      <td>0.000000</td>\n",
       "      <td>0.000000</td>\n",
       "      <td>...</td>\n",
       "      <td>0.000000</td>\n",
       "      <td>0.000000</td>\n",
       "      <td>0.000000</td>\n",
       "      <td>0.000000</td>\n",
       "      <td>0.000000</td>\n",
       "      <td>0.000000</td>\n",
       "      <td>0.000000</td>\n",
       "      <td>0.000000</td>\n",
       "      <td>0.000000</td>\n",
       "      <td>0.000000</td>\n",
       "    </tr>\n",
       "    <tr>\n",
       "      <th>25%</th>\n",
       "      <td>3.000000</td>\n",
       "      <td>3.000000</td>\n",
       "      <td>4.000000</td>\n",
       "      <td>4.000000</td>\n",
       "      <td>5.000000</td>\n",
       "      <td>6.000000</td>\n",
       "      <td>6.000000</td>\n",
       "      <td>2.000000</td>\n",
       "      <td>2.000000</td>\n",
       "      <td>2.000000</td>\n",
       "      <td>...</td>\n",
       "      <td>1.000000</td>\n",
       "      <td>1.000000</td>\n",
       "      <td>3.000000</td>\n",
       "      <td>3.000000</td>\n",
       "      <td>4.000000</td>\n",
       "      <td>4.000000</td>\n",
       "      <td>5.000000</td>\n",
       "      <td>6.000000</td>\n",
       "      <td>6.000000</td>\n",
       "      <td>4.500000</td>\n",
       "    </tr>\n",
       "    <tr>\n",
       "      <th>50%</th>\n",
       "      <td>18.000000</td>\n",
       "      <td>17.000000</td>\n",
       "      <td>21.000000</td>\n",
       "      <td>24.000000</td>\n",
       "      <td>27.000000</td>\n",
       "      <td>31.000000</td>\n",
       "      <td>30.000000</td>\n",
       "      <td>11.000000</td>\n",
       "      <td>11.000000</td>\n",
       "      <td>13.000000</td>\n",
       "      <td>...</td>\n",
       "      <td>1.000000</td>\n",
       "      <td>1.000000</td>\n",
       "      <td>18.000000</td>\n",
       "      <td>17.000000</td>\n",
       "      <td>21.000000</td>\n",
       "      <td>24.000000</td>\n",
       "      <td>27.000000</td>\n",
       "      <td>31.000000</td>\n",
       "      <td>31.000000</td>\n",
       "      <td>25.500000</td>\n",
       "    </tr>\n",
       "    <tr>\n",
       "      <th>75%</th>\n",
       "      <td>104.000000</td>\n",
       "      <td>100.000000</td>\n",
       "      <td>115.000000</td>\n",
       "      <td>131.000000</td>\n",
       "      <td>147.000000</td>\n",
       "      <td>166.000000</td>\n",
       "      <td>164.000000</td>\n",
       "      <td>59.000000</td>\n",
       "      <td>57.000000</td>\n",
       "      <td>65.000000</td>\n",
       "      <td>...</td>\n",
       "      <td>1.090909</td>\n",
       "      <td>1.091296</td>\n",
       "      <td>104.000000</td>\n",
       "      <td>101.000000</td>\n",
       "      <td>115.000000</td>\n",
       "      <td>131.000000</td>\n",
       "      <td>148.000000</td>\n",
       "      <td>167.000000</td>\n",
       "      <td>165.000000</td>\n",
       "      <td>139.000000</td>\n",
       "    </tr>\n",
       "    <tr>\n",
       "      <th>max</th>\n",
       "      <td>24210.000000</td>\n",
       "      <td>29574.000000</td>\n",
       "      <td>37505.000000</td>\n",
       "      <td>72366.000000</td>\n",
       "      <td>79079.000000</td>\n",
       "      <td>79079.000000</td>\n",
       "      <td>79079.000000</td>\n",
       "      <td>18654.000000</td>\n",
       "      <td>22035.000000</td>\n",
       "      <td>29402.000000</td>\n",
       "      <td>...</td>\n",
       "      <td>262.000000</td>\n",
       "      <td>295.000000</td>\n",
       "      <td>24301.000000</td>\n",
       "      <td>29574.000000</td>\n",
       "      <td>37505.000000</td>\n",
       "      <td>72366.000000</td>\n",
       "      <td>79083.000000</td>\n",
       "      <td>79083.000000</td>\n",
       "      <td>79083.000000</td>\n",
       "      <td>75724.500000</td>\n",
       "    </tr>\n",
       "  </tbody>\n",
       "</table>\n",
       "<p>8 rows × 78 columns</p>\n",
       "</div>"
      ],
      "text/plain": [
       "               NCD_0          NCD_1          NCD_2          NCD_3  \\\n",
       "count  583250.000000  583250.000000  583250.000000  583250.000000   \n",
       "mean      140.339640     136.770147     159.679271     181.592091   \n",
       "std       431.772639     432.305129     502.057428     574.883713   \n",
       "min         0.000000       0.000000       0.000000       0.000000   \n",
       "25%         3.000000       3.000000       4.000000       4.000000   \n",
       "50%        18.000000      17.000000      21.000000      24.000000   \n",
       "75%       104.000000     100.000000     115.000000     131.000000   \n",
       "max     24210.000000   29574.000000   37505.000000   72366.000000   \n",
       "\n",
       "               NCD_4          NCD_5          NCD_6           AI_0  \\\n",
       "count  583250.000000  583250.000000  583250.000000  583250.000000   \n",
       "mean      201.097445     220.175371     219.388214      71.038051   \n",
       "std       630.448432     669.205930     672.182204     196.876718   \n",
       "min         0.000000       0.000000       0.000000       0.000000   \n",
       "25%         5.000000       6.000000       6.000000       2.000000   \n",
       "50%        27.000000      31.000000      30.000000      11.000000   \n",
       "75%       147.000000     166.000000     164.000000      59.000000   \n",
       "max     79079.000000   79079.000000   79079.000000   18654.000000   \n",
       "\n",
       "                AI_1           AI_2       ...                ADL_5  \\\n",
       "count  583250.000000  583250.000000       ...        583250.000000   \n",
       "mean       69.829631      82.198203       ...             1.136688   \n",
       "std       202.199758     239.523042       ...             1.432327   \n",
       "min         0.000000       0.000000       ...             0.000000   \n",
       "25%         2.000000       2.000000       ...             1.000000   \n",
       "50%        11.000000      13.000000       ...             1.000000   \n",
       "75%        57.000000      65.000000       ...             1.090909   \n",
       "max     22035.000000   29402.000000       ...           262.000000   \n",
       "\n",
       "               ADL_6          NAD_0          NAD_1          NAD_2  \\\n",
       "count  583250.000000  583250.000000  583250.000000  583250.000000   \n",
       "mean        1.140372     140.789860     137.181270     160.105922   \n",
       "std         1.552313     432.624954     433.026611     502.774408   \n",
       "min         0.000000       0.000000       0.000000       0.000000   \n",
       "25%         1.000000       3.000000       3.000000       4.000000   \n",
       "50%         1.000000      18.000000      17.000000      21.000000   \n",
       "75%         1.091296     104.000000     101.000000     115.000000   \n",
       "max       295.000000   24301.000000   29574.000000   37505.000000   \n",
       "\n",
       "               NAD_3          NAD_4          NAD_5          NAD_6  \\\n",
       "count  583250.000000  583250.000000  583250.000000  583250.000000   \n",
       "mean      182.057440     201.596482     220.705900     219.936864   \n",
       "std       575.658022     631.258318     670.050977     673.032541   \n",
       "min         0.000000       0.000000       0.000000       0.000000   \n",
       "25%         4.000000       5.000000       6.000000       6.000000   \n",
       "50%        24.000000      27.000000      31.000000      31.000000   \n",
       "75%       131.000000     148.000000     167.000000     165.000000   \n",
       "max     72366.000000   79083.000000   79083.000000   79083.000000   \n",
       "\n",
       "       Buzz_Magnitude  \n",
       "count   583250.000000  \n",
       "mean       191.279493  \n",
       "std        612.352354  \n",
       "min          0.000000  \n",
       "25%          4.500000  \n",
       "50%         25.500000  \n",
       "75%        139.000000  \n",
       "max      75724.500000  \n",
       "\n",
       "[8 rows x 78 columns]"
      ]
     },
     "execution_count": 6,
     "metadata": {},
     "output_type": "execute_result"
    }
   ],
   "source": [
    "data.describe()\n"
   ]
  },
  {
   "cell_type": "markdown",
   "metadata": {},
   "source": [
    "### Data Leakage"
   ]
  },
  {
   "cell_type": "code",
   "execution_count": 7,
   "metadata": {
    "scrolled": true
   },
   "outputs": [
    {
     "data": {
      "text/plain": [
       "Buzz_Magnitude    1.000000\n",
       "NCD_6             0.955330\n",
       "NAD_6             0.955299\n",
       "NAC_6             0.951809\n",
       "NCD_5             0.918565\n",
       "NAD_5             0.918533\n",
       "NAC_5             0.915110\n",
       "NA_6              0.905061\n",
       "NCD_1             0.889884\n",
       "NAD_1             0.889744\n",
       "NCD_4             0.886262\n",
       "NAD_4             0.886251\n",
       "NAC_1             0.883589\n",
       "NAC_4             0.883327\n",
       "NCD_0             0.883316\n",
       "NAD_0             0.883073\n",
       "NAC_0             0.875533\n",
       "NCD_2             0.875168\n",
       "NAD_2             0.875099\n",
       "NCD_3             0.873060\n",
       "NAD_3             0.873026\n",
       "NAC_2             0.869843\n",
       "NAC_3             0.869301\n",
       "NA_5              0.868421\n",
       "AS(NAC)_6         0.866314\n",
       "AS(NAC)_0         0.853992\n",
       "NA_1              0.850840\n",
       "AS(NAC)_1         0.850498\n",
       "AS(NAC)_5         0.845093\n",
       "NA_0              0.843521\n",
       "                    ...   \n",
       "AI_3              0.756556\n",
       "AI_4              0.756219\n",
       "BL_2              0.091175\n",
       "CS_2              0.089560\n",
       "BL_0              0.085147\n",
       "BL_3              0.085041\n",
       "CS_3              0.083078\n",
       "CS_0              0.082975\n",
       "BL_4              0.079438\n",
       "BL_1              0.077459\n",
       "CS_4              0.077113\n",
       "CS_1              0.075664\n",
       "BL_6              0.065126\n",
       "BL_5              0.063627\n",
       "CS_6              0.061593\n",
       "CS_5              0.060520\n",
       "AT_2              0.016898\n",
       "AT_3              0.011833\n",
       "AT_0              0.010957\n",
       "ADL_2             0.010894\n",
       "AT_1              0.009756\n",
       "AT_4              0.007522\n",
       "ADL_0             0.006126\n",
       "ADL_3             0.005531\n",
       "ADL_1             0.005531\n",
       "ADL_4             0.001111\n",
       "AT_5             -0.000393\n",
       "AT_6             -0.000786\n",
       "ADL_6            -0.007005\n",
       "ADL_5            -0.007131\n",
       "Name: Buzz_Magnitude, Length: 78, dtype: float64"
      ]
     },
     "execution_count": 7,
     "metadata": {},
     "output_type": "execute_result"
    }
   ],
   "source": [
    "# Determining the Correlation of Buzz_Magnitude with other attributes.\n",
    "co_matrix=data.corr()\n",
    "co_matrix[\"Buzz_Magnitude\"].sort_values(ascending=False)\n",
    "\n",
    "  "
   ]
  },
  {
   "cell_type": "markdown",
   "metadata": {},
   "source": [
    "### Split Data"
   ]
  },
  {
   "cell_type": "code",
   "execution_count": 8,
   "metadata": {},
   "outputs": [],
   "source": [
    "#  Defingin Target Variable & Independent Variables\n",
    "XFull = data.iloc[:, :-1]\n",
    "YFull = data.iloc[:, -1]\n"
   ]
  },
  {
   "cell_type": "code",
   "execution_count": 9,
   "metadata": {},
   "outputs": [],
   "source": [
    "# Splitting Data set Randomly such that size is 10% of the original data \n",
    "\n",
    "from sklearn.model_selection import train_test_split\n",
    "_, sample_data, _, sample_target = train_test_split(XFull, YFull, shuffle = True, test_size = 0.1)"
   ]
  },
  {
   "cell_type": "code",
   "execution_count": 10,
   "metadata": {},
   "outputs": [
    {
     "data": {
      "text/plain": [
       "(58325, 77)"
      ]
     },
     "execution_count": 10,
     "metadata": {},
     "output_type": "execute_result"
    }
   ],
   "source": [
    "sample_data.shape"
   ]
  },
  {
   "cell_type": "code",
   "execution_count": 11,
   "metadata": {},
   "outputs": [
    {
     "data": {
      "text/plain": [
       "(58325,)"
      ]
     },
     "execution_count": 11,
     "metadata": {},
     "output_type": "execute_result"
    }
   ],
   "source": [
    "sample_target.shape"
   ]
  },
  {
   "cell_type": "code",
   "execution_count": 12,
   "metadata": {},
   "outputs": [],
   "source": [
    "X_train_org, X_test_org, Y_train, Y_test = train_test_split(sample_data[:1000],sample_target[:1000])"
   ]
  },
  {
   "cell_type": "code",
   "execution_count": 13,
   "metadata": {},
   "outputs": [
    {
     "data": {
      "text/html": [
       "<div>\n",
       "<style scoped>\n",
       "    .dataframe tbody tr th:only-of-type {\n",
       "        vertical-align: middle;\n",
       "    }\n",
       "\n",
       "    .dataframe tbody tr th {\n",
       "        vertical-align: top;\n",
       "    }\n",
       "\n",
       "    .dataframe thead th {\n",
       "        text-align: right;\n",
       "    }\n",
       "</style>\n",
       "<table border=\"1\" class=\"dataframe\">\n",
       "  <thead>\n",
       "    <tr style=\"text-align: right;\">\n",
       "      <th></th>\n",
       "      <th>mean</th>\n",
       "      <th>median</th>\n",
       "    </tr>\n",
       "  </thead>\n",
       "  <tbody>\n",
       "    <tr>\n",
       "      <th>NCD_0</th>\n",
       "      <td>140.339640</td>\n",
       "      <td>18.000000</td>\n",
       "    </tr>\n",
       "    <tr>\n",
       "      <th>NCD_1</th>\n",
       "      <td>136.770147</td>\n",
       "      <td>17.000000</td>\n",
       "    </tr>\n",
       "    <tr>\n",
       "      <th>NCD_2</th>\n",
       "      <td>159.679271</td>\n",
       "      <td>21.000000</td>\n",
       "    </tr>\n",
       "    <tr>\n",
       "      <th>NCD_3</th>\n",
       "      <td>181.592091</td>\n",
       "      <td>24.000000</td>\n",
       "    </tr>\n",
       "    <tr>\n",
       "      <th>NCD_4</th>\n",
       "      <td>201.097445</td>\n",
       "      <td>27.000000</td>\n",
       "    </tr>\n",
       "    <tr>\n",
       "      <th>NCD_5</th>\n",
       "      <td>220.175371</td>\n",
       "      <td>31.000000</td>\n",
       "    </tr>\n",
       "    <tr>\n",
       "      <th>NCD_6</th>\n",
       "      <td>219.388214</td>\n",
       "      <td>30.000000</td>\n",
       "    </tr>\n",
       "    <tr>\n",
       "      <th>AI_0</th>\n",
       "      <td>71.038051</td>\n",
       "      <td>11.000000</td>\n",
       "    </tr>\n",
       "    <tr>\n",
       "      <th>AI_1</th>\n",
       "      <td>69.829631</td>\n",
       "      <td>11.000000</td>\n",
       "    </tr>\n",
       "    <tr>\n",
       "      <th>AI_2</th>\n",
       "      <td>82.198203</td>\n",
       "      <td>13.000000</td>\n",
       "    </tr>\n",
       "    <tr>\n",
       "      <th>AI_3</th>\n",
       "      <td>93.774819</td>\n",
       "      <td>14.000000</td>\n",
       "    </tr>\n",
       "    <tr>\n",
       "      <th>AI_4</th>\n",
       "      <td>103.895695</td>\n",
       "      <td>16.000000</td>\n",
       "    </tr>\n",
       "    <tr>\n",
       "      <th>AI_5</th>\n",
       "      <td>113.611141</td>\n",
       "      <td>19.000000</td>\n",
       "    </tr>\n",
       "    <tr>\n",
       "      <th>AI_6</th>\n",
       "      <td>112.940921</td>\n",
       "      <td>18.000000</td>\n",
       "    </tr>\n",
       "    <tr>\n",
       "      <th>AS(NA)_0</th>\n",
       "      <td>0.000202</td>\n",
       "      <td>0.000026</td>\n",
       "    </tr>\n",
       "    <tr>\n",
       "      <th>AS(NA)_1</th>\n",
       "      <td>0.000196</td>\n",
       "      <td>0.000025</td>\n",
       "    </tr>\n",
       "    <tr>\n",
       "      <th>AS(NA)_2</th>\n",
       "      <td>0.000221</td>\n",
       "      <td>0.000029</td>\n",
       "    </tr>\n",
       "    <tr>\n",
       "      <th>AS(NA)_3</th>\n",
       "      <td>0.000242</td>\n",
       "      <td>0.000033</td>\n",
       "    </tr>\n",
       "    <tr>\n",
       "      <th>AS(NA)_4</th>\n",
       "      <td>0.000261</td>\n",
       "      <td>0.000037</td>\n",
       "    </tr>\n",
       "    <tr>\n",
       "      <th>AS(NA)_5</th>\n",
       "      <td>0.000282</td>\n",
       "      <td>0.000042</td>\n",
       "    </tr>\n",
       "    <tr>\n",
       "      <th>AS(NA)_6</th>\n",
       "      <td>0.000279</td>\n",
       "      <td>0.000041</td>\n",
       "    </tr>\n",
       "    <tr>\n",
       "      <th>BL_0</th>\n",
       "      <td>0.925390</td>\n",
       "      <td>1.000000</td>\n",
       "    </tr>\n",
       "    <tr>\n",
       "      <th>BL_1</th>\n",
       "      <td>0.918146</td>\n",
       "      <td>1.000000</td>\n",
       "    </tr>\n",
       "    <tr>\n",
       "      <th>BL_2</th>\n",
       "      <td>0.907052</td>\n",
       "      <td>1.000000</td>\n",
       "    </tr>\n",
       "    <tr>\n",
       "      <th>BL_3</th>\n",
       "      <td>0.919954</td>\n",
       "      <td>1.000000</td>\n",
       "    </tr>\n",
       "    <tr>\n",
       "      <th>BL_4</th>\n",
       "      <td>0.930657</td>\n",
       "      <td>1.000000</td>\n",
       "    </tr>\n",
       "    <tr>\n",
       "      <th>BL_5</th>\n",
       "      <td>0.956070</td>\n",
       "      <td>1.000000</td>\n",
       "    </tr>\n",
       "    <tr>\n",
       "      <th>BL_6</th>\n",
       "      <td>0.955341</td>\n",
       "      <td>1.000000</td>\n",
       "    </tr>\n",
       "    <tr>\n",
       "      <th>NAC_0</th>\n",
       "      <td>150.662500</td>\n",
       "      <td>20.000000</td>\n",
       "    </tr>\n",
       "    <tr>\n",
       "      <th>NAC_1</th>\n",
       "      <td>146.641742</td>\n",
       "      <td>19.000000</td>\n",
       "    </tr>\n",
       "    <tr>\n",
       "      <th>...</th>\n",
       "      <td>...</td>\n",
       "      <td>...</td>\n",
       "    </tr>\n",
       "    <tr>\n",
       "      <th>CS_6</th>\n",
       "      <td>0.960626</td>\n",
       "      <td>1.000000</td>\n",
       "    </tr>\n",
       "    <tr>\n",
       "      <th>AT_0</th>\n",
       "      <td>1.045500</td>\n",
       "      <td>1.000000</td>\n",
       "    </tr>\n",
       "    <tr>\n",
       "      <th>AT_1</th>\n",
       "      <td>1.035194</td>\n",
       "      <td>1.000000</td>\n",
       "    </tr>\n",
       "    <tr>\n",
       "      <th>AT_2</th>\n",
       "      <td>1.017044</td>\n",
       "      <td>1.000000</td>\n",
       "    </tr>\n",
       "    <tr>\n",
       "      <th>AT_3</th>\n",
       "      <td>1.032634</td>\n",
       "      <td>1.000000</td>\n",
       "    </tr>\n",
       "    <tr>\n",
       "      <th>AT_4</th>\n",
       "      <td>1.045863</td>\n",
       "      <td>1.000000</td>\n",
       "    </tr>\n",
       "    <tr>\n",
       "      <th>AT_5</th>\n",
       "      <td>1.078122</td>\n",
       "      <td>1.000000</td>\n",
       "    </tr>\n",
       "    <tr>\n",
       "      <th>AT_6</th>\n",
       "      <td>1.081759</td>\n",
       "      <td>1.000000</td>\n",
       "    </tr>\n",
       "    <tr>\n",
       "      <th>NA_0</th>\n",
       "      <td>123.063726</td>\n",
       "      <td>17.000000</td>\n",
       "    </tr>\n",
       "    <tr>\n",
       "      <th>NA_1</th>\n",
       "      <td>119.579506</td>\n",
       "      <td>17.000000</td>\n",
       "    </tr>\n",
       "    <tr>\n",
       "      <th>NA_2</th>\n",
       "      <td>138.958520</td>\n",
       "      <td>20.000000</td>\n",
       "    </tr>\n",
       "    <tr>\n",
       "      <th>NA_3</th>\n",
       "      <td>157.423923</td>\n",
       "      <td>22.000000</td>\n",
       "    </tr>\n",
       "    <tr>\n",
       "      <th>NA_4</th>\n",
       "      <td>173.702114</td>\n",
       "      <td>25.000000</td>\n",
       "    </tr>\n",
       "    <tr>\n",
       "      <th>NA_5</th>\n",
       "      <td>189.521478</td>\n",
       "      <td>29.000000</td>\n",
       "    </tr>\n",
       "    <tr>\n",
       "      <th>NA_6</th>\n",
       "      <td>188.410279</td>\n",
       "      <td>28.000000</td>\n",
       "    </tr>\n",
       "    <tr>\n",
       "      <th>ADL_0</th>\n",
       "      <td>1.095255</td>\n",
       "      <td>1.000000</td>\n",
       "    </tr>\n",
       "    <tr>\n",
       "      <th>ADL_1</th>\n",
       "      <td>1.083723</td>\n",
       "      <td>1.000000</td>\n",
       "    </tr>\n",
       "    <tr>\n",
       "      <th>ADL_2</th>\n",
       "      <td>1.066749</td>\n",
       "      <td>1.000000</td>\n",
       "    </tr>\n",
       "    <tr>\n",
       "      <th>ADL_3</th>\n",
       "      <td>1.085214</td>\n",
       "      <td>1.000000</td>\n",
       "    </tr>\n",
       "    <tr>\n",
       "      <th>ADL_4</th>\n",
       "      <td>1.100215</td>\n",
       "      <td>1.000000</td>\n",
       "    </tr>\n",
       "    <tr>\n",
       "      <th>ADL_5</th>\n",
       "      <td>1.136688</td>\n",
       "      <td>1.000000</td>\n",
       "    </tr>\n",
       "    <tr>\n",
       "      <th>ADL_6</th>\n",
       "      <td>1.140372</td>\n",
       "      <td>1.000000</td>\n",
       "    </tr>\n",
       "    <tr>\n",
       "      <th>NAD_0</th>\n",
       "      <td>140.789860</td>\n",
       "      <td>18.000000</td>\n",
       "    </tr>\n",
       "    <tr>\n",
       "      <th>NAD_1</th>\n",
       "      <td>137.181270</td>\n",
       "      <td>17.000000</td>\n",
       "    </tr>\n",
       "    <tr>\n",
       "      <th>NAD_2</th>\n",
       "      <td>160.105922</td>\n",
       "      <td>21.000000</td>\n",
       "    </tr>\n",
       "    <tr>\n",
       "      <th>NAD_3</th>\n",
       "      <td>182.057440</td>\n",
       "      <td>24.000000</td>\n",
       "    </tr>\n",
       "    <tr>\n",
       "      <th>NAD_4</th>\n",
       "      <td>201.596482</td>\n",
       "      <td>27.000000</td>\n",
       "    </tr>\n",
       "    <tr>\n",
       "      <th>NAD_5</th>\n",
       "      <td>220.705900</td>\n",
       "      <td>31.000000</td>\n",
       "    </tr>\n",
       "    <tr>\n",
       "      <th>NAD_6</th>\n",
       "      <td>219.936864</td>\n",
       "      <td>31.000000</td>\n",
       "    </tr>\n",
       "    <tr>\n",
       "      <th>Buzz_Magnitude</th>\n",
       "      <td>191.279493</td>\n",
       "      <td>25.500000</td>\n",
       "    </tr>\n",
       "  </tbody>\n",
       "</table>\n",
       "<p>78 rows × 2 columns</p>\n",
       "</div>"
      ],
      "text/plain": [
       "                      mean     median\n",
       "NCD_0           140.339640  18.000000\n",
       "NCD_1           136.770147  17.000000\n",
       "NCD_2           159.679271  21.000000\n",
       "NCD_3           181.592091  24.000000\n",
       "NCD_4           201.097445  27.000000\n",
       "NCD_5           220.175371  31.000000\n",
       "NCD_6           219.388214  30.000000\n",
       "AI_0             71.038051  11.000000\n",
       "AI_1             69.829631  11.000000\n",
       "AI_2             82.198203  13.000000\n",
       "AI_3             93.774819  14.000000\n",
       "AI_4            103.895695  16.000000\n",
       "AI_5            113.611141  19.000000\n",
       "AI_6            112.940921  18.000000\n",
       "AS(NA)_0          0.000202   0.000026\n",
       "AS(NA)_1          0.000196   0.000025\n",
       "AS(NA)_2          0.000221   0.000029\n",
       "AS(NA)_3          0.000242   0.000033\n",
       "AS(NA)_4          0.000261   0.000037\n",
       "AS(NA)_5          0.000282   0.000042\n",
       "AS(NA)_6          0.000279   0.000041\n",
       "BL_0              0.925390   1.000000\n",
       "BL_1              0.918146   1.000000\n",
       "BL_2              0.907052   1.000000\n",
       "BL_3              0.919954   1.000000\n",
       "BL_4              0.930657   1.000000\n",
       "BL_5              0.956070   1.000000\n",
       "BL_6              0.955341   1.000000\n",
       "NAC_0           150.662500  20.000000\n",
       "NAC_1           146.641742  19.000000\n",
       "...                    ...        ...\n",
       "CS_6              0.960626   1.000000\n",
       "AT_0              1.045500   1.000000\n",
       "AT_1              1.035194   1.000000\n",
       "AT_2              1.017044   1.000000\n",
       "AT_3              1.032634   1.000000\n",
       "AT_4              1.045863   1.000000\n",
       "AT_5              1.078122   1.000000\n",
       "AT_6              1.081759   1.000000\n",
       "NA_0            123.063726  17.000000\n",
       "NA_1            119.579506  17.000000\n",
       "NA_2            138.958520  20.000000\n",
       "NA_3            157.423923  22.000000\n",
       "NA_4            173.702114  25.000000\n",
       "NA_5            189.521478  29.000000\n",
       "NA_6            188.410279  28.000000\n",
       "ADL_0             1.095255   1.000000\n",
       "ADL_1             1.083723   1.000000\n",
       "ADL_2             1.066749   1.000000\n",
       "ADL_3             1.085214   1.000000\n",
       "ADL_4             1.100215   1.000000\n",
       "ADL_5             1.136688   1.000000\n",
       "ADL_6             1.140372   1.000000\n",
       "NAD_0           140.789860  18.000000\n",
       "NAD_1           137.181270  17.000000\n",
       "NAD_2           160.105922  21.000000\n",
       "NAD_3           182.057440  24.000000\n",
       "NAD_4           201.596482  27.000000\n",
       "NAD_5           220.705900  31.000000\n",
       "NAD_6           219.936864  31.000000\n",
       "Buzz_Magnitude  191.279493  25.500000\n",
       "\n",
       "[78 rows x 2 columns]"
      ]
     },
     "execution_count": 13,
     "metadata": {},
     "output_type": "execute_result"
    }
   ],
   "source": [
    "def Skewness(data):\n",
    "    s = (data.mean(),data.median())\n",
    "    s = pd.concat(s,axis=1)\n",
    "    s.columns = ['mean','median']\n",
    "    return(s)\n",
    "Skewness(data)"
   ]
  },
  {
   "cell_type": "markdown",
   "metadata": {},
   "source": [
    "#### The use of scaling algorithm in the listed below methods will be Min Max Scalar Method\n",
    "#### as the independent variables are not normally distributed and are Right Skewed as mean is towards the right of median\n",
    "#### which we can see in the listed above table having 'Mean' and 'Median' values for all variables\n",
    "#### so Standard Scaler will not work well \n",
    "#### and Min Max scalar Works well with such data set distribution as compared to Standard Scalar \n"
   ]
  },
  {
   "cell_type": "code",
   "execution_count": 14,
   "metadata": {},
   "outputs": [],
   "source": [
    "from sklearn.preprocessing import MinMaxScaler\n",
    "scaler = MinMaxScaler()\n",
    "X_train = scaler.fit_transform(X_train_org)\n",
    "X_test = scaler.transform(X_test_org)"
   ]
  },
  {
   "cell_type": "markdown",
   "metadata": {},
   "source": [
    "### Model 1 :  Linear regression (Normal Equation)"
   ]
  },
  {
   "cell_type": "code",
   "execution_count": 15,
   "metadata": {},
   "outputs": [],
   "source": [
    "from sklearn.linear_model import LinearRegression\n",
    "lreg = LinearRegression()\n",
    "from sklearn.model_selection import cross_val_score"
   ]
  },
  {
   "cell_type": "code",
   "execution_count": 17,
   "metadata": {
    "scrolled": true
   },
   "outputs": [
    {
     "name": "stdout",
     "output_type": "stream",
     "text": [
      "CV Scores: [0.73102584 0.83127314 0.69688321 0.60900006 0.64410254]\n"
     ]
    },
    {
     "data": {
      "text/plain": [
       "array([0.73102584, 0.83127314, 0.69688321, 0.60900006, 0.64410254])"
      ]
     },
     "execution_count": 17,
     "metadata": {},
     "output_type": "execute_result"
    }
   ],
   "source": [
    "CvScores = cross_val_score(lreg, X_train, Y_train, cv=5)\n",
    "print(\"CV Scores: {}\".format(CvScores))\n",
    "CvScores"
   ]
  },
  {
   "cell_type": "code",
   "execution_count": 18,
   "metadata": {
    "scrolled": false
   },
   "outputs": [
    {
     "name": "stdout",
     "output_type": "stream",
     "text": [
      "Train Set Score: 0.70\n",
      "Test Set Score: 0.94\n"
     ]
    }
   ],
   "source": [
    "Train_Score = CvScores.mean()\n",
    "print(\"Train Set Score: {:.2f}\".format(Train_Score))\n",
    "lreg.fit(X_train, Y_train)\n",
    "Test_Score = lreg.score(X_test,Y_test)\n",
    "print(\"Test Set Score: {:.2f}\".format(Test_Score))\n"
   ]
  },
  {
   "cell_type": "markdown",
   "metadata": {},
   "source": [
    "### Bagging"
   ]
  },
  {
   "cell_type": "code",
   "execution_count": 49,
   "metadata": {},
   "outputs": [
    {
     "data": {
      "text/plain": [
       "GridSearchCV(cv=5, error_score='raise',\n",
       "       estimator=BaggingRegressor(base_estimator=LinearRegression(copy_X=True, fit_intercept=True, n_jobs=1, normalize=False),\n",
       "         bootstrap=True, bootstrap_features=False, max_features=1.0,\n",
       "         max_samples=1.0, n_estimators=10, n_jobs=1, oob_score=True,\n",
       "         random_state=0, verbose=0, warm_start=False),\n",
       "       fit_params=None, iid=True, n_jobs=1,\n",
       "       param_grid={'n_estimators': [50, 100, 200]},\n",
       "       pre_dispatch='2*n_jobs', refit=True, return_train_score=True,\n",
       "       scoring=None, verbose=0)"
      ]
     },
     "execution_count": 49,
     "metadata": {},
     "output_type": "execute_result"
    }
   ],
   "source": [
    "from sklearn.ensemble import BaggingRegressor\n",
    "from sklearn.model_selection import GridSearchCV\n",
    "\n",
    "bag_lreg = BaggingRegressor(lreg, bootstrap = True,oob_score=True,random_state=0)\n",
    "param_grid = {'n_estimators': [50,100,200]}\n",
    "grid_bag_lreg = GridSearchCV(bag_lreg, param_grid, cv = 5,return_train_score=True)\n",
    "grid_bag_lreg.fit(X_train, Y_train)"
   ]
  },
  {
   "cell_type": "code",
   "execution_count": 71,
   "metadata": {
    "scrolled": true
   },
   "outputs": [
    {
     "name": "stdout",
     "output_type": "stream",
     "text": [
      "Best parameters: {'n_estimators': 50}\n"
     ]
    }
   ],
   "source": [
    "print(\"Best parameters: {}\".format(grid_bag_lreg.best_params_))\n",
    "# grid_bag_lreg.cv_results_['params'][grid_bag_lreg.best_index_]"
   ]
  },
  {
   "cell_type": "code",
   "execution_count": 52,
   "metadata": {
    "scrolled": true
   },
   "outputs": [
    {
     "name": "stdout",
     "output_type": "stream",
     "text": [
      "Best cross-validation accuracy: 0.73\n",
      "Train Set Score: 0.9228923552991227\n",
      "Test Set Score: 0.941118951768334\n",
      "Oob Score: 0.753338740140765\n"
     ]
    }
   ],
   "source": [
    "bag_lreg = BaggingRegressor(lreg,n_estimators = grid_bag_lreg.best_params_['n_estimators'],bootstrap = True,oob_score=True,random_state=0)\n",
    "bag_lreg.fit(X_train, Y_train)\n",
    "print(\"Best cross-validation accuracy: {:.2f}\".format(grid_bag_lreg.best_score_))\n",
    "print(\"Train Set Score: {}\".format(grid_bag_lreg.score(X_train, Y_train)))\n",
    "print(\"Test Set Score: {}\".format(grid_bag_lreg.score(X_test,Y_test)))\n",
    "print(\"Oob Score: {}\".format(bag_lreg.oob_score_))\n"
   ]
  },
  {
   "cell_type": "markdown",
   "metadata": {},
   "source": [
    "### Pasting"
   ]
  },
  {
   "cell_type": "code",
   "execution_count": 53,
   "metadata": {},
   "outputs": [
    {
     "data": {
      "text/plain": [
       "GridSearchCV(cv=5, error_score='raise',\n",
       "       estimator=BaggingRegressor(base_estimator=LinearRegression(copy_X=True, fit_intercept=True, n_jobs=1, normalize=False),\n",
       "         bootstrap=False, bootstrap_features=False, max_features=1.0,\n",
       "         max_samples=1.0, n_estimators=10, n_jobs=1, oob_score=False,\n",
       "         random_state=0, verbose=0, warm_start=False),\n",
       "       fit_params=None, iid=True, n_jobs=1,\n",
       "       param_grid={'n_estimators': [50, 100, 200]},\n",
       "       pre_dispatch='2*n_jobs', refit=True, return_train_score=True,\n",
       "       scoring=None, verbose=0)"
      ]
     },
     "execution_count": 53,
     "metadata": {},
     "output_type": "execute_result"
    }
   ],
   "source": [
    "p_lreg = BaggingRegressor(lreg, bootstrap = False,random_state=0)\n",
    "param_grid = {'n_estimators': [50,100,200]}\n",
    "grid_p_lreg = GridSearchCV(p_lreg, param_grid, cv = 5,return_train_score=True)\n",
    "grid_p_lreg.fit(X_train, Y_train)\n"
   ]
  },
  {
   "cell_type": "code",
   "execution_count": 56,
   "metadata": {},
   "outputs": [
    {
     "name": "stdout",
     "output_type": "stream",
     "text": [
      "Best parameters: {'n_estimators': 50}\n",
      "Best cross-validation accuracy: 0.73\n",
      "Train Set Score: 0.9228923552991227\n",
      "Test Set Score: 0.941118951768334\n"
     ]
    }
   ],
   "source": [
    "print(\"Best parameters: {}\".format(grid_p_lreg.best_params_))\n",
    "print(\"Best cross-validation accuracy: {:.2f}\".format(grid_bag_lreg.best_score_))\n",
    "print(\"Train Set Score: {}\".format(grid_bag_lreg.score(X_train, Y_train)))\n",
    "print(\"Test Set Score: {}\".format(grid_bag_lreg.score(X_test,Y_test)))"
   ]
  },
  {
   "cell_type": "markdown",
   "metadata": {},
   "source": [
    "### AdaBoost"
   ]
  },
  {
   "cell_type": "code",
   "execution_count": 74,
   "metadata": {},
   "outputs": [
    {
     "data": {
      "text/plain": [
       "GridSearchCV(cv=5, error_score='raise',\n",
       "       estimator=AdaBoostRegressor(base_estimator=LinearRegression(copy_X=True, fit_intercept=True, n_jobs=1, normalize=False),\n",
       "         learning_rate=1.0, loss='linear', n_estimators=50, random_state=0),\n",
       "       fit_params=None, iid=True, n_jobs=1,\n",
       "       param_grid={'learning_rate': [0.01, 0.03, 0.1, 0.3, 1.0], 'n_estimators': [50, 100, 200]},\n",
       "       pre_dispatch='2*n_jobs', refit=True, return_train_score=True,\n",
       "       scoring=None, verbose=0)"
      ]
     },
     "execution_count": 74,
     "metadata": {},
     "output_type": "execute_result"
    }
   ],
   "source": [
    "from sklearn.ensemble import AdaBoostRegressor\n",
    "\n",
    "adbst_lreg = AdaBoostRegressor(lreg,random_state=0)\n",
    "param_grid = {'learning_rate': [0.01,0.03,0.1,0.3,1.0],\n",
    "              'n_estimators': [50,100,200]}\n",
    "grid_adbst_lreg = GridSearchCV(adbst_lreg, param_grid, cv = 5,return_train_score=True)\n",
    "grid_adbst_lreg.fit(X_train, Y_train)"
   ]
  },
  {
   "cell_type": "code",
   "execution_count": 75,
   "metadata": {},
   "outputs": [
    {
     "name": "stdout",
     "output_type": "stream",
     "text": [
      "Best cross-validation accuracy: 0.69\n",
      "Best parameters: {'learning_rate': 0.01, 'n_estimators': 50}\n",
      "Train Set Score: 0.9494321692973431\n",
      "Test Set Score: 0.9289098211207558\n"
     ]
    }
   ],
   "source": [
    "print(\"Best cross-validation accuracy: {:.2f}\".format(grid_adbst_lreg.best_score_))\n",
    "print(\"Best parameters: {}\".format(grid_adbst_lreg.best_params_))\n",
    "print(\"Train Set Score: {}\".format(grid_adbst_lreg.score(X_train, Y_train)))\n",
    "print(\"Test Set Score: {}\".format(grid_adbst_lreg.score(X_test,Y_test)))"
   ]
  },
  {
   "cell_type": "markdown",
   "metadata": {},
   "source": [
    "### Gradient Boosting"
   ]
  },
  {
   "cell_type": "code",
   "execution_count": 76,
   "metadata": {},
   "outputs": [
    {
     "data": {
      "text/plain": [
       "GridSearchCV(cv=5, error_score='raise',\n",
       "       estimator=GradientBoostingRegressor(alpha=0.9, criterion='friedman_mse', init=None,\n",
       "             learning_rate=0.1, loss='ls', max_depth=3, max_features=None,\n",
       "             max_leaf_nodes=None, min_impurity_decrease=0.0,\n",
       "             min_impurity_split=None, min_samples_leaf=1,\n",
       "             min_samples_split=2, min_weight_fraction_leaf=0.0,\n",
       "             n_estimators=100, presort='auto', random_state=0,\n",
       "             subsample=1.0, verbose=0, warm_start=False),\n",
       "       fit_params=None, iid=True, n_jobs=1,\n",
       "       param_grid={'max_depth': [1, 2], 'learning_rate': [0.01, 0.03, 0.1, 0.3, 1.0], 'n_estimators': [50, 100, 200]},\n",
       "       pre_dispatch='2*n_jobs', refit=True, return_train_score=True,\n",
       "       scoring=None, verbose=0)"
      ]
     },
     "execution_count": 76,
     "metadata": {},
     "output_type": "execute_result"
    }
   ],
   "source": [
    "from  sklearn.ensemble import GradientBoostingRegressor\n",
    "\n",
    "gbrt_lreg = GradientBoostingRegressor(random_state=0)\n",
    "param_grid = {'max_depth':[1,2],\n",
    "              'learning_rate' : [0.01,0.03,0.1,0.3,1.0],\n",
    "              'n_estimators': [50,100,200]}\n",
    "grid_gbrt_lreg = GridSearchCV(gbrt_lreg, param_grid, cv = 5,return_train_score=True)\n",
    "grid_gbrt_lreg.fit(X_train, Y_train)"
   ]
  },
  {
   "cell_type": "code",
   "execution_count": 77,
   "metadata": {},
   "outputs": [
    {
     "name": "stdout",
     "output_type": "stream",
     "text": [
      "Best cross-validation accuracy: 0.78\n",
      "Best parameters: {'learning_rate': 0.03, 'max_depth': 2, 'n_estimators': 100}\n",
      "Train Set Score: 0.9601992929964114\n",
      "Test Set Score: 0.8790434417439489\n"
     ]
    }
   ],
   "source": [
    "print(\"Best cross-validation accuracy: {:.2f}\".format(grid_gbrt_lreg.best_score_))\n",
    "print(\"Best parameters: {}\".format(grid_gbrt_lreg.best_params_))\n",
    "print(\"Train Set Score: {}\".format(grid_gbrt_lreg.score(X_train, Y_train)))\n",
    "print(\"Test Set Score: {}\".format(grid_gbrt_lreg.score(X_test,Y_test)))"
   ]
  },
  {
   "cell_type": "markdown",
   "metadata": {},
   "source": [
    "### Model 2 : KNN Regressor "
   ]
  },
  {
   "cell_type": "code",
   "execution_count": 78,
   "metadata": {},
   "outputs": [],
   "source": [
    "from sklearn.neighbors import KNeighborsRegressor\n",
    "from sklearn.model_selection import GridSearchCV\n",
    "model_knn = KNeighborsRegressor()\n"
   ]
  },
  {
   "cell_type": "code",
   "execution_count": 79,
   "metadata": {},
   "outputs": [
    {
     "name": "stdout",
     "output_type": "stream",
     "text": [
      "Defined Parameters:\n",
      "{'n_neighbors': [1, 5, 10, 15, 20]}\n"
     ]
    }
   ],
   "source": [
    "param_knn = {'n_neighbors':[1, 5, 10, 15, 20]}\n",
    "print(\"Defined Parameters:\\n{}\".format(param_knn))\n"
   ]
  },
  {
   "cell_type": "code",
   "execution_count": 80,
   "metadata": {},
   "outputs": [
    {
     "data": {
      "text/plain": [
       "GridSearchCV(cv=5, error_score='raise',\n",
       "       estimator=KNeighborsRegressor(algorithm='auto', leaf_size=30, metric='minkowski',\n",
       "          metric_params=None, n_jobs=1, n_neighbors=5, p=2,\n",
       "          weights='uniform'),\n",
       "       fit_params=None, iid=True, n_jobs=1,\n",
       "       param_grid={'n_neighbors': [1, 5, 10, 15, 20]},\n",
       "       pre_dispatch='2*n_jobs', refit=True, return_train_score=True,\n",
       "       scoring=None, verbose=0)"
      ]
     },
     "execution_count": 80,
     "metadata": {},
     "output_type": "execute_result"
    }
   ],
   "source": [
    "grid_knn = GridSearchCV(model_knn, param_grid = param_knn, cv=5, return_train_score=True)\n",
    "grid_knn.fit(X_train, Y_train)"
   ]
  },
  {
   "cell_type": "code",
   "execution_count": 81,
   "metadata": {
    "scrolled": true
   },
   "outputs": [
    {
     "name": "stdout",
     "output_type": "stream",
     "text": [
      "Best cross-validation accuracy: 0.70\n",
      "Best parameters: {'n_neighbors': 5}\n",
      "Train Set Score: 0.7786085821532299\n",
      "Test Set Score: 0.7898971542189879\n"
     ]
    }
   ],
   "source": [
    "print(\"Best cross-validation accuracy: {:.2f}\".format(grid_knn.best_score_))\n",
    "print(\"Best parameters: {}\".format(grid_knn.best_params_))\n",
    "print(\"Train Set Score: {}\".format(grid_knn.score(X_train, Y_train)))\n",
    "print(\"Test Set Score: {}\".format(grid_knn.score(X_test,Y_test)))"
   ]
  },
  {
   "cell_type": "code",
   "execution_count": 86,
   "metadata": {},
   "outputs": [],
   "source": [
    "best_model_knn = KNeighborsRegressor(n_neighbors = grid_knn.best_params_['n_neighbors'])"
   ]
  },
  {
   "cell_type": "markdown",
   "metadata": {},
   "source": [
    "### Bagging"
   ]
  },
  {
   "cell_type": "code",
   "execution_count": 87,
   "metadata": {},
   "outputs": [
    {
     "data": {
      "text/plain": [
       "GridSearchCV(cv=5, error_score='raise',\n",
       "       estimator=BaggingRegressor(base_estimator=KNeighborsRegressor(algorithm='auto', leaf_size=30, metric='minkowski',\n",
       "          metric_params=None, n_jobs=1, n_neighbors=5, p=2,\n",
       "          weights='uniform'),\n",
       "         bootstrap=True, bootstrap_features=False, max_features=1.0,\n",
       "         max_samples=1.0, n_estimators=10, n_jobs=1, oob_score=True,\n",
       "         random_state=0, verbose=0, warm_start=False),\n",
       "       fit_params=None, iid=True, n_jobs=1,\n",
       "       param_grid={'n_estimators': [50, 100, 200]},\n",
       "       pre_dispatch='2*n_jobs', refit=True, return_train_score=True,\n",
       "       scoring=None, verbose=0)"
      ]
     },
     "execution_count": 87,
     "metadata": {},
     "output_type": "execute_result"
    }
   ],
   "source": [
    "bag_knn = BaggingRegressor(best_model_knn, bootstrap = True,oob_score=True,random_state=0)\n",
    "param_grid = {'n_estimators': [50,100,200]}\n",
    "grid_bag_knn = GridSearchCV(bag_knn, param_grid, cv = 5,return_train_score=True)\n",
    "grid_bag_knn.fit(X_train, Y_train)"
   ]
  },
  {
   "cell_type": "code",
   "execution_count": 88,
   "metadata": {
    "scrolled": true
   },
   "outputs": [
    {
     "name": "stdout",
     "output_type": "stream",
     "text": [
      "Best parameters: {'n_estimators': 100}\n"
     ]
    }
   ],
   "source": [
    "print(\"Best parameters: {}\".format(grid_bag_knn.best_params_))"
   ]
  },
  {
   "cell_type": "code",
   "execution_count": 90,
   "metadata": {},
   "outputs": [
    {
     "name": "stdout",
     "output_type": "stream",
     "text": [
      "Best cross-validation accuracy: 0.73\n",
      "Train Set Score: 0.9228923552991227\n",
      "Test Set Score: 0.941118951768334\n",
      "Oob Score: 0.6620272364682742\n"
     ]
    }
   ],
   "source": [
    "best_bag_knn = BaggingRegressor(best_model_knn,n_estimators = grid_bag_knn.best_params_['n_estimators'],bootstrap = True,oob_score=True,random_state=0)\n",
    "best_bag_knn.fit(X_train, Y_train)\n",
    "print(\"Best cross-validation accuracy: {:.2f}\".format(grid_bag_knn.best_score_))\n",
    "print(\"Train Set Score: {}\".format(grid_bag_knn.score(X_train, Y_train)))\n",
    "print(\"Test Set Score: {}\".format(grid_bag_knn.score(X_test,Y_test)))\n",
    "print(\"Oob Score: {}\".format(best_bag_knn.oob_score_))\n"
   ]
  },
  {
   "cell_type": "markdown",
   "metadata": {},
   "source": [
    "### Pasting"
   ]
  },
  {
   "cell_type": "code",
   "execution_count": 91,
   "metadata": {},
   "outputs": [
    {
     "data": {
      "text/plain": [
       "GridSearchCV(cv=5, error_score='raise',\n",
       "       estimator=BaggingRegressor(base_estimator=KNeighborsRegressor(algorithm='auto', leaf_size=30, metric='minkowski',\n",
       "          metric_params=None, n_jobs=1, n_neighbors=5, p=2,\n",
       "          weights='uniform'),\n",
       "         bootstrap=False, bootstrap_features=False, max_features=1.0,\n",
       "         max_samples=1.0, n_estimators=10, n_jobs=1, oob_score=False,\n",
       "         random_state=0, verbose=0, warm_start=False),\n",
       "       fit_params=None, iid=True, n_jobs=1,\n",
       "       param_grid={'n_estimators': [50, 100, 200]},\n",
       "       pre_dispatch='2*n_jobs', refit=True, return_train_score=True,\n",
       "       scoring=None, verbose=0)"
      ]
     },
     "execution_count": 91,
     "metadata": {},
     "output_type": "execute_result"
    }
   ],
   "source": [
    "p_knn = BaggingRegressor(best_model_knn, bootstrap = False,random_state=0)\n",
    "param_grid = {'n_estimators': [50,100,200]}\n",
    "grid_p_knn = GridSearchCV(p_knn, param_grid, cv = 5,return_train_score=True)\n",
    "grid_p_knn.fit(X_train, Y_train)"
   ]
  },
  {
   "cell_type": "code",
   "execution_count": 92,
   "metadata": {},
   "outputs": [
    {
     "name": "stdout",
     "output_type": "stream",
     "text": [
      "Best cross-validation accuracy: 0.70\n",
      "Best parameters: {'n_estimators': 50}\n",
      "Train Set Score: 0.7786085821532299\n",
      "Test Set Score: 0.7898971542189875\n"
     ]
    }
   ],
   "source": [
    "print(\"Best cross-validation accuracy: {:.2f}\".format(grid_p_knn.best_score_))\n",
    "print(\"Best parameters: {}\".format(grid_p_knn.best_params_))\n",
    "print(\"Train Set Score: {}\".format(grid_p_knn.score(X_train, Y_train)))\n",
    "print(\"Test Set Score: {}\".format(grid_p_knn.score(X_test,Y_test)))"
   ]
  },
  {
   "cell_type": "markdown",
   "metadata": {},
   "source": [
    "### AdaBoost"
   ]
  },
  {
   "cell_type": "code",
   "execution_count": 93,
   "metadata": {},
   "outputs": [
    {
     "data": {
      "text/plain": [
       "GridSearchCV(cv=5, error_score='raise',\n",
       "       estimator=AdaBoostRegressor(base_estimator=KNeighborsRegressor(algorithm='auto', leaf_size=30, metric='minkowski',\n",
       "          metric_params=None, n_jobs=1, n_neighbors=5, p=2,\n",
       "          weights='uniform'),\n",
       "         learning_rate=1.0, loss='linear', n_estimators=50, random_state=0),\n",
       "       fit_params=None, iid=True, n_jobs=1,\n",
       "       param_grid={'learning_rate': [0.01, 0.03, 0.1, 0.3, 1.0], 'n_estimators': [50, 100, 200]},\n",
       "       pre_dispatch='2*n_jobs', refit=True, return_train_score=True,\n",
       "       scoring=None, verbose=0)"
      ]
     },
     "execution_count": 93,
     "metadata": {},
     "output_type": "execute_result"
    }
   ],
   "source": [
    "adbst_knn = AdaBoostRegressor(best_model_knn,random_state=0)\n",
    "param_grid = {'learning_rate': [0.01,0.03,0.1,0.3,1.0],\n",
    "              'n_estimators': [50,100,200]}\n",
    "grid_adbst_knn = GridSearchCV(adbst_knn, param_grid, cv = 5,return_train_score=True)\n",
    "grid_adbst_knn.fit(X_train, Y_train)"
   ]
  },
  {
   "cell_type": "code",
   "execution_count": 94,
   "metadata": {},
   "outputs": [
    {
     "name": "stdout",
     "output_type": "stream",
     "text": [
      "Best cross-validation accuracy: 0.70\n",
      "Best parameters: {'learning_rate': 0.01, 'n_estimators': 50}\n",
      "Train Set Score: 0.8262210384302405\n",
      "Test Set Score: 0.8364702017182841\n"
     ]
    }
   ],
   "source": [
    "print(\"Best cross-validation accuracy: {:.2f}\".format(grid_adbst_knn.best_score_))\n",
    "print(\"Best parameters: {}\".format(grid_adbst_knn.best_params_))\n",
    "print(\"Train Set Score: {}\".format(grid_adbst_knn.score(X_train, Y_train)))\n",
    "print(\"Test Set Score: {}\".format(grid_adbst_knn.score(X_test,Y_test)))"
   ]
  },
  {
   "cell_type": "markdown",
   "metadata": {},
   "source": [
    "### Gradient Boosting"
   ]
  },
  {
   "cell_type": "code",
   "execution_count": 97,
   "metadata": {},
   "outputs": [
    {
     "data": {
      "text/plain": [
       "GridSearchCV(cv=5, error_score='raise',\n",
       "       estimator=GradientBoostingRegressor(alpha=0.9, criterion='friedman_mse', init=None,\n",
       "             learning_rate=0.1, loss='ls', max_depth=3, max_features=None,\n",
       "             max_leaf_nodes=None, min_impurity_decrease=0.0,\n",
       "             min_impurity_split=None, min_samples_leaf=1,\n",
       "             min_samples_split=2, min_weight_fraction_leaf=0.0,\n",
       "             n_estimators=100, presort='auto', random_state=0,\n",
       "             subsample=1.0, verbose=0, warm_start=False),\n",
       "       fit_params=None, iid=True, n_jobs=1,\n",
       "       param_grid={'max_depth': [1, 2], 'learning_rate': [0.01, 0.03, 0.1, 0.3, 1.0], 'n_estimators': [50, 100, 200]},\n",
       "       pre_dispatch='2*n_jobs', refit=True, return_train_score=True,\n",
       "       scoring=None, verbose=0)"
      ]
     },
     "execution_count": 97,
     "metadata": {},
     "output_type": "execute_result"
    }
   ],
   "source": [
    "gbrt_knn = GradientBoostingRegressor(random_state=0)\n",
    "param_grid = {'max_depth':[1,2],\n",
    "              'learning_rate' : [0.01,0.03,0.1,0.3,1.0],\n",
    "              'n_estimators': [50,100,200]}\n",
    "grid_gbrt_knn = GridSearchCV(gbrt_knn, param_grid, cv = 5,return_train_score=True)\n",
    "grid_gbrt_knn.fit(X_train, Y_train)"
   ]
  },
  {
   "cell_type": "code",
   "execution_count": 98,
   "metadata": {},
   "outputs": [
    {
     "name": "stdout",
     "output_type": "stream",
     "text": [
      "Best cross-validation accuracy: 0.78\n",
      "Best parameters: {'learning_rate': 0.03, 'max_depth': 2, 'n_estimators': 100}\n",
      "Train Set Score: 0.9601992929964114\n",
      "Test Set Score: 0.8790434417439489\n"
     ]
    }
   ],
   "source": [
    "print(\"Best cross-validation accuracy: {:.2f}\".format(grid_gbrt_knn.best_score_))\n",
    "print(\"Best parameters: {}\".format(grid_gbrt_knn.best_params_))\n",
    "print(\"Train Set Score: {}\".format(grid_gbrt_knn.score(X_train, Y_train)))\n",
    "print(\"Test Set Score: {}\".format(grid_gbrt_knn.score(X_test,Y_test)))"
   ]
  },
  {
   "cell_type": "markdown",
   "metadata": {},
   "source": [
    "### Model 3 : Stochastic Gradient Descent Regressor"
   ]
  },
  {
   "cell_type": "code",
   "execution_count": 99,
   "metadata": {},
   "outputs": [],
   "source": [
    "from sklearn.model_selection import GridSearchCV\n",
    "from sklearn.linear_model import SGDRegressor\n",
    "sgd_reg=SGDRegressor()\n"
   ]
  },
  {
   "cell_type": "code",
   "execution_count": 100,
   "metadata": {},
   "outputs": [
    {
     "name": "stdout",
     "output_type": "stream",
     "text": [
      "Defined Parameters:\n",
      "{'max_iter': [10, 100, 1000], 'learning_rate': ['optimal'], 'penalty': ['l1', 'l2'], 'random_state': [0]}\n"
     ]
    }
   ],
   "source": [
    "param_sgd = {'max_iter': [10, 100, 1000],'learning_rate':['optimal'], 'penalty' :['l1','l2'],'random_state':[0]}\n",
    "print(\"Defined Parameters:\\n{}\".format(param_sgd))\n"
   ]
  },
  {
   "cell_type": "code",
   "execution_count": 101,
   "metadata": {},
   "outputs": [
    {
     "data": {
      "text/plain": [
       "GridSearchCV(cv=5, error_score='raise',\n",
       "       estimator=SGDRegressor(alpha=0.0001, average=False, epsilon=0.1, eta0=0.01,\n",
       "       fit_intercept=True, l1_ratio=0.15, learning_rate='invscaling',\n",
       "       loss='squared_loss', max_iter=None, n_iter=None, penalty='l2',\n",
       "       power_t=0.25, random_state=None, shuffle=True, tol=None, verbose=0,\n",
       "       warm_start=False),\n",
       "       fit_params=None, iid=True, n_jobs=1,\n",
       "       param_grid={'max_iter': [10, 100, 1000], 'learning_rate': ['optimal'], 'penalty': ['l1', 'l2'], 'random_state': [0]},\n",
       "       pre_dispatch='2*n_jobs', refit=True, return_train_score=True,\n",
       "       scoring=None, verbose=0)"
      ]
     },
     "execution_count": 101,
     "metadata": {},
     "output_type": "execute_result"
    }
   ],
   "source": [
    "grid_sgd = GridSearchCV(estimator = sgd_reg, param_grid = param_sgd, cv=5, return_train_score=True)\n",
    "grid_sgd.fit(X_train, Y_train)"
   ]
  },
  {
   "cell_type": "code",
   "execution_count": 102,
   "metadata": {},
   "outputs": [
    {
     "name": "stdout",
     "output_type": "stream",
     "text": [
      "Best cross-validation accuracy: -866081283650.13\n",
      "Best parameters: {'learning_rate': 'optimal', 'max_iter': 1000, 'penalty': 'l2', 'random_state': 0}\n",
      "Train Set Score: -68611396788.50152\n",
      "Test Set Score: -160660039792.28937\n"
     ]
    }
   ],
   "source": [
    "print(\"Best cross-validation accuracy: {:.2f}\".format(grid_sgd.best_score_))\n",
    "print(\"Best parameters: {}\".format(grid_sgd.best_params_))\n",
    "print(\"Train Set Score: {}\".format(grid_sgd.score(X_train, Y_train)))\n",
    "print(\"Test Set Score: {}\".format(grid_sgd.score(X_test, Y_test)))\n",
    "\n"
   ]
  },
  {
   "cell_type": "code",
   "execution_count": 104,
   "metadata": {},
   "outputs": [],
   "source": [
    "best_sgd_reg=SGDRegressor(learning_rate=grid_sgd.best_params_['learning_rate'],max_iter=grid_sgd.best_params_['max_iter'],penalty=grid_sgd.best_params_['penalty'],random_state=0)"
   ]
  },
  {
   "cell_type": "markdown",
   "metadata": {},
   "source": [
    "### Bagging"
   ]
  },
  {
   "cell_type": "code",
   "execution_count": 105,
   "metadata": {},
   "outputs": [
    {
     "data": {
      "text/plain": [
       "GridSearchCV(cv=5, error_score='raise',\n",
       "       estimator=BaggingRegressor(base_estimator=SGDRegressor(alpha=0.0001, average=False, epsilon=0.1, eta0=0.01,\n",
       "       fit_intercept=True, l1_ratio=0.15, learning_rate='optimal',\n",
       "       loss='squared_loss', max_iter=1000, n_iter=None, penalty='l2',\n",
       "       power_t=0.25, random_state=0, shuffle=True, tol=....0, n_estimators=10, n_jobs=1, oob_score=True,\n",
       "         random_state=0, verbose=0, warm_start=False),\n",
       "       fit_params=None, iid=True, n_jobs=1,\n",
       "       param_grid={'n_estimators': [50, 100, 200]},\n",
       "       pre_dispatch='2*n_jobs', refit=True, return_train_score=True,\n",
       "       scoring=None, verbose=0)"
      ]
     },
     "execution_count": 105,
     "metadata": {},
     "output_type": "execute_result"
    }
   ],
   "source": [
    "bag_sgd = BaggingRegressor(best_sgd_reg, bootstrap = True,oob_score=True,random_state=0)\n",
    "param_grid = {'n_estimators': [50,100,200]}\n",
    "grid_bag_sgd = GridSearchCV(bag_sgd, param_grid, cv = 5,return_train_score=True)\n",
    "grid_bag_sgd.fit(X_train, Y_train)"
   ]
  },
  {
   "cell_type": "code",
   "execution_count": 106,
   "metadata": {},
   "outputs": [
    {
     "name": "stdout",
     "output_type": "stream",
     "text": [
      "Best parameters: {'n_estimators': 200}\n"
     ]
    }
   ],
   "source": [
    "print(\"Best parameters: {}\".format(grid_bag_sgd.best_params_))"
   ]
  },
  {
   "cell_type": "code",
   "execution_count": 107,
   "metadata": {},
   "outputs": [
    {
     "name": "stdout",
     "output_type": "stream",
     "text": [
      "Best cross-validation accuracy: -23237031357.97\n",
      "Train Set Score: -4937996700.412434\n",
      "Test Set Score: -3767501607.477241\n",
      "Oob Score: -25462472625.678577\n"
     ]
    }
   ],
   "source": [
    "best_bag_sgd = BaggingRegressor(best_sgd_reg,n_estimators = grid_bag_sgd.best_params_['n_estimators'],bootstrap = True,oob_score=True,random_state=0)\n",
    "best_bag_sgd.fit(X_train, Y_train)\n",
    "print(\"Best cross-validation accuracy: {:.2f}\".format(grid_bag_sgd.best_score_))\n",
    "print(\"Train Set Score: {}\".format(grid_bag_sgd.score(X_train, Y_train)))\n",
    "print(\"Test Set Score: {}\".format(grid_bag_sgd.score(X_test,Y_test)))\n",
    "print(\"Oob Score: {}\".format(best_bag_sgd.oob_score_))\n"
   ]
  },
  {
   "cell_type": "markdown",
   "metadata": {},
   "source": [
    "### Pasting"
   ]
  },
  {
   "cell_type": "code",
   "execution_count": 108,
   "metadata": {},
   "outputs": [
    {
     "data": {
      "text/plain": [
       "GridSearchCV(cv=5, error_score='raise',\n",
       "       estimator=BaggingRegressor(base_estimator=SGDRegressor(alpha=0.0001, average=False, epsilon=0.1, eta0=0.01,\n",
       "       fit_intercept=True, l1_ratio=0.15, learning_rate='optimal',\n",
       "       loss='squared_loss', max_iter=1000, n_iter=None, penalty='l2',\n",
       "       power_t=0.25, random_state=0, shuffle=True, tol=...0, n_estimators=10, n_jobs=1, oob_score=False,\n",
       "         random_state=0, verbose=0, warm_start=False),\n",
       "       fit_params=None, iid=True, n_jobs=1,\n",
       "       param_grid={'n_estimators': [50, 100, 200]},\n",
       "       pre_dispatch='2*n_jobs', refit=True, return_train_score=True,\n",
       "       scoring=None, verbose=0)"
      ]
     },
     "execution_count": 108,
     "metadata": {},
     "output_type": "execute_result"
    }
   ],
   "source": [
    "p_sgd = BaggingRegressor(best_sgd_reg, bootstrap = False,random_state=0)\n",
    "param_grid = {'n_estimators': [50,100,200]}\n",
    "grid_p_sgd = GridSearchCV(p_sgd, param_grid, cv = 5,return_train_score=True)\n",
    "grid_p_sgd.fit(X_train, Y_train)"
   ]
  },
  {
   "cell_type": "code",
   "execution_count": 109,
   "metadata": {},
   "outputs": [
    {
     "name": "stdout",
     "output_type": "stream",
     "text": [
      "Best cross-validation accuracy: -4053709303.00\n",
      "Best parameters: {'n_estimators': 200}\n",
      "Train Set Score: -251531643.25815168\n",
      "Test Set Score: -480973140.25640327\n"
     ]
    }
   ],
   "source": [
    "print(\"Best cross-validation accuracy: {:.2f}\".format(grid_p_sgd.best_score_))\n",
    "print(\"Best parameters: {}\".format(grid_p_sgd.best_params_))\n",
    "print(\"Train Set Score: {}\".format(grid_p_sgd.score(X_train, Y_train)))\n",
    "print(\"Test Set Score: {}\".format(grid_p_sgd.score(X_test,Y_test)))"
   ]
  },
  {
   "cell_type": "markdown",
   "metadata": {},
   "source": [
    "### AdaBoost"
   ]
  },
  {
   "cell_type": "code",
   "execution_count": 110,
   "metadata": {},
   "outputs": [
    {
     "data": {
      "text/plain": [
       "GridSearchCV(cv=5, error_score='raise',\n",
       "       estimator=AdaBoostRegressor(base_estimator=SGDRegressor(alpha=0.0001, average=False, epsilon=0.1, eta0=0.01,\n",
       "       fit_intercept=True, l1_ratio=0.15, learning_rate='optimal',\n",
       "       loss='squared_loss', max_iter=1000, n_iter=None, penalty='l2',\n",
       "       power_t=0.25, random_state=0, shuffle=True, tol=None, verbose=0,\n",
       "       warm_start=False),\n",
       "         learning_rate=1.0, loss='linear', n_estimators=50, random_state=0),\n",
       "       fit_params=None, iid=True, n_jobs=1,\n",
       "       param_grid={'learning_rate': [0.01, 0.03, 0.1, 0.3, 1.0], 'n_estimators': [50, 100, 200]},\n",
       "       pre_dispatch='2*n_jobs', refit=True, return_train_score=True,\n",
       "       scoring=None, verbose=0)"
      ]
     },
     "execution_count": 110,
     "metadata": {},
     "output_type": "execute_result"
    }
   ],
   "source": [
    "adbst_sgd = AdaBoostRegressor(best_sgd_reg,random_state=0)\n",
    "param_grid = {'learning_rate': [0.01,0.03,0.1,0.3,1.0],\n",
    "              'n_estimators': [50,100,200]}\n",
    "grid_adbst_sgd = GridSearchCV(adbst_sgd, param_grid, cv = 5,return_train_score=True)\n",
    "grid_adbst_sgd.fit(X_train, Y_train)"
   ]
  },
  {
   "cell_type": "code",
   "execution_count": 111,
   "metadata": {},
   "outputs": [
    {
     "name": "stdout",
     "output_type": "stream",
     "text": [
      "Best cross-validation accuracy: -2519280836.86\n",
      "Best parameters: {'learning_rate': 0.3, 'n_estimators': 200}\n",
      "Train Set Score: -498733594.5802051\n",
      "Test Set Score: -386686972.1796432\n"
     ]
    }
   ],
   "source": [
    "print(\"Best cross-validation accuracy: {:.2f}\".format(grid_adbst_sgd.best_score_))\n",
    "print(\"Best parameters: {}\".format(grid_adbst_sgd.best_params_))\n",
    "print(\"Train Set Score: {}\".format(grid_adbst_sgd.score(X_train, Y_train)))\n",
    "print(\"Test Set Score: {}\".format(grid_adbst_sgd.score(X_test,Y_test)))"
   ]
  },
  {
   "cell_type": "markdown",
   "metadata": {},
   "source": [
    "### Gradient Boosting"
   ]
  },
  {
   "cell_type": "code",
   "execution_count": 112,
   "metadata": {},
   "outputs": [
    {
     "data": {
      "text/plain": [
       "GridSearchCV(cv=5, error_score='raise',\n",
       "       estimator=GradientBoostingRegressor(alpha=0.9, criterion='friedman_mse', init=None,\n",
       "             learning_rate=0.1, loss='ls', max_depth=3, max_features=None,\n",
       "             max_leaf_nodes=None, min_impurity_decrease=0.0,\n",
       "             min_impurity_split=None, min_samples_leaf=1,\n",
       "             min_samples_split=2, min_weight_fraction_leaf=0.0,\n",
       "             n_estimators=100, presort='auto', random_state=0,\n",
       "             subsample=1.0, verbose=0, warm_start=False),\n",
       "       fit_params=None, iid=True, n_jobs=1,\n",
       "       param_grid={'max_depth': [1, 2], 'learning_rate': [0.01, 0.03, 0.1, 0.3, 1.0], 'n_estimators': [50, 100, 200]},\n",
       "       pre_dispatch='2*n_jobs', refit=True, return_train_score=True,\n",
       "       scoring=None, verbose=0)"
      ]
     },
     "execution_count": 112,
     "metadata": {},
     "output_type": "execute_result"
    }
   ],
   "source": [
    "gbrt_sgd = GradientBoostingRegressor(random_state=0)\n",
    "param_grid = {'max_depth':[1,2],\n",
    "              'learning_rate' : [0.01,0.03,0.1,0.3,1.0],\n",
    "              'n_estimators': [50,100,200]}\n",
    "grid_gbrt_sgd = GridSearchCV(gbrt_sgd, param_grid, cv = 5,return_train_score=True)\n",
    "grid_gbrt_sgd.fit(X_train, Y_train)"
   ]
  },
  {
   "cell_type": "code",
   "execution_count": 113,
   "metadata": {},
   "outputs": [
    {
     "name": "stdout",
     "output_type": "stream",
     "text": [
      "Best cross-validation accuracy: 0.78\n",
      "Best parameters: {'learning_rate': 0.03, 'max_depth': 2, 'n_estimators': 100}\n",
      "Train Set Score: 0.9601992929964114\n",
      "Test Set Score: 0.8790434417439489\n"
     ]
    }
   ],
   "source": [
    "print(\"Best cross-validation accuracy: {:.2f}\".format(grid_gbrt_sgd.best_score_))\n",
    "print(\"Best parameters: {}\".format(grid_gbrt_sgd.best_params_))\n",
    "print(\"Train Set Score: {}\".format(grid_gbrt_sgd.score(X_train, Y_train)))\n",
    "print(\"Test Set Score: {}\".format(grid_gbrt_sgd.score(X_test,Y_test)))"
   ]
  },
  {
   "cell_type": "markdown",
   "metadata": {},
   "source": [
    "### Model 4 : SVM Kernel ' rbf '"
   ]
  },
  {
   "cell_type": "code",
   "execution_count": 115,
   "metadata": {},
   "outputs": [
    {
     "name": "stdout",
     "output_type": "stream",
     "text": [
      "Defined Parameters:\n",
      "{'C': [0.001, 0.01, 0.1, 1, 10, 100], 'gamma': [0.001, 0.01, 0.1, 1, 10, 100]}\n"
     ]
    }
   ],
   "source": [
    "from sklearn.svm import SVR\n",
    "model_RadSVM = SVR(kernel = 'rbf')\n",
    "param_RadSVM = {'C': [0.001, 0.01, 0.1, 1, 10, 100],'gamma': [0.001, 0.01, 0.1, 1, 10, 100]}\n",
    "print(\"Defined Parameters:\\n{}\".format(param_RadSVM))\n"
   ]
  },
  {
   "cell_type": "code",
   "execution_count": 116,
   "metadata": {
    "scrolled": true
   },
   "outputs": [
    {
     "data": {
      "text/plain": [
       "GridSearchCV(cv=5, error_score='raise',\n",
       "       estimator=SVR(C=1.0, cache_size=200, coef0=0.0, degree=3, epsilon=0.1, gamma='auto',\n",
       "  kernel='rbf', max_iter=-1, shrinking=True, tol=0.001, verbose=False),\n",
       "       fit_params=None, iid=True, n_jobs=1,\n",
       "       param_grid={'C': [0.001, 0.01, 0.1, 1, 10, 100], 'gamma': [0.001, 0.01, 0.1, 1, 10, 100]},\n",
       "       pre_dispatch='2*n_jobs', refit=True, return_train_score=True,\n",
       "       scoring=None, verbose=0)"
      ]
     },
     "execution_count": 116,
     "metadata": {},
     "output_type": "execute_result"
    }
   ],
   "source": [
    "grid_RadSVM = GridSearchCV(model_RadSVM, param_grid = param_RadSVM, cv=5, return_train_score=True)\n",
    "grid_RadSVM.fit(X_train, Y_train)"
   ]
  },
  {
   "cell_type": "code",
   "execution_count": 117,
   "metadata": {},
   "outputs": [
    {
     "name": "stdout",
     "output_type": "stream",
     "text": [
      "Best parameters: {'C': 100, 'gamma': 0.1}\n"
     ]
    },
    {
     "data": {
      "text/html": [
       "<div>\n",
       "<style scoped>\n",
       "    .dataframe tbody tr th:only-of-type {\n",
       "        vertical-align: middle;\n",
       "    }\n",
       "\n",
       "    .dataframe tbody tr th {\n",
       "        vertical-align: top;\n",
       "    }\n",
       "\n",
       "    .dataframe thead th {\n",
       "        text-align: right;\n",
       "    }\n",
       "</style>\n",
       "<table border=\"1\" class=\"dataframe\">\n",
       "  <thead>\n",
       "    <tr style=\"text-align: right;\">\n",
       "      <th></th>\n",
       "      <th>params</th>\n",
       "      <th>mean_train_score</th>\n",
       "      <th>mean_test_score</th>\n",
       "    </tr>\n",
       "  </thead>\n",
       "  <tbody>\n",
       "    <tr>\n",
       "      <th>0</th>\n",
       "      <td>{'C': 0.001, 'gamma': 0.001}</td>\n",
       "      <td>-0.097987</td>\n",
       "      <td>-0.111599</td>\n",
       "    </tr>\n",
       "    <tr>\n",
       "      <th>1</th>\n",
       "      <td>{'C': 0.001, 'gamma': 0.01}</td>\n",
       "      <td>-0.097983</td>\n",
       "      <td>-0.111595</td>\n",
       "    </tr>\n",
       "    <tr>\n",
       "      <th>2</th>\n",
       "      <td>{'C': 0.001, 'gamma': 0.1}</td>\n",
       "      <td>-0.097973</td>\n",
       "      <td>-0.111584</td>\n",
       "    </tr>\n",
       "    <tr>\n",
       "      <th>3</th>\n",
       "      <td>{'C': 0.001, 'gamma': 1}</td>\n",
       "      <td>-0.097982</td>\n",
       "      <td>-0.111592</td>\n",
       "    </tr>\n",
       "    <tr>\n",
       "      <th>4</th>\n",
       "      <td>{'C': 0.001, 'gamma': 10}</td>\n",
       "      <td>-0.097957</td>\n",
       "      <td>-0.111567</td>\n",
       "    </tr>\n",
       "    <tr>\n",
       "      <th>5</th>\n",
       "      <td>{'C': 0.001, 'gamma': 100}</td>\n",
       "      <td>-0.097947</td>\n",
       "      <td>-0.111557</td>\n",
       "    </tr>\n",
       "    <tr>\n",
       "      <th>6</th>\n",
       "      <td>{'C': 0.01, 'gamma': 0.001}</td>\n",
       "      <td>-0.097983</td>\n",
       "      <td>-0.111594</td>\n",
       "    </tr>\n",
       "    <tr>\n",
       "      <th>7</th>\n",
       "      <td>{'C': 0.01, 'gamma': 0.01}</td>\n",
       "      <td>-0.097947</td>\n",
       "      <td>-0.111554</td>\n",
       "    </tr>\n",
       "    <tr>\n",
       "      <th>8</th>\n",
       "      <td>{'C': 0.01, 'gamma': 0.1}</td>\n",
       "      <td>-0.097849</td>\n",
       "      <td>-0.111450</td>\n",
       "    </tr>\n",
       "    <tr>\n",
       "      <th>9</th>\n",
       "      <td>{'C': 0.01, 'gamma': 1}</td>\n",
       "      <td>-0.097931</td>\n",
       "      <td>-0.111527</td>\n",
       "    </tr>\n",
       "    <tr>\n",
       "      <th>10</th>\n",
       "      <td>{'C': 0.01, 'gamma': 10}</td>\n",
       "      <td>-0.097686</td>\n",
       "      <td>-0.111274</td>\n",
       "    </tr>\n",
       "    <tr>\n",
       "      <th>11</th>\n",
       "      <td>{'C': 0.01, 'gamma': 100}</td>\n",
       "      <td>-0.097588</td>\n",
       "      <td>-0.111178</td>\n",
       "    </tr>\n",
       "    <tr>\n",
       "      <th>12</th>\n",
       "      <td>{'C': 0.1, 'gamma': 0.001}</td>\n",
       "      <td>-0.097941</td>\n",
       "      <td>-0.111546</td>\n",
       "    </tr>\n",
       "    <tr>\n",
       "      <th>13</th>\n",
       "      <td>{'C': 0.1, 'gamma': 0.01}</td>\n",
       "      <td>-0.097586</td>\n",
       "      <td>-0.111146</td>\n",
       "    </tr>\n",
       "    <tr>\n",
       "      <th>14</th>\n",
       "      <td>{'C': 0.1, 'gamma': 0.1}</td>\n",
       "      <td>-0.096495</td>\n",
       "      <td>-0.110021</td>\n",
       "    </tr>\n",
       "    <tr>\n",
       "      <th>15</th>\n",
       "      <td>{'C': 0.1, 'gamma': 1}</td>\n",
       "      <td>-0.096776</td>\n",
       "      <td>-0.110186</td>\n",
       "    </tr>\n",
       "    <tr>\n",
       "      <th>16</th>\n",
       "      <td>{'C': 0.1, 'gamma': 10}</td>\n",
       "      <td>-0.095165</td>\n",
       "      <td>-0.108476</td>\n",
       "    </tr>\n",
       "    <tr>\n",
       "      <th>17</th>\n",
       "      <td>{'C': 0.1, 'gamma': 100}</td>\n",
       "      <td>-0.094770</td>\n",
       "      <td>-0.108213</td>\n",
       "    </tr>\n",
       "    <tr>\n",
       "      <th>18</th>\n",
       "      <td>{'C': 1, 'gamma': 0.001}</td>\n",
       "      <td>-0.097522</td>\n",
       "      <td>-0.111068</td>\n",
       "    </tr>\n",
       "    <tr>\n",
       "      <th>19</th>\n",
       "      <td>{'C': 1, 'gamma': 0.01}</td>\n",
       "      <td>-0.093821</td>\n",
       "      <td>-0.106916</td>\n",
       "    </tr>\n",
       "    <tr>\n",
       "      <th>20</th>\n",
       "      <td>{'C': 1, 'gamma': 0.1}</td>\n",
       "      <td>-0.078222</td>\n",
       "      <td>-0.089791</td>\n",
       "    </tr>\n",
       "    <tr>\n",
       "      <th>21</th>\n",
       "      <td>{'C': 1, 'gamma': 1}</td>\n",
       "      <td>-0.070266</td>\n",
       "      <td>-0.078962</td>\n",
       "    </tr>\n",
       "    <tr>\n",
       "      <th>22</th>\n",
       "      <td>{'C': 1, 'gamma': 10}</td>\n",
       "      <td>-0.076080</td>\n",
       "      <td>-0.087682</td>\n",
       "    </tr>\n",
       "    <tr>\n",
       "      <th>23</th>\n",
       "      <td>{'C': 1, 'gamma': 100}</td>\n",
       "      <td>-0.079983</td>\n",
       "      <td>-0.093010</td>\n",
       "    </tr>\n",
       "    <tr>\n",
       "      <th>24</th>\n",
       "      <td>{'C': 10, 'gamma': 0.001}</td>\n",
       "      <td>-0.093187</td>\n",
       "      <td>-0.106148</td>\n",
       "    </tr>\n",
       "    <tr>\n",
       "      <th>25</th>\n",
       "      <td>{'C': 10, 'gamma': 0.01}</td>\n",
       "      <td>-0.052936</td>\n",
       "      <td>-0.060285</td>\n",
       "    </tr>\n",
       "    <tr>\n",
       "      <th>26</th>\n",
       "      <td>{'C': 10, 'gamma': 0.1}</td>\n",
       "      <td>0.099927</td>\n",
       "      <td>0.105683</td>\n",
       "    </tr>\n",
       "    <tr>\n",
       "      <th>27</th>\n",
       "      <td>{'C': 10, 'gamma': 1}</td>\n",
       "      <td>0.096921</td>\n",
       "      <td>0.110891</td>\n",
       "    </tr>\n",
       "    <tr>\n",
       "      <th>28</th>\n",
       "      <td>{'C': 10, 'gamma': 10}</td>\n",
       "      <td>-0.026313</td>\n",
       "      <td>-0.037988</td>\n",
       "    </tr>\n",
       "    <tr>\n",
       "      <th>29</th>\n",
       "      <td>{'C': 10, 'gamma': 100}</td>\n",
       "      <td>-0.054604</td>\n",
       "      <td>-0.077165</td>\n",
       "    </tr>\n",
       "    <tr>\n",
       "      <th>30</th>\n",
       "      <td>{'C': 100, 'gamma': 0.001}</td>\n",
       "      <td>-0.047786</td>\n",
       "      <td>-0.054061</td>\n",
       "    </tr>\n",
       "    <tr>\n",
       "      <th>31</th>\n",
       "      <td>{'C': 100, 'gamma': 0.01}</td>\n",
       "      <td>0.251768</td>\n",
       "      <td>0.281698</td>\n",
       "    </tr>\n",
       "    <tr>\n",
       "      <th>32</th>\n",
       "      <td>{'C': 100, 'gamma': 0.1}</td>\n",
       "      <td>0.461269</td>\n",
       "      <td>0.487590</td>\n",
       "    </tr>\n",
       "    <tr>\n",
       "      <th>33</th>\n",
       "      <td>{'C': 100, 'gamma': 1}</td>\n",
       "      <td>0.270630</td>\n",
       "      <td>0.266628</td>\n",
       "    </tr>\n",
       "    <tr>\n",
       "      <th>34</th>\n",
       "      <td>{'C': 100, 'gamma': 10}</td>\n",
       "      <td>0.139496</td>\n",
       "      <td>0.079918</td>\n",
       "    </tr>\n",
       "    <tr>\n",
       "      <th>35</th>\n",
       "      <td>{'C': 100, 'gamma': 100}</td>\n",
       "      <td>0.095317</td>\n",
       "      <td>-0.007078</td>\n",
       "    </tr>\n",
       "  </tbody>\n",
       "</table>\n",
       "</div>"
      ],
      "text/plain": [
       "                          params  mean_train_score  mean_test_score\n",
       "0   {'C': 0.001, 'gamma': 0.001}         -0.097987        -0.111599\n",
       "1    {'C': 0.001, 'gamma': 0.01}         -0.097983        -0.111595\n",
       "2     {'C': 0.001, 'gamma': 0.1}         -0.097973        -0.111584\n",
       "3       {'C': 0.001, 'gamma': 1}         -0.097982        -0.111592\n",
       "4      {'C': 0.001, 'gamma': 10}         -0.097957        -0.111567\n",
       "5     {'C': 0.001, 'gamma': 100}         -0.097947        -0.111557\n",
       "6    {'C': 0.01, 'gamma': 0.001}         -0.097983        -0.111594\n",
       "7     {'C': 0.01, 'gamma': 0.01}         -0.097947        -0.111554\n",
       "8      {'C': 0.01, 'gamma': 0.1}         -0.097849        -0.111450\n",
       "9        {'C': 0.01, 'gamma': 1}         -0.097931        -0.111527\n",
       "10      {'C': 0.01, 'gamma': 10}         -0.097686        -0.111274\n",
       "11     {'C': 0.01, 'gamma': 100}         -0.097588        -0.111178\n",
       "12    {'C': 0.1, 'gamma': 0.001}         -0.097941        -0.111546\n",
       "13     {'C': 0.1, 'gamma': 0.01}         -0.097586        -0.111146\n",
       "14      {'C': 0.1, 'gamma': 0.1}         -0.096495        -0.110021\n",
       "15        {'C': 0.1, 'gamma': 1}         -0.096776        -0.110186\n",
       "16       {'C': 0.1, 'gamma': 10}         -0.095165        -0.108476\n",
       "17      {'C': 0.1, 'gamma': 100}         -0.094770        -0.108213\n",
       "18      {'C': 1, 'gamma': 0.001}         -0.097522        -0.111068\n",
       "19       {'C': 1, 'gamma': 0.01}         -0.093821        -0.106916\n",
       "20        {'C': 1, 'gamma': 0.1}         -0.078222        -0.089791\n",
       "21          {'C': 1, 'gamma': 1}         -0.070266        -0.078962\n",
       "22         {'C': 1, 'gamma': 10}         -0.076080        -0.087682\n",
       "23        {'C': 1, 'gamma': 100}         -0.079983        -0.093010\n",
       "24     {'C': 10, 'gamma': 0.001}         -0.093187        -0.106148\n",
       "25      {'C': 10, 'gamma': 0.01}         -0.052936        -0.060285\n",
       "26       {'C': 10, 'gamma': 0.1}          0.099927         0.105683\n",
       "27         {'C': 10, 'gamma': 1}          0.096921         0.110891\n",
       "28        {'C': 10, 'gamma': 10}         -0.026313        -0.037988\n",
       "29       {'C': 10, 'gamma': 100}         -0.054604        -0.077165\n",
       "30    {'C': 100, 'gamma': 0.001}         -0.047786        -0.054061\n",
       "31     {'C': 100, 'gamma': 0.01}          0.251768         0.281698\n",
       "32      {'C': 100, 'gamma': 0.1}          0.461269         0.487590\n",
       "33        {'C': 100, 'gamma': 1}          0.270630         0.266628\n",
       "34       {'C': 100, 'gamma': 10}          0.139496         0.079918\n",
       "35      {'C': 100, 'gamma': 100}          0.095317        -0.007078"
      ]
     },
     "execution_count": 117,
     "metadata": {},
     "output_type": "execute_result"
    }
   ],
   "source": [
    "print(\"Best parameters: {}\".format(grid_RadSVM.best_params_))\n",
    "grid_RadSVMdata = pd.DataFrame(grid_RadSVM.cv_results_)\n",
    "grid_RadSVMdata = grid_RadSVMdata[['params','mean_train_score','mean_test_score']]\n",
    "grid_RadSVMdata\n"
   ]
  },
  {
   "cell_type": "code",
   "execution_count": 118,
   "metadata": {
    "scrolled": true
   },
   "outputs": [
    {
     "name": "stdout",
     "output_type": "stream",
     "text": [
      "Best cross-validation accuracy: 0.49\n",
      "Best parameters: {'C': 100, 'gamma': 0.1}\n",
      "Train Set Score: 0.47705346804822607\n",
      "Test Set Score: 0.30602057370534286\n"
     ]
    }
   ],
   "source": [
    "print(\"Best cross-validation accuracy: {:.2f}\".format(grid_RadSVM.best_score_))\n",
    "print(\"Best parameters: {}\".format(grid_RadSVM.best_params_))\n",
    "print(\"Train Set Score: {}\".format(grid_RadSVM.score(X_train, Y_train)))\n",
    "print(\"Test Set Score: {}\".format(grid_RadSVM.score(X_test, Y_test)))"
   ]
  },
  {
   "cell_type": "code",
   "execution_count": 119,
   "metadata": {},
   "outputs": [],
   "source": [
    "best_model_RadSVM=SVR(kernel = 'rbf',C=grid_RadSVM.best_params_['C'],gamma=grid_RadSVM.best_params_['gamma'])"
   ]
  },
  {
   "cell_type": "markdown",
   "metadata": {},
   "source": [
    "### Bagging"
   ]
  },
  {
   "cell_type": "code",
   "execution_count": 120,
   "metadata": {},
   "outputs": [
    {
     "data": {
      "text/plain": [
       "GridSearchCV(cv=5, error_score='raise',\n",
       "       estimator=BaggingRegressor(base_estimator=SVR(C=100, cache_size=200, coef0=0.0, degree=3, epsilon=0.1, gamma=0.1,\n",
       "  kernel='rbf', max_iter=-1, shrinking=True, tol=0.001, verbose=False),\n",
       "         bootstrap=True, bootstrap_features=False, max_features=1.0,\n",
       "         max_samples=1.0, n_estimators=10, n_jobs=1, oob_score=True,\n",
       "         random_state=0, verbose=0, warm_start=False),\n",
       "       fit_params=None, iid=True, n_jobs=1,\n",
       "       param_grid={'n_estimators': [50, 100, 200]},\n",
       "       pre_dispatch='2*n_jobs', refit=True, return_train_score=True,\n",
       "       scoring=None, verbose=0)"
      ]
     },
     "execution_count": 120,
     "metadata": {},
     "output_type": "execute_result"
    }
   ],
   "source": [
    "bag_RadSVM = BaggingRegressor(best_model_RadSVM, bootstrap = True,oob_score=True,random_state=0)\n",
    "param_grid = {'n_estimators': [50,100,200]}\n",
    "grid_bag_RadSVM = GridSearchCV(bag_RadSVM, param_grid, cv = 5,return_train_score=True)\n",
    "grid_bag_RadSVM.fit(X_train, Y_train)"
   ]
  },
  {
   "cell_type": "code",
   "execution_count": 121,
   "metadata": {},
   "outputs": [
    {
     "name": "stdout",
     "output_type": "stream",
     "text": [
      "Best parameters: {'n_estimators': 100}\n"
     ]
    }
   ],
   "source": [
    "print(\"Best parameters: {}\".format(grid_bag_RadSVM.best_params_))"
   ]
  },
  {
   "cell_type": "code",
   "execution_count": 122,
   "metadata": {},
   "outputs": [
    {
     "name": "stdout",
     "output_type": "stream",
     "text": [
      "Best cross-validation accuracy: 0.49\n",
      "Train Set Score: 0.4802959044970377\n",
      "Test Set Score: 0.30950661720322503\n",
      "Oob Score: 0.46288563809495287\n"
     ]
    }
   ],
   "source": [
    "best_bag_RadSVM = BaggingRegressor(best_model_RadSVM,n_estimators = grid_bag_RadSVM.best_params_['n_estimators'],bootstrap = True,oob_score=True,random_state=0)\n",
    "best_bag_RadSVM.fit(X_train, Y_train)\n",
    "print(\"Best cross-validation accuracy: {:.2f}\".format(grid_bag_RadSVM.best_score_))\n",
    "print(\"Train Set Score: {}\".format(grid_bag_RadSVM.score(X_train, Y_train)))\n",
    "print(\"Test Set Score: {}\".format(grid_bag_RadSVM.score(X_test,Y_test)))\n",
    "print(\"Oob Score: {}\".format(best_bag_RadSVM.oob_score_))\n"
   ]
  },
  {
   "cell_type": "markdown",
   "metadata": {},
   "source": [
    "### Pasting"
   ]
  },
  {
   "cell_type": "code",
   "execution_count": 123,
   "metadata": {},
   "outputs": [
    {
     "data": {
      "text/plain": [
       "GridSearchCV(cv=5, error_score='raise',\n",
       "       estimator=BaggingRegressor(base_estimator=SVR(C=100, cache_size=200, coef0=0.0, degree=3, epsilon=0.1, gamma=0.1,\n",
       "  kernel='rbf', max_iter=-1, shrinking=True, tol=0.001, verbose=False),\n",
       "         bootstrap=False, bootstrap_features=False, max_features=1.0,\n",
       "         max_samples=1.0, n_estimators=10, n_jobs=1, oob_score=False,\n",
       "         random_state=0, verbose=0, warm_start=False),\n",
       "       fit_params=None, iid=True, n_jobs=1,\n",
       "       param_grid={'n_estimators': [50, 100, 200]},\n",
       "       pre_dispatch='2*n_jobs', refit=True, return_train_score=True,\n",
       "       scoring=None, verbose=0)"
      ]
     },
     "execution_count": 123,
     "metadata": {},
     "output_type": "execute_result"
    }
   ],
   "source": [
    "p_RadSVM = BaggingRegressor(best_model_RadSVM, bootstrap = False,random_state=0)\n",
    "param_grid = {'n_estimators': [50,100,200]}\n",
    "grid_p_RadSVM = GridSearchCV(p_RadSVM, param_grid, cv = 5,return_train_score=True)\n",
    "grid_p_RadSVM.fit(X_train, Y_train)"
   ]
  },
  {
   "cell_type": "code",
   "execution_count": 124,
   "metadata": {},
   "outputs": [
    {
     "name": "stdout",
     "output_type": "stream",
     "text": [
      "Best cross-validation accuracy: 0.49\n",
      "Best parameters: {'n_estimators': 200}\n",
      "Train Set Score: 0.47705346804822607\n",
      "Test Set Score: 0.30602057370534264\n"
     ]
    }
   ],
   "source": [
    "print(\"Best cross-validation accuracy: {:.2f}\".format(grid_p_RadSVM.best_score_))\n",
    "print(\"Best parameters: {}\".format(grid_p_RadSVM.best_params_))\n",
    "print(\"Train Set Score: {}\".format(grid_p_RadSVM.score(X_train, Y_train)))\n",
    "print(\"Test Set Score: {}\".format(grid_p_RadSVM.score(X_test,Y_test)))"
   ]
  },
  {
   "cell_type": "markdown",
   "metadata": {},
   "source": [
    "### AdaBoost"
   ]
  },
  {
   "cell_type": "code",
   "execution_count": 125,
   "metadata": {},
   "outputs": [
    {
     "data": {
      "text/plain": [
       "GridSearchCV(cv=5, error_score='raise',\n",
       "       estimator=AdaBoostRegressor(base_estimator=SVR(C=100, cache_size=200, coef0=0.0, degree=3, epsilon=0.1, gamma=0.1,\n",
       "  kernel='rbf', max_iter=-1, shrinking=True, tol=0.001, verbose=False),\n",
       "         learning_rate=1.0, loss='linear', n_estimators=50, random_state=0),\n",
       "       fit_params=None, iid=True, n_jobs=1,\n",
       "       param_grid={'learning_rate': [0.01, 0.03, 0.1, 0.3, 1.0], 'n_estimators': [50, 100, 200]},\n",
       "       pre_dispatch='2*n_jobs', refit=True, return_train_score=True,\n",
       "       scoring=None, verbose=0)"
      ]
     },
     "execution_count": 125,
     "metadata": {},
     "output_type": "execute_result"
    }
   ],
   "source": [
    "adbst_RadSVM = AdaBoostRegressor(best_model_RadSVM,random_state=0)\n",
    "param_grid = {'learning_rate': [0.01,0.03,0.1,0.3,1.0],\n",
    "              'n_estimators': [50,100,200]}\n",
    "grid_adbst_RadSVM = GridSearchCV(adbst_RadSVM, param_grid, cv = 5,return_train_score=True)\n",
    "grid_adbst_RadSVM.fit(X_train, Y_train)"
   ]
  },
  {
   "cell_type": "code",
   "execution_count": 126,
   "metadata": {},
   "outputs": [
    {
     "name": "stdout",
     "output_type": "stream",
     "text": [
      "Best cross-validation accuracy: 0.71\n",
      "Best parameters: {'learning_rate': 0.03, 'n_estimators': 100}\n",
      "Train Set Score: 0.7830720369420476\n",
      "Test Set Score: 0.6655357661521091\n"
     ]
    }
   ],
   "source": [
    "print(\"Best cross-validation accuracy: {:.2f}\".format(grid_adbst_RadSVM.best_score_))\n",
    "print(\"Best parameters: {}\".format(grid_adbst_RadSVM.best_params_))\n",
    "print(\"Train Set Score: {}\".format(grid_adbst_RadSVM.score(X_train, Y_train)))\n",
    "print(\"Test Set Score: {}\".format(grid_adbst_RadSVM.score(X_test,Y_test)))"
   ]
  },
  {
   "cell_type": "markdown",
   "metadata": {},
   "source": [
    "### Gradient Boosting"
   ]
  },
  {
   "cell_type": "code",
   "execution_count": 127,
   "metadata": {},
   "outputs": [
    {
     "data": {
      "text/plain": [
       "GridSearchCV(cv=5, error_score='raise',\n",
       "       estimator=GradientBoostingRegressor(alpha=0.9, criterion='friedman_mse', init=None,\n",
       "             learning_rate=0.1, loss='ls', max_depth=3, max_features=None,\n",
       "             max_leaf_nodes=None, min_impurity_decrease=0.0,\n",
       "             min_impurity_split=None, min_samples_leaf=1,\n",
       "             min_samples_split=2, min_weight_fraction_leaf=0.0,\n",
       "             n_estimators=100, presort='auto', random_state=0,\n",
       "             subsample=1.0, verbose=0, warm_start=False),\n",
       "       fit_params=None, iid=True, n_jobs=1,\n",
       "       param_grid={'max_depth': [1, 2], 'learning_rate': [0.01, 0.03, 0.1, 0.3, 1.0], 'n_estimators': [50, 100, 200]},\n",
       "       pre_dispatch='2*n_jobs', refit=True, return_train_score=True,\n",
       "       scoring=None, verbose=0)"
      ]
     },
     "execution_count": 127,
     "metadata": {},
     "output_type": "execute_result"
    }
   ],
   "source": [
    "gbrt_RadSVM = GradientBoostingRegressor(random_state=0)\n",
    "param_grid = {'max_depth':[1,2],\n",
    "              'learning_rate' : [0.01,0.03,0.1,0.3,1.0],\n",
    "              'n_estimators': [50,100,200]}\n",
    "grid_gbrt_RadSVM = GridSearchCV(gbrt_RadSVM, param_grid, cv = 5,return_train_score=True)\n",
    "grid_gbrt_RadSVM.fit(X_train, Y_train)"
   ]
  },
  {
   "cell_type": "code",
   "execution_count": 128,
   "metadata": {},
   "outputs": [
    {
     "name": "stdout",
     "output_type": "stream",
     "text": [
      "Best cross-validation accuracy: 0.78\n",
      "Best parameters: {'learning_rate': 0.03, 'max_depth': 2, 'n_estimators': 100}\n",
      "Train Set Score: 0.9601992929964114\n",
      "Test Set Score: 0.8790434417439489\n"
     ]
    }
   ],
   "source": [
    "print(\"Best cross-validation accuracy: {:.2f}\".format(grid_gbrt_RadSVM.best_score_))\n",
    "print(\"Best parameters: {}\".format(grid_gbrt_RadSVM.best_params_))\n",
    "print(\"Train Set Score: {}\".format(grid_gbrt_RadSVM.score(X_train, Y_train)))\n",
    "print(\"Test Set Score: {}\".format(grid_gbrt_RadSVM.score(X_test,Y_test)))"
   ]
  },
  {
   "cell_type": "markdown",
   "metadata": {},
   "source": [
    "## PCA"
   ]
  },
  {
   "cell_type": "code",
   "execution_count": 129,
   "metadata": {},
   "outputs": [],
   "source": [
    "from sklearn.decomposition import PCA\n",
    "\n",
    "pca = PCA(n_components=0.95)\n",
    "X_reduced_train = pca.fit_transform(X_train)\n",
    "X_reduced_test = pca.transform(X_test)"
   ]
  },
  {
   "cell_type": "code",
   "execution_count": 130,
   "metadata": {},
   "outputs": [
    {
     "data": {
      "text/plain": [
       "array([[-0.25609454, -0.02341136, -0.00733265, ..., -0.05588816,\n",
       "        -0.03092554, -0.0594566 ],\n",
       "       [ 0.29530277, -0.14689906, -0.940929  , ..., -0.02232014,\n",
       "         0.00943674, -0.01097405],\n",
       "       [-0.25079144, -0.27819535, -0.04309495, ...,  0.50306219,\n",
       "        -0.05717746, -0.00153544],\n",
       "       ...,\n",
       "       [-0.19673006, -0.18934392, -0.00652197, ..., -0.05862879,\n",
       "        -0.04061218, -0.00809268],\n",
       "       [-0.20119238, -0.15974164, -0.01342826, ..., -0.00229095,\n",
       "         0.00411465,  0.00370391],\n",
       "       [-0.43084248,  0.46667991, -0.01206645, ...,  0.02983423,\n",
       "         0.01595415,  0.09984487]])"
      ]
     },
     "execution_count": 130,
     "metadata": {},
     "output_type": "execute_result"
    }
   ],
   "source": [
    "X_reduced_train"
   ]
  },
  {
   "cell_type": "code",
   "execution_count": 131,
   "metadata": {
    "scrolled": true
   },
   "outputs": [
    {
     "data": {
      "text/plain": [
       "array([[-0.19100417, -0.28566772, -0.02401873, ...,  0.18125484,\n",
       "         0.00546417, -0.00772861],\n",
       "       [-0.21739468, -0.13188041, -0.00690009, ..., -0.05874274,\n",
       "        -0.0344667 , -0.00561108],\n",
       "       [ 1.7512148 ,  0.36118132,  0.87755462, ...,  0.00593825,\n",
       "        -0.00339622,  0.00199587],\n",
       "       ...,\n",
       "       [-0.25711512,  0.00304606, -0.01044287, ...,  0.07197933,\n",
       "        -0.00353287, -0.01784862],\n",
       "       [-0.23300456, -0.08752856, -0.00697013, ..., -0.05701774,\n",
       "         0.00822079,  0.06220895],\n",
       "       [-0.17464045, -0.25005762, -0.00656226, ..., -0.05728504,\n",
       "         0.00180468, -0.00566334]])"
      ]
     },
     "execution_count": 131,
     "metadata": {},
     "output_type": "execute_result"
    }
   ],
   "source": [
    "X_reduced_test"
   ]
  },
  {
   "cell_type": "code",
   "execution_count": null,
   "metadata": {},
   "outputs": [],
   "source": [
    "### Expalained Variance \n",
    "pca.explained_variance_ratio_.sum()"
   ]
  },
  {
   "cell_type": "code",
   "execution_count": null,
   "metadata": {},
   "outputs": [],
   "source": [
    "### UnExpalained Variance\n",
    "1-pca.explained_variance_ratio_.sum()"
   ]
  },
  {
   "cell_type": "code",
   "execution_count": null,
   "metadata": {},
   "outputs": [],
   "source": []
  },
  {
   "cell_type": "markdown",
   "metadata": {},
   "source": [
    "### Model 1 :  Linear regression (Normal Equation) "
   ]
  },
  {
   "cell_type": "code",
   "execution_count": 132,
   "metadata": {},
   "outputs": [],
   "source": [
    "from sklearn.linear_model import LinearRegression\n",
    "lreg = LinearRegression()\n",
    "from sklearn.model_selection import cross_val_score\n"
   ]
  },
  {
   "cell_type": "code",
   "execution_count": 133,
   "metadata": {},
   "outputs": [
    {
     "name": "stdout",
     "output_type": "stream",
     "text": [
      "CV Scores: [0.8387919  0.64922398 0.66421848 0.57759141 0.62650508]\n"
     ]
    }
   ],
   "source": [
    "CvScores = cross_val_score(lreg, X_reduced_train, Y_train, cv=5)\n",
    "print(\"CV Scores: {}\".format(CvScores))"
   ]
  },
  {
   "cell_type": "code",
   "execution_count": 134,
   "metadata": {},
   "outputs": [
    {
     "name": "stdout",
     "output_type": "stream",
     "text": [
      "Train Set Score: 0.67\n",
      "Test Set Score: 0.91\n"
     ]
    }
   ],
   "source": [
    "Train_Score = CvScores.mean()\n",
    "print(\"Train Set Score: {:.2f}\".format(Train_Score))\n",
    "lreg.fit(X_reduced_train, Y_train)\n",
    "Test_Score = lreg.score(X_reduced_test,Y_test)\n",
    "print(\"Test Set Score: {:.2f}\".format(Test_Score))\n"
   ]
  },
  {
   "cell_type": "code",
   "execution_count": 135,
   "metadata": {},
   "outputs": [],
   "source": [
    "report_table = [['Linear Regression', 'None', Train_Score, Test_Score]]"
   ]
  },
  {
   "cell_type": "markdown",
   "metadata": {},
   "source": [
    "### Model 2 : KNN Regressor "
   ]
  },
  {
   "cell_type": "code",
   "execution_count": 136,
   "metadata": {},
   "outputs": [],
   "source": [
    "from sklearn.neighbors import KNeighborsRegressor\n",
    "from sklearn.model_selection import GridSearchCV\n",
    "model_knn = KNeighborsRegressor()\n"
   ]
  },
  {
   "cell_type": "code",
   "execution_count": 137,
   "metadata": {},
   "outputs": [
    {
     "name": "stdout",
     "output_type": "stream",
     "text": [
      "Defined Parameters:\n",
      "{'n_neighbors': [1, 5, 10, 15, 20]}\n"
     ]
    }
   ],
   "source": [
    "param_knn = {'n_neighbors':[1, 5, 10, 15, 20]}\n",
    "print(\"Defined Parameters:\\n{}\".format(param_knn))\n"
   ]
  },
  {
   "cell_type": "code",
   "execution_count": 138,
   "metadata": {},
   "outputs": [
    {
     "data": {
      "text/plain": [
       "GridSearchCV(cv=5, error_score='raise',\n",
       "       estimator=KNeighborsRegressor(algorithm='auto', leaf_size=30, metric='minkowski',\n",
       "          metric_params=None, n_jobs=1, n_neighbors=5, p=2,\n",
       "          weights='uniform'),\n",
       "       fit_params=None, iid=True, n_jobs=1,\n",
       "       param_grid={'n_neighbors': [1, 5, 10, 15, 20]},\n",
       "       pre_dispatch='2*n_jobs', refit=True, return_train_score=True,\n",
       "       scoring=None, verbose=0)"
      ]
     },
     "execution_count": 138,
     "metadata": {},
     "output_type": "execute_result"
    }
   ],
   "source": [
    "grid_knn = GridSearchCV(model_knn, param_grid = param_knn, cv=5, return_train_score=True)\n",
    "grid_knn.fit(X_reduced_train, Y_train)"
   ]
  },
  {
   "cell_type": "code",
   "execution_count": 139,
   "metadata": {},
   "outputs": [
    {
     "name": "stdout",
     "output_type": "stream",
     "text": [
      "Best cross-validation accuracy: 0.68\n",
      "Best parameters: {'n_neighbors': 5}\n",
      "Train Set Score: 0.7526720821071394\n",
      "Test Set Score: 0.7901050528916339\n"
     ]
    }
   ],
   "source": [
    "print(\"Best cross-validation accuracy: {:.2f}\".format(grid_knn.best_score_))\n",
    "print(\"Best parameters: {}\".format(grid_knn.best_params_))\n",
    "print(\"Train Set Score: {}\".format(grid_knn.score(X_reduced_train, Y_train)))\n",
    "print(\"Test Set Score: {}\".format(grid_knn.score(X_reduced_test,Y_test)))"
   ]
  },
  {
   "cell_type": "code",
   "execution_count": 140,
   "metadata": {},
   "outputs": [],
   "source": [
    "report_table = report_table + [['KNN Regression', 'K = 5', grid_knn.score(X_reduced_train, Y_train), grid_knn.score(X_reduced_test,Y_test)]]"
   ]
  },
  {
   "cell_type": "markdown",
   "metadata": {},
   "source": [
    "### Model 3 : Ridge"
   ]
  },
  {
   "cell_type": "code",
   "execution_count": 141,
   "metadata": {},
   "outputs": [
    {
     "name": "stdout",
     "output_type": "stream",
     "text": [
      "Defined Parameters:\n",
      "{'alpha': [0.001, 0.003, 0.01, 0.03, 0.1, 0.3, 1, 3, 10, 30, 100, 300, 1000]}\n"
     ]
    }
   ],
   "source": [
    "from sklearn.linear_model import Ridge\n",
    "model_ridge = Ridge()\n",
    "param_ridge = {'alpha': [0.001,0.003,0.01,0.03,0.1,0.3,1,3,10,30,100,300,1000]}\n",
    "print(\"Defined Parameters:\\n{}\".format(param_ridge))\n"
   ]
  },
  {
   "cell_type": "code",
   "execution_count": 142,
   "metadata": {},
   "outputs": [
    {
     "data": {
      "text/plain": [
       "GridSearchCV(cv=5, error_score='raise',\n",
       "       estimator=Ridge(alpha=1.0, copy_X=True, fit_intercept=True, max_iter=None,\n",
       "   normalize=False, random_state=None, solver='auto', tol=0.001),\n",
       "       fit_params=None, iid=True, n_jobs=1,\n",
       "       param_grid={'alpha': [0.001, 0.003, 0.01, 0.03, 0.1, 0.3, 1, 3, 10, 30, 100, 300, 1000]},\n",
       "       pre_dispatch='2*n_jobs', refit=True, return_train_score=True,\n",
       "       scoring=None, verbose=0)"
      ]
     },
     "execution_count": 142,
     "metadata": {},
     "output_type": "execute_result"
    }
   ],
   "source": [
    "grid_ridge = GridSearchCV(estimator = model_ridge,param_grid = param_ridge, cv=5, return_train_score=True)\n",
    "grid_ridge.fit(X_reduced_train, Y_train)"
   ]
  },
  {
   "cell_type": "code",
   "execution_count": 144,
   "metadata": {},
   "outputs": [
    {
     "name": "stdout",
     "output_type": "stream",
     "text": [
      "Best cross-validation accuracy: 0.76\n",
      "Best parameters: {'alpha': 30}\n",
      "Train Set Score: 0.7155737976873424\n",
      "Test Set Score: 0.8480236010649\n"
     ]
    }
   ],
   "source": [
    "print(\"Best cross-validation accuracy: {:.2f}\".format(grid_ridge.best_score_))\n",
    "print(\"Best parameters: {}\".format(grid_ridge.best_params_))\n",
    "print(\"Train Set Score: {}\".format(grid_ridge.score(X_reduced_train, Y_train)))\n",
    "print(\"Test Set Score: {}\".format(grid_ridge.score(X_reduced_test, Y_test)))"
   ]
  },
  {
   "cell_type": "code",
   "execution_count": 145,
   "metadata": {},
   "outputs": [],
   "source": [
    "report_table = report_table + [['Ridge Regression', 'alpha = 0.3', grid_ridge.score(X_reduced_train, Y_train), grid_ridge.score(X_reduced_test,Y_test)]]"
   ]
  },
  {
   "cell_type": "markdown",
   "metadata": {},
   "source": [
    "### Model 4 : Lasso"
   ]
  },
  {
   "cell_type": "code",
   "execution_count": 146,
   "metadata": {},
   "outputs": [],
   "source": [
    "from  sklearn.linear_model import Lasso\n",
    "model_lasso = Lasso()\n"
   ]
  },
  {
   "cell_type": "code",
   "execution_count": 147,
   "metadata": {},
   "outputs": [
    {
     "name": "stdout",
     "output_type": "stream",
     "text": [
      "Defined Parameters:\n",
      "{'alpha': [0.001, 0.003, 0.01, 0.03, 0.1, 0.3, 1, 3, 10, 30, 100, 300, 1000]}\n"
     ]
    }
   ],
   "source": [
    "param_lasso = {'alpha': [0.001,0.003,0.01,0.03,0.1,0.3,1,3,10,30,100,300,1000]}\n",
    "print(\"Defined Parameters:\\n{}\".format(param_lasso))\n"
   ]
  },
  {
   "cell_type": "code",
   "execution_count": 148,
   "metadata": {},
   "outputs": [
    {
     "data": {
      "text/plain": [
       "GridSearchCV(cv=5, error_score='raise',\n",
       "       estimator=Lasso(alpha=1.0, copy_X=True, fit_intercept=True, max_iter=1000,\n",
       "   normalize=False, positive=False, precompute=False, random_state=None,\n",
       "   selection='cyclic', tol=0.0001, warm_start=False),\n",
       "       fit_params=None, iid=True, n_jobs=1,\n",
       "       param_grid={'alpha': [0.001, 0.003, 0.01, 0.03, 0.1, 0.3, 1, 3, 10, 30, 100, 300, 1000]},\n",
       "       pre_dispatch='2*n_jobs', refit=True, return_train_score=True,\n",
       "       scoring=None, verbose=0)"
      ]
     },
     "execution_count": 148,
     "metadata": {},
     "output_type": "execute_result"
    }
   ],
   "source": [
    "grid_lasso = GridSearchCV(model_lasso, param_grid = param_lasso, cv=5, return_train_score=True)\n",
    "grid_lasso.fit(X_reduced_train, Y_train)"
   ]
  },
  {
   "cell_type": "code",
   "execution_count": 149,
   "metadata": {},
   "outputs": [
    {
     "name": "stdout",
     "output_type": "stream",
     "text": [
      "Best cross-validation accuracy: 0.75\n",
      "Best parameters: {'alpha': 10}\n",
      "Train Set Score: 0.7196455951717282\n",
      "Test Set Score: 0.8695552272765593\n"
     ]
    }
   ],
   "source": [
    "print(\"Best cross-validation accuracy: {:.2f}\".format(grid_lasso.best_score_))\n",
    "print(\"Best parameters: {}\".format(grid_lasso.best_params_))\n",
    "print(\"Train Set Score: {}\".format(grid_lasso.score(X_reduced_train, Y_train)))\n",
    "print(\"Test Set Score: {}\".format(grid_lasso.score(X_reduced_test, Y_test)))"
   ]
  },
  {
   "cell_type": "code",
   "execution_count": 150,
   "metadata": {},
   "outputs": [],
   "source": [
    "report_table = report_table + [['Lasso Regression', 'alpha = 1', grid_lasso.score(X_reduced_train, Y_train), grid_lasso.score(X_reduced_test,Y_test)]]"
   ]
  },
  {
   "cell_type": "markdown",
   "metadata": {},
   "source": [
    "### Model 5 : Polynomial Regression"
   ]
  },
  {
   "cell_type": "code",
   "execution_count": 151,
   "metadata": {},
   "outputs": [],
   "source": [
    "from sklearn.preprocessing import PolynomialFeatures\n",
    "poly = PolynomialFeatures(degree=2)"
   ]
  },
  {
   "cell_type": "code",
   "execution_count": 152,
   "metadata": {},
   "outputs": [
    {
     "name": "stdout",
     "output_type": "stream",
     "text": [
      "Train Set Score: -11.06\n",
      "Test Set Score: -11.06\n"
     ]
    }
   ],
   "source": [
    "Train_Score_List = []\n",
    "Test_Score_List = []\n",
    "lreg_poly = LinearRegression()\n",
    "\n",
    "X_Train_Poly = poly.fit_transform(X_reduced_train)\n",
    "X_Test_Poly = poly.transform(X_reduced_test)\n",
    "PolCVScore = cross_val_score(lreg_poly, X_Train_Poly, Y_train, cv=5)\n",
    "lreg_poly.fit(X_Train_Poly,Y_train)\n",
    "Train_ScorePoly = lreg_poly.score(X_Test_Poly,Y_test)\n",
    "\n",
    "Train_ScorePoly = PolCVScore.mean()\n",
    "print(\"Train Set Score: {:.2f}\".format(PolCVScore.mean()))\n",
    "print(\"Test Set Score: {:.2f}\".format(Train_ScorePoly))"
   ]
  },
  {
   "cell_type": "code",
   "execution_count": 153,
   "metadata": {},
   "outputs": [],
   "source": [
    "report_table = report_table + [['Polynomial Regression', 'Degree = 2', PolCVScore.mean(), Train_ScorePoly]]"
   ]
  },
  {
   "cell_type": "markdown",
   "metadata": {},
   "source": [
    "### Model 6 : Stochastic Gradient Descent Regressor"
   ]
  },
  {
   "cell_type": "code",
   "execution_count": 154,
   "metadata": {},
   "outputs": [],
   "source": [
    "from sklearn.linear_model import SGDRegressor\n",
    "sgd_reg=SGDRegressor()\n"
   ]
  },
  {
   "cell_type": "code",
   "execution_count": 155,
   "metadata": {},
   "outputs": [
    {
     "name": "stdout",
     "output_type": "stream",
     "text": [
      "Defined Parameters:\n",
      "{'max_iter': [10, 100, 1000], 'learning_rate': ['optimal'], 'penalty': ['l1', 'l2'], 'random_state': [0]}\n"
     ]
    }
   ],
   "source": [
    "param_sgd = {'max_iter': [10, 100, 1000],'learning_rate':['optimal'], 'penalty' :['l1','l2'],'random_state':[0]}\n",
    "print(\"Defined Parameters:\\n{}\".format(param_sgd))\n"
   ]
  },
  {
   "cell_type": "code",
   "execution_count": 156,
   "metadata": {},
   "outputs": [
    {
     "data": {
      "text/plain": [
       "GridSearchCV(cv=5, error_score='raise',\n",
       "       estimator=SGDRegressor(alpha=0.0001, average=False, epsilon=0.1, eta0=0.01,\n",
       "       fit_intercept=True, l1_ratio=0.15, learning_rate='invscaling',\n",
       "       loss='squared_loss', max_iter=None, n_iter=None, penalty='l2',\n",
       "       power_t=0.25, random_state=None, shuffle=True, tol=None, verbose=0,\n",
       "       warm_start=False),\n",
       "       fit_params=None, iid=True, n_jobs=1,\n",
       "       param_grid={'max_iter': [10, 100, 1000], 'learning_rate': ['optimal'], 'penalty': ['l1', 'l2'], 'random_state': [0]},\n",
       "       pre_dispatch='2*n_jobs', refit=True, return_train_score=True,\n",
       "       scoring=None, verbose=0)"
      ]
     },
     "execution_count": 156,
     "metadata": {},
     "output_type": "execute_result"
    }
   ],
   "source": [
    "grid_sgd = GridSearchCV(estimator = sgd_reg, param_grid = param_sgd, cv=5, return_train_score=True)\n",
    "grid_sgd.fit(X_reduced_train, Y_train)"
   ]
  },
  {
   "cell_type": "code",
   "execution_count": 157,
   "metadata": {},
   "outputs": [
    {
     "name": "stdout",
     "output_type": "stream",
     "text": [
      "Best parameters: {'learning_rate': 'optimal', 'max_iter': 1000, 'penalty': 'l2', 'random_state': 0}\n"
     ]
    },
    {
     "data": {
      "text/html": [
       "<div>\n",
       "<style scoped>\n",
       "    .dataframe tbody tr th:only-of-type {\n",
       "        vertical-align: middle;\n",
       "    }\n",
       "\n",
       "    .dataframe tbody tr th {\n",
       "        vertical-align: top;\n",
       "    }\n",
       "\n",
       "    .dataframe thead th {\n",
       "        text-align: right;\n",
       "    }\n",
       "</style>\n",
       "<table border=\"1\" class=\"dataframe\">\n",
       "  <thead>\n",
       "    <tr style=\"text-align: right;\">\n",
       "      <th></th>\n",
       "      <th>params</th>\n",
       "      <th>mean_train_score</th>\n",
       "      <th>mean_test_score</th>\n",
       "    </tr>\n",
       "  </thead>\n",
       "  <tbody>\n",
       "    <tr>\n",
       "      <th>0</th>\n",
       "      <td>{'learning_rate': 'optimal', 'max_iter': 10, '...</td>\n",
       "      <td>-8.317695e+18</td>\n",
       "      <td>-1.148846e+19</td>\n",
       "    </tr>\n",
       "    <tr>\n",
       "      <th>1</th>\n",
       "      <td>{'learning_rate': 'optimal', 'max_iter': 10, '...</td>\n",
       "      <td>-1.942975e+19</td>\n",
       "      <td>-1.427516e+19</td>\n",
       "    </tr>\n",
       "    <tr>\n",
       "      <th>2</th>\n",
       "      <td>{'learning_rate': 'optimal', 'max_iter': 100, ...</td>\n",
       "      <td>2.363664e-01</td>\n",
       "      <td>-1.430803e-01</td>\n",
       "    </tr>\n",
       "    <tr>\n",
       "      <th>3</th>\n",
       "      <td>{'learning_rate': 'optimal', 'max_iter': 100, ...</td>\n",
       "      <td>2.380991e-01</td>\n",
       "      <td>-1.391090e-01</td>\n",
       "    </tr>\n",
       "    <tr>\n",
       "      <th>4</th>\n",
       "      <td>{'learning_rate': 'optimal', 'max_iter': 1000,...</td>\n",
       "      <td>7.462204e-01</td>\n",
       "      <td>6.965899e-01</td>\n",
       "    </tr>\n",
       "    <tr>\n",
       "      <th>5</th>\n",
       "      <td>{'learning_rate': 'optimal', 'max_iter': 1000,...</td>\n",
       "      <td>7.461487e-01</td>\n",
       "      <td>6.986019e-01</td>\n",
       "    </tr>\n",
       "  </tbody>\n",
       "</table>\n",
       "</div>"
      ],
      "text/plain": [
       "                                              params  mean_train_score  \\\n",
       "0  {'learning_rate': 'optimal', 'max_iter': 10, '...     -8.317695e+18   \n",
       "1  {'learning_rate': 'optimal', 'max_iter': 10, '...     -1.942975e+19   \n",
       "2  {'learning_rate': 'optimal', 'max_iter': 100, ...      2.363664e-01   \n",
       "3  {'learning_rate': 'optimal', 'max_iter': 100, ...      2.380991e-01   \n",
       "4  {'learning_rate': 'optimal', 'max_iter': 1000,...      7.462204e-01   \n",
       "5  {'learning_rate': 'optimal', 'max_iter': 1000,...      7.461487e-01   \n",
       "\n",
       "   mean_test_score  \n",
       "0    -1.148846e+19  \n",
       "1    -1.427516e+19  \n",
       "2    -1.430803e-01  \n",
       "3    -1.391090e-01  \n",
       "4     6.965899e-01  \n",
       "5     6.986019e-01  "
      ]
     },
     "execution_count": 157,
     "metadata": {},
     "output_type": "execute_result"
    }
   ],
   "source": [
    "print(\"Best parameters: {}\".format(grid_sgd.best_params_))\n",
    "grid_sgdata = pd.DataFrame(grid_sgd.cv_results_)\n",
    "grid_sgdata = grid_sgdata[['params','mean_train_score','mean_test_score']]\n",
    "grid_sgdata"
   ]
  },
  {
   "cell_type": "code",
   "execution_count": 158,
   "metadata": {},
   "outputs": [
    {
     "name": "stdout",
     "output_type": "stream",
     "text": [
      "Best cross-validation accuracy: 0.70\n",
      "Best parameters: {'learning_rate': 'optimal', 'max_iter': 1000, 'penalty': 'l2', 'random_state': 0}\n",
      "Train Set Score: 0.733204279914102\n",
      "Test Set Score: 0.9128464234185029\n"
     ]
    }
   ],
   "source": [
    "print(\"Best cross-validation accuracy: {:.2f}\".format(grid_sgd.best_score_))\n",
    "print(\"Best parameters: {}\".format(grid_sgd.best_params_))\n",
    "print(\"Train Set Score: {}\".format(grid_sgd.score(X_reduced_train, Y_train)))\n",
    "print(\"Test Set Score: {}\".format(grid_sgd.score(X_reduced_test, Y_test)))"
   ]
  },
  {
   "cell_type": "code",
   "execution_count": 159,
   "metadata": {},
   "outputs": [],
   "source": [
    "report_table = report_table + [['SGD Regression', grid_sgd.best_params_, grid_sgd.score(X_reduced_train, Y_train), grid_sgd.score(X_reduced_test, Y_test)]]"
   ]
  },
  {
   "cell_type": "markdown",
   "metadata": {},
   "source": [
    "### Model 7 : Linear SVR"
   ]
  },
  {
   "cell_type": "code",
   "execution_count": 160,
   "metadata": {},
   "outputs": [
    {
     "name": "stdout",
     "output_type": "stream",
     "text": [
      "Defined Parameters:\n",
      "{'C': [0.001, 0.01, 0.1, 1, 10, 100, 1000]}\n"
     ]
    }
   ],
   "source": [
    "from sklearn.svm import LinearSVR\n",
    "model_LSVM = LinearSVR()\n",
    "param_LSVM = {'C':[0.001, 0.01, 0.1, 1, 10, 100, 1000]}\n",
    "print(\"Defined Parameters:\\n{}\".format(param_LSVM))\n"
   ]
  },
  {
   "cell_type": "code",
   "execution_count": 161,
   "metadata": {},
   "outputs": [
    {
     "data": {
      "text/plain": [
       "GridSearchCV(cv=5, error_score='raise',\n",
       "       estimator=LinearSVR(C=1.0, dual=True, epsilon=0.0, fit_intercept=True,\n",
       "     intercept_scaling=1.0, loss='epsilon_insensitive', max_iter=1000,\n",
       "     random_state=None, tol=0.0001, verbose=0),\n",
       "       fit_params=None, iid=True, n_jobs=1,\n",
       "       param_grid={'C': [0.001, 0.01, 0.1, 1, 10, 100, 1000]},\n",
       "       pre_dispatch='2*n_jobs', refit=True, return_train_score=True,\n",
       "       scoring=None, verbose=0)"
      ]
     },
     "execution_count": 161,
     "metadata": {},
     "output_type": "execute_result"
    }
   ],
   "source": [
    "grid_LSVM = GridSearchCV(model_LSVM, param_grid = param_LSVM, cv=5, return_train_score=True)\n",
    "grid_LSVM.fit(X_reduced_train, Y_train)"
   ]
  },
  {
   "cell_type": "code",
   "execution_count": 162,
   "metadata": {},
   "outputs": [
    {
     "name": "stdout",
     "output_type": "stream",
     "text": [
      "Best parameters: {'C': 1000}\n"
     ]
    },
    {
     "data": {
      "text/html": [
       "<div>\n",
       "<style scoped>\n",
       "    .dataframe tbody tr th:only-of-type {\n",
       "        vertical-align: middle;\n",
       "    }\n",
       "\n",
       "    .dataframe tbody tr th {\n",
       "        vertical-align: top;\n",
       "    }\n",
       "\n",
       "    .dataframe thead th {\n",
       "        text-align: right;\n",
       "    }\n",
       "</style>\n",
       "<table border=\"1\" class=\"dataframe\">\n",
       "  <thead>\n",
       "    <tr style=\"text-align: right;\">\n",
       "      <th></th>\n",
       "      <th>params</th>\n",
       "      <th>mean_train_score</th>\n",
       "      <th>mean_test_score</th>\n",
       "    </tr>\n",
       "  </thead>\n",
       "  <tbody>\n",
       "    <tr>\n",
       "      <th>0</th>\n",
       "      <td>{'C': 0.001}</td>\n",
       "      <td>-0.135029</td>\n",
       "      <td>-0.154432</td>\n",
       "    </tr>\n",
       "    <tr>\n",
       "      <th>1</th>\n",
       "      <td>{'C': 0.01}</td>\n",
       "      <td>-0.129255</td>\n",
       "      <td>-0.147763</td>\n",
       "    </tr>\n",
       "    <tr>\n",
       "      <th>2</th>\n",
       "      <td>{'C': 0.1}</td>\n",
       "      <td>-0.096286</td>\n",
       "      <td>-0.109765</td>\n",
       "    </tr>\n",
       "    <tr>\n",
       "      <th>3</th>\n",
       "      <td>{'C': 1}</td>\n",
       "      <td>0.098070</td>\n",
       "      <td>0.111845</td>\n",
       "    </tr>\n",
       "    <tr>\n",
       "      <th>4</th>\n",
       "      <td>{'C': 10}</td>\n",
       "      <td>0.630721</td>\n",
       "      <td>0.699041</td>\n",
       "    </tr>\n",
       "    <tr>\n",
       "      <th>5</th>\n",
       "      <td>{'C': 100}</td>\n",
       "      <td>0.710876</td>\n",
       "      <td>0.767557</td>\n",
       "    </tr>\n",
       "    <tr>\n",
       "      <th>6</th>\n",
       "      <td>{'C': 1000}</td>\n",
       "      <td>0.713595</td>\n",
       "      <td>0.770457</td>\n",
       "    </tr>\n",
       "  </tbody>\n",
       "</table>\n",
       "</div>"
      ],
      "text/plain": [
       "         params  mean_train_score  mean_test_score\n",
       "0  {'C': 0.001}         -0.135029        -0.154432\n",
       "1   {'C': 0.01}         -0.129255        -0.147763\n",
       "2    {'C': 0.1}         -0.096286        -0.109765\n",
       "3      {'C': 1}          0.098070         0.111845\n",
       "4     {'C': 10}          0.630721         0.699041\n",
       "5    {'C': 100}          0.710876         0.767557\n",
       "6   {'C': 1000}          0.713595         0.770457"
      ]
     },
     "execution_count": 162,
     "metadata": {},
     "output_type": "execute_result"
    }
   ],
   "source": [
    "print(\"Best parameters: {}\".format(grid_LSVM.best_params_))\n",
    "grid_LSVMdata = pd.DataFrame(grid_LSVM.cv_results_)\n",
    "grid_LSVMdata = grid_LSVMdata[['params','mean_train_score','mean_test_score']]\n",
    "grid_LSVMdata\n"
   ]
  },
  {
   "cell_type": "code",
   "execution_count": 163,
   "metadata": {},
   "outputs": [
    {
     "name": "stdout",
     "output_type": "stream",
     "text": [
      "Best cross-validation accuracy: 0.77\n",
      "Best parameters: {'C': 1000}\n",
      "Train Set Score: 0.7076496869337114\n",
      "Test Set Score: 0.8445798496091271\n"
     ]
    }
   ],
   "source": [
    "print(\"Best cross-validation accuracy: {:.2f}\".format(grid_LSVM.best_score_))\n",
    "print(\"Best parameters: {}\".format(grid_LSVM.best_params_))\n",
    "print(\"Train Set Score: {}\".format(grid_LSVM.score(X_reduced_train, Y_train)))\n",
    "print(\"Test Set Score: {}\".format(grid_LSVM.score(X_reduced_test, Y_test)))"
   ]
  },
  {
   "cell_type": "code",
   "execution_count": 164,
   "metadata": {},
   "outputs": [],
   "source": [
    "report_table = report_table + [['Linear SVM', grid_LSVM.best_params_, grid_LSVM.score(X_reduced_train, Y_train), grid_LSVM.score(X_reduced_test, Y_test)]]"
   ]
  },
  {
   "cell_type": "markdown",
   "metadata": {},
   "source": [
    "### Model 8 : SVM Kernel ' rbf '"
   ]
  },
  {
   "cell_type": "code",
   "execution_count": 165,
   "metadata": {},
   "outputs": [
    {
     "name": "stdout",
     "output_type": "stream",
     "text": [
      "Defined Parameters:\n",
      "{'C': [0.001, 0.01, 0.1, 1, 10, 100], 'gamma': [0.001, 0.01, 0.1, 1, 10, 100]}\n"
     ]
    }
   ],
   "source": [
    "from sklearn.svm import SVR\n",
    "model_RadSVM = SVR(kernel = 'rbf')\n",
    "param_RadSVM = {'C': [0.001, 0.01, 0.1, 1, 10, 100],'gamma': [0.001, 0.01, 0.1, 1, 10, 100]}\n",
    "print(\"Defined Parameters:\\n{}\".format(param_RadSVM))\n"
   ]
  },
  {
   "cell_type": "code",
   "execution_count": 166,
   "metadata": {},
   "outputs": [
    {
     "data": {
      "text/plain": [
       "GridSearchCV(cv=5, error_score='raise',\n",
       "       estimator=SVR(C=1.0, cache_size=200, coef0=0.0, degree=3, epsilon=0.1, gamma='auto',\n",
       "  kernel='rbf', max_iter=-1, shrinking=True, tol=0.001, verbose=False),\n",
       "       fit_params=None, iid=True, n_jobs=1,\n",
       "       param_grid={'C': [0.001, 0.01, 0.1, 1, 10, 100], 'gamma': [0.001, 0.01, 0.1, 1, 10, 100]},\n",
       "       pre_dispatch='2*n_jobs', refit=True, return_train_score=True,\n",
       "       scoring=None, verbose=0)"
      ]
     },
     "execution_count": 166,
     "metadata": {},
     "output_type": "execute_result"
    }
   ],
   "source": [
    "grid_RadSVM = GridSearchCV(model_RadSVM, param_grid = param_RadSVM, cv=5, return_train_score=True)\n",
    "grid_RadSVM.fit(X_reduced_train, Y_train)"
   ]
  },
  {
   "cell_type": "code",
   "execution_count": 167,
   "metadata": {},
   "outputs": [
    {
     "name": "stdout",
     "output_type": "stream",
     "text": [
      "Best parameters: {'C': 100, 'gamma': 0.1}\n"
     ]
    },
    {
     "data": {
      "text/html": [
       "<div>\n",
       "<style scoped>\n",
       "    .dataframe tbody tr th:only-of-type {\n",
       "        vertical-align: middle;\n",
       "    }\n",
       "\n",
       "    .dataframe tbody tr th {\n",
       "        vertical-align: top;\n",
       "    }\n",
       "\n",
       "    .dataframe thead th {\n",
       "        text-align: right;\n",
       "    }\n",
       "</style>\n",
       "<table border=\"1\" class=\"dataframe\">\n",
       "  <thead>\n",
       "    <tr style=\"text-align: right;\">\n",
       "      <th></th>\n",
       "      <th>params</th>\n",
       "      <th>mean_train_score</th>\n",
       "      <th>mean_test_score</th>\n",
       "    </tr>\n",
       "  </thead>\n",
       "  <tbody>\n",
       "    <tr>\n",
       "      <th>0</th>\n",
       "      <td>{'C': 0.001, 'gamma': 0.001}</td>\n",
       "      <td>-0.097987</td>\n",
       "      <td>-0.111599</td>\n",
       "    </tr>\n",
       "    <tr>\n",
       "      <th>1</th>\n",
       "      <td>{'C': 0.001, 'gamma': 0.01}</td>\n",
       "      <td>-0.097983</td>\n",
       "      <td>-0.111594</td>\n",
       "    </tr>\n",
       "    <tr>\n",
       "      <th>2</th>\n",
       "      <td>{'C': 0.001, 'gamma': 0.1}</td>\n",
       "      <td>-0.097972</td>\n",
       "      <td>-0.111583</td>\n",
       "    </tr>\n",
       "    <tr>\n",
       "      <th>3</th>\n",
       "      <td>{'C': 0.001, 'gamma': 1}</td>\n",
       "      <td>-0.097974</td>\n",
       "      <td>-0.111583</td>\n",
       "    </tr>\n",
       "    <tr>\n",
       "      <th>4</th>\n",
       "      <td>{'C': 0.001, 'gamma': 10}</td>\n",
       "      <td>-0.097940</td>\n",
       "      <td>-0.111547</td>\n",
       "    </tr>\n",
       "    <tr>\n",
       "      <th>5</th>\n",
       "      <td>{'C': 0.001, 'gamma': 100}</td>\n",
       "      <td>-0.097930</td>\n",
       "      <td>-0.111537</td>\n",
       "    </tr>\n",
       "    <tr>\n",
       "      <th>6</th>\n",
       "      <td>{'C': 0.01, 'gamma': 0.001}</td>\n",
       "      <td>-0.097983</td>\n",
       "      <td>-0.111594</td>\n",
       "    </tr>\n",
       "    <tr>\n",
       "      <th>7</th>\n",
       "      <td>{'C': 0.01, 'gamma': 0.01}</td>\n",
       "      <td>-0.097947</td>\n",
       "      <td>-0.111553</td>\n",
       "    </tr>\n",
       "    <tr>\n",
       "      <th>8</th>\n",
       "      <td>{'C': 0.01, 'gamma': 0.1}</td>\n",
       "      <td>-0.097836</td>\n",
       "      <td>-0.111437</td>\n",
       "    </tr>\n",
       "    <tr>\n",
       "      <th>9</th>\n",
       "      <td>{'C': 0.01, 'gamma': 1}</td>\n",
       "      <td>-0.097857</td>\n",
       "      <td>-0.111436</td>\n",
       "    </tr>\n",
       "    <tr>\n",
       "      <th>10</th>\n",
       "      <td>{'C': 0.01, 'gamma': 10}</td>\n",
       "      <td>-0.097520</td>\n",
       "      <td>-0.111076</td>\n",
       "    </tr>\n",
       "    <tr>\n",
       "      <th>11</th>\n",
       "      <td>{'C': 0.01, 'gamma': 100}</td>\n",
       "      <td>-0.097486</td>\n",
       "      <td>-0.111054</td>\n",
       "    </tr>\n",
       "    <tr>\n",
       "      <th>12</th>\n",
       "      <td>{'C': 0.1, 'gamma': 0.001}</td>\n",
       "      <td>-0.097941</td>\n",
       "      <td>-0.111546</td>\n",
       "    </tr>\n",
       "    <tr>\n",
       "      <th>13</th>\n",
       "      <td>{'C': 0.1, 'gamma': 0.01}</td>\n",
       "      <td>-0.097582</td>\n",
       "      <td>-0.111141</td>\n",
       "    </tr>\n",
       "    <tr>\n",
       "      <th>14</th>\n",
       "      <td>{'C': 0.1, 'gamma': 0.1}</td>\n",
       "      <td>-0.096362</td>\n",
       "      <td>-0.109881</td>\n",
       "    </tr>\n",
       "    <tr>\n",
       "      <th>15</th>\n",
       "      <td>{'C': 0.1, 'gamma': 1}</td>\n",
       "      <td>-0.096066</td>\n",
       "      <td>-0.109268</td>\n",
       "    </tr>\n",
       "    <tr>\n",
       "      <th>16</th>\n",
       "      <td>{'C': 0.1, 'gamma': 10}</td>\n",
       "      <td>-0.093513</td>\n",
       "      <td>-0.106504</td>\n",
       "    </tr>\n",
       "    <tr>\n",
       "      <th>17</th>\n",
       "      <td>{'C': 0.1, 'gamma': 100}</td>\n",
       "      <td>-0.093684</td>\n",
       "      <td>-0.107038</td>\n",
       "    </tr>\n",
       "    <tr>\n",
       "      <th>18</th>\n",
       "      <td>{'C': 1, 'gamma': 0.001}</td>\n",
       "      <td>-0.097522</td>\n",
       "      <td>-0.111067</td>\n",
       "    </tr>\n",
       "    <tr>\n",
       "      <th>19</th>\n",
       "      <td>{'C': 1, 'gamma': 0.01}</td>\n",
       "      <td>-0.093788</td>\n",
       "      <td>-0.106867</td>\n",
       "    </tr>\n",
       "    <tr>\n",
       "      <th>20</th>\n",
       "      <td>{'C': 1, 'gamma': 0.1}</td>\n",
       "      <td>-0.077129</td>\n",
       "      <td>-0.088671</td>\n",
       "    </tr>\n",
       "    <tr>\n",
       "      <th>21</th>\n",
       "      <td>{'C': 1, 'gamma': 1}</td>\n",
       "      <td>-0.062226</td>\n",
       "      <td>-0.069214</td>\n",
       "    </tr>\n",
       "    <tr>\n",
       "      <th>22</th>\n",
       "      <td>{'C': 1, 'gamma': 10}</td>\n",
       "      <td>-0.064446</td>\n",
       "      <td>-0.073384</td>\n",
       "    </tr>\n",
       "    <tr>\n",
       "      <th>23</th>\n",
       "      <td>{'C': 1, 'gamma': 100}</td>\n",
       "      <td>-0.072518</td>\n",
       "      <td>-0.084394</td>\n",
       "    </tr>\n",
       "    <tr>\n",
       "      <th>24</th>\n",
       "      <td>{'C': 10, 'gamma': 0.001}</td>\n",
       "      <td>-0.093186</td>\n",
       "      <td>-0.106131</td>\n",
       "    </tr>\n",
       "    <tr>\n",
       "      <th>25</th>\n",
       "      <td>{'C': 10, 'gamma': 0.01}</td>\n",
       "      <td>-0.052687</td>\n",
       "      <td>-0.059885</td>\n",
       "    </tr>\n",
       "    <tr>\n",
       "      <th>26</th>\n",
       "      <td>{'C': 10, 'gamma': 0.1}</td>\n",
       "      <td>0.107432</td>\n",
       "      <td>0.113531</td>\n",
       "    </tr>\n",
       "    <tr>\n",
       "      <th>27</th>\n",
       "      <td>{'C': 10, 'gamma': 1}</td>\n",
       "      <td>0.119021</td>\n",
       "      <td>0.137374</td>\n",
       "    </tr>\n",
       "    <tr>\n",
       "      <th>28</th>\n",
       "      <td>{'C': 10, 'gamma': 10}</td>\n",
       "      <td>0.011473</td>\n",
       "      <td>0.010475</td>\n",
       "    </tr>\n",
       "    <tr>\n",
       "      <th>29</th>\n",
       "      <td>{'C': 10, 'gamma': 100}</td>\n",
       "      <td>-0.038038</td>\n",
       "      <td>-0.056333</td>\n",
       "    </tr>\n",
       "    <tr>\n",
       "      <th>30</th>\n",
       "      <td>{'C': 100, 'gamma': 0.001}</td>\n",
       "      <td>-0.047781</td>\n",
       "      <td>-0.053883</td>\n",
       "    </tr>\n",
       "    <tr>\n",
       "      <th>31</th>\n",
       "      <td>{'C': 100, 'gamma': 0.01}</td>\n",
       "      <td>0.253170</td>\n",
       "      <td>0.284195</td>\n",
       "    </tr>\n",
       "    <tr>\n",
       "      <th>32</th>\n",
       "      <td>{'C': 100, 'gamma': 0.1}</td>\n",
       "      <td>0.477936</td>\n",
       "      <td>0.505234</td>\n",
       "    </tr>\n",
       "    <tr>\n",
       "      <th>33</th>\n",
       "      <td>{'C': 100, 'gamma': 1}</td>\n",
       "      <td>0.288638</td>\n",
       "      <td>0.289782</td>\n",
       "    </tr>\n",
       "    <tr>\n",
       "      <th>34</th>\n",
       "      <td>{'C': 100, 'gamma': 10}</td>\n",
       "      <td>0.186548</td>\n",
       "      <td>0.152524</td>\n",
       "    </tr>\n",
       "    <tr>\n",
       "      <th>35</th>\n",
       "      <td>{'C': 100, 'gamma': 100}</td>\n",
       "      <td>0.120456</td>\n",
       "      <td>0.048125</td>\n",
       "    </tr>\n",
       "  </tbody>\n",
       "</table>\n",
       "</div>"
      ],
      "text/plain": [
       "                          params  mean_train_score  mean_test_score\n",
       "0   {'C': 0.001, 'gamma': 0.001}         -0.097987        -0.111599\n",
       "1    {'C': 0.001, 'gamma': 0.01}         -0.097983        -0.111594\n",
       "2     {'C': 0.001, 'gamma': 0.1}         -0.097972        -0.111583\n",
       "3       {'C': 0.001, 'gamma': 1}         -0.097974        -0.111583\n",
       "4      {'C': 0.001, 'gamma': 10}         -0.097940        -0.111547\n",
       "5     {'C': 0.001, 'gamma': 100}         -0.097930        -0.111537\n",
       "6    {'C': 0.01, 'gamma': 0.001}         -0.097983        -0.111594\n",
       "7     {'C': 0.01, 'gamma': 0.01}         -0.097947        -0.111553\n",
       "8      {'C': 0.01, 'gamma': 0.1}         -0.097836        -0.111437\n",
       "9        {'C': 0.01, 'gamma': 1}         -0.097857        -0.111436\n",
       "10      {'C': 0.01, 'gamma': 10}         -0.097520        -0.111076\n",
       "11     {'C': 0.01, 'gamma': 100}         -0.097486        -0.111054\n",
       "12    {'C': 0.1, 'gamma': 0.001}         -0.097941        -0.111546\n",
       "13     {'C': 0.1, 'gamma': 0.01}         -0.097582        -0.111141\n",
       "14      {'C': 0.1, 'gamma': 0.1}         -0.096362        -0.109881\n",
       "15        {'C': 0.1, 'gamma': 1}         -0.096066        -0.109268\n",
       "16       {'C': 0.1, 'gamma': 10}         -0.093513        -0.106504\n",
       "17      {'C': 0.1, 'gamma': 100}         -0.093684        -0.107038\n",
       "18      {'C': 1, 'gamma': 0.001}         -0.097522        -0.111067\n",
       "19       {'C': 1, 'gamma': 0.01}         -0.093788        -0.106867\n",
       "20        {'C': 1, 'gamma': 0.1}         -0.077129        -0.088671\n",
       "21          {'C': 1, 'gamma': 1}         -0.062226        -0.069214\n",
       "22         {'C': 1, 'gamma': 10}         -0.064446        -0.073384\n",
       "23        {'C': 1, 'gamma': 100}         -0.072518        -0.084394\n",
       "24     {'C': 10, 'gamma': 0.001}         -0.093186        -0.106131\n",
       "25      {'C': 10, 'gamma': 0.01}         -0.052687        -0.059885\n",
       "26       {'C': 10, 'gamma': 0.1}          0.107432         0.113531\n",
       "27         {'C': 10, 'gamma': 1}          0.119021         0.137374\n",
       "28        {'C': 10, 'gamma': 10}          0.011473         0.010475\n",
       "29       {'C': 10, 'gamma': 100}         -0.038038        -0.056333\n",
       "30    {'C': 100, 'gamma': 0.001}         -0.047781        -0.053883\n",
       "31     {'C': 100, 'gamma': 0.01}          0.253170         0.284195\n",
       "32      {'C': 100, 'gamma': 0.1}          0.477936         0.505234\n",
       "33        {'C': 100, 'gamma': 1}          0.288638         0.289782\n",
       "34       {'C': 100, 'gamma': 10}          0.186548         0.152524\n",
       "35      {'C': 100, 'gamma': 100}          0.120456         0.048125"
      ]
     },
     "execution_count": 167,
     "metadata": {},
     "output_type": "execute_result"
    }
   ],
   "source": [
    "print(\"Best parameters: {}\".format(grid_RadSVM.best_params_))\n",
    "grid_RadSVMdata = pd.DataFrame(grid_RadSVM.cv_results_)\n",
    "grid_RadSVMdata = grid_RadSVMdata[['params','mean_train_score','mean_test_score']]\n",
    "grid_RadSVMdata\n"
   ]
  },
  {
   "cell_type": "code",
   "execution_count": 168,
   "metadata": {},
   "outputs": [
    {
     "name": "stdout",
     "output_type": "stream",
     "text": [
      "Best cross-validation accuracy: 0.51\n",
      "Best parameters: {'C': 100, 'gamma': 0.1}\n",
      "Train Set Score: 0.4916562148851975\n",
      "Test Set Score: 0.33845425365535764\n"
     ]
    }
   ],
   "source": [
    "print(\"Best cross-validation accuracy: {:.2f}\".format(grid_RadSVM.best_score_))\n",
    "print(\"Best parameters: {}\".format(grid_RadSVM.best_params_))\n",
    "print(\"Train Set Score: {}\".format(grid_RadSVM.score(X_reduced_train, Y_train)))\n",
    "print(\"Test Set Score: {}\".format(grid_RadSVM.score(X_reduced_test, Y_test)))"
   ]
  },
  {
   "cell_type": "code",
   "execution_count": 169,
   "metadata": {},
   "outputs": [],
   "source": [
    "report_table = report_table + [['SVM kernel Rbf', grid_RadSVM.best_params_, grid_RadSVM.score(X_reduced_train, Y_train), grid_RadSVM.score(X_reduced_test, Y_test)]]"
   ]
  },
  {
   "cell_type": "markdown",
   "metadata": {},
   "source": [
    "### Model 9 : SVM Kernel 'poly' "
   ]
  },
  {
   "cell_type": "code",
   "execution_count": 170,
   "metadata": {},
   "outputs": [
    {
     "name": "stdout",
     "output_type": "stream",
     "text": [
      "Defined Parameters:\n",
      "{'C': [0.001, 0.01, 0.1, 1, 10, 100], 'gamma': [0.001, 0.01, 0.1, 1, 10, 100]}\n"
     ]
    }
   ],
   "source": [
    "from sklearn.model_selection import GridSearchCV\n",
    "from sklearn.svm import SVR\n",
    "model_PolySVM = SVR(kernel = 'poly', degree = 2)\n",
    "param_PolySVM = {'C': [0.001, 0.01, 0.1, 1, 10, 100],'gamma': [0.001, 0.01, 0.1, 1, 10, 100]}\n",
    "print(\"Defined Parameters:\\n{}\".format(param_PolySVM))\n"
   ]
  },
  {
   "cell_type": "code",
   "execution_count": null,
   "metadata": {},
   "outputs": [],
   "source": [
    "# grid_PolySVM = GridSearchCV(model_PolySVM, param_grid = param_PolySVM, cv=5, return_train_score=True)\n",
    "# grid_PolySVM.fit(X_reduced_train, Y_train)"
   ]
  },
  {
   "cell_type": "code",
   "execution_count": null,
   "metadata": {},
   "outputs": [],
   "source": [
    "# print(\"Best parameters: {}\".format(grid_PolySVM.best_params_))\n",
    "# grid_PolySVMdata = pd.DataFrame(grid_PolySVM.cv_results_)\n",
    "# grid_PolySVMdata = grid_PolySVMdata[['params','mean_train_score','mean_test_score']]\n",
    "# grid_PolySVMdata\n"
   ]
  },
  {
   "cell_type": "code",
   "execution_count": null,
   "metadata": {},
   "outputs": [],
   "source": [
    "# print(\"Best cross-validation accuracy: {:.2f}\".format(grid_PolySVM.best_score_))\n",
    "# print(\"Best parameters: {}\".format(grid_PolySVM.best_params_))\n",
    "# print(\"Train Set Score: {}\".format(grid_PolySVM.score(X_reduced_train, Y_train)))\n",
    "# print(\"Test Set Score: {}\".format(grid_PolySVM.score(X_reduced_test, Y_test)))"
   ]
  },
  {
   "cell_type": "code",
   "execution_count": null,
   "metadata": {},
   "outputs": [],
   "source": [
    "# report_table = report_table + [['SVM kernel Poly', grid_PolySVM.best_params_, grid_PolySVM.score(X_reduced_train, Y_train), grid_PolySVM.score(X_reduced_test, Y_test)]]"
   ]
  },
  {
   "cell_type": "code",
   "execution_count": 171,
   "metadata": {
    "scrolled": false
   },
   "outputs": [
    {
     "data": {
      "text/html": [
       "<div>\n",
       "<style scoped>\n",
       "    .dataframe tbody tr th:only-of-type {\n",
       "        vertical-align: middle;\n",
       "    }\n",
       "\n",
       "    .dataframe tbody tr th {\n",
       "        vertical-align: top;\n",
       "    }\n",
       "\n",
       "    .dataframe thead th {\n",
       "        text-align: right;\n",
       "    }\n",
       "</style>\n",
       "<table border=\"1\" class=\"dataframe\">\n",
       "  <thead>\n",
       "    <tr style=\"text-align: right;\">\n",
       "      <th></th>\n",
       "      <th>Model name</th>\n",
       "      <th>Model parameter</th>\n",
       "      <th>Train accuracy</th>\n",
       "      <th>Test accuracy</th>\n",
       "    </tr>\n",
       "  </thead>\n",
       "  <tbody>\n",
       "    <tr>\n",
       "      <th>0</th>\n",
       "      <td>Linear Regression</td>\n",
       "      <td>None</td>\n",
       "      <td>0.6713</td>\n",
       "      <td>0.9053</td>\n",
       "    </tr>\n",
       "    <tr>\n",
       "      <th>1</th>\n",
       "      <td>KNN Regression</td>\n",
       "      <td>K = 5</td>\n",
       "      <td>0.7527</td>\n",
       "      <td>0.7901</td>\n",
       "    </tr>\n",
       "    <tr>\n",
       "      <th>2</th>\n",
       "      <td>Ridge Regression</td>\n",
       "      <td>alpha = 0.3</td>\n",
       "      <td>0.7156</td>\n",
       "      <td>0.8480</td>\n",
       "    </tr>\n",
       "    <tr>\n",
       "      <th>3</th>\n",
       "      <td>Lasso Regression</td>\n",
       "      <td>alpha = 1</td>\n",
       "      <td>0.7196</td>\n",
       "      <td>0.8696</td>\n",
       "    </tr>\n",
       "    <tr>\n",
       "      <th>4</th>\n",
       "      <td>Polynomial Regression</td>\n",
       "      <td>Degree = 2</td>\n",
       "      <td>-11.0577</td>\n",
       "      <td>-11.0577</td>\n",
       "    </tr>\n",
       "    <tr>\n",
       "      <th>5</th>\n",
       "      <td>SGD Regression</td>\n",
       "      <td>{'learning_rate': 'optimal', 'max_iter': 1000,...</td>\n",
       "      <td>0.7332</td>\n",
       "      <td>0.9128</td>\n",
       "    </tr>\n",
       "    <tr>\n",
       "      <th>6</th>\n",
       "      <td>Linear SVM</td>\n",
       "      <td>{'C': 1000}</td>\n",
       "      <td>0.7076</td>\n",
       "      <td>0.8446</td>\n",
       "    </tr>\n",
       "    <tr>\n",
       "      <th>7</th>\n",
       "      <td>SVM kernel Rbf</td>\n",
       "      <td>{'C': 100, 'gamma': 0.1}</td>\n",
       "      <td>0.4917</td>\n",
       "      <td>0.3385</td>\n",
       "    </tr>\n",
       "  </tbody>\n",
       "</table>\n",
       "</div>"
      ],
      "text/plain": [
       "              Model name                                    Model parameter  \\\n",
       "0      Linear Regression                                               None   \n",
       "1         KNN Regression                                              K = 5   \n",
       "2       Ridge Regression                                        alpha = 0.3   \n",
       "3       Lasso Regression                                          alpha = 1   \n",
       "4  Polynomial Regression                                         Degree = 2   \n",
       "5         SGD Regression  {'learning_rate': 'optimal', 'max_iter': 1000,...   \n",
       "6             Linear SVM                                        {'C': 1000}   \n",
       "7         SVM kernel Rbf                           {'C': 100, 'gamma': 0.1}   \n",
       "\n",
       "  Train accuracy Test accuracy  \n",
       "0         0.6713        0.9053  \n",
       "1         0.7527        0.7901  \n",
       "2         0.7156        0.8480  \n",
       "3         0.7196        0.8696  \n",
       "4       -11.0577      -11.0577  \n",
       "5         0.7332        0.9128  \n",
       "6         0.7076        0.8446  \n",
       "7         0.4917        0.3385  "
      ]
     },
     "execution_count": 171,
     "metadata": {},
     "output_type": "execute_result"
    }
   ],
   "source": [
    "report = pd.DataFrame(report_table,columns = ['Model name', 'Model parameter', 'Train accuracy', 'Test accuracy'])\n",
    "report['Test accuracy']=report['Test accuracy'].apply(lambda x: '%.4f' % x)\n",
    "report['Train accuracy']=report['Train accuracy'].apply(lambda x: '%.4f' % x)\n",
    "# report['Train accuracy'].apply(lambda x: '%.4f' % x)\n",
    "report"
   ]
  },
  {
   "cell_type": "markdown",
   "metadata": {},
   "source": [
    "### Model with more accuracy score is SGD Regression"
   ]
  },
  {
   "cell_type": "code",
   "execution_count": 176,
   "metadata": {},
   "outputs": [
    {
     "data": {
      "text/plain": [
       "Model name                                            SGD Regression\n",
       "Model parameter    {'learning_rate': 'optimal', 'max_iter': 1000,...\n",
       "Train accuracy                                                0.7332\n",
       "Test accuracy                                                 0.9128\n",
       "Name: 5, dtype: object"
      ]
     },
     "execution_count": 176,
     "metadata": {},
     "output_type": "execute_result"
    }
   ],
   "source": [
    "report.iloc[5,:]"
   ]
  },
  {
   "cell_type": "markdown",
   "metadata": {
    "scrolled": true
   },
   "source": [
    "### Details of Model without applying PCA  \n",
    "#### Copied from Project 2 Table report"
   ]
  },
  {
   "cell_type": "code",
   "execution_count": 58,
   "metadata": {
    "scrolled": true
   },
   "outputs": [
    {
     "data": {
      "text/html": [
       "<div>\n",
       "<style scoped>\n",
       "    .dataframe tbody tr th:only-of-type {\n",
       "        vertical-align: middle;\n",
       "    }\n",
       "\n",
       "    .dataframe tbody tr th {\n",
       "        vertical-align: top;\n",
       "    }\n",
       "\n",
       "    .dataframe thead th {\n",
       "        text-align: right;\n",
       "    }\n",
       "</style>\n",
       "<table border=\"1\" class=\"dataframe\">\n",
       "  <thead>\n",
       "    <tr style=\"text-align: right;\">\n",
       "      <th></th>\n",
       "      <th>Model name</th>\n",
       "      <th>Model parameter</th>\n",
       "      <th>Train accuracy</th>\n",
       "      <th>Test accuracy</th>\n",
       "    </tr>\n",
       "  </thead>\n",
       "  <tbody>\n",
       "    <tr>\n",
       "      <th>0</th>\n",
       "      <td>Linear Regression</td>\n",
       "      <td>None</td>\n",
       "      <td>0.8987</td>\n",
       "      <td>0.9285</td>\n",
       "    </tr>\n",
       "    <tr>\n",
       "      <th>1</th>\n",
       "      <td>KNN Regression</td>\n",
       "      <td>K = 5</td>\n",
       "      <td>1.0000</td>\n",
       "      <td>0.8980</td>\n",
       "    </tr>\n",
       "    <tr>\n",
       "      <th>2</th>\n",
       "      <td>Ridge Regression</td>\n",
       "      <td>alpha = 0.3</td>\n",
       "      <td>0.9902</td>\n",
       "      <td>0.9336</td>\n",
       "    </tr>\n",
       "    <tr>\n",
       "      <th>3</th>\n",
       "      <td>Lasso Regression</td>\n",
       "      <td>alpha = 1</td>\n",
       "      <td>0.9905</td>\n",
       "      <td>0.9324</td>\n",
       "    </tr>\n",
       "    <tr>\n",
       "      <th>4</th>\n",
       "      <td>Polynomial Regression</td>\n",
       "      <td>Degree = 2</td>\n",
       "      <td>-33329.7795</td>\n",
       "      <td>-33329.7795</td>\n",
       "    </tr>\n",
       "    <tr>\n",
       "      <th>5</th>\n",
       "      <td>SGD Regression</td>\n",
       "      <td>{'learning_rate': 'optimal', 'max_iter': 1000,...</td>\n",
       "      <td>-17240453019.3461</td>\n",
       "      <td>-113425297454.2574</td>\n",
       "    </tr>\n",
       "    <tr>\n",
       "      <th>6</th>\n",
       "      <td>Linear SVM</td>\n",
       "      <td>{'C': 1000}</td>\n",
       "      <td>0.9651</td>\n",
       "      <td>0.9442</td>\n",
       "    </tr>\n",
       "    <tr>\n",
       "      <th>7</th>\n",
       "      <td>SVM kernel Rbf</td>\n",
       "      <td>{'C': 100, 'gamma': 0.1}</td>\n",
       "      <td>0.1540</td>\n",
       "      <td>0.5352</td>\n",
       "    </tr>\n",
       "  </tbody>\n",
       "</table>\n",
       "</div>"
      ],
      "text/plain": [
       "              Model name                                    Model parameter  \\\n",
       "0      Linear Regression                                               None   \n",
       "1         KNN Regression                                              K = 5   \n",
       "2       Ridge Regression                                        alpha = 0.3   \n",
       "3       Lasso Regression                                          alpha = 1   \n",
       "4  Polynomial Regression                                         Degree = 2   \n",
       "5         SGD Regression  {'learning_rate': 'optimal', 'max_iter': 1000,...   \n",
       "6             Linear SVM                                        {'C': 1000}   \n",
       "7         SVM kernel Rbf                           {'C': 100, 'gamma': 0.1}   \n",
       "\n",
       "      Train accuracy       Test accuracy  \n",
       "0             0.8987              0.9285  \n",
       "1             1.0000              0.8980  \n",
       "2             0.9902              0.9336  \n",
       "3             0.9905              0.9324  \n",
       "4        -33329.7795         -33329.7795  \n",
       "5  -17240453019.3461  -113425297454.2574  \n",
       "6             0.9651              0.9442  \n",
       "7             0.1540              0.5352  "
      ]
     },
     "execution_count": 58,
     "metadata": {},
     "output_type": "execute_result"
    }
   ],
   "source": []
  },
  {
   "cell_type": "markdown",
   "metadata": {},
   "source": [
    "#### On comparing both table reports we can say that applying PCA has not increased the accuracy of the models we used therefore we can confer that in our analysis of the dataset , PCA approach is not apt and we can consider using the original dataset without dimensionality reduction.\n"
   ]
  },
  {
   "cell_type": "markdown",
   "metadata": {},
   "source": [
    "## Deep Learning Networks"
   ]
  },
  {
   "cell_type": "code",
   "execution_count": null,
   "metadata": {},
   "outputs": [],
   "source": [
    "# from keras.models import Sequential\n",
    "# from keras.layers import Dense"
   ]
  },
  {
   "cell_type": "code",
   "execution_count": null,
   "metadata": {},
   "outputs": [],
   "source": [
    "# model1 = Sequential()\n",
    "# model1.add(Dense(5, input_dim=77, kernel_initializer='normal', activation='relu'))\n",
    "# model1.add(Dense(3, kernel_initializer = 'normal', activation = 'relu'))\n",
    "# model1.add(Dense(1, kernel_initializer='normal'))"
   ]
  },
  {
   "cell_type": "code",
   "execution_count": null,
   "metadata": {},
   "outputs": [],
   "source": [
    "# model1.compile(loss='mse', optimizer='adam' , metrics = ['mse'])"
   ]
  },
  {
   "cell_type": "code",
   "execution_count": null,
   "metadata": {},
   "outputs": [],
   "source": [
    "from keras.models import Sequential\n",
    "from keras.layers import Dense\n",
    "from keras.wrappers.scikit_learn import KerasRegressor\n",
    "from sklearn.metrics import r2_score, recall_score, precision_score"
   ]
  },
  {
   "cell_type": "code",
   "execution_count": null,
   "metadata": {},
   "outputs": [],
   "source": [
    "def create_model():\n",
    "    #create model\n",
    "    model = Sequential()\n",
    "    model.add(Dense(15, input_dim=77, kernel_initializer='normal', activation='relu'))\n",
    "    model.add(Dense(7, kernel_initializer = 'normal', activation = 'relu'))\n",
    "    model.add(Dense(1, kernel_initializer='normal'))\n",
    "    #compile model\n",
    "    model.compile(loss='mse', optimizer='adam' , metrics = ['mse'])\n",
    "    return model"
   ]
  },
  {
   "cell_type": "code",
   "execution_count": null,
   "metadata": {},
   "outputs": [],
   "source": [
    "model = KerasRegressor(build_fn = create_model, verbose = 0)\n",
    "\n",
    "param_grid = {'batch_size':[10,20,30,40] , 'epochs':[10, 50, 100],'random_state': [0]}\n",
    "grid_search = GridSearchCV(estimator= model, param_grid = param_grid, cv = 5)\n",
    "grid_search.fit(X_train, Y_train)"
   ]
  },
  {
   "cell_type": "code",
   "execution_count": null,
   "metadata": {},
   "outputs": [],
   "source": [
    "print(\"Best parameters: {}\".format(grid_search.best_params_))\n",
    "print(\"Train Set Score: {}\".format(grid_search.score(X_train, Y_train)))\n",
    "print(\"Test Set Score: {}\".format(grid_search.score(X_test, Y_test)))"
   ]
  },
  {
   "cell_type": "code",
   "execution_count": null,
   "metadata": {},
   "outputs": [],
   "source": [
    "model.fit(X_train, Y_train, epochs = grid_search_result.best_params_['epochs'], batch_size =grid_search_result.best_params_['batch_size'] )"
   ]
  },
  {
   "cell_type": "code",
   "execution_count": null,
   "metadata": {},
   "outputs": [],
   "source": [
    "y_train_predict = model.predict(X_train)\n",
    "y_test_predict = model.predict(X_test)\n",
    "\n",
    "print('Train score: {:.2f}'.format(r2_score(Y_train, y_train_predict)))\n",
    "print('Test score: {:.2f}'.format(r2_score(Y_test, y_test_predict)))"
   ]
  },
  {
   "cell_type": "code",
   "execution_count": null,
   "metadata": {},
   "outputs": [],
   "source": [
    "model.summary()"
   ]
  }
 ],
 "metadata": {
  "kernelspec": {
   "display_name": "Python 3",
   "language": "python",
   "name": "python3"
  },
  "language_info": {
   "codemirror_mode": {
    "name": "ipython",
    "version": 3
   },
   "file_extension": ".py",
   "mimetype": "text/x-python",
   "name": "python",
   "nbconvert_exporter": "python",
   "pygments_lexer": "ipython3",
   "version": "3.8.3"
  }
 },
 "nbformat": 4,
 "nbformat_minor": 2
}
