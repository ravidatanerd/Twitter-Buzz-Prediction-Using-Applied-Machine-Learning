{
 "cells": [
  {
   "cell_type": "markdown",
   "metadata": {},
   "source": [
    "# <font color='red'> Project 2 : Buzz Prediction on Twitter\n",
    "\n",
    "Project Description:\n",
    "- There are two different datasets for Regression and Classification tasks. Right-most column in both the datasets is a dependent variable i.e. buzz.\n",
    "- Data description files are also provided for both the datasets.\n",
    "- Deciding which dataset is for which task is part of the project.\n",
    "- Read data into Jupyter notebook, use pandas to import data into a data frame.\n",
    "- Preprocess data: Explore data, check for missing data and apply data scaling. Justify the type of scaling used.\n",
    "\n",
    "Regression Task:\n",
    "- Apply all the regression models you've learned so far. If your model has a scaling parameter(s) use Grid Search to find the best scaling parameter. Use plots and graphs to help you get a better glimpse of the results. \n",
    "- Then use cross-validation to find average training and testing score. \n",
    "- Your submission should have at least the following regression models: KNN regressor, linear regression, Ridge, Lasso, polynomial regression, SVM both simple and with kernels. \n",
    "- Finally, find the best regressor for this dataset and train your model on the entire dataset using the best parameters and predict buzz for the test_set.\n",
    "\n",
    "Classification Task:\n",
    "- Decide about a good evaluation strategy and justify your choice.\n",
    "- Find best parameters for the following classification models: KNN classification, Logistic Regression, Linear Support Vector Machine, Kernelized Support Vector Machine, Decision Tree. \n",
    "- Which model gives the best results?\n",
    "\n",
    "Deliverables:\n",
    "- Submit IPython notebook. Use markdown to provide inline comments for this project.\n",
    "- Rename notebook with your group number and submit only one notebook. Before submitting, make sure everything runs as expected. To check that, restart the kernel (in the menubar, select Kernel > Restart) and then run all cells (in the menubar, select Cell > Run All).\n",
    "- Visualization encouraged.\n",
    "\n",
    "Questions regarding the project:\n",
    "- We have created a discussion board under Projects folder on e-learning. Create threads over there and post your queries related to project there.\n",
    "- There is a high possibility that your classmate has also faced the same problem and knows the solution. So this is an effort to encourage collaborative learning, reducing mails for frequently asked queries and also making all the information available to everyone.\n",
    "- Please check existing threads for your query before creating a new one. It goes without saying that do not share your code or complete solutions there.\n",
    "- We will also answer queries there. We will not be answering any project related queries through the mail."
   ]
  },
  {
   "cell_type": "code",
   "execution_count": 1,
   "metadata": {},
   "outputs": [],
   "source": [
    "import numpy as np\n",
    "import pandas as pd\n",
    "import seaborn as sns\n",
    "import matplotlib.pyplot as plt\n",
    "sns.set(color_codes=True)\n",
    "\n",
    "data=pd.read_csv('Twitter.data',header=None) ## Regression\n",
    "# dataC=pd.read_csv('Twitter-Absolute-Sigma-500.data',header=None) ## Classification \n"
   ]
  },
  {
   "cell_type": "markdown",
   "metadata": {},
   "source": [
    "### Data Inspect"
   ]
  },
  {
   "cell_type": "code",
   "execution_count": 2,
   "metadata": {},
   "outputs": [
    {
     "data": {
      "text/html": [
       "<div>\n",
       "<style scoped>\n",
       "    .dataframe tbody tr th:only-of-type {\n",
       "        vertical-align: middle;\n",
       "    }\n",
       "\n",
       "    .dataframe tbody tr th {\n",
       "        vertical-align: top;\n",
       "    }\n",
       "\n",
       "    .dataframe thead th {\n",
       "        text-align: right;\n",
       "    }\n",
       "</style>\n",
       "<table border=\"1\" class=\"dataframe\">\n",
       "  <thead>\n",
       "    <tr style=\"text-align: right;\">\n",
       "      <th></th>\n",
       "      <th>0</th>\n",
       "      <th>1</th>\n",
       "      <th>2</th>\n",
       "      <th>3</th>\n",
       "      <th>4</th>\n",
       "      <th>5</th>\n",
       "      <th>6</th>\n",
       "      <th>7</th>\n",
       "      <th>8</th>\n",
       "      <th>9</th>\n",
       "      <th>...</th>\n",
       "      <th>68</th>\n",
       "      <th>69</th>\n",
       "      <th>70</th>\n",
       "      <th>71</th>\n",
       "      <th>72</th>\n",
       "      <th>73</th>\n",
       "      <th>74</th>\n",
       "      <th>75</th>\n",
       "      <th>76</th>\n",
       "      <th>77</th>\n",
       "    </tr>\n",
       "  </thead>\n",
       "  <tbody>\n",
       "    <tr>\n",
       "      <th>0</th>\n",
       "      <td>0</td>\n",
       "      <td>2</td>\n",
       "      <td>0</td>\n",
       "      <td>0</td>\n",
       "      <td>1</td>\n",
       "      <td>1</td>\n",
       "      <td>1</td>\n",
       "      <td>0</td>\n",
       "      <td>1</td>\n",
       "      <td>0</td>\n",
       "      <td>...</td>\n",
       "      <td>1.0</td>\n",
       "      <td>1.0</td>\n",
       "      <td>0</td>\n",
       "      <td>2</td>\n",
       "      <td>0</td>\n",
       "      <td>0</td>\n",
       "      <td>1</td>\n",
       "      <td>1</td>\n",
       "      <td>1</td>\n",
       "      <td>0.0</td>\n",
       "    </tr>\n",
       "    <tr>\n",
       "      <th>1</th>\n",
       "      <td>2</td>\n",
       "      <td>1</td>\n",
       "      <td>0</td>\n",
       "      <td>0</td>\n",
       "      <td>0</td>\n",
       "      <td>0</td>\n",
       "      <td>4</td>\n",
       "      <td>2</td>\n",
       "      <td>1</td>\n",
       "      <td>0</td>\n",
       "      <td>...</td>\n",
       "      <td>0.0</td>\n",
       "      <td>1.0</td>\n",
       "      <td>2</td>\n",
       "      <td>1</td>\n",
       "      <td>0</td>\n",
       "      <td>0</td>\n",
       "      <td>0</td>\n",
       "      <td>0</td>\n",
       "      <td>4</td>\n",
       "      <td>0.5</td>\n",
       "    </tr>\n",
       "    <tr>\n",
       "      <th>2</th>\n",
       "      <td>1</td>\n",
       "      <td>0</td>\n",
       "      <td>0</td>\n",
       "      <td>0</td>\n",
       "      <td>0</td>\n",
       "      <td>4</td>\n",
       "      <td>1</td>\n",
       "      <td>1</td>\n",
       "      <td>0</td>\n",
       "      <td>0</td>\n",
       "      <td>...</td>\n",
       "      <td>1.0</td>\n",
       "      <td>1.0</td>\n",
       "      <td>1</td>\n",
       "      <td>0</td>\n",
       "      <td>0</td>\n",
       "      <td>0</td>\n",
       "      <td>0</td>\n",
       "      <td>4</td>\n",
       "      <td>1</td>\n",
       "      <td>0.0</td>\n",
       "    </tr>\n",
       "    <tr>\n",
       "      <th>3</th>\n",
       "      <td>1</td>\n",
       "      <td>0</td>\n",
       "      <td>0</td>\n",
       "      <td>1</td>\n",
       "      <td>0</td>\n",
       "      <td>0</td>\n",
       "      <td>1</td>\n",
       "      <td>1</td>\n",
       "      <td>0</td>\n",
       "      <td>0</td>\n",
       "      <td>...</td>\n",
       "      <td>0.0</td>\n",
       "      <td>1.0</td>\n",
       "      <td>1</td>\n",
       "      <td>0</td>\n",
       "      <td>0</td>\n",
       "      <td>1</td>\n",
       "      <td>0</td>\n",
       "      <td>0</td>\n",
       "      <td>1</td>\n",
       "      <td>2.5</td>\n",
       "    </tr>\n",
       "    <tr>\n",
       "      <th>4</th>\n",
       "      <td>0</td>\n",
       "      <td>1</td>\n",
       "      <td>0</td>\n",
       "      <td>0</td>\n",
       "      <td>1</td>\n",
       "      <td>2</td>\n",
       "      <td>3</td>\n",
       "      <td>0</td>\n",
       "      <td>1</td>\n",
       "      <td>0</td>\n",
       "      <td>...</td>\n",
       "      <td>1.0</td>\n",
       "      <td>1.0</td>\n",
       "      <td>0</td>\n",
       "      <td>1</td>\n",
       "      <td>0</td>\n",
       "      <td>0</td>\n",
       "      <td>1</td>\n",
       "      <td>2</td>\n",
       "      <td>3</td>\n",
       "      <td>0.5</td>\n",
       "    </tr>\n",
       "  </tbody>\n",
       "</table>\n",
       "<p>5 rows × 78 columns</p>\n",
       "</div>"
      ],
      "text/plain": [
       "   0   1   2   3   4   5   6   7   8   9  ...    68   69  70  71  72  73  74  \\\n",
       "0   0   2   0   0   1   1   1   0   1   0 ...   1.0  1.0   0   2   0   0   1   \n",
       "1   2   1   0   0   0   0   4   2   1   0 ...   0.0  1.0   2   1   0   0   0   \n",
       "2   1   0   0   0   0   4   1   1   0   0 ...   1.0  1.0   1   0   0   0   0   \n",
       "3   1   0   0   1   0   0   1   1   0   0 ...   0.0  1.0   1   0   0   1   0   \n",
       "4   0   1   0   0   1   2   3   0   1   0 ...   1.0  1.0   0   1   0   0   1   \n",
       "\n",
       "   75  76   77  \n",
       "0   1   1  0.0  \n",
       "1   0   4  0.5  \n",
       "2   4   1  0.0  \n",
       "3   0   1  2.5  \n",
       "4   2   3  0.5  \n",
       "\n",
       "[5 rows x 78 columns]"
      ]
     },
     "execution_count": 2,
     "metadata": {},
     "output_type": "execute_result"
    }
   ],
   "source": [
    "data.head()"
   ]
  },
  {
   "cell_type": "code",
   "execution_count": 3,
   "metadata": {},
   "outputs": [],
   "source": [
    "#  Columns Names as per the description Provided\n",
    "\n",
    "colnames = [\"NCD\",\"AI\",\"AS(NA)\",\"BL\",\"NAC\",\"AS(NAC)\",\"CS\",\"AT\",\"NA\",\"ADL\",\"NAD\",\"Buzz_Magnitude\"]\n",
    "\n",
    "# Function for Column name in the data set\n",
    "\n",
    "def colrange(n):\n",
    "    if n in range(0,7):\n",
    "        return(colnames[0]+'_'+str(n-0))\n",
    "    elif n in range(7,14) :\n",
    "        return(colnames[1]+'_'+str(n-7))\n",
    "    elif n in range(14,21) :\n",
    "        return(colnames[2]+'_'+str(n-14))\n",
    "    elif n in range(21,28) :\n",
    "        return(colnames[3]+'_'+str(n-21))\n",
    "    elif n in range(28,35) :\n",
    "        return(colnames[4]+'_'+str(n-28))\n",
    "    elif n in range(35,42) :\n",
    "        return(colnames[5]+'_'+str(n-35))\n",
    "    elif n in range(42,49) :\n",
    "        return(colnames[6]+'_'+str(n-42))\n",
    "    elif n in range(49,56) :\n",
    "        return(colnames[7]+'_'+str(n-49))\n",
    "    elif n in range(56,63) :\n",
    "        return(colnames[8]+'_'+str(n-56))\n",
    "    elif n in range(63,70) :\n",
    "        return(colnames[9]+'_'+str(n-63))\n",
    "    elif n in range(70,77) :\n",
    "        return(colnames[10]+'_'+str(n-70))\n",
    "    elif n==77 :\n",
    "        return(colnames[11])    \n",
    "\n",
    "# Renaming Columns name \n",
    "data.columns=[colrange(col) for col in data.columns]"
   ]
  },
  {
   "cell_type": "code",
   "execution_count": 4,
   "metadata": {},
   "outputs": [
    {
     "data": {
      "text/plain": [
       "(583250, 78)"
      ]
     },
     "execution_count": 4,
     "metadata": {},
     "output_type": "execute_result"
    }
   ],
   "source": [
    "data.shape"
   ]
  },
  {
   "cell_type": "code",
   "execution_count": 5,
   "metadata": {
    "scrolled": true
   },
   "outputs": [
    {
     "data": {
      "text/html": [
       "<div>\n",
       "<style scoped>\n",
       "    .dataframe tbody tr th:only-of-type {\n",
       "        vertical-align: middle;\n",
       "    }\n",
       "\n",
       "    .dataframe tbody tr th {\n",
       "        vertical-align: top;\n",
       "    }\n",
       "\n",
       "    .dataframe thead th {\n",
       "        text-align: right;\n",
       "    }\n",
       "</style>\n",
       "<table border=\"1\" class=\"dataframe\">\n",
       "  <thead>\n",
       "    <tr style=\"text-align: right;\">\n",
       "      <th></th>\n",
       "      <th>NCD_0</th>\n",
       "      <th>NCD_1</th>\n",
       "      <th>NCD_2</th>\n",
       "      <th>NCD_3</th>\n",
       "      <th>NCD_4</th>\n",
       "      <th>NCD_5</th>\n",
       "      <th>NCD_6</th>\n",
       "      <th>AI_0</th>\n",
       "      <th>AI_1</th>\n",
       "      <th>AI_2</th>\n",
       "      <th>...</th>\n",
       "      <th>ADL_5</th>\n",
       "      <th>ADL_6</th>\n",
       "      <th>NAD_0</th>\n",
       "      <th>NAD_1</th>\n",
       "      <th>NAD_2</th>\n",
       "      <th>NAD_3</th>\n",
       "      <th>NAD_4</th>\n",
       "      <th>NAD_5</th>\n",
       "      <th>NAD_6</th>\n",
       "      <th>Buzz_Magnitude</th>\n",
       "    </tr>\n",
       "  </thead>\n",
       "  <tbody>\n",
       "    <tr>\n",
       "      <th>0</th>\n",
       "      <td>0</td>\n",
       "      <td>2</td>\n",
       "      <td>0</td>\n",
       "      <td>0</td>\n",
       "      <td>1</td>\n",
       "      <td>1</td>\n",
       "      <td>1</td>\n",
       "      <td>0</td>\n",
       "      <td>1</td>\n",
       "      <td>0</td>\n",
       "      <td>...</td>\n",
       "      <td>1.0</td>\n",
       "      <td>1.0</td>\n",
       "      <td>0</td>\n",
       "      <td>2</td>\n",
       "      <td>0</td>\n",
       "      <td>0</td>\n",
       "      <td>1</td>\n",
       "      <td>1</td>\n",
       "      <td>1</td>\n",
       "      <td>0.0</td>\n",
       "    </tr>\n",
       "    <tr>\n",
       "      <th>1</th>\n",
       "      <td>2</td>\n",
       "      <td>1</td>\n",
       "      <td>0</td>\n",
       "      <td>0</td>\n",
       "      <td>0</td>\n",
       "      <td>0</td>\n",
       "      <td>4</td>\n",
       "      <td>2</td>\n",
       "      <td>1</td>\n",
       "      <td>0</td>\n",
       "      <td>...</td>\n",
       "      <td>0.0</td>\n",
       "      <td>1.0</td>\n",
       "      <td>2</td>\n",
       "      <td>1</td>\n",
       "      <td>0</td>\n",
       "      <td>0</td>\n",
       "      <td>0</td>\n",
       "      <td>0</td>\n",
       "      <td>4</td>\n",
       "      <td>0.5</td>\n",
       "    </tr>\n",
       "    <tr>\n",
       "      <th>2</th>\n",
       "      <td>1</td>\n",
       "      <td>0</td>\n",
       "      <td>0</td>\n",
       "      <td>0</td>\n",
       "      <td>0</td>\n",
       "      <td>4</td>\n",
       "      <td>1</td>\n",
       "      <td>1</td>\n",
       "      <td>0</td>\n",
       "      <td>0</td>\n",
       "      <td>...</td>\n",
       "      <td>1.0</td>\n",
       "      <td>1.0</td>\n",
       "      <td>1</td>\n",
       "      <td>0</td>\n",
       "      <td>0</td>\n",
       "      <td>0</td>\n",
       "      <td>0</td>\n",
       "      <td>4</td>\n",
       "      <td>1</td>\n",
       "      <td>0.0</td>\n",
       "    </tr>\n",
       "    <tr>\n",
       "      <th>3</th>\n",
       "      <td>1</td>\n",
       "      <td>0</td>\n",
       "      <td>0</td>\n",
       "      <td>1</td>\n",
       "      <td>0</td>\n",
       "      <td>0</td>\n",
       "      <td>1</td>\n",
       "      <td>1</td>\n",
       "      <td>0</td>\n",
       "      <td>0</td>\n",
       "      <td>...</td>\n",
       "      <td>0.0</td>\n",
       "      <td>1.0</td>\n",
       "      <td>1</td>\n",
       "      <td>0</td>\n",
       "      <td>0</td>\n",
       "      <td>1</td>\n",
       "      <td>0</td>\n",
       "      <td>0</td>\n",
       "      <td>1</td>\n",
       "      <td>2.5</td>\n",
       "    </tr>\n",
       "    <tr>\n",
       "      <th>4</th>\n",
       "      <td>0</td>\n",
       "      <td>1</td>\n",
       "      <td>0</td>\n",
       "      <td>0</td>\n",
       "      <td>1</td>\n",
       "      <td>2</td>\n",
       "      <td>3</td>\n",
       "      <td>0</td>\n",
       "      <td>1</td>\n",
       "      <td>0</td>\n",
       "      <td>...</td>\n",
       "      <td>1.0</td>\n",
       "      <td>1.0</td>\n",
       "      <td>0</td>\n",
       "      <td>1</td>\n",
       "      <td>0</td>\n",
       "      <td>0</td>\n",
       "      <td>1</td>\n",
       "      <td>2</td>\n",
       "      <td>3</td>\n",
       "      <td>0.5</td>\n",
       "    </tr>\n",
       "  </tbody>\n",
       "</table>\n",
       "<p>5 rows × 78 columns</p>\n",
       "</div>"
      ],
      "text/plain": [
       "   NCD_0  NCD_1  NCD_2  NCD_3  NCD_4  NCD_5  NCD_6  AI_0  AI_1  AI_2  \\\n",
       "0      0      2      0      0      1      1      1     0     1     0   \n",
       "1      2      1      0      0      0      0      4     2     1     0   \n",
       "2      1      0      0      0      0      4      1     1     0     0   \n",
       "3      1      0      0      1      0      0      1     1     0     0   \n",
       "4      0      1      0      0      1      2      3     0     1     0   \n",
       "\n",
       "        ...        ADL_5  ADL_6  NAD_0  NAD_1  NAD_2  NAD_3  NAD_4  NAD_5  \\\n",
       "0       ...          1.0    1.0      0      2      0      0      1      1   \n",
       "1       ...          0.0    1.0      2      1      0      0      0      0   \n",
       "2       ...          1.0    1.0      1      0      0      0      0      4   \n",
       "3       ...          0.0    1.0      1      0      0      1      0      0   \n",
       "4       ...          1.0    1.0      0      1      0      0      1      2   \n",
       "\n",
       "   NAD_6  Buzz_Magnitude  \n",
       "0      1             0.0  \n",
       "1      4             0.5  \n",
       "2      1             0.0  \n",
       "3      1             2.5  \n",
       "4      3             0.5  \n",
       "\n",
       "[5 rows x 78 columns]"
      ]
     },
     "execution_count": 5,
     "metadata": {},
     "output_type": "execute_result"
    }
   ],
   "source": [
    "data.head()"
   ]
  },
  {
   "cell_type": "code",
   "execution_count": 6,
   "metadata": {
    "scrolled": true
   },
   "outputs": [
    {
     "name": "stdout",
     "output_type": "stream",
     "text": [
      "<class 'pandas.core.frame.DataFrame'>\n",
      "RangeIndex: 583250 entries, 0 to 583249\n",
      "Data columns (total 78 columns):\n",
      "NCD_0             583250 non-null int64\n",
      "NCD_1             583250 non-null int64\n",
      "NCD_2             583250 non-null int64\n",
      "NCD_3             583250 non-null int64\n",
      "NCD_4             583250 non-null int64\n",
      "NCD_5             583250 non-null int64\n",
      "NCD_6             583250 non-null int64\n",
      "AI_0              583250 non-null int64\n",
      "AI_1              583250 non-null int64\n",
      "AI_2              583250 non-null int64\n",
      "AI_3              583250 non-null int64\n",
      "AI_4              583250 non-null int64\n",
      "AI_5              583250 non-null int64\n",
      "AI_6              583250 non-null int64\n",
      "AS(NA)_0          583250 non-null float64\n",
      "AS(NA)_1          583250 non-null float64\n",
      "AS(NA)_2          583250 non-null float64\n",
      "AS(NA)_3          583250 non-null float64\n",
      "AS(NA)_4          583250 non-null float64\n",
      "AS(NA)_5          583250 non-null float64\n",
      "AS(NA)_6          583250 non-null float64\n",
      "BL_0              583250 non-null float64\n",
      "BL_1              583250 non-null float64\n",
      "BL_2              583250 non-null float64\n",
      "BL_3              583250 non-null float64\n",
      "BL_4              583250 non-null float64\n",
      "BL_5              583250 non-null float64\n",
      "BL_6              583250 non-null float64\n",
      "NAC_0             583250 non-null int64\n",
      "NAC_1             583250 non-null int64\n",
      "NAC_2             583250 non-null int64\n",
      "NAC_3             583250 non-null int64\n",
      "NAC_4             583250 non-null int64\n",
      "NAC_5             583250 non-null int64\n",
      "NAC_6             583250 non-null int64\n",
      "AS(NAC)_0         583250 non-null float64\n",
      "AS(NAC)_1         583250 non-null float64\n",
      "AS(NAC)_2         583250 non-null float64\n",
      "AS(NAC)_3         583250 non-null float64\n",
      "AS(NAC)_4         583250 non-null float64\n",
      "AS(NAC)_5         583250 non-null float64\n",
      "AS(NAC)_6         583250 non-null float64\n",
      "CS_0              583250 non-null float64\n",
      "CS_1              583250 non-null float64\n",
      "CS_2              583250 non-null float64\n",
      "CS_3              583250 non-null float64\n",
      "CS_4              583250 non-null float64\n",
      "CS_5              583250 non-null float64\n",
      "CS_6              583250 non-null float64\n",
      "AT_0              583250 non-null float64\n",
      "AT_1              583250 non-null float64\n",
      "AT_2              583250 non-null float64\n",
      "AT_3              583250 non-null float64\n",
      "AT_4              583250 non-null float64\n",
      "AT_5              583250 non-null float64\n",
      "AT_6              583250 non-null float64\n",
      "NA_0              583250 non-null int64\n",
      "NA_1              583250 non-null int64\n",
      "NA_2              583250 non-null int64\n",
      "NA_3              583250 non-null int64\n",
      "NA_4              583250 non-null int64\n",
      "NA_5              583250 non-null int64\n",
      "NA_6              583250 non-null int64\n",
      "ADL_0             583250 non-null float64\n",
      "ADL_1             583250 non-null float64\n",
      "ADL_2             583250 non-null float64\n",
      "ADL_3             583250 non-null float64\n",
      "ADL_4             583250 non-null float64\n",
      "ADL_5             583250 non-null float64\n",
      "ADL_6             583250 non-null float64\n",
      "NAD_0             583250 non-null int64\n",
      "NAD_1             583250 non-null int64\n",
      "NAD_2             583250 non-null int64\n",
      "NAD_3             583250 non-null int64\n",
      "NAD_4             583250 non-null int64\n",
      "NAD_5             583250 non-null int64\n",
      "NAD_6             583250 non-null int64\n",
      "Buzz_Magnitude    583250 non-null float64\n",
      "dtypes: float64(43), int64(35)\n",
      "memory usage: 347.1 MB\n"
     ]
    }
   ],
   "source": [
    "data.info()"
   ]
  },
  {
   "cell_type": "code",
   "execution_count": 7,
   "metadata": {
    "scrolled": true
   },
   "outputs": [
    {
     "data": {
      "text/html": [
       "<div>\n",
       "<style scoped>\n",
       "    .dataframe tbody tr th:only-of-type {\n",
       "        vertical-align: middle;\n",
       "    }\n",
       "\n",
       "    .dataframe tbody tr th {\n",
       "        vertical-align: top;\n",
       "    }\n",
       "\n",
       "    .dataframe thead th {\n",
       "        text-align: right;\n",
       "    }\n",
       "</style>\n",
       "<table border=\"1\" class=\"dataframe\">\n",
       "  <thead>\n",
       "    <tr style=\"text-align: right;\">\n",
       "      <th></th>\n",
       "      <th>NCD_0</th>\n",
       "      <th>NCD_1</th>\n",
       "      <th>NCD_2</th>\n",
       "      <th>NCD_3</th>\n",
       "      <th>NCD_4</th>\n",
       "      <th>NCD_5</th>\n",
       "      <th>NCD_6</th>\n",
       "      <th>AI_0</th>\n",
       "      <th>AI_1</th>\n",
       "      <th>AI_2</th>\n",
       "      <th>...</th>\n",
       "      <th>ADL_5</th>\n",
       "      <th>ADL_6</th>\n",
       "      <th>NAD_0</th>\n",
       "      <th>NAD_1</th>\n",
       "      <th>NAD_2</th>\n",
       "      <th>NAD_3</th>\n",
       "      <th>NAD_4</th>\n",
       "      <th>NAD_5</th>\n",
       "      <th>NAD_6</th>\n",
       "      <th>Buzz_Magnitude</th>\n",
       "    </tr>\n",
       "  </thead>\n",
       "  <tbody>\n",
       "    <tr>\n",
       "      <th>count</th>\n",
       "      <td>583250.000000</td>\n",
       "      <td>583250.000000</td>\n",
       "      <td>583250.000000</td>\n",
       "      <td>583250.000000</td>\n",
       "      <td>583250.000000</td>\n",
       "      <td>583250.000000</td>\n",
       "      <td>583250.000000</td>\n",
       "      <td>583250.000000</td>\n",
       "      <td>583250.000000</td>\n",
       "      <td>583250.000000</td>\n",
       "      <td>...</td>\n",
       "      <td>583250.000000</td>\n",
       "      <td>583250.000000</td>\n",
       "      <td>583250.000000</td>\n",
       "      <td>583250.000000</td>\n",
       "      <td>583250.000000</td>\n",
       "      <td>583250.000000</td>\n",
       "      <td>583250.000000</td>\n",
       "      <td>583250.000000</td>\n",
       "      <td>583250.000000</td>\n",
       "      <td>583250.000000</td>\n",
       "    </tr>\n",
       "    <tr>\n",
       "      <th>mean</th>\n",
       "      <td>140.339640</td>\n",
       "      <td>136.770147</td>\n",
       "      <td>159.679271</td>\n",
       "      <td>181.592091</td>\n",
       "      <td>201.097445</td>\n",
       "      <td>220.175371</td>\n",
       "      <td>219.388214</td>\n",
       "      <td>71.038051</td>\n",
       "      <td>69.829631</td>\n",
       "      <td>82.198203</td>\n",
       "      <td>...</td>\n",
       "      <td>1.136688</td>\n",
       "      <td>1.140372</td>\n",
       "      <td>140.789860</td>\n",
       "      <td>137.181270</td>\n",
       "      <td>160.105922</td>\n",
       "      <td>182.057440</td>\n",
       "      <td>201.596482</td>\n",
       "      <td>220.705900</td>\n",
       "      <td>219.936864</td>\n",
       "      <td>191.279493</td>\n",
       "    </tr>\n",
       "    <tr>\n",
       "      <th>std</th>\n",
       "      <td>431.772639</td>\n",
       "      <td>432.305129</td>\n",
       "      <td>502.057428</td>\n",
       "      <td>574.883713</td>\n",
       "      <td>630.448432</td>\n",
       "      <td>669.205930</td>\n",
       "      <td>672.182204</td>\n",
       "      <td>196.876718</td>\n",
       "      <td>202.199758</td>\n",
       "      <td>239.523042</td>\n",
       "      <td>...</td>\n",
       "      <td>1.432327</td>\n",
       "      <td>1.552313</td>\n",
       "      <td>432.624954</td>\n",
       "      <td>433.026611</td>\n",
       "      <td>502.774408</td>\n",
       "      <td>575.658022</td>\n",
       "      <td>631.258318</td>\n",
       "      <td>670.050977</td>\n",
       "      <td>673.032541</td>\n",
       "      <td>612.352354</td>\n",
       "    </tr>\n",
       "    <tr>\n",
       "      <th>min</th>\n",
       "      <td>0.000000</td>\n",
       "      <td>0.000000</td>\n",
       "      <td>0.000000</td>\n",
       "      <td>0.000000</td>\n",
       "      <td>0.000000</td>\n",
       "      <td>0.000000</td>\n",
       "      <td>0.000000</td>\n",
       "      <td>0.000000</td>\n",
       "      <td>0.000000</td>\n",
       "      <td>0.000000</td>\n",
       "      <td>...</td>\n",
       "      <td>0.000000</td>\n",
       "      <td>0.000000</td>\n",
       "      <td>0.000000</td>\n",
       "      <td>0.000000</td>\n",
       "      <td>0.000000</td>\n",
       "      <td>0.000000</td>\n",
       "      <td>0.000000</td>\n",
       "      <td>0.000000</td>\n",
       "      <td>0.000000</td>\n",
       "      <td>0.000000</td>\n",
       "    </tr>\n",
       "    <tr>\n",
       "      <th>25%</th>\n",
       "      <td>3.000000</td>\n",
       "      <td>3.000000</td>\n",
       "      <td>4.000000</td>\n",
       "      <td>4.000000</td>\n",
       "      <td>5.000000</td>\n",
       "      <td>6.000000</td>\n",
       "      <td>6.000000</td>\n",
       "      <td>2.000000</td>\n",
       "      <td>2.000000</td>\n",
       "      <td>2.000000</td>\n",
       "      <td>...</td>\n",
       "      <td>1.000000</td>\n",
       "      <td>1.000000</td>\n",
       "      <td>3.000000</td>\n",
       "      <td>3.000000</td>\n",
       "      <td>4.000000</td>\n",
       "      <td>4.000000</td>\n",
       "      <td>5.000000</td>\n",
       "      <td>6.000000</td>\n",
       "      <td>6.000000</td>\n",
       "      <td>4.500000</td>\n",
       "    </tr>\n",
       "    <tr>\n",
       "      <th>50%</th>\n",
       "      <td>18.000000</td>\n",
       "      <td>17.000000</td>\n",
       "      <td>21.000000</td>\n",
       "      <td>24.000000</td>\n",
       "      <td>27.000000</td>\n",
       "      <td>31.000000</td>\n",
       "      <td>30.000000</td>\n",
       "      <td>11.000000</td>\n",
       "      <td>11.000000</td>\n",
       "      <td>13.000000</td>\n",
       "      <td>...</td>\n",
       "      <td>1.000000</td>\n",
       "      <td>1.000000</td>\n",
       "      <td>18.000000</td>\n",
       "      <td>17.000000</td>\n",
       "      <td>21.000000</td>\n",
       "      <td>24.000000</td>\n",
       "      <td>27.000000</td>\n",
       "      <td>31.000000</td>\n",
       "      <td>31.000000</td>\n",
       "      <td>25.500000</td>\n",
       "    </tr>\n",
       "    <tr>\n",
       "      <th>75%</th>\n",
       "      <td>104.000000</td>\n",
       "      <td>100.000000</td>\n",
       "      <td>115.000000</td>\n",
       "      <td>131.000000</td>\n",
       "      <td>147.000000</td>\n",
       "      <td>166.000000</td>\n",
       "      <td>164.000000</td>\n",
       "      <td>59.000000</td>\n",
       "      <td>57.000000</td>\n",
       "      <td>65.000000</td>\n",
       "      <td>...</td>\n",
       "      <td>1.090909</td>\n",
       "      <td>1.091296</td>\n",
       "      <td>104.000000</td>\n",
       "      <td>101.000000</td>\n",
       "      <td>115.000000</td>\n",
       "      <td>131.000000</td>\n",
       "      <td>148.000000</td>\n",
       "      <td>167.000000</td>\n",
       "      <td>165.000000</td>\n",
       "      <td>139.000000</td>\n",
       "    </tr>\n",
       "    <tr>\n",
       "      <th>max</th>\n",
       "      <td>24210.000000</td>\n",
       "      <td>29574.000000</td>\n",
       "      <td>37505.000000</td>\n",
       "      <td>72366.000000</td>\n",
       "      <td>79079.000000</td>\n",
       "      <td>79079.000000</td>\n",
       "      <td>79079.000000</td>\n",
       "      <td>18654.000000</td>\n",
       "      <td>22035.000000</td>\n",
       "      <td>29402.000000</td>\n",
       "      <td>...</td>\n",
       "      <td>262.000000</td>\n",
       "      <td>295.000000</td>\n",
       "      <td>24301.000000</td>\n",
       "      <td>29574.000000</td>\n",
       "      <td>37505.000000</td>\n",
       "      <td>72366.000000</td>\n",
       "      <td>79083.000000</td>\n",
       "      <td>79083.000000</td>\n",
       "      <td>79083.000000</td>\n",
       "      <td>75724.500000</td>\n",
       "    </tr>\n",
       "  </tbody>\n",
       "</table>\n",
       "<p>8 rows × 78 columns</p>\n",
       "</div>"
      ],
      "text/plain": [
       "               NCD_0          NCD_1          NCD_2          NCD_3  \\\n",
       "count  583250.000000  583250.000000  583250.000000  583250.000000   \n",
       "mean      140.339640     136.770147     159.679271     181.592091   \n",
       "std       431.772639     432.305129     502.057428     574.883713   \n",
       "min         0.000000       0.000000       0.000000       0.000000   \n",
       "25%         3.000000       3.000000       4.000000       4.000000   \n",
       "50%        18.000000      17.000000      21.000000      24.000000   \n",
       "75%       104.000000     100.000000     115.000000     131.000000   \n",
       "max     24210.000000   29574.000000   37505.000000   72366.000000   \n",
       "\n",
       "               NCD_4          NCD_5          NCD_6           AI_0  \\\n",
       "count  583250.000000  583250.000000  583250.000000  583250.000000   \n",
       "mean      201.097445     220.175371     219.388214      71.038051   \n",
       "std       630.448432     669.205930     672.182204     196.876718   \n",
       "min         0.000000       0.000000       0.000000       0.000000   \n",
       "25%         5.000000       6.000000       6.000000       2.000000   \n",
       "50%        27.000000      31.000000      30.000000      11.000000   \n",
       "75%       147.000000     166.000000     164.000000      59.000000   \n",
       "max     79079.000000   79079.000000   79079.000000   18654.000000   \n",
       "\n",
       "                AI_1           AI_2       ...                ADL_5  \\\n",
       "count  583250.000000  583250.000000       ...        583250.000000   \n",
       "mean       69.829631      82.198203       ...             1.136688   \n",
       "std       202.199758     239.523042       ...             1.432327   \n",
       "min         0.000000       0.000000       ...             0.000000   \n",
       "25%         2.000000       2.000000       ...             1.000000   \n",
       "50%        11.000000      13.000000       ...             1.000000   \n",
       "75%        57.000000      65.000000       ...             1.090909   \n",
       "max     22035.000000   29402.000000       ...           262.000000   \n",
       "\n",
       "               ADL_6          NAD_0          NAD_1          NAD_2  \\\n",
       "count  583250.000000  583250.000000  583250.000000  583250.000000   \n",
       "mean        1.140372     140.789860     137.181270     160.105922   \n",
       "std         1.552313     432.624954     433.026611     502.774408   \n",
       "min         0.000000       0.000000       0.000000       0.000000   \n",
       "25%         1.000000       3.000000       3.000000       4.000000   \n",
       "50%         1.000000      18.000000      17.000000      21.000000   \n",
       "75%         1.091296     104.000000     101.000000     115.000000   \n",
       "max       295.000000   24301.000000   29574.000000   37505.000000   \n",
       "\n",
       "               NAD_3          NAD_4          NAD_5          NAD_6  \\\n",
       "count  583250.000000  583250.000000  583250.000000  583250.000000   \n",
       "mean      182.057440     201.596482     220.705900     219.936864   \n",
       "std       575.658022     631.258318     670.050977     673.032541   \n",
       "min         0.000000       0.000000       0.000000       0.000000   \n",
       "25%         4.000000       5.000000       6.000000       6.000000   \n",
       "50%        24.000000      27.000000      31.000000      31.000000   \n",
       "75%       131.000000     148.000000     167.000000     165.000000   \n",
       "max     72366.000000   79083.000000   79083.000000   79083.000000   \n",
       "\n",
       "       Buzz_Magnitude  \n",
       "count   583250.000000  \n",
       "mean       191.279493  \n",
       "std        612.352354  \n",
       "min          0.000000  \n",
       "25%          4.500000  \n",
       "50%         25.500000  \n",
       "75%        139.000000  \n",
       "max      75724.500000  \n",
       "\n",
       "[8 rows x 78 columns]"
      ]
     },
     "execution_count": 7,
     "metadata": {},
     "output_type": "execute_result"
    }
   ],
   "source": [
    "data.describe()\n"
   ]
  },
  {
   "cell_type": "markdown",
   "metadata": {},
   "source": [
    "### Data Leakage"
   ]
  },
  {
   "cell_type": "code",
   "execution_count": 8,
   "metadata": {
    "scrolled": true
   },
   "outputs": [
    {
     "data": {
      "text/plain": [
       "Buzz_Magnitude    1.000000\n",
       "NCD_6             0.955330\n",
       "NAD_6             0.955299\n",
       "NAC_6             0.951809\n",
       "NCD_5             0.918565\n",
       "NAD_5             0.918533\n",
       "NAC_5             0.915110\n",
       "NA_6              0.905061\n",
       "NCD_1             0.889884\n",
       "NAD_1             0.889744\n",
       "NCD_4             0.886262\n",
       "NAD_4             0.886251\n",
       "NAC_1             0.883589\n",
       "NAC_4             0.883327\n",
       "NCD_0             0.883316\n",
       "NAD_0             0.883073\n",
       "NAC_0             0.875533\n",
       "NCD_2             0.875168\n",
       "NAD_2             0.875099\n",
       "NCD_3             0.873060\n",
       "NAD_3             0.873026\n",
       "NAC_2             0.869843\n",
       "NAC_3             0.869301\n",
       "NA_5              0.868421\n",
       "AS(NAC)_6         0.866314\n",
       "AS(NAC)_0         0.853992\n",
       "NA_1              0.850840\n",
       "AS(NAC)_1         0.850498\n",
       "AS(NAC)_5         0.845093\n",
       "NA_0              0.843521\n",
       "                    ...   \n",
       "AI_3              0.756556\n",
       "AI_4              0.756219\n",
       "BL_2              0.091175\n",
       "CS_2              0.089560\n",
       "BL_0              0.085147\n",
       "BL_3              0.085041\n",
       "CS_3              0.083078\n",
       "CS_0              0.082975\n",
       "BL_4              0.079438\n",
       "BL_1              0.077459\n",
       "CS_4              0.077113\n",
       "CS_1              0.075664\n",
       "BL_6              0.065126\n",
       "BL_5              0.063627\n",
       "CS_6              0.061593\n",
       "CS_5              0.060520\n",
       "AT_2              0.016898\n",
       "AT_3              0.011833\n",
       "AT_0              0.010957\n",
       "ADL_2             0.010894\n",
       "AT_1              0.009756\n",
       "AT_4              0.007522\n",
       "ADL_0             0.006126\n",
       "ADL_3             0.005531\n",
       "ADL_1             0.005531\n",
       "ADL_4             0.001111\n",
       "AT_5             -0.000393\n",
       "AT_6             -0.000786\n",
       "ADL_6            -0.007005\n",
       "ADL_5            -0.007131\n",
       "Name: Buzz_Magnitude, Length: 78, dtype: float64"
      ]
     },
     "execution_count": 8,
     "metadata": {},
     "output_type": "execute_result"
    }
   ],
   "source": [
    "# Determining the Correlation of Buzz_Magnitude with other attributes.\n",
    "co_matrix=data.corr()\n",
    "co_matrix[\"Buzz_Magnitude\"].sort_values(ascending=False)\n",
    "\n",
    "  "
   ]
  },
  {
   "cell_type": "markdown",
   "metadata": {},
   "source": [
    "### Split Data"
   ]
  },
  {
   "cell_type": "code",
   "execution_count": 9,
   "metadata": {},
   "outputs": [],
   "source": [
    "#  Defingin Target Variable & Independent Variables\n",
    "XFull = data.iloc[:, :-1]\n",
    "YFull = data.iloc[:, -1]\n"
   ]
  },
  {
   "cell_type": "code",
   "execution_count": 10,
   "metadata": {},
   "outputs": [],
   "source": [
    "# Splitting Data set Randomly such that size is 10% of the original data \n",
    "\n",
    "from sklearn.model_selection import train_test_split\n",
    "_, sample_data, _, sample_target = train_test_split(XFull, YFull, shuffle = True, test_size = 0.1)"
   ]
  },
  {
   "cell_type": "code",
   "execution_count": 11,
   "metadata": {},
   "outputs": [
    {
     "data": {
      "text/plain": [
       "(58325, 77)"
      ]
     },
     "execution_count": 11,
     "metadata": {},
     "output_type": "execute_result"
    }
   ],
   "source": [
    "sample_data.shape"
   ]
  },
  {
   "cell_type": "code",
   "execution_count": 12,
   "metadata": {},
   "outputs": [
    {
     "data": {
      "text/plain": [
       "(58325,)"
      ]
     },
     "execution_count": 12,
     "metadata": {},
     "output_type": "execute_result"
    }
   ],
   "source": [
    "sample_target.shape"
   ]
  },
  {
   "cell_type": "code",
   "execution_count": 13,
   "metadata": {},
   "outputs": [],
   "source": [
    "X_train_org, X_test_org, Y_train, Y_test = train_test_split(sample_data[:1000],sample_target[:1000])"
   ]
  },
  {
   "cell_type": "code",
   "execution_count": 14,
   "metadata": {},
   "outputs": [
    {
     "data": {
      "text/html": [
       "<div>\n",
       "<style scoped>\n",
       "    .dataframe tbody tr th:only-of-type {\n",
       "        vertical-align: middle;\n",
       "    }\n",
       "\n",
       "    .dataframe tbody tr th {\n",
       "        vertical-align: top;\n",
       "    }\n",
       "\n",
       "    .dataframe thead th {\n",
       "        text-align: right;\n",
       "    }\n",
       "</style>\n",
       "<table border=\"1\" class=\"dataframe\">\n",
       "  <thead>\n",
       "    <tr style=\"text-align: right;\">\n",
       "      <th></th>\n",
       "      <th>mean</th>\n",
       "      <th>median</th>\n",
       "    </tr>\n",
       "  </thead>\n",
       "  <tbody>\n",
       "    <tr>\n",
       "      <th>NCD_0</th>\n",
       "      <td>140.339640</td>\n",
       "      <td>18.000000</td>\n",
       "    </tr>\n",
       "    <tr>\n",
       "      <th>NCD_1</th>\n",
       "      <td>136.770147</td>\n",
       "      <td>17.000000</td>\n",
       "    </tr>\n",
       "    <tr>\n",
       "      <th>NCD_2</th>\n",
       "      <td>159.679271</td>\n",
       "      <td>21.000000</td>\n",
       "    </tr>\n",
       "    <tr>\n",
       "      <th>NCD_3</th>\n",
       "      <td>181.592091</td>\n",
       "      <td>24.000000</td>\n",
       "    </tr>\n",
       "    <tr>\n",
       "      <th>NCD_4</th>\n",
       "      <td>201.097445</td>\n",
       "      <td>27.000000</td>\n",
       "    </tr>\n",
       "    <tr>\n",
       "      <th>NCD_5</th>\n",
       "      <td>220.175371</td>\n",
       "      <td>31.000000</td>\n",
       "    </tr>\n",
       "    <tr>\n",
       "      <th>NCD_6</th>\n",
       "      <td>219.388214</td>\n",
       "      <td>30.000000</td>\n",
       "    </tr>\n",
       "    <tr>\n",
       "      <th>AI_0</th>\n",
       "      <td>71.038051</td>\n",
       "      <td>11.000000</td>\n",
       "    </tr>\n",
       "    <tr>\n",
       "      <th>AI_1</th>\n",
       "      <td>69.829631</td>\n",
       "      <td>11.000000</td>\n",
       "    </tr>\n",
       "    <tr>\n",
       "      <th>AI_2</th>\n",
       "      <td>82.198203</td>\n",
       "      <td>13.000000</td>\n",
       "    </tr>\n",
       "    <tr>\n",
       "      <th>AI_3</th>\n",
       "      <td>93.774819</td>\n",
       "      <td>14.000000</td>\n",
       "    </tr>\n",
       "    <tr>\n",
       "      <th>AI_4</th>\n",
       "      <td>103.895695</td>\n",
       "      <td>16.000000</td>\n",
       "    </tr>\n",
       "    <tr>\n",
       "      <th>AI_5</th>\n",
       "      <td>113.611141</td>\n",
       "      <td>19.000000</td>\n",
       "    </tr>\n",
       "    <tr>\n",
       "      <th>AI_6</th>\n",
       "      <td>112.940921</td>\n",
       "      <td>18.000000</td>\n",
       "    </tr>\n",
       "    <tr>\n",
       "      <th>AS(NA)_0</th>\n",
       "      <td>0.000202</td>\n",
       "      <td>0.000026</td>\n",
       "    </tr>\n",
       "    <tr>\n",
       "      <th>AS(NA)_1</th>\n",
       "      <td>0.000196</td>\n",
       "      <td>0.000025</td>\n",
       "    </tr>\n",
       "    <tr>\n",
       "      <th>AS(NA)_2</th>\n",
       "      <td>0.000221</td>\n",
       "      <td>0.000029</td>\n",
       "    </tr>\n",
       "    <tr>\n",
       "      <th>AS(NA)_3</th>\n",
       "      <td>0.000242</td>\n",
       "      <td>0.000033</td>\n",
       "    </tr>\n",
       "    <tr>\n",
       "      <th>AS(NA)_4</th>\n",
       "      <td>0.000261</td>\n",
       "      <td>0.000037</td>\n",
       "    </tr>\n",
       "    <tr>\n",
       "      <th>AS(NA)_5</th>\n",
       "      <td>0.000282</td>\n",
       "      <td>0.000042</td>\n",
       "    </tr>\n",
       "    <tr>\n",
       "      <th>AS(NA)_6</th>\n",
       "      <td>0.000279</td>\n",
       "      <td>0.000041</td>\n",
       "    </tr>\n",
       "    <tr>\n",
       "      <th>BL_0</th>\n",
       "      <td>0.925390</td>\n",
       "      <td>1.000000</td>\n",
       "    </tr>\n",
       "    <tr>\n",
       "      <th>BL_1</th>\n",
       "      <td>0.918146</td>\n",
       "      <td>1.000000</td>\n",
       "    </tr>\n",
       "    <tr>\n",
       "      <th>BL_2</th>\n",
       "      <td>0.907052</td>\n",
       "      <td>1.000000</td>\n",
       "    </tr>\n",
       "    <tr>\n",
       "      <th>BL_3</th>\n",
       "      <td>0.919954</td>\n",
       "      <td>1.000000</td>\n",
       "    </tr>\n",
       "    <tr>\n",
       "      <th>BL_4</th>\n",
       "      <td>0.930657</td>\n",
       "      <td>1.000000</td>\n",
       "    </tr>\n",
       "    <tr>\n",
       "      <th>BL_5</th>\n",
       "      <td>0.956070</td>\n",
       "      <td>1.000000</td>\n",
       "    </tr>\n",
       "    <tr>\n",
       "      <th>BL_6</th>\n",
       "      <td>0.955341</td>\n",
       "      <td>1.000000</td>\n",
       "    </tr>\n",
       "    <tr>\n",
       "      <th>NAC_0</th>\n",
       "      <td>150.662500</td>\n",
       "      <td>20.000000</td>\n",
       "    </tr>\n",
       "    <tr>\n",
       "      <th>NAC_1</th>\n",
       "      <td>146.641742</td>\n",
       "      <td>19.000000</td>\n",
       "    </tr>\n",
       "    <tr>\n",
       "      <th>...</th>\n",
       "      <td>...</td>\n",
       "      <td>...</td>\n",
       "    </tr>\n",
       "    <tr>\n",
       "      <th>CS_6</th>\n",
       "      <td>0.960626</td>\n",
       "      <td>1.000000</td>\n",
       "    </tr>\n",
       "    <tr>\n",
       "      <th>AT_0</th>\n",
       "      <td>1.045500</td>\n",
       "      <td>1.000000</td>\n",
       "    </tr>\n",
       "    <tr>\n",
       "      <th>AT_1</th>\n",
       "      <td>1.035194</td>\n",
       "      <td>1.000000</td>\n",
       "    </tr>\n",
       "    <tr>\n",
       "      <th>AT_2</th>\n",
       "      <td>1.017044</td>\n",
       "      <td>1.000000</td>\n",
       "    </tr>\n",
       "    <tr>\n",
       "      <th>AT_3</th>\n",
       "      <td>1.032634</td>\n",
       "      <td>1.000000</td>\n",
       "    </tr>\n",
       "    <tr>\n",
       "      <th>AT_4</th>\n",
       "      <td>1.045863</td>\n",
       "      <td>1.000000</td>\n",
       "    </tr>\n",
       "    <tr>\n",
       "      <th>AT_5</th>\n",
       "      <td>1.078122</td>\n",
       "      <td>1.000000</td>\n",
       "    </tr>\n",
       "    <tr>\n",
       "      <th>AT_6</th>\n",
       "      <td>1.081759</td>\n",
       "      <td>1.000000</td>\n",
       "    </tr>\n",
       "    <tr>\n",
       "      <th>NA_0</th>\n",
       "      <td>123.063726</td>\n",
       "      <td>17.000000</td>\n",
       "    </tr>\n",
       "    <tr>\n",
       "      <th>NA_1</th>\n",
       "      <td>119.579506</td>\n",
       "      <td>17.000000</td>\n",
       "    </tr>\n",
       "    <tr>\n",
       "      <th>NA_2</th>\n",
       "      <td>138.958520</td>\n",
       "      <td>20.000000</td>\n",
       "    </tr>\n",
       "    <tr>\n",
       "      <th>NA_3</th>\n",
       "      <td>157.423923</td>\n",
       "      <td>22.000000</td>\n",
       "    </tr>\n",
       "    <tr>\n",
       "      <th>NA_4</th>\n",
       "      <td>173.702114</td>\n",
       "      <td>25.000000</td>\n",
       "    </tr>\n",
       "    <tr>\n",
       "      <th>NA_5</th>\n",
       "      <td>189.521478</td>\n",
       "      <td>29.000000</td>\n",
       "    </tr>\n",
       "    <tr>\n",
       "      <th>NA_6</th>\n",
       "      <td>188.410279</td>\n",
       "      <td>28.000000</td>\n",
       "    </tr>\n",
       "    <tr>\n",
       "      <th>ADL_0</th>\n",
       "      <td>1.095255</td>\n",
       "      <td>1.000000</td>\n",
       "    </tr>\n",
       "    <tr>\n",
       "      <th>ADL_1</th>\n",
       "      <td>1.083723</td>\n",
       "      <td>1.000000</td>\n",
       "    </tr>\n",
       "    <tr>\n",
       "      <th>ADL_2</th>\n",
       "      <td>1.066749</td>\n",
       "      <td>1.000000</td>\n",
       "    </tr>\n",
       "    <tr>\n",
       "      <th>ADL_3</th>\n",
       "      <td>1.085214</td>\n",
       "      <td>1.000000</td>\n",
       "    </tr>\n",
       "    <tr>\n",
       "      <th>ADL_4</th>\n",
       "      <td>1.100215</td>\n",
       "      <td>1.000000</td>\n",
       "    </tr>\n",
       "    <tr>\n",
       "      <th>ADL_5</th>\n",
       "      <td>1.136688</td>\n",
       "      <td>1.000000</td>\n",
       "    </tr>\n",
       "    <tr>\n",
       "      <th>ADL_6</th>\n",
       "      <td>1.140372</td>\n",
       "      <td>1.000000</td>\n",
       "    </tr>\n",
       "    <tr>\n",
       "      <th>NAD_0</th>\n",
       "      <td>140.789860</td>\n",
       "      <td>18.000000</td>\n",
       "    </tr>\n",
       "    <tr>\n",
       "      <th>NAD_1</th>\n",
       "      <td>137.181270</td>\n",
       "      <td>17.000000</td>\n",
       "    </tr>\n",
       "    <tr>\n",
       "      <th>NAD_2</th>\n",
       "      <td>160.105922</td>\n",
       "      <td>21.000000</td>\n",
       "    </tr>\n",
       "    <tr>\n",
       "      <th>NAD_3</th>\n",
       "      <td>182.057440</td>\n",
       "      <td>24.000000</td>\n",
       "    </tr>\n",
       "    <tr>\n",
       "      <th>NAD_4</th>\n",
       "      <td>201.596482</td>\n",
       "      <td>27.000000</td>\n",
       "    </tr>\n",
       "    <tr>\n",
       "      <th>NAD_5</th>\n",
       "      <td>220.705900</td>\n",
       "      <td>31.000000</td>\n",
       "    </tr>\n",
       "    <tr>\n",
       "      <th>NAD_6</th>\n",
       "      <td>219.936864</td>\n",
       "      <td>31.000000</td>\n",
       "    </tr>\n",
       "    <tr>\n",
       "      <th>Buzz_Magnitude</th>\n",
       "      <td>191.279493</td>\n",
       "      <td>25.500000</td>\n",
       "    </tr>\n",
       "  </tbody>\n",
       "</table>\n",
       "<p>78 rows × 2 columns</p>\n",
       "</div>"
      ],
      "text/plain": [
       "                      mean     median\n",
       "NCD_0           140.339640  18.000000\n",
       "NCD_1           136.770147  17.000000\n",
       "NCD_2           159.679271  21.000000\n",
       "NCD_3           181.592091  24.000000\n",
       "NCD_4           201.097445  27.000000\n",
       "NCD_5           220.175371  31.000000\n",
       "NCD_6           219.388214  30.000000\n",
       "AI_0             71.038051  11.000000\n",
       "AI_1             69.829631  11.000000\n",
       "AI_2             82.198203  13.000000\n",
       "AI_3             93.774819  14.000000\n",
       "AI_4            103.895695  16.000000\n",
       "AI_5            113.611141  19.000000\n",
       "AI_6            112.940921  18.000000\n",
       "AS(NA)_0          0.000202   0.000026\n",
       "AS(NA)_1          0.000196   0.000025\n",
       "AS(NA)_2          0.000221   0.000029\n",
       "AS(NA)_3          0.000242   0.000033\n",
       "AS(NA)_4          0.000261   0.000037\n",
       "AS(NA)_5          0.000282   0.000042\n",
       "AS(NA)_6          0.000279   0.000041\n",
       "BL_0              0.925390   1.000000\n",
       "BL_1              0.918146   1.000000\n",
       "BL_2              0.907052   1.000000\n",
       "BL_3              0.919954   1.000000\n",
       "BL_4              0.930657   1.000000\n",
       "BL_5              0.956070   1.000000\n",
       "BL_6              0.955341   1.000000\n",
       "NAC_0           150.662500  20.000000\n",
       "NAC_1           146.641742  19.000000\n",
       "...                    ...        ...\n",
       "CS_6              0.960626   1.000000\n",
       "AT_0              1.045500   1.000000\n",
       "AT_1              1.035194   1.000000\n",
       "AT_2              1.017044   1.000000\n",
       "AT_3              1.032634   1.000000\n",
       "AT_4              1.045863   1.000000\n",
       "AT_5              1.078122   1.000000\n",
       "AT_6              1.081759   1.000000\n",
       "NA_0            123.063726  17.000000\n",
       "NA_1            119.579506  17.000000\n",
       "NA_2            138.958520  20.000000\n",
       "NA_3            157.423923  22.000000\n",
       "NA_4            173.702114  25.000000\n",
       "NA_5            189.521478  29.000000\n",
       "NA_6            188.410279  28.000000\n",
       "ADL_0             1.095255   1.000000\n",
       "ADL_1             1.083723   1.000000\n",
       "ADL_2             1.066749   1.000000\n",
       "ADL_3             1.085214   1.000000\n",
       "ADL_4             1.100215   1.000000\n",
       "ADL_5             1.136688   1.000000\n",
       "ADL_6             1.140372   1.000000\n",
       "NAD_0           140.789860  18.000000\n",
       "NAD_1           137.181270  17.000000\n",
       "NAD_2           160.105922  21.000000\n",
       "NAD_3           182.057440  24.000000\n",
       "NAD_4           201.596482  27.000000\n",
       "NAD_5           220.705900  31.000000\n",
       "NAD_6           219.936864  31.000000\n",
       "Buzz_Magnitude  191.279493  25.500000\n",
       "\n",
       "[78 rows x 2 columns]"
      ]
     },
     "execution_count": 14,
     "metadata": {},
     "output_type": "execute_result"
    }
   ],
   "source": [
    "def Skewness(data):\n",
    "    s = (data.mean(),data.median())\n",
    "    s = pd.concat(s,axis=1)\n",
    "    s.columns = ['mean','median']\n",
    "    return(s)\n",
    "Skewness(data)"
   ]
  },
  {
   "cell_type": "markdown",
   "metadata": {},
   "source": [
    "#### The use of scaling algorithm in the listed below methods will be Min Max Scalar Method\n",
    "#### as the independent variables are not normally distributed and are Right Skewed as mean is towards the right of median\n",
    "#### which we can see in the listed above table having 'Mean' and 'Median' values for all variables\n",
    "#### so Standard Scaler will not work well \n",
    "#### and Min Max scalar Works well with such data set distribution as compared to Standard Scalar \n"
   ]
  },
  {
   "cell_type": "code",
   "execution_count": 15,
   "metadata": {},
   "outputs": [],
   "source": [
    "from sklearn.preprocessing import MinMaxScaler StandardScaler\n",
    "# scaler = MinMaxScaler()\n",
    "scaler=StandardScaler()\n",
    "X_train = scaler.fit_transform(X_train_org)\n",
    "X_test = scaler.transform(X_test_org)"
   ]
  },
  {
   "cell_type": "markdown",
   "metadata": {},
   "source": [
    "### Model 1 :  Linear regression (Normal Equation)"
   ]
  },
  {
   "cell_type": "code",
   "execution_count": 16,
   "metadata": {},
   "outputs": [],
   "source": [
    "from sklearn.linear_model import LinearRegression\n",
    "lreg = LinearRegression()\n",
    "from sklearn.model_selection import cross_val_score\n"
   ]
  },
  {
   "cell_type": "code",
   "execution_count": 17,
   "metadata": {
    "scrolled": true
   },
   "outputs": [
    {
     "name": "stdout",
     "output_type": "stream",
     "text": [
      "CV Scores: [0.78181402 0.84931164 0.93561898 0.98952516 0.93717388]\n"
     ]
    },
    {
     "data": {
      "text/plain": [
       "array([0.78181402, 0.84931164, 0.93561898, 0.98952516, 0.93717388])"
      ]
     },
     "execution_count": 17,
     "metadata": {},
     "output_type": "execute_result"
    }
   ],
   "source": [
    "CvScores = cross_val_score(lreg, X_train, Y_train, cv=5)\n",
    "print(\"CV Scores: {}\".format(CvScores))\n",
    "CvScores"
   ]
  },
  {
   "cell_type": "code",
   "execution_count": 18,
   "metadata": {
    "scrolled": false
   },
   "outputs": [
    {
     "name": "stdout",
     "output_type": "stream",
     "text": [
      "Train Set Score: 0.90\n",
      "Test Set Score: 0.93\n"
     ]
    }
   ],
   "source": [
    "Train_Score = CvScores.mean()\n",
    "print(\"Train Set Score: {:.2f}\".format(Train_Score))\n",
    "lreg.fit(X_train, Y_train)\n",
    "Test_Score = lreg.score(X_test,Y_test)\n",
    "print(\"Test Set Score: {:.2f}\".format(Test_Score))\n"
   ]
  },
  {
   "cell_type": "code",
   "execution_count": 19,
   "metadata": {},
   "outputs": [],
   "source": [
    "report_table = [['Linear Regression', 'None', Train_Score, Test_Score]]"
   ]
  },
  {
   "cell_type": "markdown",
   "metadata": {},
   "source": [
    "### Model 2 : KNN Regressor "
   ]
  },
  {
   "cell_type": "code",
   "execution_count": 20,
   "metadata": {},
   "outputs": [],
   "source": [
    "from sklearn.neighbors import KNeighborsRegressor\n",
    "from sklearn.model_selection import GridSearchCV\n",
    "model_knn = KNeighborsRegressor()\n"
   ]
  },
  {
   "cell_type": "code",
   "execution_count": 21,
   "metadata": {},
   "outputs": [
    {
     "name": "stdout",
     "output_type": "stream",
     "text": [
      "Defined Parameters:\n",
      "{'n_neighbors': [1, 5, 10, 15, 20]}\n"
     ]
    }
   ],
   "source": [
    "param_knn = {'n_neighbors':[1, 5, 10, 15, 20]}\n",
    "print(\"Defined Parameters:\\n{}\".format(param_knn))\n"
   ]
  },
  {
   "cell_type": "code",
   "execution_count": 22,
   "metadata": {},
   "outputs": [
    {
     "data": {
      "text/plain": [
       "GridSearchCV(cv=5, error_score='raise',\n",
       "       estimator=KNeighborsRegressor(algorithm='auto', leaf_size=30, metric='minkowski',\n",
       "          metric_params=None, n_jobs=1, n_neighbors=5, p=2,\n",
       "          weights='uniform'),\n",
       "       fit_params=None, iid=True, n_jobs=1,\n",
       "       param_grid={'n_neighbors': [1, 5, 10, 15, 20]},\n",
       "       pre_dispatch='2*n_jobs', refit=True, return_train_score=True,\n",
       "       scoring=None, verbose=0)"
      ]
     },
     "execution_count": 22,
     "metadata": {},
     "output_type": "execute_result"
    }
   ],
   "source": [
    "grid_knn = GridSearchCV(model_knn, param_grid = param_knn, cv=5, return_train_score=True)\n",
    "grid_knn.fit(X_train, Y_train)"
   ]
  },
  {
   "cell_type": "code",
   "execution_count": 23,
   "metadata": {
    "scrolled": false
   },
   "outputs": [
    {
     "name": "stdout",
     "output_type": "stream",
     "text": [
      "Best cross-validation accuracy: 0.66\n",
      "Best parameters: {'n_neighbors': 1}\n",
      "Train Set Score: 1.0\n",
      "Test Set Score: 0.8980074818676087\n"
     ]
    }
   ],
   "source": [
    "print(\"Best cross-validation accuracy: {:.2f}\".format(grid_knn.best_score_))\n",
    "print(\"Best parameters: {}\".format(grid_knn.best_params_))\n",
    "print(\"Train Set Score: {}\".format(grid_knn.score(X_train, Y_train)))\n",
    "print(\"Test Set Score: {}\".format(grid_knn.score(X_test,Y_test)))"
   ]
  },
  {
   "cell_type": "code",
   "execution_count": 24,
   "metadata": {},
   "outputs": [],
   "source": [
    "report_table = report_table + [['KNN Regression', 'K = 5', grid_knn.score(X_train, Y_train), grid_knn.score(X_test,Y_test)]]"
   ]
  },
  {
   "cell_type": "markdown",
   "metadata": {},
   "source": [
    "### Model 3 : Ridge"
   ]
  },
  {
   "cell_type": "code",
   "execution_count": 25,
   "metadata": {},
   "outputs": [
    {
     "name": "stdout",
     "output_type": "stream",
     "text": [
      "Defined Parameters:\n",
      "{'alpha': [0.001, 0.003, 0.01, 0.03, 0.1, 0.3, 1, 3, 10, 30, 100, 300, 1000]}\n"
     ]
    }
   ],
   "source": [
    "from sklearn.linear_model import Ridge\n",
    "model_ridge = Ridge()\n",
    "param_ridge = {'alpha': [0.001,0.003,0.01,0.03,0.1,0.3,1,3,10,30,100,300,1000]}\n",
    "print(\"Defined Parameters:\\n{}\".format(param_ridge))\n"
   ]
  },
  {
   "cell_type": "code",
   "execution_count": 26,
   "metadata": {},
   "outputs": [
    {
     "data": {
      "text/plain": [
       "GridSearchCV(cv=5, error_score='raise',\n",
       "       estimator=Ridge(alpha=1.0, copy_X=True, fit_intercept=True, max_iter=None,\n",
       "   normalize=False, random_state=None, solver='auto', tol=0.001),\n",
       "       fit_params=None, iid=True, n_jobs=1,\n",
       "       param_grid={'alpha': [0.001, 0.003, 0.01, 0.03, 0.1, 0.3, 1, 3, 10, 30, 100, 300, 1000]},\n",
       "       pre_dispatch='2*n_jobs', refit=True, return_train_score=True,\n",
       "       scoring=None, verbose=0)"
      ]
     },
     "execution_count": 26,
     "metadata": {},
     "output_type": "execute_result"
    }
   ],
   "source": [
    "grid_ridge = GridSearchCV(estimator = model_ridge,param_grid = param_ridge, cv=5, return_train_score=True)\n",
    "grid_ridge.fit(X_train, Y_train)"
   ]
  },
  {
   "cell_type": "code",
   "execution_count": 27,
   "metadata": {
    "scrolled": false
   },
   "outputs": [
    {
     "name": "stdout",
     "output_type": "stream",
     "text": [
      "Best cross-validation accuracy: 0.92\n",
      "Best parameters: {'alpha': 0.01}\n",
      "Train Set Score: 0.9901926951809106\n",
      "Test Set Score: 0.9336262424113778\n"
     ]
    }
   ],
   "source": [
    "print(\"Best cross-validation accuracy: {:.2f}\".format(grid_ridge.best_score_))\n",
    "print(\"Best parameters: {}\".format(grid_ridge.best_params_))\n",
    "print(\"Train Set Score: {}\".format(grid_ridge.score(X_train, Y_train)))\n",
    "print(\"Test Set Score: {}\".format(grid_ridge.score(X_test, Y_test)))"
   ]
  },
  {
   "cell_type": "code",
   "execution_count": 28,
   "metadata": {},
   "outputs": [],
   "source": [
    "report_table = report_table + [['Ridge Regression', 'alpha = 0.3', grid_ridge.score(X_train, Y_train), grid_ridge.score(X_test,Y_test)]]"
   ]
  },
  {
   "cell_type": "markdown",
   "metadata": {},
   "source": [
    "### Model 4 : Lasso"
   ]
  },
  {
   "cell_type": "code",
   "execution_count": 29,
   "metadata": {},
   "outputs": [],
   "source": [
    "import warnings\n",
    "from  sklearn.linear_model import Lasso\n",
    "model_lasso = Lasso()\n",
    "warnings.filterwarnings('ignore')"
   ]
  },
  {
   "cell_type": "code",
   "execution_count": 30,
   "metadata": {},
   "outputs": [
    {
     "name": "stdout",
     "output_type": "stream",
     "text": [
      "Defined Parameters:\n",
      "{'alpha': [0.001, 0.003, 0.01, 0.03, 0.1, 0.3, 1, 3, 10, 30, 100, 300, 1000]}\n"
     ]
    }
   ],
   "source": [
    "param_lasso = {'alpha': [0.001,0.003,0.01,0.03,0.1,0.3,1,3,10,30,100,300,1000]}\n",
    "print(\"Defined Parameters:\\n{}\".format(param_lasso))\n"
   ]
  },
  {
   "cell_type": "code",
   "execution_count": 31,
   "metadata": {},
   "outputs": [
    {
     "data": {
      "text/plain": [
       "GridSearchCV(cv=5, error_score='raise',\n",
       "       estimator=Lasso(alpha=1.0, copy_X=True, fit_intercept=True, max_iter=1000,\n",
       "   normalize=False, positive=False, precompute=False, random_state=None,\n",
       "   selection='cyclic', tol=0.0001, warm_start=False),\n",
       "       fit_params=None, iid=True, n_jobs=1,\n",
       "       param_grid={'alpha': [0.001, 0.003, 0.01, 0.03, 0.1, 0.3, 1, 3, 10, 30, 100, 300, 1000]},\n",
       "       pre_dispatch='2*n_jobs', refit=True, return_train_score=True,\n",
       "       scoring=None, verbose=0)"
      ]
     },
     "execution_count": 31,
     "metadata": {},
     "output_type": "execute_result"
    }
   ],
   "source": [
    "grid_lasso = GridSearchCV(model_lasso, param_grid = param_lasso, cv=5, return_train_score=True)\n",
    "grid_lasso.fit(X_train, Y_train)"
   ]
  },
  {
   "cell_type": "code",
   "execution_count": 32,
   "metadata": {
    "scrolled": true
   },
   "outputs": [
    {
     "name": "stdout",
     "output_type": "stream",
     "text": [
      "Best cross-validation accuracy: 0.92\n",
      "Best parameters: {'alpha': 0.01}\n",
      "Train Set Score: 0.9905320861757804\n",
      "Test Set Score: 0.9324472767715222\n"
     ]
    }
   ],
   "source": [
    "print(\"Best cross-validation accuracy: {:.2f}\".format(grid_lasso.best_score_))\n",
    "print(\"Best parameters: {}\".format(grid_lasso.best_params_))\n",
    "print(\"Train Set Score: {}\".format(grid_lasso.score(X_train, Y_train)))\n",
    "print(\"Test Set Score: {}\".format(grid_lasso.score(X_test, Y_test)))"
   ]
  },
  {
   "cell_type": "code",
   "execution_count": 33,
   "metadata": {},
   "outputs": [],
   "source": [
    "report_table = report_table + [['Lasso Regression', 'alpha = 1', grid_lasso.score(X_train, Y_train), grid_lasso.score(X_test,Y_test)]]"
   ]
  },
  {
   "cell_type": "markdown",
   "metadata": {},
   "source": [
    "### Model 5 : Polynomial Regression\n",
    "\n"
   ]
  },
  {
   "cell_type": "code",
   "execution_count": 34,
   "metadata": {},
   "outputs": [],
   "source": [
    "from sklearn.preprocessing import PolynomialFeatures\n",
    "poly = PolynomialFeatures(degree=2)"
   ]
  },
  {
   "cell_type": "code",
   "execution_count": 35,
   "metadata": {
    "scrolled": false
   },
   "outputs": [
    {
     "name": "stdout",
     "output_type": "stream",
     "text": [
      "Train Set Score: -33329.78\n",
      "Test Set Score: -33329.78\n"
     ]
    }
   ],
   "source": [
    "Train_Score_List = []\n",
    "Test_Score_List = []\n",
    "lreg_poly = LinearRegression()\n",
    "\n",
    "X_Train_Poly = poly.fit_transform(X_train)\n",
    "X_Test_Poly = poly.transform(X_test)\n",
    "PolCVScore = cross_val_score(lreg_poly, X_Train_Poly, Y_train, cv=5)\n",
    "lreg_poly.fit(X_Train_Poly,Y_train)\n",
    "Train_ScorePoly = lreg_poly.score(X_Test_Poly,Y_test)\n",
    "\n",
    "Train_ScorePoly = PolCVScore.mean()\n",
    "print(\"Train Set Score: {:.2f}\".format(PolCVScore.mean()))\n",
    "print(\"Test Set Score: {:.2f}\".format(Train_ScorePoly))\n",
    "\n",
    "\n",
    "\n"
   ]
  },
  {
   "cell_type": "code",
   "execution_count": 36,
   "metadata": {},
   "outputs": [],
   "source": [
    "report_table = report_table + [['Polynomial Regression', 'Degree = 2', PolCVScore.mean(), Train_ScorePoly]]"
   ]
  },
  {
   "cell_type": "markdown",
   "metadata": {},
   "source": [
    "### Model 6 : Stochastic Gradient Descent Regressor"
   ]
  },
  {
   "cell_type": "code",
   "execution_count": 37,
   "metadata": {},
   "outputs": [],
   "source": [
    "from sklearn.model_selection import GridSearchCV\n",
    "from sklearn.linear_model import SGDRegressor\n",
    "sgd_reg=SGDRegressor()\n"
   ]
  },
  {
   "cell_type": "code",
   "execution_count": 38,
   "metadata": {},
   "outputs": [
    {
     "name": "stdout",
     "output_type": "stream",
     "text": [
      "Defined Parameters:\n",
      "{'max_iter': [10, 100, 1000], 'learning_rate': ['optimal'], 'penalty': ['l1', 'l2'], 'random_state': [0]}\n"
     ]
    }
   ],
   "source": [
    "param_sgd = {'max_iter': [10, 100, 1000],'learning_rate':['optimal'], 'penalty' :['l1','l2'],'random_state':[0]}\n",
    "print(\"Defined Parameters:\\n{}\".format(param_sgd))\n"
   ]
  },
  {
   "cell_type": "code",
   "execution_count": 39,
   "metadata": {},
   "outputs": [
    {
     "data": {
      "text/plain": [
       "GridSearchCV(cv=5, error_score='raise',\n",
       "       estimator=SGDRegressor(alpha=0.0001, average=False, epsilon=0.1, eta0=0.01,\n",
       "       fit_intercept=True, l1_ratio=0.15, learning_rate='invscaling',\n",
       "       loss='squared_loss', max_iter=None, n_iter=None, penalty='l2',\n",
       "       power_t=0.25, random_state=None, shuffle=True, tol=None, verbose=0,\n",
       "       warm_start=False),\n",
       "       fit_params=None, iid=True, n_jobs=1,\n",
       "       param_grid={'max_iter': [10, 100, 1000], 'learning_rate': ['optimal'], 'penalty': ['l1', 'l2'], 'random_state': [0]},\n",
       "       pre_dispatch='2*n_jobs', refit=True, return_train_score=True,\n",
       "       scoring=None, verbose=0)"
      ]
     },
     "execution_count": 39,
     "metadata": {},
     "output_type": "execute_result"
    }
   ],
   "source": [
    "grid_sgd = GridSearchCV(estimator = sgd_reg, param_grid = param_sgd, cv=5, return_train_score=True)\n",
    "grid_sgd.fit(X_train, Y_train)"
   ]
  },
  {
   "cell_type": "code",
   "execution_count": 40,
   "metadata": {},
   "outputs": [
    {
     "name": "stdout",
     "output_type": "stream",
     "text": [
      "Best parameters: {'learning_rate': 'optimal', 'max_iter': 1000, 'penalty': 'l2', 'random_state': 0}\n"
     ]
    },
    {
     "data": {
      "text/html": [
       "<div>\n",
       "<style scoped>\n",
       "    .dataframe tbody tr th:only-of-type {\n",
       "        vertical-align: middle;\n",
       "    }\n",
       "\n",
       "    .dataframe tbody tr th {\n",
       "        vertical-align: top;\n",
       "    }\n",
       "\n",
       "    .dataframe thead th {\n",
       "        text-align: right;\n",
       "    }\n",
       "</style>\n",
       "<table border=\"1\" class=\"dataframe\">\n",
       "  <thead>\n",
       "    <tr style=\"text-align: right;\">\n",
       "      <th></th>\n",
       "      <th>params</th>\n",
       "      <th>mean_train_score</th>\n",
       "      <th>mean_test_score</th>\n",
       "    </tr>\n",
       "  </thead>\n",
       "  <tbody>\n",
       "    <tr>\n",
       "      <th>0</th>\n",
       "      <td>{'learning_rate': 'optimal', 'max_iter': 10, '...</td>\n",
       "      <td>-6.337536e+20</td>\n",
       "      <td>-1.578949e+21</td>\n",
       "    </tr>\n",
       "    <tr>\n",
       "      <th>1</th>\n",
       "      <td>{'learning_rate': 'optimal', 'max_iter': 10, '...</td>\n",
       "      <td>-4.218091e+20</td>\n",
       "      <td>-2.351593e+21</td>\n",
       "    </tr>\n",
       "    <tr>\n",
       "      <th>2</th>\n",
       "      <td>{'learning_rate': 'optimal', 'max_iter': 100, ...</td>\n",
       "      <td>-1.329109e+18</td>\n",
       "      <td>-4.000668e+18</td>\n",
       "    </tr>\n",
       "    <tr>\n",
       "      <th>3</th>\n",
       "      <td>{'learning_rate': 'optimal', 'max_iter': 100, ...</td>\n",
       "      <td>-1.021762e+18</td>\n",
       "      <td>-5.311891e+18</td>\n",
       "    </tr>\n",
       "    <tr>\n",
       "      <th>4</th>\n",
       "      <td>{'learning_rate': 'optimal', 'max_iter': 1000,...</td>\n",
       "      <td>-5.963524e+14</td>\n",
       "      <td>-1.133848e+16</td>\n",
       "    </tr>\n",
       "    <tr>\n",
       "      <th>5</th>\n",
       "      <td>{'learning_rate': 'optimal', 'max_iter': 1000,...</td>\n",
       "      <td>-9.651196e+10</td>\n",
       "      <td>-1.381004e+12</td>\n",
       "    </tr>\n",
       "  </tbody>\n",
       "</table>\n",
       "</div>"
      ],
      "text/plain": [
       "                                              params  mean_train_score  \\\n",
       "0  {'learning_rate': 'optimal', 'max_iter': 10, '...     -6.337536e+20   \n",
       "1  {'learning_rate': 'optimal', 'max_iter': 10, '...     -4.218091e+20   \n",
       "2  {'learning_rate': 'optimal', 'max_iter': 100, ...     -1.329109e+18   \n",
       "3  {'learning_rate': 'optimal', 'max_iter': 100, ...     -1.021762e+18   \n",
       "4  {'learning_rate': 'optimal', 'max_iter': 1000,...     -5.963524e+14   \n",
       "5  {'learning_rate': 'optimal', 'max_iter': 1000,...     -9.651196e+10   \n",
       "\n",
       "   mean_test_score  \n",
       "0    -1.578949e+21  \n",
       "1    -2.351593e+21  \n",
       "2    -4.000668e+18  \n",
       "3    -5.311891e+18  \n",
       "4    -1.133848e+16  \n",
       "5    -1.381004e+12  "
      ]
     },
     "execution_count": 40,
     "metadata": {},
     "output_type": "execute_result"
    }
   ],
   "source": [
    "print(\"Best parameters: {}\".format(grid_sgd.best_params_))\n",
    "grid_sgdata = pd.DataFrame(grid_sgd.cv_results_)\n",
    "grid_sgdata = grid_sgdata[['params','mean_train_score','mean_test_score']]\n",
    "grid_sgdata\n"
   ]
  },
  {
   "cell_type": "code",
   "execution_count": 41,
   "metadata": {},
   "outputs": [
    {
     "name": "stdout",
     "output_type": "stream",
     "text": [
      "Best cross-validation accuracy: -1381004065969.10\n",
      "Best parameters: {'learning_rate': 'optimal', 'max_iter': 1000, 'penalty': 'l2', 'random_state': 0}\n",
      "Train Set Score: -17240453019.346058\n",
      "Test Set Score: -113425297454.25739\n"
     ]
    }
   ],
   "source": [
    "print(\"Best cross-validation accuracy: {:.2f}\".format(grid_sgd.best_score_))\n",
    "print(\"Best parameters: {}\".format(grid_sgd.best_params_))\n",
    "print(\"Train Set Score: {}\".format(grid_sgd.score(X_train, Y_train)))\n",
    "print(\"Test Set Score: {}\".format(grid_sgd.score(X_test, Y_test)))\n",
    "\n"
   ]
  },
  {
   "cell_type": "code",
   "execution_count": 42,
   "metadata": {},
   "outputs": [],
   "source": [
    "report_table = report_table + [['SGD Regression', grid_sgd.best_params_, grid_sgd.score(X_train, Y_train), grid_sgd.score(X_test, Y_test)]]"
   ]
  },
  {
   "cell_type": "markdown",
   "metadata": {},
   "source": [
    "### Model 7 : Linear SVR"
   ]
  },
  {
   "cell_type": "code",
   "execution_count": 43,
   "metadata": {},
   "outputs": [
    {
     "name": "stdout",
     "output_type": "stream",
     "text": [
      "Defined Parameters:\n",
      "{'C': [0.001, 0.01, 0.1, 1, 10, 100, 1000]}\n"
     ]
    }
   ],
   "source": [
    "from sklearn.svm import LinearSVR\n",
    "model_LSVM = LinearSVR()\n",
    "param_LSVM = {'C':[0.001, 0.01, 0.1, 1, 10, 100, 1000]}\n",
    "print(\"Defined Parameters:\\n{}\".format(param_LSVM))\n"
   ]
  },
  {
   "cell_type": "code",
   "execution_count": 44,
   "metadata": {
    "scrolled": true
   },
   "outputs": [
    {
     "data": {
      "text/plain": [
       "GridSearchCV(cv=5, error_score='raise',\n",
       "       estimator=LinearSVR(C=1.0, dual=True, epsilon=0.0, fit_intercept=True,\n",
       "     intercept_scaling=1.0, loss='epsilon_insensitive', max_iter=1000,\n",
       "     random_state=None, tol=0.0001, verbose=0),\n",
       "       fit_params=None, iid=True, n_jobs=1,\n",
       "       param_grid={'C': [0.001, 0.01, 0.1, 1, 10, 100, 1000]},\n",
       "       pre_dispatch='2*n_jobs', refit=True, return_train_score=True,\n",
       "       scoring=None, verbose=0)"
      ]
     },
     "execution_count": 44,
     "metadata": {},
     "output_type": "execute_result"
    }
   ],
   "source": [
    "grid_LSVM = GridSearchCV(model_LSVM, param_grid = param_LSVM, cv=5, return_train_score=True)\n",
    "grid_LSVM.fit(X_train, Y_train)"
   ]
  },
  {
   "cell_type": "code",
   "execution_count": 45,
   "metadata": {},
   "outputs": [
    {
     "name": "stdout",
     "output_type": "stream",
     "text": [
      "Best parameters: {'C': 1000}\n"
     ]
    },
    {
     "data": {
      "text/html": [
       "<div>\n",
       "<style scoped>\n",
       "    .dataframe tbody tr th:only-of-type {\n",
       "        vertical-align: middle;\n",
       "    }\n",
       "\n",
       "    .dataframe tbody tr th {\n",
       "        vertical-align: top;\n",
       "    }\n",
       "\n",
       "    .dataframe thead th {\n",
       "        text-align: right;\n",
       "    }\n",
       "</style>\n",
       "<table border=\"1\" class=\"dataframe\">\n",
       "  <thead>\n",
       "    <tr style=\"text-align: right;\">\n",
       "      <th></th>\n",
       "      <th>params</th>\n",
       "      <th>mean_train_score</th>\n",
       "      <th>mean_test_score</th>\n",
       "    </tr>\n",
       "  </thead>\n",
       "  <tbody>\n",
       "    <tr>\n",
       "      <th>0</th>\n",
       "      <td>{'C': 0.001}</td>\n",
       "      <td>-0.055393</td>\n",
       "      <td>-0.143262</td>\n",
       "    </tr>\n",
       "    <tr>\n",
       "      <th>1</th>\n",
       "      <td>{'C': 0.01}</td>\n",
       "      <td>-0.047553</td>\n",
       "      <td>-0.119754</td>\n",
       "    </tr>\n",
       "    <tr>\n",
       "      <th>2</th>\n",
       "      <td>{'C': 0.1}</td>\n",
       "      <td>-0.036016</td>\n",
       "      <td>-0.093060</td>\n",
       "    </tr>\n",
       "    <tr>\n",
       "      <th>3</th>\n",
       "      <td>{'C': 1}</td>\n",
       "      <td>0.025304</td>\n",
       "      <td>0.002497</td>\n",
       "    </tr>\n",
       "    <tr>\n",
       "      <th>4</th>\n",
       "      <td>{'C': 10}</td>\n",
       "      <td>0.411904</td>\n",
       "      <td>0.521030</td>\n",
       "    </tr>\n",
       "    <tr>\n",
       "      <th>5</th>\n",
       "      <td>{'C': 100}</td>\n",
       "      <td>0.732406</td>\n",
       "      <td>0.791190</td>\n",
       "    </tr>\n",
       "    <tr>\n",
       "      <th>6</th>\n",
       "      <td>{'C': 1000}</td>\n",
       "      <td>0.958092</td>\n",
       "      <td>0.853302</td>\n",
       "    </tr>\n",
       "  </tbody>\n",
       "</table>\n",
       "</div>"
      ],
      "text/plain": [
       "         params  mean_train_score  mean_test_score\n",
       "0  {'C': 0.001}         -0.055393        -0.143262\n",
       "1   {'C': 0.01}         -0.047553        -0.119754\n",
       "2    {'C': 0.1}         -0.036016        -0.093060\n",
       "3      {'C': 1}          0.025304         0.002497\n",
       "4     {'C': 10}          0.411904         0.521030\n",
       "5    {'C': 100}          0.732406         0.791190\n",
       "6   {'C': 1000}          0.958092         0.853302"
      ]
     },
     "execution_count": 45,
     "metadata": {},
     "output_type": "execute_result"
    }
   ],
   "source": [
    "print(\"Best parameters: {}\".format(grid_LSVM.best_params_))\n",
    "grid_LSVMdata = pd.DataFrame(grid_LSVM.cv_results_)\n",
    "grid_LSVMdata = grid_LSVMdata[['params','mean_train_score','mean_test_score']]\n",
    "grid_LSVMdata\n"
   ]
  },
  {
   "cell_type": "code",
   "execution_count": 46,
   "metadata": {},
   "outputs": [
    {
     "name": "stdout",
     "output_type": "stream",
     "text": [
      "Best cross-validation accuracy: 0.85\n",
      "Best parameters: {'C': 1000}\n",
      "Train Set Score: 0.9650802118177149\n",
      "Test Set Score: 0.9442482551780127\n"
     ]
    }
   ],
   "source": [
    "print(\"Best cross-validation accuracy: {:.2f}\".format(grid_LSVM.best_score_))\n",
    "print(\"Best parameters: {}\".format(grid_LSVM.best_params_))\n",
    "print(\"Train Set Score: {}\".format(grid_LSVM.score(X_train, Y_train)))\n",
    "print(\"Test Set Score: {}\".format(grid_LSVM.score(X_test, Y_test)))"
   ]
  },
  {
   "cell_type": "code",
   "execution_count": 47,
   "metadata": {},
   "outputs": [],
   "source": [
    "report_table = report_table + [['Linear SVM', grid_LSVM.best_params_, grid_LSVM.score(X_train, Y_train), grid_LSVM.score(X_test, Y_test)]]"
   ]
  },
  {
   "cell_type": "markdown",
   "metadata": {},
   "source": [
    "### Model 8 : SVM Kernel ' rbf '"
   ]
  },
  {
   "cell_type": "code",
   "execution_count": 48,
   "metadata": {},
   "outputs": [
    {
     "name": "stdout",
     "output_type": "stream",
     "text": [
      "Defined Parameters:\n",
      "{'C': [0.001, 0.01, 0.1, 1, 10, 100], 'gamma': [0.001, 0.01, 0.1, 1, 10, 100]}\n"
     ]
    }
   ],
   "source": [
    "from sklearn.svm import SVR\n",
    "model_RadSVM = SVR(kernel = 'rbf')\n",
    "param_RadSVM = {'C': [0.001, 0.01, 0.1, 1, 10, 100],'gamma': [0.001, 0.01, 0.1, 1, 10, 100]}\n",
    "print(\"Defined Parameters:\\n{}\".format(param_RadSVM))\n"
   ]
  },
  {
   "cell_type": "code",
   "execution_count": 49,
   "metadata": {
    "scrolled": true
   },
   "outputs": [
    {
     "data": {
      "text/plain": [
       "GridSearchCV(cv=5, error_score='raise',\n",
       "       estimator=SVR(C=1.0, cache_size=200, coef0=0.0, degree=3, epsilon=0.1, gamma='auto',\n",
       "  kernel='rbf', max_iter=-1, shrinking=True, tol=0.001, verbose=False),\n",
       "       fit_params=None, iid=True, n_jobs=1,\n",
       "       param_grid={'C': [0.001, 0.01, 0.1, 1, 10, 100], 'gamma': [0.001, 0.01, 0.1, 1, 10, 100]},\n",
       "       pre_dispatch='2*n_jobs', refit=True, return_train_score=True,\n",
       "       scoring=None, verbose=0)"
      ]
     },
     "execution_count": 49,
     "metadata": {},
     "output_type": "execute_result"
    }
   ],
   "source": [
    "grid_RadSVM = GridSearchCV(model_RadSVM, param_grid = param_RadSVM, cv=5, return_train_score=True)\n",
    "grid_RadSVM.fit(X_train, Y_train)"
   ]
  },
  {
   "cell_type": "code",
   "execution_count": 50,
   "metadata": {},
   "outputs": [
    {
     "name": "stdout",
     "output_type": "stream",
     "text": [
      "Best parameters: {'C': 100, 'gamma': 0.1}\n"
     ]
    },
    {
     "data": {
      "text/html": [
       "<div>\n",
       "<style scoped>\n",
       "    .dataframe tbody tr th:only-of-type {\n",
       "        vertical-align: middle;\n",
       "    }\n",
       "\n",
       "    .dataframe tbody tr th {\n",
       "        vertical-align: top;\n",
       "    }\n",
       "\n",
       "    .dataframe thead th {\n",
       "        text-align: right;\n",
       "    }\n",
       "</style>\n",
       "<table border=\"1\" class=\"dataframe\">\n",
       "  <thead>\n",
       "    <tr style=\"text-align: right;\">\n",
       "      <th></th>\n",
       "      <th>params</th>\n",
       "      <th>mean_train_score</th>\n",
       "      <th>mean_test_score</th>\n",
       "    </tr>\n",
       "  </thead>\n",
       "  <tbody>\n",
       "    <tr>\n",
       "      <th>0</th>\n",
       "      <td>{'C': 0.001, 'gamma': 0.001}</td>\n",
       "      <td>-0.044536</td>\n",
       "      <td>-0.108639</td>\n",
       "    </tr>\n",
       "    <tr>\n",
       "      <th>1</th>\n",
       "      <td>{'C': 0.001, 'gamma': 0.01}</td>\n",
       "      <td>-0.044535</td>\n",
       "      <td>-0.108638</td>\n",
       "    </tr>\n",
       "    <tr>\n",
       "      <th>2</th>\n",
       "      <td>{'C': 0.001, 'gamma': 0.1}</td>\n",
       "      <td>-0.044537</td>\n",
       "      <td>-0.108632</td>\n",
       "    </tr>\n",
       "    <tr>\n",
       "      <th>3</th>\n",
       "      <td>{'C': 0.001, 'gamma': 1}</td>\n",
       "      <td>-0.044547</td>\n",
       "      <td>-0.108645</td>\n",
       "    </tr>\n",
       "    <tr>\n",
       "      <th>4</th>\n",
       "      <td>{'C': 0.001, 'gamma': 10}</td>\n",
       "      <td>-0.044537</td>\n",
       "      <td>-0.108630</td>\n",
       "    </tr>\n",
       "    <tr>\n",
       "      <th>5</th>\n",
       "      <td>{'C': 0.001, 'gamma': 100}</td>\n",
       "      <td>-0.044519</td>\n",
       "      <td>-0.108583</td>\n",
       "    </tr>\n",
       "    <tr>\n",
       "      <th>6</th>\n",
       "      <td>{'C': 0.01, 'gamma': 0.001}</td>\n",
       "      <td>-0.044535</td>\n",
       "      <td>-0.108637</td>\n",
       "    </tr>\n",
       "    <tr>\n",
       "      <th>7</th>\n",
       "      <td>{'C': 0.01, 'gamma': 0.01}</td>\n",
       "      <td>-0.044526</td>\n",
       "      <td>-0.108620</td>\n",
       "    </tr>\n",
       "    <tr>\n",
       "      <th>8</th>\n",
       "      <td>{'C': 0.01, 'gamma': 0.1}</td>\n",
       "      <td>-0.044543</td>\n",
       "      <td>-0.108564</td>\n",
       "    </tr>\n",
       "    <tr>\n",
       "      <th>9</th>\n",
       "      <td>{'C': 0.01, 'gamma': 1}</td>\n",
       "      <td>-0.044642</td>\n",
       "      <td>-0.108678</td>\n",
       "    </tr>\n",
       "    <tr>\n",
       "      <th>10</th>\n",
       "      <td>{'C': 0.01, 'gamma': 10}</td>\n",
       "      <td>-0.044546</td>\n",
       "      <td>-0.108546</td>\n",
       "    </tr>\n",
       "    <tr>\n",
       "      <th>11</th>\n",
       "      <td>{'C': 0.01, 'gamma': 100}</td>\n",
       "      <td>-0.044352</td>\n",
       "      <td>-0.108094</td>\n",
       "    </tr>\n",
       "    <tr>\n",
       "      <th>12</th>\n",
       "      <td>{'C': 0.1, 'gamma': 0.001}</td>\n",
       "      <td>-0.044523</td>\n",
       "      <td>-0.108618</td>\n",
       "    </tr>\n",
       "    <tr>\n",
       "      <th>13</th>\n",
       "      <td>{'C': 0.1, 'gamma': 0.01}</td>\n",
       "      <td>-0.044439</td>\n",
       "      <td>-0.108447</td>\n",
       "    </tr>\n",
       "    <tr>\n",
       "      <th>14</th>\n",
       "      <td>{'C': 0.1, 'gamma': 0.1}</td>\n",
       "      <td>-0.044523</td>\n",
       "      <td>-0.107681</td>\n",
       "    </tr>\n",
       "    <tr>\n",
       "      <th>15</th>\n",
       "      <td>{'C': 0.1, 'gamma': 1}</td>\n",
       "      <td>-0.045225</td>\n",
       "      <td>-0.108166</td>\n",
       "    </tr>\n",
       "    <tr>\n",
       "      <th>16</th>\n",
       "      <td>{'C': 0.1, 'gamma': 10}</td>\n",
       "      <td>-0.044281</td>\n",
       "      <td>-0.106889</td>\n",
       "    </tr>\n",
       "    <tr>\n",
       "      <th>17</th>\n",
       "      <td>{'C': 0.1, 'gamma': 100}</td>\n",
       "      <td>-0.042785</td>\n",
       "      <td>-0.103731</td>\n",
       "    </tr>\n",
       "    <tr>\n",
       "      <th>18</th>\n",
       "      <td>{'C': 1, 'gamma': 0.001}</td>\n",
       "      <td>-0.044402</td>\n",
       "      <td>-0.108420</td>\n",
       "    </tr>\n",
       "    <tr>\n",
       "      <th>19</th>\n",
       "      <td>{'C': 1, 'gamma': 0.01}</td>\n",
       "      <td>-0.043491</td>\n",
       "      <td>-0.106443</td>\n",
       "    </tr>\n",
       "    <tr>\n",
       "      <th>20</th>\n",
       "      <td>{'C': 1, 'gamma': 0.1}</td>\n",
       "      <td>-0.040111</td>\n",
       "      <td>-0.090531</td>\n",
       "    </tr>\n",
       "    <tr>\n",
       "      <th>21</th>\n",
       "      <td>{'C': 1, 'gamma': 1}</td>\n",
       "      <td>-0.034893</td>\n",
       "      <td>-0.065472</td>\n",
       "    </tr>\n",
       "    <tr>\n",
       "      <th>22</th>\n",
       "      <td>{'C': 1, 'gamma': 10}</td>\n",
       "      <td>-0.037652</td>\n",
       "      <td>-0.079009</td>\n",
       "    </tr>\n",
       "    <tr>\n",
       "      <th>23</th>\n",
       "      <td>{'C': 1, 'gamma': 100}</td>\n",
       "      <td>-0.036073</td>\n",
       "      <td>-0.082536</td>\n",
       "    </tr>\n",
       "    <tr>\n",
       "      <th>24</th>\n",
       "      <td>{'C': 10, 'gamma': 0.001}</td>\n",
       "      <td>-0.043113</td>\n",
       "      <td>-0.106153</td>\n",
       "    </tr>\n",
       "    <tr>\n",
       "      <th>25</th>\n",
       "      <td>{'C': 10, 'gamma': 0.01}</td>\n",
       "      <td>-0.030869</td>\n",
       "      <td>-0.080851</td>\n",
       "    </tr>\n",
       "    <tr>\n",
       "      <th>26</th>\n",
       "      <td>{'C': 10, 'gamma': 0.1}</td>\n",
       "      <td>0.002382</td>\n",
       "      <td>0.025709</td>\n",
       "    </tr>\n",
       "    <tr>\n",
       "      <th>27</th>\n",
       "      <td>{'C': 10, 'gamma': 1}</td>\n",
       "      <td>0.033047</td>\n",
       "      <td>0.179613</td>\n",
       "    </tr>\n",
       "    <tr>\n",
       "      <th>28</th>\n",
       "      <td>{'C': 10, 'gamma': 10}</td>\n",
       "      <td>0.001751</td>\n",
       "      <td>0.049937</td>\n",
       "    </tr>\n",
       "    <tr>\n",
       "      <th>29</th>\n",
       "      <td>{'C': 10, 'gamma': 100}</td>\n",
       "      <td>-0.025104</td>\n",
       "      <td>-0.056769</td>\n",
       "    </tr>\n",
       "    <tr>\n",
       "      <th>30</th>\n",
       "      <td>{'C': 100, 'gamma': 0.001}</td>\n",
       "      <td>-0.028051</td>\n",
       "      <td>-0.078866</td>\n",
       "    </tr>\n",
       "    <tr>\n",
       "      <th>31</th>\n",
       "      <td>{'C': 100, 'gamma': 0.01}</td>\n",
       "      <td>0.063073</td>\n",
       "      <td>0.078833</td>\n",
       "    </tr>\n",
       "    <tr>\n",
       "      <th>32</th>\n",
       "      <td>{'C': 100, 'gamma': 0.1}</td>\n",
       "      <td>0.194517</td>\n",
       "      <td>0.471435</td>\n",
       "    </tr>\n",
       "    <tr>\n",
       "      <th>33</th>\n",
       "      <td>{'C': 100, 'gamma': 1}</td>\n",
       "      <td>0.104436</td>\n",
       "      <td>0.361937</td>\n",
       "    </tr>\n",
       "    <tr>\n",
       "      <th>34</th>\n",
       "      <td>{'C': 100, 'gamma': 10}</td>\n",
       "      <td>0.084340</td>\n",
       "      <td>0.236865</td>\n",
       "    </tr>\n",
       "    <tr>\n",
       "      <th>35</th>\n",
       "      <td>{'C': 100, 'gamma': 100}</td>\n",
       "      <td>0.044517</td>\n",
       "      <td>0.035211</td>\n",
       "    </tr>\n",
       "  </tbody>\n",
       "</table>\n",
       "</div>"
      ],
      "text/plain": [
       "                          params  mean_train_score  mean_test_score\n",
       "0   {'C': 0.001, 'gamma': 0.001}         -0.044536        -0.108639\n",
       "1    {'C': 0.001, 'gamma': 0.01}         -0.044535        -0.108638\n",
       "2     {'C': 0.001, 'gamma': 0.1}         -0.044537        -0.108632\n",
       "3       {'C': 0.001, 'gamma': 1}         -0.044547        -0.108645\n",
       "4      {'C': 0.001, 'gamma': 10}         -0.044537        -0.108630\n",
       "5     {'C': 0.001, 'gamma': 100}         -0.044519        -0.108583\n",
       "6    {'C': 0.01, 'gamma': 0.001}         -0.044535        -0.108637\n",
       "7     {'C': 0.01, 'gamma': 0.01}         -0.044526        -0.108620\n",
       "8      {'C': 0.01, 'gamma': 0.1}         -0.044543        -0.108564\n",
       "9        {'C': 0.01, 'gamma': 1}         -0.044642        -0.108678\n",
       "10      {'C': 0.01, 'gamma': 10}         -0.044546        -0.108546\n",
       "11     {'C': 0.01, 'gamma': 100}         -0.044352        -0.108094\n",
       "12    {'C': 0.1, 'gamma': 0.001}         -0.044523        -0.108618\n",
       "13     {'C': 0.1, 'gamma': 0.01}         -0.044439        -0.108447\n",
       "14      {'C': 0.1, 'gamma': 0.1}         -0.044523        -0.107681\n",
       "15        {'C': 0.1, 'gamma': 1}         -0.045225        -0.108166\n",
       "16       {'C': 0.1, 'gamma': 10}         -0.044281        -0.106889\n",
       "17      {'C': 0.1, 'gamma': 100}         -0.042785        -0.103731\n",
       "18      {'C': 1, 'gamma': 0.001}         -0.044402        -0.108420\n",
       "19       {'C': 1, 'gamma': 0.01}         -0.043491        -0.106443\n",
       "20        {'C': 1, 'gamma': 0.1}         -0.040111        -0.090531\n",
       "21          {'C': 1, 'gamma': 1}         -0.034893        -0.065472\n",
       "22         {'C': 1, 'gamma': 10}         -0.037652        -0.079009\n",
       "23        {'C': 1, 'gamma': 100}         -0.036073        -0.082536\n",
       "24     {'C': 10, 'gamma': 0.001}         -0.043113        -0.106153\n",
       "25      {'C': 10, 'gamma': 0.01}         -0.030869        -0.080851\n",
       "26       {'C': 10, 'gamma': 0.1}          0.002382         0.025709\n",
       "27         {'C': 10, 'gamma': 1}          0.033047         0.179613\n",
       "28        {'C': 10, 'gamma': 10}          0.001751         0.049937\n",
       "29       {'C': 10, 'gamma': 100}         -0.025104        -0.056769\n",
       "30    {'C': 100, 'gamma': 0.001}         -0.028051        -0.078866\n",
       "31     {'C': 100, 'gamma': 0.01}          0.063073         0.078833\n",
       "32      {'C': 100, 'gamma': 0.1}          0.194517         0.471435\n",
       "33        {'C': 100, 'gamma': 1}          0.104436         0.361937\n",
       "34       {'C': 100, 'gamma': 10}          0.084340         0.236865\n",
       "35      {'C': 100, 'gamma': 100}          0.044517         0.035211"
      ]
     },
     "execution_count": 50,
     "metadata": {},
     "output_type": "execute_result"
    }
   ],
   "source": [
    "print(\"Best parameters: {}\".format(grid_RadSVM.best_params_))\n",
    "grid_RadSVMdata = pd.DataFrame(grid_RadSVM.cv_results_)\n",
    "grid_RadSVMdata = grid_RadSVMdata[['params','mean_train_score','mean_test_score']]\n",
    "grid_RadSVMdata\n"
   ]
  },
  {
   "cell_type": "code",
   "execution_count": 51,
   "metadata": {},
   "outputs": [
    {
     "name": "stdout",
     "output_type": "stream",
     "text": [
      "Best cross-validation accuracy: 0.47\n",
      "Best parameters: {'C': 100, 'gamma': 0.1}\n",
      "Train Set Score: 0.15403078753853927\n",
      "Test Set Score: 0.5351811726903493\n"
     ]
    }
   ],
   "source": [
    "print(\"Best cross-validation accuracy: {:.2f}\".format(grid_RadSVM.best_score_))\n",
    "print(\"Best parameters: {}\".format(grid_RadSVM.best_params_))\n",
    "print(\"Train Set Score: {}\".format(grid_RadSVM.score(X_train, Y_train)))\n",
    "print(\"Test Set Score: {}\".format(grid_RadSVM.score(X_test, Y_test)))"
   ]
  },
  {
   "cell_type": "code",
   "execution_count": 52,
   "metadata": {},
   "outputs": [],
   "source": [
    "report_table = report_table + [['SVM kernel Rbf', grid_RadSVM.best_params_, grid_RadSVM.score(X_train, Y_train), grid_RadSVM.score(X_test, Y_test)]]"
   ]
  },
  {
   "cell_type": "markdown",
   "metadata": {},
   "source": [
    "### Model 9 : SVM Kernel 'poly' "
   ]
  },
  {
   "cell_type": "code",
   "execution_count": 53,
   "metadata": {},
   "outputs": [
    {
     "name": "stdout",
     "output_type": "stream",
     "text": [
      "Defined Parameters:\n",
      "{'C': [0.001, 0.01, 0.1, 1, 10, 100], 'gamma': [0.001, 0.01, 0.1, 1, 10, 100]}\n"
     ]
    }
   ],
   "source": [
    "from sklearn.model_selection import GridSearchCV\n",
    "from sklearn.svm import SVR\n",
    "model_PolySVM = SVR(kernel = 'poly', degree = 2)\n",
    "param_PolySVM = {'C': [0.001, 0.01, 0.1, 1, 10, 100],'gamma': [0.001, 0.01, 0.1, 1, 10, 100]}\n",
    "print(\"Defined Parameters:\\n{}\".format(param_PolySVM))\n"
   ]
  },
  {
   "cell_type": "code",
   "execution_count": 54,
   "metadata": {},
   "outputs": [],
   "source": [
    "# grid_PolySVM = GridSearchCV(model_PolySVM, param_grid = param_PolySVM, cv=5, return_train_score=True)\n",
    "# grid_PolySVM.fit(X_train[:200], Y_train[:200])"
   ]
  },
  {
   "cell_type": "code",
   "execution_count": 55,
   "metadata": {},
   "outputs": [],
   "source": [
    "# print(\"Best parameters: {}\".format(grid_PolySVM.best_params_))\n",
    "# grid_PolySVMdata = pd.DataFrame(grid_PolySVM.cv_results_)\n",
    "# grid_PolySVMdata = grid_PolySVMdata[['params','mean_train_score','mean_test_score']]\n",
    "# grid_PolySVMdata\n"
   ]
  },
  {
   "cell_type": "code",
   "execution_count": 56,
   "metadata": {},
   "outputs": [],
   "source": [
    "# print(\"Best cross-validation accuracy: {:.2f}\".format(grid_PolySVM.best_score_))\n",
    "# print(\"Best parameters: {}\".format(grid_PolySVM.best_params_))\n",
    "# print(\"Train Set Score: {}\".format(grid_PolySVM.score(X_train, Y_train)))\n",
    "# print(\"Test Set Score: {}\".format(grid_PolySVM.score(X_test, Y_test)))"
   ]
  },
  {
   "cell_type": "code",
   "execution_count": 57,
   "metadata": {},
   "outputs": [],
   "source": [
    "# report_table = report_table + [['SVM kernel Poly', grid_PolySVM.best_params_, grid_PolySVM.score(X_train, Y_train), grid_PolySVM.score(X_test, Y_test)]]"
   ]
  },
  {
   "cell_type": "code",
   "execution_count": 58,
   "metadata": {
    "scrolled": true
   },
   "outputs": [
    {
     "data": {
      "text/html": [
       "<div>\n",
       "<style scoped>\n",
       "    .dataframe tbody tr th:only-of-type {\n",
       "        vertical-align: middle;\n",
       "    }\n",
       "\n",
       "    .dataframe tbody tr th {\n",
       "        vertical-align: top;\n",
       "    }\n",
       "\n",
       "    .dataframe thead th {\n",
       "        text-align: right;\n",
       "    }\n",
       "</style>\n",
       "<table border=\"1\" class=\"dataframe\">\n",
       "  <thead>\n",
       "    <tr style=\"text-align: right;\">\n",
       "      <th></th>\n",
       "      <th>Model name</th>\n",
       "      <th>Model parameter</th>\n",
       "      <th>Train accuracy</th>\n",
       "      <th>Test accuracy</th>\n",
       "    </tr>\n",
       "  </thead>\n",
       "  <tbody>\n",
       "    <tr>\n",
       "      <th>0</th>\n",
       "      <td>Linear Regression</td>\n",
       "      <td>None</td>\n",
       "      <td>0.8987</td>\n",
       "      <td>0.9285</td>\n",
       "    </tr>\n",
       "    <tr>\n",
       "      <th>1</th>\n",
       "      <td>KNN Regression</td>\n",
       "      <td>K = 5</td>\n",
       "      <td>1.0000</td>\n",
       "      <td>0.8980</td>\n",
       "    </tr>\n",
       "    <tr>\n",
       "      <th>2</th>\n",
       "      <td>Ridge Regression</td>\n",
       "      <td>alpha = 0.3</td>\n",
       "      <td>0.9902</td>\n",
       "      <td>0.9336</td>\n",
       "    </tr>\n",
       "    <tr>\n",
       "      <th>3</th>\n",
       "      <td>Lasso Regression</td>\n",
       "      <td>alpha = 1</td>\n",
       "      <td>0.9905</td>\n",
       "      <td>0.9324</td>\n",
       "    </tr>\n",
       "    <tr>\n",
       "      <th>4</th>\n",
       "      <td>Polynomial Regression</td>\n",
       "      <td>Degree = 2</td>\n",
       "      <td>-33329.7795</td>\n",
       "      <td>-33329.7795</td>\n",
       "    </tr>\n",
       "    <tr>\n",
       "      <th>5</th>\n",
       "      <td>SGD Regression</td>\n",
       "      <td>{'learning_rate': 'optimal', 'max_iter': 1000,...</td>\n",
       "      <td>-17240453019.3461</td>\n",
       "      <td>-113425297454.2574</td>\n",
       "    </tr>\n",
       "    <tr>\n",
       "      <th>6</th>\n",
       "      <td>Linear SVM</td>\n",
       "      <td>{'C': 1000}</td>\n",
       "      <td>0.9651</td>\n",
       "      <td>0.9442</td>\n",
       "    </tr>\n",
       "    <tr>\n",
       "      <th>7</th>\n",
       "      <td>SVM kernel Rbf</td>\n",
       "      <td>{'C': 100, 'gamma': 0.1}</td>\n",
       "      <td>0.1540</td>\n",
       "      <td>0.5352</td>\n",
       "    </tr>\n",
       "  </tbody>\n",
       "</table>\n",
       "</div>"
      ],
      "text/plain": [
       "              Model name                                    Model parameter  \\\n",
       "0      Linear Regression                                               None   \n",
       "1         KNN Regression                                              K = 5   \n",
       "2       Ridge Regression                                        alpha = 0.3   \n",
       "3       Lasso Regression                                          alpha = 1   \n",
       "4  Polynomial Regression                                         Degree = 2   \n",
       "5         SGD Regression  {'learning_rate': 'optimal', 'max_iter': 1000,...   \n",
       "6             Linear SVM                                        {'C': 1000}   \n",
       "7         SVM kernel Rbf                           {'C': 100, 'gamma': 0.1}   \n",
       "\n",
       "      Train accuracy       Test accuracy  \n",
       "0             0.8987              0.9285  \n",
       "1             1.0000              0.8980  \n",
       "2             0.9902              0.9336  \n",
       "3             0.9905              0.9324  \n",
       "4        -33329.7795         -33329.7795  \n",
       "5  -17240453019.3461  -113425297454.2574  \n",
       "6             0.9651              0.9442  \n",
       "7             0.1540              0.5352  "
      ]
     },
     "execution_count": 58,
     "metadata": {},
     "output_type": "execute_result"
    }
   ],
   "source": [
    "report = pd.DataFrame(report_table,columns = ['Model name', 'Model parameter', 'Train accuracy', 'Test accuracy'])\n",
    "report['Test accuracy']=report['Test accuracy'].apply(lambda x: '%.4f' % x)\n",
    "report['Train accuracy']=report['Train accuracy'].apply(lambda x: '%.4f' % x)\n",
    "# report['Train accuracy'].apply(lambda x: '%.4f' % x)\n",
    "report"
   ]
  },
  {
   "cell_type": "code",
   "execution_count": 59,
   "metadata": {},
   "outputs": [
    {
     "data": {
      "text/plain": [
       "Model name          Linear SVM\n",
       "Model parameter    {'C': 1000}\n",
       "Train accuracy          0.9651\n",
       "Test accuracy           0.9442\n",
       "Name: 6, dtype: object"
      ]
     },
     "execution_count": 59,
     "metadata": {},
     "output_type": "execute_result"
    }
   ],
   "source": [
    "report.iloc[6,:]"
   ]
  },
  {
   "cell_type": "markdown",
   "metadata": {},
   "source": [
    "### On Comparing all the models we can se it is evident that the Linear SVM Model  is with more accuracy in Test set then in Train set . Hence we are going to predict for the entire dataset and check the scores.\n"
   ]
  },
  {
   "cell_type": "code",
   "execution_count": 64,
   "metadata": {
    "scrolled": true
   },
   "outputs": [
    {
     "data": {
      "text/plain": [
       "0    0.0\n",
       "1    0.5\n",
       "2    0.0\n",
       "3    2.5\n",
       "4    0.5\n",
       "Name: Buzz_Magnitude, dtype: float64"
      ]
     },
     "execution_count": 64,
     "metadata": {},
     "output_type": "execute_result"
    }
   ],
   "source": [
    "YFull.head()"
   ]
  },
  {
   "cell_type": "code",
   "execution_count": 73,
   "metadata": {},
   "outputs": [],
   "source": [
    "X_train_org, X_test_org, y_train, y_test = train_test_split(XFull,YFull, random_state = 0)\n",
    "\n",
    "from sklearn.preprocessing import MinMaxScaler\n",
    "scaler = MinMaxScaler()\n",
    "X_train = scaler.fit_transform(X_train_org)\n",
    "X_test = scaler.transform(X_test_org)"
   ]
  },
  {
   "cell_type": "code",
   "execution_count": 76,
   "metadata": {},
   "outputs": [
    {
     "data": {
      "text/plain": [
       "GridSearchCV(cv=5, error_score='raise',\n",
       "       estimator=LinearSVR(C=1.0, dual=True, epsilon=0.0, fit_intercept=True,\n",
       "     intercept_scaling=1.0, loss='epsilon_insensitive', max_iter=1000,\n",
       "     random_state=None, tol=0.0001, verbose=0),\n",
       "       fit_params=None, iid=True, n_jobs=1,\n",
       "       param_grid={'C': [0.001, 0.01, 0.1, 1, 10, 100]},\n",
       "       pre_dispatch='2*n_jobs', refit=True, return_train_score=True,\n",
       "       scoring=None, verbose=0)"
      ]
     },
     "execution_count": 76,
     "metadata": {},
     "output_type": "execute_result"
    }
   ],
   "source": [
    "from sklearn.svm import LinearSVR\n",
    "\n",
    "svc_lin = LinearSVR()\n",
    "param_grid = {'C':[0.001, 0.01, 0.1, 1, 10, 100]}\n",
    "\n",
    "grid_svc_lin = GridSearchCV(svc_lin, param_grid, cv = 5, return_train_score=True)\n",
    "grid_svc_lin.fit(X_train_whole, y_train)"
   ]
  },
  {
   "cell_type": "code",
   "execution_count": 77,
   "metadata": {},
   "outputs": [],
   "source": [
    "Final_report = [['Linear SVM', grid_svc_lin.best_params_, grid_svc_lin.score(X_train_whole, y_train), grid_svc_lin.score(X_test_whole, y_test)]]"
   ]
  },
  {
   "cell_type": "code",
   "execution_count": 82,
   "metadata": {},
   "outputs": [
    {
     "data": {
      "text/html": [
       "<div>\n",
       "<style scoped>\n",
       "    .dataframe tbody tr th:only-of-type {\n",
       "        vertical-align: middle;\n",
       "    }\n",
       "\n",
       "    .dataframe tbody tr th {\n",
       "        vertical-align: top;\n",
       "    }\n",
       "\n",
       "    .dataframe thead th {\n",
       "        text-align: right;\n",
       "    }\n",
       "</style>\n",
       "<table border=\"1\" class=\"dataframe\">\n",
       "  <thead>\n",
       "    <tr style=\"text-align: right;\">\n",
       "      <th></th>\n",
       "      <th>Model name</th>\n",
       "      <th>Model parameter</th>\n",
       "      <th>Train accuracy</th>\n",
       "      <th>Test accuracy</th>\n",
       "    </tr>\n",
       "  </thead>\n",
       "  <tbody>\n",
       "    <tr>\n",
       "      <th>0</th>\n",
       "      <td>Linear SVM</td>\n",
       "      <td>{'C': 100}</td>\n",
       "      <td>0.902165</td>\n",
       "      <td>0.91423</td>\n",
       "    </tr>\n",
       "  </tbody>\n",
       "</table>\n",
       "</div>"
      ],
      "text/plain": [
       "   Model name Model parameter  Train accuracy  Test accuracy\n",
       "0  Linear SVM      {'C': 100}        0.902165        0.91423"
      ]
     },
     "execution_count": 82,
     "metadata": {},
     "output_type": "execute_result"
    }
   ],
   "source": [
    "Final_report=pd.DataFrame(Final_report,columns=['Model name', 'Model parameter', 'Train accuracy', 'Test accuracy'])\n",
    "Final_report"
   ]
  }
 ],
 "metadata": {
  "kernelspec": {
   "display_name": "Python 3",
   "language": "python",
   "name": "python3"
  },
  "language_info": {
   "codemirror_mode": {
    "name": "ipython",
    "version": 3
   },
   "file_extension": ".py",
   "mimetype": "text/x-python",
   "name": "python",
   "nbconvert_exporter": "python",
   "pygments_lexer": "ipython3",
   "version": "3.6.6"
  }
 },
 "nbformat": 4,
 "nbformat_minor": 2
}
