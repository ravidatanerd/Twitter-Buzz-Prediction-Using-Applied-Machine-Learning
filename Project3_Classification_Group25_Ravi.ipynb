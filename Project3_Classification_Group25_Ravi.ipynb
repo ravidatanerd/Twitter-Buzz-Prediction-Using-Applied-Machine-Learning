{
 "cells": [
  {
   "cell_type": "markdown",
   "metadata": {},
   "source": [
    "### <font color='red'> Project 3 : Buzz Prediction on Twitter\n",
    "\n",
    "Project Description:\n",
    "- Use same datasets as Project 2.\n",
    "- Run all the models only on 10% data. Use code given in Project 2 for sampling.\n",
    "- Preprocess data: Explore data and apply data scaling.\n",
    "\n",
    "Regression Task:\n",
    "- Apply any two models with bagging and any two models with pasting.\n",
    "- Apply any two models with adaboost boosting\n",
    "- Apply one model with gradient boosting\n",
    "- Apply PCA on data and then apply all the models in project 2 again on data you get from PCA. Compare your results with results in project 2. You don't need to apply all the models twice. Just copy the result table from project 2, prepare similar table for all the models after PCA and compare both tables. Does PCA help in getting better results?\n",
    "- Apply deep learning models covered in class\n",
    "\n",
    "Classification Task:\n",
    "- Apply four voting classifiers - two with hard voting and two with soft voting\n",
    "- Apply any two models with bagging and any two models with pasting.\n",
    "- Apply any two models with adaboost boosting\n",
    "- Apply one model with gradient boosting\n",
    "- Apply PCA on data and then apply all the models in project 2 again on data you get from PCA. Compare your results with results in project 2. You don't need to apply all the models twice. Just copy the result table from project 2, prepare similar table for all the models after PCA and compare both tables. Does PCA help in getting better results?\n",
    "- Apply deep learning models covered in class\n",
    "\n",
    "Deliverables:\n",
    "- Use markdown to provide inline comments for this project.\n",
    "- Your outputs should be clearly executed in the notebook i.e. we should not need to rerun the code to obtain the outputs.\n",
    "- Visualization encouraged.\n",
    "- If you are submitting two different files, then please only one group member submit both the files. If you submit two files separately from different accounts, it will be submitted as two different attempts.\n",
    "- If you are submitting two different files, then please follow below naming convetion:\n",
    "    Project3_Regression_GroupXX_Firstname1_Firstname2.ipynb\n",
    "    Project3_Classification_GroupXX_Firstname1_Firstname2.ipynb\n",
    "- If you are submitting single file, then please follow below naming convetion:\n",
    "    Project3_Both_GroupXX_Firstname1_Firstname2.ipynb\n",
    "\n",
    "Questions regarding the project:\n",
    "- We have created a discussion board under Projects folder on e-learning. Create threads over there and post your queries related to project there.\n",
    "- We will also answer queries there. We will not be answering any project related queries through the mail."
   ]
  },
  {
   "cell_type": "code",
   "execution_count": 1,
   "metadata": {},
   "outputs": [],
   "source": [
    "import numpy as np\n",
    "import pandas as pd\n",
    "import matplotlib.pyplot as plt\n",
    "import warnings\n",
    "warnings.filterwarnings('ignore')\n",
    "data = pd.read_csv('Twitter-Absolute-Sigma-500.data', header=None)"
   ]
  },
  {
   "cell_type": "markdown",
   "metadata": {},
   "source": [
    "### Data Inspect"
   ]
  },
  {
   "cell_type": "code",
   "execution_count": 2,
   "metadata": {
    "scrolled": true
   },
   "outputs": [
    {
     "data": {
      "text/html": [
       "<div>\n",
       "<style scoped>\n",
       "    .dataframe tbody tr th:only-of-type {\n",
       "        vertical-align: middle;\n",
       "    }\n",
       "\n",
       "    .dataframe tbody tr th {\n",
       "        vertical-align: top;\n",
       "    }\n",
       "\n",
       "    .dataframe thead th {\n",
       "        text-align: right;\n",
       "    }\n",
       "</style>\n",
       "<table border=\"1\" class=\"dataframe\">\n",
       "  <thead>\n",
       "    <tr style=\"text-align: right;\">\n",
       "      <th></th>\n",
       "      <th>0</th>\n",
       "      <th>1</th>\n",
       "      <th>2</th>\n",
       "      <th>3</th>\n",
       "      <th>4</th>\n",
       "      <th>5</th>\n",
       "      <th>6</th>\n",
       "      <th>7</th>\n",
       "      <th>8</th>\n",
       "      <th>9</th>\n",
       "      <th>...</th>\n",
       "      <th>68</th>\n",
       "      <th>69</th>\n",
       "      <th>70</th>\n",
       "      <th>71</th>\n",
       "      <th>72</th>\n",
       "      <th>73</th>\n",
       "      <th>74</th>\n",
       "      <th>75</th>\n",
       "      <th>76</th>\n",
       "      <th>77</th>\n",
       "    </tr>\n",
       "  </thead>\n",
       "  <tbody>\n",
       "    <tr>\n",
       "      <th>0</th>\n",
       "      <td>889</td>\n",
       "      <td>939</td>\n",
       "      <td>960</td>\n",
       "      <td>805</td>\n",
       "      <td>805</td>\n",
       "      <td>1143</td>\n",
       "      <td>1121</td>\n",
       "      <td>549</td>\n",
       "      <td>613</td>\n",
       "      <td>587</td>\n",
       "      <td>...</td>\n",
       "      <td>1.0</td>\n",
       "      <td>1.0</td>\n",
       "      <td>889</td>\n",
       "      <td>939</td>\n",
       "      <td>960</td>\n",
       "      <td>805</td>\n",
       "      <td>805</td>\n",
       "      <td>1143</td>\n",
       "      <td>1121</td>\n",
       "      <td>1.0</td>\n",
       "    </tr>\n",
       "    <tr>\n",
       "      <th>1</th>\n",
       "      <td>542</td>\n",
       "      <td>473</td>\n",
       "      <td>504</td>\n",
       "      <td>626</td>\n",
       "      <td>647</td>\n",
       "      <td>795</td>\n",
       "      <td>832</td>\n",
       "      <td>366</td>\n",
       "      <td>288</td>\n",
       "      <td>318</td>\n",
       "      <td>...</td>\n",
       "      <td>1.0</td>\n",
       "      <td>1.0</td>\n",
       "      <td>542</td>\n",
       "      <td>473</td>\n",
       "      <td>504</td>\n",
       "      <td>626</td>\n",
       "      <td>647</td>\n",
       "      <td>795</td>\n",
       "      <td>832</td>\n",
       "      <td>1.0</td>\n",
       "    </tr>\n",
       "    <tr>\n",
       "      <th>2</th>\n",
       "      <td>92</td>\n",
       "      <td>99</td>\n",
       "      <td>196</td>\n",
       "      <td>100</td>\n",
       "      <td>184</td>\n",
       "      <td>79</td>\n",
       "      <td>162</td>\n",
       "      <td>66</td>\n",
       "      <td>59</td>\n",
       "      <td>118</td>\n",
       "      <td>...</td>\n",
       "      <td>1.0</td>\n",
       "      <td>1.0</td>\n",
       "      <td>92</td>\n",
       "      <td>99</td>\n",
       "      <td>196</td>\n",
       "      <td>100</td>\n",
       "      <td>184</td>\n",
       "      <td>79</td>\n",
       "      <td>162</td>\n",
       "      <td>0.0</td>\n",
       "    </tr>\n",
       "    <tr>\n",
       "      <th>3</th>\n",
       "      <td>90</td>\n",
       "      <td>87</td>\n",
       "      <td>92</td>\n",
       "      <td>344</td>\n",
       "      <td>184</td>\n",
       "      <td>848</td>\n",
       "      <td>184</td>\n",
       "      <td>83</td>\n",
       "      <td>78</td>\n",
       "      <td>76</td>\n",
       "      <td>...</td>\n",
       "      <td>1.0</td>\n",
       "      <td>1.0</td>\n",
       "      <td>90</td>\n",
       "      <td>87</td>\n",
       "      <td>92</td>\n",
       "      <td>344</td>\n",
       "      <td>184</td>\n",
       "      <td>848</td>\n",
       "      <td>184</td>\n",
       "      <td>1.0</td>\n",
       "    </tr>\n",
       "    <tr>\n",
       "      <th>4</th>\n",
       "      <td>169</td>\n",
       "      <td>98</td>\n",
       "      <td>101</td>\n",
       "      <td>90</td>\n",
       "      <td>96</td>\n",
       "      <td>95</td>\n",
       "      <td>185</td>\n",
       "      <td>141</td>\n",
       "      <td>68</td>\n",
       "      <td>85</td>\n",
       "      <td>...</td>\n",
       "      <td>1.0</td>\n",
       "      <td>1.0</td>\n",
       "      <td>169</td>\n",
       "      <td>98</td>\n",
       "      <td>101</td>\n",
       "      <td>90</td>\n",
       "      <td>96</td>\n",
       "      <td>95</td>\n",
       "      <td>185</td>\n",
       "      <td>1.0</td>\n",
       "    </tr>\n",
       "  </tbody>\n",
       "</table>\n",
       "<p>5 rows × 78 columns</p>\n",
       "</div>"
      ],
      "text/plain": [
       "    0    1    2    3    4     5     6    7    8    9  ...    68   69   70  \\\n",
       "0  889  939  960  805  805  1143  1121  549  613  587 ...   1.0  1.0  889   \n",
       "1  542  473  504  626  647   795   832  366  288  318 ...   1.0  1.0  542   \n",
       "2   92   99  196  100  184    79   162   66   59  118 ...   1.0  1.0   92   \n",
       "3   90   87   92  344  184   848   184   83   78   76 ...   1.0  1.0   90   \n",
       "4  169   98  101   90   96    95   185  141   68   85 ...   1.0  1.0  169   \n",
       "\n",
       "    71   72   73   74    75    76   77  \n",
       "0  939  960  805  805  1143  1121  1.0  \n",
       "1  473  504  626  647   795   832  1.0  \n",
       "2   99  196  100  184    79   162  0.0  \n",
       "3   87   92  344  184   848   184  1.0  \n",
       "4   98  101   90   96    95   185  1.0  \n",
       "\n",
       "[5 rows x 78 columns]"
      ]
     },
     "execution_count": 2,
     "metadata": {},
     "output_type": "execute_result"
    }
   ],
   "source": [
    "data.head()"
   ]
  },
  {
   "cell_type": "code",
   "execution_count": 3,
   "metadata": {},
   "outputs": [],
   "source": [
    "#  Columns Names as per the description Provided\n",
    "\n",
    "colnames = [\"NCD\",\"AI\",\"AS(NA)\",\"BL\",\"NAC\",\"AS(NAC)\",\"CS\",\"AT\",\"NA\",\"ADL\",\"NAD\",\"Buzz_0_or_1\"]\n",
    "\n",
    "# Function for Column name in the data set\n",
    "\n",
    "def colrange(n):\n",
    "    if n in range(0,7):\n",
    "        return(colnames[0]+'_'+str(n-0))\n",
    "    elif n in range(7,14) :\n",
    "        return(colnames[1]+'_'+str(n-7))\n",
    "    elif n in range(14,21) :\n",
    "        return(colnames[2]+'_'+str(n-14))\n",
    "    elif n in range(21,28) :\n",
    "        return(colnames[3]+'_'+str(n-21))\n",
    "    elif n in range(28,35) :\n",
    "        return(colnames[4]+'_'+str(n-28))\n",
    "    elif n in range(35,42) :\n",
    "        return(colnames[5]+'_'+str(n-35))\n",
    "    elif n in range(42,49) :\n",
    "        return(colnames[6]+'_'+str(n-42))\n",
    "    elif n in range(49,56) :\n",
    "        return(colnames[7]+'_'+str(n-49))\n",
    "    elif n in range(56,63) :\n",
    "        return(colnames[8]+'_'+str(n-56))\n",
    "    elif n in range(63,70) :\n",
    "        return(colnames[9]+'_'+str(n-63))\n",
    "    elif n in range(70,77) :\n",
    "        return(colnames[10]+'_'+str(n-70))\n",
    "    elif n==77 :\n",
    "        return(colnames[11])    \n",
    "\n",
    "# Renaming Columns name \n",
    "data.columns=[colrange(col) for col in data.columns]"
   ]
  },
  {
   "cell_type": "code",
   "execution_count": 4,
   "metadata": {},
   "outputs": [
    {
     "data": {
      "text/plain": [
       "(140707, 78)"
      ]
     },
     "execution_count": 4,
     "metadata": {},
     "output_type": "execute_result"
    }
   ],
   "source": [
    "data.shape"
   ]
  },
  {
   "cell_type": "code",
   "execution_count": 5,
   "metadata": {},
   "outputs": [
    {
     "data": {
      "text/html": [
       "<div>\n",
       "<style scoped>\n",
       "    .dataframe tbody tr th:only-of-type {\n",
       "        vertical-align: middle;\n",
       "    }\n",
       "\n",
       "    .dataframe tbody tr th {\n",
       "        vertical-align: top;\n",
       "    }\n",
       "\n",
       "    .dataframe thead th {\n",
       "        text-align: right;\n",
       "    }\n",
       "</style>\n",
       "<table border=\"1\" class=\"dataframe\">\n",
       "  <thead>\n",
       "    <tr style=\"text-align: right;\">\n",
       "      <th></th>\n",
       "      <th>NCD_0</th>\n",
       "      <th>NCD_1</th>\n",
       "      <th>NCD_2</th>\n",
       "      <th>NCD_3</th>\n",
       "      <th>NCD_4</th>\n",
       "      <th>NCD_5</th>\n",
       "      <th>NCD_6</th>\n",
       "      <th>AI_0</th>\n",
       "      <th>AI_1</th>\n",
       "      <th>AI_2</th>\n",
       "      <th>...</th>\n",
       "      <th>ADL_5</th>\n",
       "      <th>ADL_6</th>\n",
       "      <th>NAD_0</th>\n",
       "      <th>NAD_1</th>\n",
       "      <th>NAD_2</th>\n",
       "      <th>NAD_3</th>\n",
       "      <th>NAD_4</th>\n",
       "      <th>NAD_5</th>\n",
       "      <th>NAD_6</th>\n",
       "      <th>Buzz_0_or_1</th>\n",
       "    </tr>\n",
       "  </thead>\n",
       "  <tbody>\n",
       "    <tr>\n",
       "      <th>0</th>\n",
       "      <td>889</td>\n",
       "      <td>939</td>\n",
       "      <td>960</td>\n",
       "      <td>805</td>\n",
       "      <td>805</td>\n",
       "      <td>1143</td>\n",
       "      <td>1121</td>\n",
       "      <td>549</td>\n",
       "      <td>613</td>\n",
       "      <td>587</td>\n",
       "      <td>...</td>\n",
       "      <td>1.0</td>\n",
       "      <td>1.0</td>\n",
       "      <td>889</td>\n",
       "      <td>939</td>\n",
       "      <td>960</td>\n",
       "      <td>805</td>\n",
       "      <td>805</td>\n",
       "      <td>1143</td>\n",
       "      <td>1121</td>\n",
       "      <td>1.0</td>\n",
       "    </tr>\n",
       "    <tr>\n",
       "      <th>1</th>\n",
       "      <td>542</td>\n",
       "      <td>473</td>\n",
       "      <td>504</td>\n",
       "      <td>626</td>\n",
       "      <td>647</td>\n",
       "      <td>795</td>\n",
       "      <td>832</td>\n",
       "      <td>366</td>\n",
       "      <td>288</td>\n",
       "      <td>318</td>\n",
       "      <td>...</td>\n",
       "      <td>1.0</td>\n",
       "      <td>1.0</td>\n",
       "      <td>542</td>\n",
       "      <td>473</td>\n",
       "      <td>504</td>\n",
       "      <td>626</td>\n",
       "      <td>647</td>\n",
       "      <td>795</td>\n",
       "      <td>832</td>\n",
       "      <td>1.0</td>\n",
       "    </tr>\n",
       "    <tr>\n",
       "      <th>2</th>\n",
       "      <td>92</td>\n",
       "      <td>99</td>\n",
       "      <td>196</td>\n",
       "      <td>100</td>\n",
       "      <td>184</td>\n",
       "      <td>79</td>\n",
       "      <td>162</td>\n",
       "      <td>66</td>\n",
       "      <td>59</td>\n",
       "      <td>118</td>\n",
       "      <td>...</td>\n",
       "      <td>1.0</td>\n",
       "      <td>1.0</td>\n",
       "      <td>92</td>\n",
       "      <td>99</td>\n",
       "      <td>196</td>\n",
       "      <td>100</td>\n",
       "      <td>184</td>\n",
       "      <td>79</td>\n",
       "      <td>162</td>\n",
       "      <td>0.0</td>\n",
       "    </tr>\n",
       "    <tr>\n",
       "      <th>3</th>\n",
       "      <td>90</td>\n",
       "      <td>87</td>\n",
       "      <td>92</td>\n",
       "      <td>344</td>\n",
       "      <td>184</td>\n",
       "      <td>848</td>\n",
       "      <td>184</td>\n",
       "      <td>83</td>\n",
       "      <td>78</td>\n",
       "      <td>76</td>\n",
       "      <td>...</td>\n",
       "      <td>1.0</td>\n",
       "      <td>1.0</td>\n",
       "      <td>90</td>\n",
       "      <td>87</td>\n",
       "      <td>92</td>\n",
       "      <td>344</td>\n",
       "      <td>184</td>\n",
       "      <td>848</td>\n",
       "      <td>184</td>\n",
       "      <td>1.0</td>\n",
       "    </tr>\n",
       "    <tr>\n",
       "      <th>4</th>\n",
       "      <td>169</td>\n",
       "      <td>98</td>\n",
       "      <td>101</td>\n",
       "      <td>90</td>\n",
       "      <td>96</td>\n",
       "      <td>95</td>\n",
       "      <td>185</td>\n",
       "      <td>141</td>\n",
       "      <td>68</td>\n",
       "      <td>85</td>\n",
       "      <td>...</td>\n",
       "      <td>1.0</td>\n",
       "      <td>1.0</td>\n",
       "      <td>169</td>\n",
       "      <td>98</td>\n",
       "      <td>101</td>\n",
       "      <td>90</td>\n",
       "      <td>96</td>\n",
       "      <td>95</td>\n",
       "      <td>185</td>\n",
       "      <td>1.0</td>\n",
       "    </tr>\n",
       "  </tbody>\n",
       "</table>\n",
       "<p>5 rows × 78 columns</p>\n",
       "</div>"
      ],
      "text/plain": [
       "   NCD_0  NCD_1  NCD_2  NCD_3  NCD_4  NCD_5  NCD_6  AI_0  AI_1  AI_2  \\\n",
       "0    889    939    960    805    805   1143   1121   549   613   587   \n",
       "1    542    473    504    626    647    795    832   366   288   318   \n",
       "2     92     99    196    100    184     79    162    66    59   118   \n",
       "3     90     87     92    344    184    848    184    83    78    76   \n",
       "4    169     98    101     90     96     95    185   141    68    85   \n",
       "\n",
       "      ...       ADL_5  ADL_6  NAD_0  NAD_1  NAD_2  NAD_3  NAD_4  NAD_5  NAD_6  \\\n",
       "0     ...         1.0    1.0    889    939    960    805    805   1143   1121   \n",
       "1     ...         1.0    1.0    542    473    504    626    647    795    832   \n",
       "2     ...         1.0    1.0     92     99    196    100    184     79    162   \n",
       "3     ...         1.0    1.0     90     87     92    344    184    848    184   \n",
       "4     ...         1.0    1.0    169     98    101     90     96     95    185   \n",
       "\n",
       "   Buzz_0_or_1  \n",
       "0          1.0  \n",
       "1          1.0  \n",
       "2          0.0  \n",
       "3          1.0  \n",
       "4          1.0  \n",
       "\n",
       "[5 rows x 78 columns]"
      ]
     },
     "execution_count": 5,
     "metadata": {},
     "output_type": "execute_result"
    }
   ],
   "source": [
    "data.head()"
   ]
  },
  {
   "cell_type": "code",
   "execution_count": 6,
   "metadata": {},
   "outputs": [
    {
     "name": "stdout",
     "output_type": "stream",
     "text": [
      "<class 'pandas.core.frame.DataFrame'>\n",
      "RangeIndex: 140707 entries, 0 to 140706\n",
      "Data columns (total 78 columns):\n",
      "NCD_0          140707 non-null int64\n",
      "NCD_1          140707 non-null int64\n",
      "NCD_2          140707 non-null int64\n",
      "NCD_3          140707 non-null int64\n",
      "NCD_4          140707 non-null int64\n",
      "NCD_5          140707 non-null int64\n",
      "NCD_6          140707 non-null int64\n",
      "AI_0           140707 non-null int64\n",
      "AI_1           140707 non-null int64\n",
      "AI_2           140707 non-null int64\n",
      "AI_3           140707 non-null int64\n",
      "AI_4           140707 non-null int64\n",
      "AI_5           140707 non-null int64\n",
      "AI_6           140707 non-null int64\n",
      "AS(NA)_0       140707 non-null float64\n",
      "AS(NA)_1       140707 non-null float64\n",
      "AS(NA)_2       140707 non-null float64\n",
      "AS(NA)_3       140707 non-null float64\n",
      "AS(NA)_4       140707 non-null float64\n",
      "AS(NA)_5       140707 non-null float64\n",
      "AS(NA)_6       140707 non-null float64\n",
      "BL_0           140707 non-null float64\n",
      "BL_1           140707 non-null float64\n",
      "BL_2           140707 non-null float64\n",
      "BL_3           140707 non-null float64\n",
      "BL_4           140707 non-null float64\n",
      "BL_5           140707 non-null float64\n",
      "BL_6           140707 non-null float64\n",
      "NAC_0          140707 non-null int64\n",
      "NAC_1          140707 non-null int64\n",
      "NAC_2          140707 non-null int64\n",
      "NAC_3          140707 non-null int64\n",
      "NAC_4          140707 non-null int64\n",
      "NAC_5          140707 non-null int64\n",
      "NAC_6          140707 non-null int64\n",
      "AS(NAC)_0      140707 non-null float64\n",
      "AS(NAC)_1      140707 non-null float64\n",
      "AS(NAC)_2      140707 non-null float64\n",
      "AS(NAC)_3      140707 non-null float64\n",
      "AS(NAC)_4      140707 non-null float64\n",
      "AS(NAC)_5      140707 non-null float64\n",
      "AS(NAC)_6      140707 non-null float64\n",
      "CS_0           140707 non-null float64\n",
      "CS_1           140707 non-null float64\n",
      "CS_2           140707 non-null float64\n",
      "CS_3           140707 non-null float64\n",
      "CS_4           140707 non-null float64\n",
      "CS_5           140707 non-null float64\n",
      "CS_6           140707 non-null float64\n",
      "AT_0           140707 non-null float64\n",
      "AT_1           140707 non-null float64\n",
      "AT_2           140707 non-null float64\n",
      "AT_3           140707 non-null float64\n",
      "AT_4           140707 non-null float64\n",
      "AT_5           140707 non-null float64\n",
      "AT_6           140707 non-null float64\n",
      "NA_0           140707 non-null int64\n",
      "NA_1           140707 non-null int64\n",
      "NA_2           140707 non-null int64\n",
      "NA_3           140707 non-null int64\n",
      "NA_4           140707 non-null int64\n",
      "NA_5           140707 non-null int64\n",
      "NA_6           140707 non-null int64\n",
      "ADL_0          140707 non-null float64\n",
      "ADL_1          140707 non-null float64\n",
      "ADL_2          140707 non-null float64\n",
      "ADL_3          140707 non-null float64\n",
      "ADL_4          140707 non-null float64\n",
      "ADL_5          140707 non-null float64\n",
      "ADL_6          140707 non-null float64\n",
      "NAD_0          140707 non-null int64\n",
      "NAD_1          140707 non-null int64\n",
      "NAD_2          140707 non-null int64\n",
      "NAD_3          140707 non-null int64\n",
      "NAD_4          140707 non-null int64\n",
      "NAD_5          140707 non-null int64\n",
      "NAD_6          140707 non-null int64\n",
      "Buzz_0_or_1    140707 non-null float64\n",
      "dtypes: float64(43), int64(35)\n",
      "memory usage: 83.7 MB\n"
     ]
    }
   ],
   "source": [
    "data.info()"
   ]
  },
  {
   "cell_type": "code",
   "execution_count": 7,
   "metadata": {},
   "outputs": [
    {
     "data": {
      "text/html": [
       "<div>\n",
       "<style scoped>\n",
       "    .dataframe tbody tr th:only-of-type {\n",
       "        vertical-align: middle;\n",
       "    }\n",
       "\n",
       "    .dataframe tbody tr th {\n",
       "        vertical-align: top;\n",
       "    }\n",
       "\n",
       "    .dataframe thead th {\n",
       "        text-align: right;\n",
       "    }\n",
       "</style>\n",
       "<table border=\"1\" class=\"dataframe\">\n",
       "  <thead>\n",
       "    <tr style=\"text-align: right;\">\n",
       "      <th></th>\n",
       "      <th>NCD_0</th>\n",
       "      <th>NCD_1</th>\n",
       "      <th>NCD_2</th>\n",
       "      <th>NCD_3</th>\n",
       "      <th>NCD_4</th>\n",
       "      <th>NCD_5</th>\n",
       "      <th>NCD_6</th>\n",
       "      <th>AI_0</th>\n",
       "      <th>AI_1</th>\n",
       "      <th>AI_2</th>\n",
       "      <th>...</th>\n",
       "      <th>ADL_5</th>\n",
       "      <th>ADL_6</th>\n",
       "      <th>NAD_0</th>\n",
       "      <th>NAD_1</th>\n",
       "      <th>NAD_2</th>\n",
       "      <th>NAD_3</th>\n",
       "      <th>NAD_4</th>\n",
       "      <th>NAD_5</th>\n",
       "      <th>NAD_6</th>\n",
       "      <th>Buzz_0_or_1</th>\n",
       "    </tr>\n",
       "  </thead>\n",
       "  <tbody>\n",
       "    <tr>\n",
       "      <th>count</th>\n",
       "      <td>140707.000000</td>\n",
       "      <td>140707.000000</td>\n",
       "      <td>140707.000000</td>\n",
       "      <td>140707.000000</td>\n",
       "      <td>140707.000000</td>\n",
       "      <td>140707.000000</td>\n",
       "      <td>140707.000000</td>\n",
       "      <td>140707.000000</td>\n",
       "      <td>140707.000000</td>\n",
       "      <td>140707.000000</td>\n",
       "      <td>...</td>\n",
       "      <td>140707.000000</td>\n",
       "      <td>140707.000000</td>\n",
       "      <td>140707.000000</td>\n",
       "      <td>140707.000000</td>\n",
       "      <td>140707.000000</td>\n",
       "      <td>140707.000000</td>\n",
       "      <td>140707.000000</td>\n",
       "      <td>140707.000000</td>\n",
       "      <td>140707.000000</td>\n",
       "      <td>140707.000000</td>\n",
       "    </tr>\n",
       "    <tr>\n",
       "      <th>mean</th>\n",
       "      <td>172.279823</td>\n",
       "      <td>155.150625</td>\n",
       "      <td>165.464476</td>\n",
       "      <td>176.820549</td>\n",
       "      <td>186.937700</td>\n",
       "      <td>216.209208</td>\n",
       "      <td>243.866510</td>\n",
       "      <td>87.050154</td>\n",
       "      <td>78.639236</td>\n",
       "      <td>84.269574</td>\n",
       "      <td>...</td>\n",
       "      <td>1.113444</td>\n",
       "      <td>1.196131</td>\n",
       "      <td>172.838807</td>\n",
       "      <td>155.630878</td>\n",
       "      <td>165.938674</td>\n",
       "      <td>177.314810</td>\n",
       "      <td>187.463794</td>\n",
       "      <td>216.776294</td>\n",
       "      <td>244.479194</td>\n",
       "      <td>0.197396</td>\n",
       "    </tr>\n",
       "    <tr>\n",
       "      <th>std</th>\n",
       "      <td>509.872276</td>\n",
       "      <td>471.573236</td>\n",
       "      <td>495.360236</td>\n",
       "      <td>528.351277</td>\n",
       "      <td>560.331281</td>\n",
       "      <td>632.188378</td>\n",
       "      <td>707.402192</td>\n",
       "      <td>234.731748</td>\n",
       "      <td>218.448179</td>\n",
       "      <td>233.536510</td>\n",
       "      <td>...</td>\n",
       "      <td>1.374287</td>\n",
       "      <td>1.826150</td>\n",
       "      <td>510.937549</td>\n",
       "      <td>472.462733</td>\n",
       "      <td>496.233557</td>\n",
       "      <td>529.286514</td>\n",
       "      <td>561.309487</td>\n",
       "      <td>633.203935</td>\n",
       "      <td>708.436795</td>\n",
       "      <td>0.398035</td>\n",
       "    </tr>\n",
       "    <tr>\n",
       "      <th>min</th>\n",
       "      <td>0.000000</td>\n",
       "      <td>0.000000</td>\n",
       "      <td>0.000000</td>\n",
       "      <td>0.000000</td>\n",
       "      <td>0.000000</td>\n",
       "      <td>0.000000</td>\n",
       "      <td>0.000000</td>\n",
       "      <td>0.000000</td>\n",
       "      <td>0.000000</td>\n",
       "      <td>0.000000</td>\n",
       "      <td>...</td>\n",
       "      <td>0.000000</td>\n",
       "      <td>0.000000</td>\n",
       "      <td>0.000000</td>\n",
       "      <td>0.000000</td>\n",
       "      <td>0.000000</td>\n",
       "      <td>0.000000</td>\n",
       "      <td>0.000000</td>\n",
       "      <td>0.000000</td>\n",
       "      <td>0.000000</td>\n",
       "      <td>0.000000</td>\n",
       "    </tr>\n",
       "    <tr>\n",
       "      <th>25%</th>\n",
       "      <td>3.000000</td>\n",
       "      <td>2.000000</td>\n",
       "      <td>3.000000</td>\n",
       "      <td>3.000000</td>\n",
       "      <td>3.000000</td>\n",
       "      <td>4.000000</td>\n",
       "      <td>5.000000</td>\n",
       "      <td>2.000000</td>\n",
       "      <td>2.000000</td>\n",
       "      <td>2.000000</td>\n",
       "      <td>...</td>\n",
       "      <td>1.000000</td>\n",
       "      <td>1.000000</td>\n",
       "      <td>3.000000</td>\n",
       "      <td>2.000000</td>\n",
       "      <td>3.000000</td>\n",
       "      <td>3.000000</td>\n",
       "      <td>3.000000</td>\n",
       "      <td>4.000000</td>\n",
       "      <td>6.000000</td>\n",
       "      <td>0.000000</td>\n",
       "    </tr>\n",
       "    <tr>\n",
       "      <th>50%</th>\n",
       "      <td>22.000000</td>\n",
       "      <td>19.000000</td>\n",
       "      <td>20.000000</td>\n",
       "      <td>22.000000</td>\n",
       "      <td>23.000000</td>\n",
       "      <td>28.000000</td>\n",
       "      <td>33.000000</td>\n",
       "      <td>13.000000</td>\n",
       "      <td>11.000000</td>\n",
       "      <td>13.000000</td>\n",
       "      <td>...</td>\n",
       "      <td>1.000000</td>\n",
       "      <td>1.000000</td>\n",
       "      <td>22.000000</td>\n",
       "      <td>19.000000</td>\n",
       "      <td>21.000000</td>\n",
       "      <td>22.000000</td>\n",
       "      <td>23.000000</td>\n",
       "      <td>28.000000</td>\n",
       "      <td>33.000000</td>\n",
       "      <td>0.000000</td>\n",
       "    </tr>\n",
       "    <tr>\n",
       "      <th>75%</th>\n",
       "      <td>125.000000</td>\n",
       "      <td>112.000000</td>\n",
       "      <td>119.000000</td>\n",
       "      <td>126.000000</td>\n",
       "      <td>133.000000</td>\n",
       "      <td>161.000000</td>\n",
       "      <td>186.000000</td>\n",
       "      <td>70.000000</td>\n",
       "      <td>64.000000</td>\n",
       "      <td>67.000000</td>\n",
       "      <td>...</td>\n",
       "      <td>1.100000</td>\n",
       "      <td>1.119048</td>\n",
       "      <td>126.000000</td>\n",
       "      <td>113.000000</td>\n",
       "      <td>119.000000</td>\n",
       "      <td>127.000000</td>\n",
       "      <td>134.000000</td>\n",
       "      <td>162.000000</td>\n",
       "      <td>187.000000</td>\n",
       "      <td>0.000000</td>\n",
       "    </tr>\n",
       "    <tr>\n",
       "      <th>max</th>\n",
       "      <td>24210.000000</td>\n",
       "      <td>22899.000000</td>\n",
       "      <td>20495.000000</td>\n",
       "      <td>27007.000000</td>\n",
       "      <td>30957.000000</td>\n",
       "      <td>28603.000000</td>\n",
       "      <td>37505.000000</td>\n",
       "      <td>15105.000000</td>\n",
       "      <td>15730.000000</td>\n",
       "      <td>16389.000000</td>\n",
       "      <td>...</td>\n",
       "      <td>185.666672</td>\n",
       "      <td>295.000000</td>\n",
       "      <td>24301.000000</td>\n",
       "      <td>22980.000000</td>\n",
       "      <td>20495.000000</td>\n",
       "      <td>27071.000000</td>\n",
       "      <td>31028.000000</td>\n",
       "      <td>28697.000000</td>\n",
       "      <td>37505.000000</td>\n",
       "      <td>1.000000</td>\n",
       "    </tr>\n",
       "  </tbody>\n",
       "</table>\n",
       "<p>8 rows × 78 columns</p>\n",
       "</div>"
      ],
      "text/plain": [
       "               NCD_0          NCD_1          NCD_2          NCD_3  \\\n",
       "count  140707.000000  140707.000000  140707.000000  140707.000000   \n",
       "mean      172.279823     155.150625     165.464476     176.820549   \n",
       "std       509.872276     471.573236     495.360236     528.351277   \n",
       "min         0.000000       0.000000       0.000000       0.000000   \n",
       "25%         3.000000       2.000000       3.000000       3.000000   \n",
       "50%        22.000000      19.000000      20.000000      22.000000   \n",
       "75%       125.000000     112.000000     119.000000     126.000000   \n",
       "max     24210.000000   22899.000000   20495.000000   27007.000000   \n",
       "\n",
       "               NCD_4          NCD_5          NCD_6           AI_0  \\\n",
       "count  140707.000000  140707.000000  140707.000000  140707.000000   \n",
       "mean      186.937700     216.209208     243.866510      87.050154   \n",
       "std       560.331281     632.188378     707.402192     234.731748   \n",
       "min         0.000000       0.000000       0.000000       0.000000   \n",
       "25%         3.000000       4.000000       5.000000       2.000000   \n",
       "50%        23.000000      28.000000      33.000000      13.000000   \n",
       "75%       133.000000     161.000000     186.000000      70.000000   \n",
       "max     30957.000000   28603.000000   37505.000000   15105.000000   \n",
       "\n",
       "                AI_1           AI_2      ...                ADL_5  \\\n",
       "count  140707.000000  140707.000000      ...        140707.000000   \n",
       "mean       78.639236      84.269574      ...             1.113444   \n",
       "std       218.448179     233.536510      ...             1.374287   \n",
       "min         0.000000       0.000000      ...             0.000000   \n",
       "25%         2.000000       2.000000      ...             1.000000   \n",
       "50%        11.000000      13.000000      ...             1.000000   \n",
       "75%        64.000000      67.000000      ...             1.100000   \n",
       "max     15730.000000   16389.000000      ...           185.666672   \n",
       "\n",
       "               ADL_6          NAD_0          NAD_1          NAD_2  \\\n",
       "count  140707.000000  140707.000000  140707.000000  140707.000000   \n",
       "mean        1.196131     172.838807     155.630878     165.938674   \n",
       "std         1.826150     510.937549     472.462733     496.233557   \n",
       "min         0.000000       0.000000       0.000000       0.000000   \n",
       "25%         1.000000       3.000000       2.000000       3.000000   \n",
       "50%         1.000000      22.000000      19.000000      21.000000   \n",
       "75%         1.119048     126.000000     113.000000     119.000000   \n",
       "max       295.000000   24301.000000   22980.000000   20495.000000   \n",
       "\n",
       "               NAD_3          NAD_4          NAD_5          NAD_6  \\\n",
       "count  140707.000000  140707.000000  140707.000000  140707.000000   \n",
       "mean      177.314810     187.463794     216.776294     244.479194   \n",
       "std       529.286514     561.309487     633.203935     708.436795   \n",
       "min         0.000000       0.000000       0.000000       0.000000   \n",
       "25%         3.000000       3.000000       4.000000       6.000000   \n",
       "50%        22.000000      23.000000      28.000000      33.000000   \n",
       "75%       127.000000     134.000000     162.000000     187.000000   \n",
       "max     27071.000000   31028.000000   28697.000000   37505.000000   \n",
       "\n",
       "         Buzz_0_or_1  \n",
       "count  140707.000000  \n",
       "mean        0.197396  \n",
       "std         0.398035  \n",
       "min         0.000000  \n",
       "25%         0.000000  \n",
       "50%         0.000000  \n",
       "75%         0.000000  \n",
       "max         1.000000  \n",
       "\n",
       "[8 rows x 78 columns]"
      ]
     },
     "execution_count": 7,
     "metadata": {},
     "output_type": "execute_result"
    }
   ],
   "source": [
    "data.describe()"
   ]
  },
  {
   "cell_type": "markdown",
   "metadata": {},
   "source": [
    "### Data Leakage"
   ]
  },
  {
   "cell_type": "code",
   "execution_count": 8,
   "metadata": {},
   "outputs": [
    {
     "data": {
      "text/plain": [
       "Buzz_0_or_1    1.000000\n",
       "AS(NA)_6       0.590686\n",
       "AS(NA)_5       0.578038\n",
       "NA_6           0.572527\n",
       "NA_5           0.571965\n",
       "AS(NA)_0       0.569938\n",
       "NA_0           0.569730\n",
       "AI_0           0.563515\n",
       "AI_5           0.563084\n",
       "AS(NA)_4       0.562928\n",
       "AS(NAC)_6      0.560837\n",
       "AS(NA)_3       0.557119\n",
       "NA_1           0.556933\n",
       "NA_4           0.555408\n",
       "AI_6           0.552319\n",
       "NAC_6          0.551673\n",
       "AS(NA)_1       0.551450\n",
       "NAC_5          0.549994\n",
       "AS(NAC)_5      0.549422\n",
       "NA_3           0.549304\n",
       "NA_2           0.549267\n",
       "NAC_0          0.548952\n",
       "AS(NA)_2       0.547840\n",
       "AI_4           0.546433\n",
       "AI_1           0.545242\n",
       "NAD_0          0.541199\n",
       "NAD_6          0.541155\n",
       "NCD_0          0.540735\n",
       "NCD_6          0.540701\n",
       "NAD_5          0.540574\n",
       "                 ...   \n",
       "AS(NAC)_2      0.513879\n",
       "AS(NAC)_1      0.508425\n",
       "BL_2           0.170248\n",
       "CS_2           0.169339\n",
       "BL_3           0.165275\n",
       "CS_3           0.164040\n",
       "BL_4           0.161463\n",
       "BL_0           0.161292\n",
       "CS_4           0.159971\n",
       "CS_0           0.158734\n",
       "BL_5           0.131507\n",
       "CS_5           0.129221\n",
       "BL_1           0.128120\n",
       "CS_1           0.126772\n",
       "BL_6           0.103633\n",
       "CS_6           0.100151\n",
       "AT_3           0.052676\n",
       "AT_2           0.050144\n",
       "ADL_3          0.046732\n",
       "ADL_2          0.045742\n",
       "AT_0           0.043699\n",
       "ADL_0          0.039019\n",
       "AT_4           0.035815\n",
       "AT_1           0.033300\n",
       "ADL_1          0.031791\n",
       "ADL_4          0.031534\n",
       "AT_5           0.020669\n",
       "ADL_5          0.012107\n",
       "AT_6          -0.000901\n",
       "ADL_6         -0.011439\n",
       "Name: Buzz_0_or_1, Length: 78, dtype: float64"
      ]
     },
     "execution_count": 8,
     "metadata": {},
     "output_type": "execute_result"
    }
   ],
   "source": [
    "# Determining the Correlation of Buzz_0_or_1 with other attributes.\n",
    "co_matrix=data.corr()\n",
    "co_matrix[\"Buzz_0_or_1\"].sort_values(ascending=False)\n",
    "\n",
    "  "
   ]
  },
  {
   "cell_type": "markdown",
   "metadata": {},
   "source": [
    "### Split Data"
   ]
  },
  {
   "cell_type": "code",
   "execution_count": 9,
   "metadata": {},
   "outputs": [],
   "source": [
    "#  Defingin Target Variable & Independent Variables\n",
    "X = data.iloc[:,:-1]\n",
    "y = data.iloc[:,-1]\n"
   ]
  },
  {
   "cell_type": "code",
   "execution_count": 10,
   "metadata": {},
   "outputs": [],
   "source": [
    "# Splitting Data set Randomly such that size is 10% of the original data \n",
    "\n",
    "from sklearn.model_selection import train_test_split\n",
    "_, sample_data, _, sample_target = train_test_split(X, y, shuffle = True, test_size = 0.01)"
   ]
  },
  {
   "cell_type": "code",
   "execution_count": 11,
   "metadata": {},
   "outputs": [
    {
     "data": {
      "text/plain": [
       "(1408, 77)"
      ]
     },
     "execution_count": 11,
     "metadata": {},
     "output_type": "execute_result"
    }
   ],
   "source": [
    "sample_data.shape"
   ]
  },
  {
   "cell_type": "code",
   "execution_count": 12,
   "metadata": {},
   "outputs": [
    {
     "data": {
      "text/plain": [
       "(1408,)"
      ]
     },
     "execution_count": 12,
     "metadata": {},
     "output_type": "execute_result"
    }
   ],
   "source": [
    "sample_target.shape"
   ]
  },
  {
   "cell_type": "code",
   "execution_count": 13,
   "metadata": {},
   "outputs": [
    {
     "data": {
      "text/html": [
       "<div>\n",
       "<style scoped>\n",
       "    .dataframe tbody tr th:only-of-type {\n",
       "        vertical-align: middle;\n",
       "    }\n",
       "\n",
       "    .dataframe tbody tr th {\n",
       "        vertical-align: top;\n",
       "    }\n",
       "\n",
       "    .dataframe thead th {\n",
       "        text-align: right;\n",
       "    }\n",
       "</style>\n",
       "<table border=\"1\" class=\"dataframe\">\n",
       "  <thead>\n",
       "    <tr style=\"text-align: right;\">\n",
       "      <th></th>\n",
       "      <th>mean</th>\n",
       "      <th>median</th>\n",
       "    </tr>\n",
       "  </thead>\n",
       "  <tbody>\n",
       "    <tr>\n",
       "      <th>NCD_0</th>\n",
       "      <td>172.279823</td>\n",
       "      <td>22.000000</td>\n",
       "    </tr>\n",
       "    <tr>\n",
       "      <th>NCD_1</th>\n",
       "      <td>155.150625</td>\n",
       "      <td>19.000000</td>\n",
       "    </tr>\n",
       "    <tr>\n",
       "      <th>NCD_2</th>\n",
       "      <td>165.464476</td>\n",
       "      <td>20.000000</td>\n",
       "    </tr>\n",
       "    <tr>\n",
       "      <th>NCD_3</th>\n",
       "      <td>176.820549</td>\n",
       "      <td>22.000000</td>\n",
       "    </tr>\n",
       "    <tr>\n",
       "      <th>NCD_4</th>\n",
       "      <td>186.937700</td>\n",
       "      <td>23.000000</td>\n",
       "    </tr>\n",
       "    <tr>\n",
       "      <th>NCD_5</th>\n",
       "      <td>216.209208</td>\n",
       "      <td>28.000000</td>\n",
       "    </tr>\n",
       "    <tr>\n",
       "      <th>NCD_6</th>\n",
       "      <td>243.866510</td>\n",
       "      <td>33.000000</td>\n",
       "    </tr>\n",
       "    <tr>\n",
       "      <th>AI_0</th>\n",
       "      <td>87.050154</td>\n",
       "      <td>13.000000</td>\n",
       "    </tr>\n",
       "    <tr>\n",
       "      <th>AI_1</th>\n",
       "      <td>78.639236</td>\n",
       "      <td>11.000000</td>\n",
       "    </tr>\n",
       "    <tr>\n",
       "      <th>AI_2</th>\n",
       "      <td>84.269574</td>\n",
       "      <td>13.000000</td>\n",
       "    </tr>\n",
       "    <tr>\n",
       "      <th>AI_3</th>\n",
       "      <td>90.533776</td>\n",
       "      <td>13.000000</td>\n",
       "    </tr>\n",
       "    <tr>\n",
       "      <th>AI_4</th>\n",
       "      <td>95.749586</td>\n",
       "      <td>14.000000</td>\n",
       "    </tr>\n",
       "    <tr>\n",
       "      <th>AI_5</th>\n",
       "      <td>110.877220</td>\n",
       "      <td>17.000000</td>\n",
       "    </tr>\n",
       "    <tr>\n",
       "      <th>AI_6</th>\n",
       "      <td>127.185151</td>\n",
       "      <td>20.000000</td>\n",
       "    </tr>\n",
       "    <tr>\n",
       "      <th>AS(NA)_0</th>\n",
       "      <td>0.000234</td>\n",
       "      <td>0.000030</td>\n",
       "    </tr>\n",
       "    <tr>\n",
       "      <th>AS(NA)_1</th>\n",
       "      <td>0.000216</td>\n",
       "      <td>0.000026</td>\n",
       "    </tr>\n",
       "    <tr>\n",
       "      <th>AS(NA)_2</th>\n",
       "      <td>0.000229</td>\n",
       "      <td>0.000029</td>\n",
       "    </tr>\n",
       "    <tr>\n",
       "      <th>AS(NA)_3</th>\n",
       "      <td>0.000238</td>\n",
       "      <td>0.000031</td>\n",
       "    </tr>\n",
       "    <tr>\n",
       "      <th>AS(NA)_4</th>\n",
       "      <td>0.000247</td>\n",
       "      <td>0.000032</td>\n",
       "    </tr>\n",
       "    <tr>\n",
       "      <th>AS(NA)_5</th>\n",
       "      <td>0.000282</td>\n",
       "      <td>0.000038</td>\n",
       "    </tr>\n",
       "    <tr>\n",
       "      <th>AS(NA)_6</th>\n",
       "      <td>0.000312</td>\n",
       "      <td>0.000045</td>\n",
       "    </tr>\n",
       "    <tr>\n",
       "      <th>BL_0</th>\n",
       "      <td>0.901194</td>\n",
       "      <td>1.000000</td>\n",
       "    </tr>\n",
       "    <tr>\n",
       "      <th>BL_1</th>\n",
       "      <td>0.909363</td>\n",
       "      <td>1.000000</td>\n",
       "    </tr>\n",
       "    <tr>\n",
       "      <th>BL_2</th>\n",
       "      <td>0.871815</td>\n",
       "      <td>1.000000</td>\n",
       "    </tr>\n",
       "    <tr>\n",
       "      <th>BL_3</th>\n",
       "      <td>0.884976</td>\n",
       "      <td>1.000000</td>\n",
       "    </tr>\n",
       "    <tr>\n",
       "      <th>BL_4</th>\n",
       "      <td>0.889780</td>\n",
       "      <td>1.000000</td>\n",
       "    </tr>\n",
       "    <tr>\n",
       "      <th>BL_5</th>\n",
       "      <td>0.928793</td>\n",
       "      <td>1.000000</td>\n",
       "    </tr>\n",
       "    <tr>\n",
       "      <th>BL_6</th>\n",
       "      <td>0.954723</td>\n",
       "      <td>1.000000</td>\n",
       "    </tr>\n",
       "    <tr>\n",
       "      <th>NAC_0</th>\n",
       "      <td>184.758917</td>\n",
       "      <td>24.000000</td>\n",
       "    </tr>\n",
       "    <tr>\n",
       "      <th>NAC_1</th>\n",
       "      <td>166.175009</td>\n",
       "      <td>20.000000</td>\n",
       "    </tr>\n",
       "    <tr>\n",
       "      <th>...</th>\n",
       "      <td>...</td>\n",
       "      <td>...</td>\n",
       "    </tr>\n",
       "    <tr>\n",
       "      <th>CS_6</th>\n",
       "      <td>0.959853</td>\n",
       "      <td>1.000000</td>\n",
       "    </tr>\n",
       "    <tr>\n",
       "      <th>AT_0</th>\n",
       "      <td>1.013431</td>\n",
       "      <td>1.000000</td>\n",
       "    </tr>\n",
       "    <tr>\n",
       "      <th>AT_1</th>\n",
       "      <td>1.012180</td>\n",
       "      <td>1.000000</td>\n",
       "    </tr>\n",
       "    <tr>\n",
       "      <th>AT_2</th>\n",
       "      <td>0.972701</td>\n",
       "      <td>1.000000</td>\n",
       "    </tr>\n",
       "    <tr>\n",
       "      <th>AT_3</th>\n",
       "      <td>0.988940</td>\n",
       "      <td>1.000000</td>\n",
       "    </tr>\n",
       "    <tr>\n",
       "      <th>AT_4</th>\n",
       "      <td>0.997408</td>\n",
       "      <td>1.000000</td>\n",
       "    </tr>\n",
       "    <tr>\n",
       "      <th>AT_5</th>\n",
       "      <td>1.051740</td>\n",
       "      <td>1.000000</td>\n",
       "    </tr>\n",
       "    <tr>\n",
       "      <th>AT_6</th>\n",
       "      <td>1.113331</td>\n",
       "      <td>1.000000</td>\n",
       "    </tr>\n",
       "    <tr>\n",
       "      <th>NA_0</th>\n",
       "      <td>150.697954</td>\n",
       "      <td>21.000000</td>\n",
       "    </tr>\n",
       "    <tr>\n",
       "      <th>NA_1</th>\n",
       "      <td>135.643827</td>\n",
       "      <td>18.000000</td>\n",
       "    </tr>\n",
       "    <tr>\n",
       "      <th>NA_2</th>\n",
       "      <td>144.482172</td>\n",
       "      <td>19.000000</td>\n",
       "    </tr>\n",
       "    <tr>\n",
       "      <th>NA_3</th>\n",
       "      <td>154.597980</td>\n",
       "      <td>21.000000</td>\n",
       "    </tr>\n",
       "    <tr>\n",
       "      <th>NA_4</th>\n",
       "      <td>163.167191</td>\n",
       "      <td>22.000000</td>\n",
       "    </tr>\n",
       "    <tr>\n",
       "      <th>NA_5</th>\n",
       "      <td>188.259021</td>\n",
       "      <td>26.000000</td>\n",
       "    </tr>\n",
       "    <tr>\n",
       "      <th>NA_6</th>\n",
       "      <td>211.743446</td>\n",
       "      <td>31.000000</td>\n",
       "    </tr>\n",
       "    <tr>\n",
       "      <th>ADL_0</th>\n",
       "      <td>1.057531</td>\n",
       "      <td>1.000000</td>\n",
       "    </tr>\n",
       "    <tr>\n",
       "      <th>ADL_1</th>\n",
       "      <td>1.050505</td>\n",
       "      <td>1.000000</td>\n",
       "    </tr>\n",
       "    <tr>\n",
       "      <th>ADL_2</th>\n",
       "      <td>1.016524</td>\n",
       "      <td>1.000000</td>\n",
       "    </tr>\n",
       "    <tr>\n",
       "      <th>ADL_3</th>\n",
       "      <td>1.035727</td>\n",
       "      <td>1.000000</td>\n",
       "    </tr>\n",
       "    <tr>\n",
       "      <th>ADL_4</th>\n",
       "      <td>1.045443</td>\n",
       "      <td>1.000000</td>\n",
       "    </tr>\n",
       "    <tr>\n",
       "      <th>ADL_5</th>\n",
       "      <td>1.113444</td>\n",
       "      <td>1.000000</td>\n",
       "    </tr>\n",
       "    <tr>\n",
       "      <th>ADL_6</th>\n",
       "      <td>1.196131</td>\n",
       "      <td>1.000000</td>\n",
       "    </tr>\n",
       "    <tr>\n",
       "      <th>NAD_0</th>\n",
       "      <td>172.838807</td>\n",
       "      <td>22.000000</td>\n",
       "    </tr>\n",
       "    <tr>\n",
       "      <th>NAD_1</th>\n",
       "      <td>155.630878</td>\n",
       "      <td>19.000000</td>\n",
       "    </tr>\n",
       "    <tr>\n",
       "      <th>NAD_2</th>\n",
       "      <td>165.938674</td>\n",
       "      <td>21.000000</td>\n",
       "    </tr>\n",
       "    <tr>\n",
       "      <th>NAD_3</th>\n",
       "      <td>177.314810</td>\n",
       "      <td>22.000000</td>\n",
       "    </tr>\n",
       "    <tr>\n",
       "      <th>NAD_4</th>\n",
       "      <td>187.463794</td>\n",
       "      <td>23.000000</td>\n",
       "    </tr>\n",
       "    <tr>\n",
       "      <th>NAD_5</th>\n",
       "      <td>216.776294</td>\n",
       "      <td>28.000000</td>\n",
       "    </tr>\n",
       "    <tr>\n",
       "      <th>NAD_6</th>\n",
       "      <td>244.479194</td>\n",
       "      <td>33.000000</td>\n",
       "    </tr>\n",
       "    <tr>\n",
       "      <th>Buzz_0_or_1</th>\n",
       "      <td>0.197396</td>\n",
       "      <td>0.000000</td>\n",
       "    </tr>\n",
       "  </tbody>\n",
       "</table>\n",
       "<p>78 rows × 2 columns</p>\n",
       "</div>"
      ],
      "text/plain": [
       "                   mean     median\n",
       "NCD_0        172.279823  22.000000\n",
       "NCD_1        155.150625  19.000000\n",
       "NCD_2        165.464476  20.000000\n",
       "NCD_3        176.820549  22.000000\n",
       "NCD_4        186.937700  23.000000\n",
       "NCD_5        216.209208  28.000000\n",
       "NCD_6        243.866510  33.000000\n",
       "AI_0          87.050154  13.000000\n",
       "AI_1          78.639236  11.000000\n",
       "AI_2          84.269574  13.000000\n",
       "AI_3          90.533776  13.000000\n",
       "AI_4          95.749586  14.000000\n",
       "AI_5         110.877220  17.000000\n",
       "AI_6         127.185151  20.000000\n",
       "AS(NA)_0       0.000234   0.000030\n",
       "AS(NA)_1       0.000216   0.000026\n",
       "AS(NA)_2       0.000229   0.000029\n",
       "AS(NA)_3       0.000238   0.000031\n",
       "AS(NA)_4       0.000247   0.000032\n",
       "AS(NA)_5       0.000282   0.000038\n",
       "AS(NA)_6       0.000312   0.000045\n",
       "BL_0           0.901194   1.000000\n",
       "BL_1           0.909363   1.000000\n",
       "BL_2           0.871815   1.000000\n",
       "BL_3           0.884976   1.000000\n",
       "BL_4           0.889780   1.000000\n",
       "BL_5           0.928793   1.000000\n",
       "BL_6           0.954723   1.000000\n",
       "NAC_0        184.758917  24.000000\n",
       "NAC_1        166.175009  20.000000\n",
       "...                 ...        ...\n",
       "CS_6           0.959853   1.000000\n",
       "AT_0           1.013431   1.000000\n",
       "AT_1           1.012180   1.000000\n",
       "AT_2           0.972701   1.000000\n",
       "AT_3           0.988940   1.000000\n",
       "AT_4           0.997408   1.000000\n",
       "AT_5           1.051740   1.000000\n",
       "AT_6           1.113331   1.000000\n",
       "NA_0         150.697954  21.000000\n",
       "NA_1         135.643827  18.000000\n",
       "NA_2         144.482172  19.000000\n",
       "NA_3         154.597980  21.000000\n",
       "NA_4         163.167191  22.000000\n",
       "NA_5         188.259021  26.000000\n",
       "NA_6         211.743446  31.000000\n",
       "ADL_0          1.057531   1.000000\n",
       "ADL_1          1.050505   1.000000\n",
       "ADL_2          1.016524   1.000000\n",
       "ADL_3          1.035727   1.000000\n",
       "ADL_4          1.045443   1.000000\n",
       "ADL_5          1.113444   1.000000\n",
       "ADL_6          1.196131   1.000000\n",
       "NAD_0        172.838807  22.000000\n",
       "NAD_1        155.630878  19.000000\n",
       "NAD_2        165.938674  21.000000\n",
       "NAD_3        177.314810  22.000000\n",
       "NAD_4        187.463794  23.000000\n",
       "NAD_5        216.776294  28.000000\n",
       "NAD_6        244.479194  33.000000\n",
       "Buzz_0_or_1    0.197396   0.000000\n",
       "\n",
       "[78 rows x 2 columns]"
      ]
     },
     "execution_count": 13,
     "metadata": {},
     "output_type": "execute_result"
    }
   ],
   "source": [
    "def Skewness(data):\n",
    "    s = (data.mean(),data.median())\n",
    "    s = pd.concat(s,axis=1)\n",
    "    s.columns = ['mean','median']\n",
    "    return(s)\n",
    "Skewness(data)"
   ]
  },
  {
   "cell_type": "markdown",
   "metadata": {},
   "source": [
    "#### The use of scaling algorithm in the listed below methods will be Min Max Scalar Method\n",
    "#### as the independent variables are not normally distributed and are Right Skewed as mean is towards the right of median\n",
    "#### which we can see in the listed above table having 'Mean' and 'Median' values for all variables\n",
    "#### so Standard Scaler will not work well \n",
    "#### and Min Max scalar Works well with such data set distribution as compared to Standard Scalar \n"
   ]
  },
  {
   "cell_type": "markdown",
   "metadata": {},
   "source": [
    "### Data Balance Check"
   ]
  },
  {
   "cell_type": "code",
   "execution_count": 14,
   "metadata": {},
   "outputs": [
    {
     "data": {
      "text/plain": [
       "0.19739600730596205"
      ]
     },
     "execution_count": 14,
     "metadata": {},
     "output_type": "execute_result"
    }
   ],
   "source": [
    "y.sum()/y.count() ## Imbalanced "
   ]
  },
  {
   "cell_type": "code",
   "execution_count": 15,
   "metadata": {},
   "outputs": [],
   "source": [
    "from sklearn.model_selection import train_test_split\n",
    "from sklearn.preprocessing import MinMaxScaler\n",
    "from sklearn.model_selection import GridSearchCV\n",
    "from sklearn.metrics import roc_auc_score\n",
    "\n",
    "X_train_org, X_test_org, y_train, y_test = train_test_split(sample_data,sample_target, random_state = 0)\n",
    "\n",
    "scaler = MinMaxScaler()\n",
    "X_train = scaler.fit_transform(X_train_org)\n",
    "X_test = scaler.transform(X_test_org)"
   ]
  },
  {
   "cell_type": "markdown",
   "metadata": {},
   "source": [
    "### Model 1  : Logistic Regression"
   ]
  },
  {
   "cell_type": "code",
   "execution_count": 16,
   "metadata": {
    "scrolled": true
   },
   "outputs": [
    {
     "data": {
      "text/plain": [
       "GridSearchCV(cv=5, error_score='raise',\n",
       "       estimator=LogisticRegression(C=1.0, class_weight=None, dual=False, fit_intercept=True,\n",
       "          intercept_scaling=1, max_iter=100, multi_class='ovr', n_jobs=1,\n",
       "          penalty='l2', random_state=None, solver='liblinear', tol=0.0001,\n",
       "          verbose=0, warm_start=False),\n",
       "       fit_params=None, iid=True, n_jobs=-1,\n",
       "       param_grid={'C': [0.01, 0.1, 1, 10, 100, 1000], 'penalty': ['l1', 'l2']},\n",
       "       pre_dispatch='2*n_jobs', refit=True, return_train_score='warn',\n",
       "       scoring='roc_auc', verbose=0)"
      ]
     },
     "execution_count": 16,
     "metadata": {},
     "output_type": "execute_result"
    }
   ],
   "source": [
    "from sklearn.linear_model import LogisticRegression\n",
    "from sklearn.model_selection import GridSearchCV\n",
    "param_lr = {'C':[0.01, 0.1, 1, 10, 100, 1000], 'penalty': ['l1','l2']}\n",
    "\n",
    "log_reg = LogisticRegression()\n",
    "\n",
    "grid_LogR = GridSearchCV(log_reg, param_grid = param_lr, cv = 5, scoring='roc_auc',n_jobs=-1)\n",
    "grid_LogR.fit(X_train, y_train)"
   ]
  },
  {
   "cell_type": "code",
   "execution_count": 17,
   "metadata": {},
   "outputs": [
    {
     "name": "stdout",
     "output_type": "stream",
     "text": [
      "Best cross-validation accuracy: 0.99\n",
      "Best parameters: {'C': 10, 'penalty': 'l1'}\n",
      "Train Set Score: 0.99\n",
      "Test Set Score: 0.98\n"
     ]
    }
   ],
   "source": [
    "print(\"Best cross-validation accuracy: {:.2f}\".format(grid_LogR.best_score_))\n",
    "print(\"Best parameters: {}\".format(grid_LogR.best_params_))\n",
    "print(\"Train Set Score: {:.2f}\".format(grid_LogR.score(X_train, y_train)))\n",
    "print(\"Test Set Score: {:.2f}\".format(grid_LogR.score(X_test, y_test)))"
   ]
  },
  {
   "cell_type": "code",
   "execution_count": 18,
   "metadata": {},
   "outputs": [],
   "source": [
    "LogR_train_predict = grid_LogR.predict(X_train);\n",
    "LogR_predict = grid_LogR.predict(X_test);"
   ]
  },
  {
   "cell_type": "code",
   "execution_count": 19,
   "metadata": {},
   "outputs": [
    {
     "name": "stdout",
     "output_type": "stream",
     "text": [
      "Train roc_auc_score: 0.96\n",
      "Test roc_auc_score: 0.94 \n"
     ]
    }
   ],
   "source": [
    "from sklearn.metrics import roc_auc_score\n",
    "print('Train roc_auc_score: %.2f'%roc_auc_score(LogR_train_predict, y_train))\n",
    "print('Test roc_auc_score: %.2f '%roc_auc_score(LogR_predict, y_test))"
   ]
  },
  {
   "cell_type": "code",
   "execution_count": 20,
   "metadata": {},
   "outputs": [],
   "source": [
    "best_log_reg = LogisticRegression(C=grid_LogR.best_params_['C'],penalty=grid_LogR.best_params_['penalty'])\n",
    "best_log_reg.fit(X_train, y_train)\n",
    "prediction = best_log_reg.predict(X_train)\n"
   ]
  },
  {
   "cell_type": "markdown",
   "metadata": {},
   "source": [
    "### Bagging"
   ]
  },
  {
   "cell_type": "code",
   "execution_count": 21,
   "metadata": {},
   "outputs": [
    {
     "data": {
      "text/plain": [
       "GridSearchCV(cv=5, error_score='raise',\n",
       "       estimator=BaggingClassifier(base_estimator=LogisticRegression(C=10, class_weight=None, dual=False, fit_intercept=True,\n",
       "          intercept_scaling=1, max_iter=100, multi_class='ovr', n_jobs=1,\n",
       "          penalty='l1', random_state=None, solver='liblinear', tol=0.0001,\n",
       "          verbose=0, warm_start=False),\n",
       "         bootstrap=True, bootstrap_features=False, max_features=1.0,\n",
       "         max_samples=1.0, n_estimators=10, n_jobs=1, oob_score=True,\n",
       "         random_state=0, verbose=0, warm_start=False),\n",
       "       fit_params=None, iid=True, n_jobs=-1,\n",
       "       param_grid={'n_estimators': [100]}, pre_dispatch='2*n_jobs',\n",
       "       refit=True, return_train_score=True, scoring=None, verbose=0)"
      ]
     },
     "execution_count": 21,
     "metadata": {},
     "output_type": "execute_result"
    }
   ],
   "source": [
    "from sklearn.ensemble import BaggingClassifier\n",
    "\n",
    "bag_LogR = BaggingClassifier(best_log_reg, bootstrap = True,oob_score=True,random_state=0)\n",
    "param_grid = {'n_estimators': [100]}\n",
    "grid_bag_LogR = GridSearchCV(bag_LogR, param_grid, cv = 5,return_train_score=True,n_jobs=-1)\n",
    "grid_bag_LogR.fit(X_train, y_train)"
   ]
  },
  {
   "cell_type": "code",
   "execution_count": 22,
   "metadata": {},
   "outputs": [
    {
     "name": "stdout",
     "output_type": "stream",
     "text": [
      "Best parameters: {'n_estimators': 100}\n"
     ]
    }
   ],
   "source": [
    "print(\"Best parameters: {}\".format(grid_bag_LogR.best_params_))"
   ]
  },
  {
   "cell_type": "code",
   "execution_count": 23,
   "metadata": {},
   "outputs": [
    {
     "name": "stdout",
     "output_type": "stream",
     "text": [
      "Best cross-validation accuracy: 0.96\n",
      "Train Set Score: 0.9649621212121212\n",
      "Test Set Score: 0.9517045454545454\n",
      "Oob Score: 0.9621212121212122\n"
     ]
    }
   ],
   "source": [
    "best_bag_LogR = BaggingClassifier(best_log_reg,n_estimators = grid_bag_LogR.best_params_['n_estimators'],bootstrap = True,oob_score=True,random_state=0)\n",
    "best_bag_LogR.fit(X_train, y_train)\n",
    "print(\"Best cross-validation accuracy: {:.2f}\".format(grid_bag_LogR.best_score_))\n",
    "print(\"Train Set Score: {}\".format(grid_bag_LogR.score(X_train, y_train)))\n",
    "print(\"Test Set Score: {}\".format(grid_bag_LogR.score(X_test,y_test)))\n",
    "print(\"Oob Score: {}\".format(best_bag_LogR.oob_score_))"
   ]
  },
  {
   "cell_type": "markdown",
   "metadata": {},
   "source": [
    "### Pasting"
   ]
  },
  {
   "cell_type": "code",
   "execution_count": 24,
   "metadata": {},
   "outputs": [
    {
     "data": {
      "text/plain": [
       "GridSearchCV(cv=5, error_score='raise',\n",
       "       estimator=BaggingClassifier(base_estimator=LogisticRegression(C=10, class_weight=None, dual=False, fit_intercept=True,\n",
       "          intercept_scaling=1, max_iter=100, multi_class='ovr', n_jobs=1,\n",
       "          penalty='l1', random_state=None, solver='liblinear', tol=0.0001,\n",
       "          verbose=0, warm_start=...0, n_estimators=10, n_jobs=1, oob_score=False,\n",
       "         random_state=0, verbose=0, warm_start=False),\n",
       "       fit_params=None, iid=True, n_jobs=-1,\n",
       "       param_grid={'n_estimators': [100]}, pre_dispatch='2*n_jobs',\n",
       "       refit=True, return_train_score=True, scoring=None, verbose=0)"
      ]
     },
     "execution_count": 24,
     "metadata": {},
     "output_type": "execute_result"
    }
   ],
   "source": [
    "p_LogR = BaggingClassifier(best_log_reg, bootstrap = False,random_state=0)\n",
    "param_grid = {'n_estimators': [100]}\n",
    "grid_p_LogR = GridSearchCV(p_LogR, param_grid, cv = 5,return_train_score=True,n_jobs=-1)\n",
    "grid_p_LogR.fit(X_train, y_train)"
   ]
  },
  {
   "cell_type": "code",
   "execution_count": 25,
   "metadata": {},
   "outputs": [
    {
     "name": "stdout",
     "output_type": "stream",
     "text": [
      "Best cross-validation accuracy: 0.96\n",
      "Best parameters: {'n_estimators': 100}\n",
      "Train Set Score: 0.9668560606060606\n",
      "Test Set Score: 0.9460227272727273\n"
     ]
    }
   ],
   "source": [
    "print(\"Best cross-validation accuracy: {:.2f}\".format(grid_p_LogR.best_score_))\n",
    "print(\"Best parameters: {}\".format(grid_p_LogR.best_params_))\n",
    "print(\"Train Set Score: {}\".format(grid_p_LogR.score(X_train, y_train)))\n",
    "print(\"Test Set Score: {}\".format(grid_p_LogR.score(X_test,y_test)))"
   ]
  },
  {
   "cell_type": "markdown",
   "metadata": {},
   "source": [
    "### AdaBoost"
   ]
  },
  {
   "cell_type": "code",
   "execution_count": 26,
   "metadata": {},
   "outputs": [
    {
     "data": {
      "text/plain": [
       "GridSearchCV(cv=5, error_score='raise',\n",
       "       estimator=AdaBoostClassifier(algorithm='SAMME.R',\n",
       "          base_estimator=LogisticRegression(C=10, class_weight=None, dual=False, fit_intercept=True,\n",
       "          intercept_scaling=1, max_iter=100, multi_class='ovr', n_jobs=1,\n",
       "          penalty='l1', random_state=None, solver='liblinear', tol=0.0001,\n",
       "          verbose=0, warm_start=False),\n",
       "          learning_rate=1.0, n_estimators=50, random_state=0),\n",
       "       fit_params=None, iid=True, n_jobs=-1,\n",
       "       param_grid={'learning_rate': [0.01, 0.1, 1.0], 'n_estimators': [50, 100, 200]},\n",
       "       pre_dispatch='2*n_jobs', refit=True, return_train_score=True,\n",
       "       scoring=None, verbose=0)"
      ]
     },
     "execution_count": 26,
     "metadata": {},
     "output_type": "execute_result"
    }
   ],
   "source": [
    "from sklearn.ensemble import AdaBoostClassifier\n",
    "\n",
    "adbst_LogR = AdaBoostClassifier(best_log_reg,random_state=0)\n",
    "param_grid = {'learning_rate': [0.01,0.1,1.0],\n",
    "              'n_estimators': [50,100,200]}\n",
    "grid_adbst_LogR = GridSearchCV(adbst_LogR, param_grid, cv = 5,return_train_score=True,n_jobs=-1)\n",
    "grid_adbst_LogR.fit(X_train, y_train)"
   ]
  },
  {
   "cell_type": "code",
   "execution_count": 27,
   "metadata": {},
   "outputs": [
    {
     "name": "stdout",
     "output_type": "stream",
     "text": [
      "Best cross-validation accuracy: 0.78\n",
      "Best parameters: {'learning_rate': 0.01, 'n_estimators': 50}\n",
      "Train Set Score: 0.7793560606060606\n",
      "Test Set Score: 0.7727272727272727\n"
     ]
    }
   ],
   "source": [
    "print(\"Best cross-validation accuracy: {:.2f}\".format(grid_adbst_LogR.best_score_))\n",
    "print(\"Best parameters: {}\".format(grid_adbst_LogR.best_params_))\n",
    "print(\"Train Set Score: {}\".format(grid_adbst_LogR.score(X_train, y_train)))\n",
    "print(\"Test Set Score: {}\".format(grid_adbst_LogR.score(X_test,y_test)))"
   ]
  },
  {
   "cell_type": "markdown",
   "metadata": {},
   "source": [
    "### Gradient Boosting"
   ]
  },
  {
   "cell_type": "code",
   "execution_count": 28,
   "metadata": {},
   "outputs": [
    {
     "data": {
      "text/plain": [
       "GridSearchCV(cv=5, error_score='raise',\n",
       "       estimator=GradientBoostingClassifier(criterion='friedman_mse', init=None,\n",
       "              learning_rate=0.1, loss='deviance', max_depth=3,\n",
       "              max_features=None, max_leaf_nodes=None,\n",
       "              min_impurity_decrease=0.0, min_impurity_split=None,\n",
       "              min_samples_leaf=1, min_samples_split=2,\n",
       "              min_weight_fraction_leaf=0.0, n_estimators=100,\n",
       "              presort='auto', random_state=0, subsample=1.0, verbose=0,\n",
       "              warm_start=False),\n",
       "       fit_params=None, iid=True, n_jobs=-1,\n",
       "       param_grid={'max_depth': [1, 2], 'learning_rate': [0.01, 0.1, 1.0], 'n_estimators': [50, 100, 200]},\n",
       "       pre_dispatch='2*n_jobs', refit=True, return_train_score=True,\n",
       "       scoring=None, verbose=0)"
      ]
     },
     "execution_count": 28,
     "metadata": {},
     "output_type": "execute_result"
    }
   ],
   "source": [
    "from sklearn.ensemble import GradientBoostingClassifier\n",
    "\n",
    "gbrt_LogR = GradientBoostingClassifier(random_state=0)\n",
    "param_grid = {'max_depth':[1,2],\n",
    "              'learning_rate' : [0.01,0.1,1.0],\n",
    "              'n_estimators': [50,100,200]}\n",
    "grid_gbrt_LogR = GridSearchCV(gbrt_LogR, param_grid, cv = 5,return_train_score=True,n_jobs=-1)\n",
    "grid_gbrt_LogR.fit(X_train, y_train)"
   ]
  },
  {
   "cell_type": "code",
   "execution_count": 29,
   "metadata": {},
   "outputs": [
    {
     "name": "stdout",
     "output_type": "stream",
     "text": [
      "Best cross-validation accuracy: 0.97\n",
      "Best parameters: {'learning_rate': 0.1, 'max_depth': 1, 'n_estimators': 50}\n",
      "Train Set Score: 0.9763257575757576\n",
      "Test Set Score: 0.9460227272727273\n"
     ]
    }
   ],
   "source": [
    "print(\"Best cross-validation accuracy: {:.2f}\".format(grid_gbrt_LogR.best_score_))\n",
    "print(\"Best parameters: {}\".format(grid_gbrt_LogR.best_params_))\n",
    "print(\"Train Set Score: {}\".format(grid_gbrt_LogR.score(X_train, y_train)))\n",
    "print(\"Test Set Score: {}\".format(grid_gbrt_LogR.score(X_test,y_test)))"
   ]
  },
  {
   "cell_type": "markdown",
   "metadata": {},
   "source": [
    "### Model 2 : KNN Classifier"
   ]
  },
  {
   "cell_type": "code",
   "execution_count": 30,
   "metadata": {},
   "outputs": [
    {
     "data": {
      "text/plain": [
       "GridSearchCV(cv=5, error_score='raise',\n",
       "       estimator=KNeighborsClassifier(algorithm='auto', leaf_size=30, metric='minkowski',\n",
       "           metric_params=None, n_jobs=1, n_neighbors=5, p=2,\n",
       "           weights='uniform'),\n",
       "       fit_params=None, iid=True, n_jobs=-1,\n",
       "       param_grid={'n_neighbors': [1, 5, 10, 15, 20]},\n",
       "       pre_dispatch='2*n_jobs', refit=True, return_train_score='warn',\n",
       "       scoring='roc_auc', verbose=0)"
      ]
     },
     "execution_count": 30,
     "metadata": {},
     "output_type": "execute_result"
    }
   ],
   "source": [
    "from sklearn.neighbors import KNeighborsClassifier\n",
    "\n",
    "Knn = KNeighborsClassifier()\n",
    "param_Knn = {'n_neighbors':[1, 5, 10, 15, 20]}\n",
    "\n",
    "grid_Knn = GridSearchCV(Knn, param_grid=param_Knn, cv = 5, scoring='roc_auc',n_jobs=-1)\n",
    "grid_Knn.fit(X_train, y_train)"
   ]
  },
  {
   "cell_type": "code",
   "execution_count": 31,
   "metadata": {},
   "outputs": [
    {
     "name": "stdout",
     "output_type": "stream",
     "text": [
      "Best cross-validation accuracy: 0.98\n",
      "Best parameters: {'n_neighbors': 20}\n",
      "Train Set Score: 0.99\n",
      "Test Set Score: 0.97\n"
     ]
    }
   ],
   "source": [
    "print(\"Best cross-validation accuracy: {:.2f}\".format(grid_Knn.best_score_))\n",
    "print(\"Best parameters: {}\".format(grid_Knn.best_params_))\n",
    "print(\"Train Set Score: {:.2f}\".format(grid_Knn.score(X_train, y_train)))\n",
    "print(\"Test Set Score: {:.2f}\".format(grid_Knn.score(X_test, y_test)))"
   ]
  },
  {
   "cell_type": "code",
   "execution_count": 32,
   "metadata": {
    "scrolled": true
   },
   "outputs": [
    {
     "name": "stdout",
     "output_type": "stream",
     "text": [
      "Train roc_auc_score: 0.95\n",
      "Test roc_auc_score: 0.95 \n"
     ]
    }
   ],
   "source": [
    "Knn_train_predict = grid_Knn.predict(X_train);\n",
    "Knn_predict = grid_Knn.predict(X_test);\n",
    "from sklearn.metrics import roc_auc_score\n",
    "print('Train roc_auc_score: %.2f'%roc_auc_score(Knn_train_predict, y_train))\n",
    "print('Test roc_auc_score: %.2f '%roc_auc_score(Knn_predict, y_test))"
   ]
  },
  {
   "cell_type": "code",
   "execution_count": 33,
   "metadata": {},
   "outputs": [],
   "source": [
    "best_knn = KNeighborsClassifier(n_neighbors=grid_Knn.best_params_['n_neighbors'])\n",
    "\n"
   ]
  },
  {
   "cell_type": "markdown",
   "metadata": {},
   "source": [
    "## Due to Computation Complexity we are considering n_estimators as 100 from here onwards In Bagging and Pasting Scenarios\n"
   ]
  },
  {
   "cell_type": "markdown",
   "metadata": {},
   "source": [
    "### Bagging\n"
   ]
  },
  {
   "cell_type": "code",
   "execution_count": 34,
   "metadata": {},
   "outputs": [
    {
     "data": {
      "text/plain": [
       "GridSearchCV(cv=5, error_score='raise',\n",
       "       estimator=BaggingClassifier(base_estimator=KNeighborsClassifier(algorithm='auto', leaf_size=30, metric='minkowski',\n",
       "           metric_params=None, n_jobs=1, n_neighbors=20, p=2,\n",
       "           weights='uniform'),\n",
       "         bootstrap=True, bootstrap_features=False, max_features=1.0,\n",
       "         max_samples=1.0, n_estimators=10, n_jobs=1, oob_score=True,\n",
       "         random_state=0, verbose=0, warm_start=False),\n",
       "       fit_params=None, iid=True, n_jobs=-1,\n",
       "       param_grid={'n_estimators': [100]}, pre_dispatch='2*n_jobs',\n",
       "       refit=True, return_train_score=True, scoring=None, verbose=0)"
      ]
     },
     "execution_count": 34,
     "metadata": {},
     "output_type": "execute_result"
    }
   ],
   "source": [
    "bag_knn = BaggingClassifier(best_knn, bootstrap = True,oob_score=True,random_state=0)\n",
    "param_grid = {'n_estimators': [100]}\n",
    "grid_bag_knn = GridSearchCV(bag_knn, param_grid, cv = 5,return_train_score=True,n_jobs=-1)\n",
    "grid_bag_knn.fit(X_train, y_train)\n"
   ]
  },
  {
   "cell_type": "code",
   "execution_count": 35,
   "metadata": {},
   "outputs": [
    {
     "name": "stdout",
     "output_type": "stream",
     "text": [
      "Best parameters: {'n_estimators': 100}\n"
     ]
    }
   ],
   "source": [
    "print(\"Best parameters: {}\".format(grid_bag_knn.best_params_))"
   ]
  },
  {
   "cell_type": "code",
   "execution_count": 36,
   "metadata": {},
   "outputs": [
    {
     "name": "stdout",
     "output_type": "stream",
     "text": [
      "Best cross-validation accuracy: 0.96\n",
      "Train Set Score: 0.959280303030303\n",
      "Test Set Score: 0.9517045454545454\n",
      "Oob Score: 0.9573863636363636\n"
     ]
    }
   ],
   "source": [
    "best_bag_knn = BaggingClassifier(best_knn,n_estimators = grid_bag_knn.best_params_['n_estimators'],bootstrap = True,oob_score=True,random_state=0)\n",
    "best_bag_knn.fit(X_train, y_train)\n",
    "print(\"Best cross-validation accuracy: {:.2f}\".format(grid_bag_knn.best_score_))\n",
    "print(\"Train Set Score: {}\".format(grid_bag_knn.score(X_train, y_train)))\n",
    "print(\"Test Set Score: {}\".format(grid_bag_knn.score(X_test,y_test)))\n",
    "print(\"Oob Score: {}\".format(best_bag_knn.oob_score_))"
   ]
  },
  {
   "cell_type": "markdown",
   "metadata": {},
   "source": [
    "### Pasting"
   ]
  },
  {
   "cell_type": "code",
   "execution_count": 37,
   "metadata": {},
   "outputs": [
    {
     "data": {
      "text/plain": [
       "GridSearchCV(cv=5, error_score='raise',\n",
       "       estimator=BaggingClassifier(base_estimator=KNeighborsClassifier(algorithm='auto', leaf_size=30, metric='minkowski',\n",
       "           metric_params=None, n_jobs=1, n_neighbors=20, p=2,\n",
       "           weights='uniform'),\n",
       "         bootstrap=False, bootstrap_features=False, max_features=1.0,\n",
       "         max_samples=1.0, n_estimators=100, n_jobs=1, oob_score=False,\n",
       "         random_state=0, verbose=0, warm_start=False),\n",
       "       fit_params=None, iid=True, n_jobs=-1,\n",
       "       param_grid={'n_estimators': [100]}, pre_dispatch='2*n_jobs',\n",
       "       refit=True, return_train_score=True, scoring=None, verbose=0)"
      ]
     },
     "execution_count": 37,
     "metadata": {},
     "output_type": "execute_result"
    }
   ],
   "source": [
    "p_knn = BaggingClassifier(best_knn, bootstrap = False,n_estimators=100,random_state=0)\n",
    "param_grid = {'n_estimators': [100]}\n",
    "grid_p_knn = GridSearchCV(p_knn, param_grid, cv = 5,return_train_score=True,n_jobs=-1)\n",
    "grid_p_knn.fit(X_train, y_train)"
   ]
  },
  {
   "cell_type": "code",
   "execution_count": 38,
   "metadata": {},
   "outputs": [
    {
     "name": "stdout",
     "output_type": "stream",
     "text": [
      "Best cross-validation accuracy: 0.95\n",
      "Train Set Score: 0.9564393939393939\n",
      "Test Set Score: 0.9488636363636364\n"
     ]
    }
   ],
   "source": [
    "print(\"Best cross-validation accuracy: {:.2f}\".format(grid_p_knn.best_score_))\n",
    "print(\"Train Set Score: {}\".format(grid_p_knn.score(X_train, y_train)))\n",
    "print(\"Test Set Score: {}\".format(grid_p_knn.score(X_test,y_test)))"
   ]
  },
  {
   "cell_type": "markdown",
   "metadata": {},
   "source": [
    "### Gradient Boosting"
   ]
  },
  {
   "cell_type": "code",
   "execution_count": 39,
   "metadata": {},
   "outputs": [
    {
     "data": {
      "text/plain": [
       "GridSearchCV(cv=5, error_score='raise',\n",
       "       estimator=GradientBoostingClassifier(criterion='friedman_mse', init=None,\n",
       "              learning_rate=0.1, loss='deviance', max_depth=3,\n",
       "              max_features=None, max_leaf_nodes=None,\n",
       "              min_impurity_decrease=0.0, min_impurity_split=None,\n",
       "              min_samples_leaf=1, min_samples_split=2,\n",
       "              min_weight_fraction_leaf=0.0, n_estimators=100,\n",
       "              presort='auto', random_state=0, subsample=1.0, verbose=0,\n",
       "              warm_start=False),\n",
       "       fit_params=None, iid=True, n_jobs=-1,\n",
       "       param_grid={'max_depth': [1, 2], 'learning_rate': [0.01, 0.1, 1.0], 'n_estimators': [50, 100]},\n",
       "       pre_dispatch='2*n_jobs', refit=True, return_train_score=True,\n",
       "       scoring=None, verbose=0)"
      ]
     },
     "execution_count": 39,
     "metadata": {},
     "output_type": "execute_result"
    }
   ],
   "source": [
    "gbrt_knn = GradientBoostingClassifier(random_state=0)\n",
    "param_grid = {'max_depth':[1,2],\n",
    "              'learning_rate' : [0.01,0.1,1.0],\n",
    "              'n_estimators': [50,100]}\n",
    "grid_gbrt_knn = GridSearchCV(gbrt_knn, param_grid, cv = 5,return_train_score=True,n_jobs=-1)\n",
    "grid_gbrt_knn.fit(X_train, y_train)"
   ]
  },
  {
   "cell_type": "code",
   "execution_count": 40,
   "metadata": {},
   "outputs": [
    {
     "name": "stdout",
     "output_type": "stream",
     "text": [
      "Best cross-validation accuracy: 0.97\n",
      "Best parameters: {'learning_rate': 0.1, 'max_depth': 1, 'n_estimators': 50}\n",
      "Train Set Score: 0.9763257575757576\n",
      "Test Set Score: 0.9460227272727273\n"
     ]
    }
   ],
   "source": [
    "print(\"Best cross-validation accuracy: {:.2f}\".format(grid_gbrt_knn.best_score_))\n",
    "print(\"Best parameters: {}\".format(grid_gbrt_knn.best_params_))\n",
    "print(\"Train Set Score: {}\".format(grid_gbrt_knn.score(X_train, y_train)))\n",
    "print(\"Test Set Score: {}\".format(grid_gbrt_knn.score(X_test,y_test)))"
   ]
  },
  {
   "cell_type": "markdown",
   "metadata": {},
   "source": [
    "### Model 3 : SVM Kernel 'Linear'"
   ]
  },
  {
   "cell_type": "code",
   "execution_count": 41,
   "metadata": {},
   "outputs": [
    {
     "name": "stdout",
     "output_type": "stream",
     "text": [
      "Parameter grid for Linear SVM: {'C': [0.01, 0.1, 1, 10]}\n"
     ]
    }
   ],
   "source": [
    "from sklearn.svm import SVC\n",
    "\n",
    "svc_linear = SVC(kernel = 'linear') \n",
    "param_grid = {'C':[0.01, 0.1, 1, 10]}\n",
    "print(\"Parameter grid for Linear SVM: {}\".format(param_grid))"
   ]
  },
  {
   "cell_type": "code",
   "execution_count": 42,
   "metadata": {},
   "outputs": [
    {
     "data": {
      "text/plain": [
       "GridSearchCV(cv=5, error_score='raise',\n",
       "       estimator=SVC(C=1.0, cache_size=200, class_weight=None, coef0=0.0,\n",
       "  decision_function_shape='ovr', degree=3, gamma='auto', kernel='linear',\n",
       "  max_iter=-1, probability=False, random_state=None, shrinking=True,\n",
       "  tol=0.001, verbose=False),\n",
       "       fit_params=None, iid=True, n_jobs=-1,\n",
       "       param_grid={'C': [0.01, 0.1, 1, 10]}, pre_dispatch='2*n_jobs',\n",
       "       refit=True, return_train_score='warn', scoring='roc_auc', verbose=0)"
      ]
     },
     "execution_count": 42,
     "metadata": {},
     "output_type": "execute_result"
    }
   ],
   "source": [
    "grid_svcLinear = GridSearchCV(svc_linear, param_grid = param_grid, cv = 5, n_jobs = -1, scoring='roc_auc')\n",
    "grid_svcLinear.fit(X_train, y_train)"
   ]
  },
  {
   "cell_type": "code",
   "execution_count": 43,
   "metadata": {},
   "outputs": [
    {
     "name": "stdout",
     "output_type": "stream",
     "text": [
      "Best cross-validation score: 0.99\n",
      "Best Parameters: {'C': 10}\n",
      "Training Score: 0.99\n",
      "Testing Score: 0.99\n"
     ]
    }
   ],
   "source": [
    "print(\"Best cross-validation score: {:.2f}\".format(grid_svcLinear.best_score_))\n",
    "print('Best Parameters:',grid_svcLinear.best_params_)\n",
    "print(\"Training Score: {:.2f}\".format(grid_svcLinear.score(X_train, y_train)))\n",
    "print(\"Testing Score: {:.2f}\".format(grid_svcLinear.score(X_test, y_test)))"
   ]
  },
  {
   "cell_type": "code",
   "execution_count": 44,
   "metadata": {},
   "outputs": [
    {
     "name": "stdout",
     "output_type": "stream",
     "text": [
      "Train roc_auc_score: 0.95\n",
      "Train roc_auc_score: 0.95\n"
     ]
    }
   ],
   "source": [
    "svcLinear_predict_train = grid_svcLinear.predict(X_train);\n",
    "svcLinear_predict = grid_svcLinear.predict(X_test);\n",
    "print('Train roc_auc_score: %.2f'%roc_auc_score(svcLinear_predict_train, y_train))\n",
    "print('Train roc_auc_score: %.2f'%roc_auc_score(svcLinear_predict, y_test))"
   ]
  },
  {
   "cell_type": "code",
   "execution_count": 45,
   "metadata": {},
   "outputs": [],
   "source": [
    "best_svc_linear = SVC(kernel = 'linear',C=grid_svcLinear.best_params_['C'],probability=True) \n",
    "\n"
   ]
  },
  {
   "cell_type": "markdown",
   "metadata": {},
   "source": [
    "### AdaBoost"
   ]
  },
  {
   "cell_type": "code",
   "execution_count": 46,
   "metadata": {},
   "outputs": [
    {
     "data": {
      "text/plain": [
       "GridSearchCV(cv=5, error_score='raise',\n",
       "       estimator=AdaBoostClassifier(algorithm='SAMME',\n",
       "          base_estimator=SVC(C=10, cache_size=200, class_weight=None, coef0=0.0,\n",
       "  decision_function_shape='ovr', degree=3, gamma='auto', kernel='linear',\n",
       "  max_iter=-1, probability=True, random_state=None, shrinking=True,\n",
       "  tol=0.001, verbose=False),\n",
       "          learning_rate=1.0, n_estimators=50, random_state=0),\n",
       "       fit_params=None, iid=True, n_jobs=-1,\n",
       "       param_grid={'learning_rate': [0.01, 0.1, 1.0], 'n_estimators': [50, 100, 200]},\n",
       "       pre_dispatch='2*n_jobs', refit=True, return_train_score=True,\n",
       "       scoring=None, verbose=0)"
      ]
     },
     "execution_count": 46,
     "metadata": {},
     "output_type": "execute_result"
    }
   ],
   "source": [
    "adbst_svc_lin = AdaBoostClassifier(best_svc_linear,random_state=0,algorithm='SAMME')\n",
    "param_grid = {'learning_rate': [0.01,0.1,1.0],\n",
    "              'n_estimators': [50,100,200]}\n",
    "grid_adbst_svcLin = GridSearchCV(adbst_svc_lin, param_grid, cv = 5,return_train_score=True,n_jobs=-1)\n",
    "grid_adbst_svcLin.fit(X_train, y_train)"
   ]
  },
  {
   "cell_type": "code",
   "execution_count": 47,
   "metadata": {},
   "outputs": [
    {
     "name": "stdout",
     "output_type": "stream",
     "text": [
      "Best cross-validation accuracy: 0.95\n",
      "Best parameters: {'learning_rate': 0.1, 'n_estimators': 200}\n",
      "Train Set Score: 0.9460227272727273\n",
      "Test Set Score: 0.9488636363636364\n"
     ]
    }
   ],
   "source": [
    "print(\"Best cross-validation accuracy: {:.2f}\".format(grid_adbst_svcLin.best_score_))\n",
    "print(\"Best parameters: {}\".format(grid_adbst_svcLin.best_params_))\n",
    "print(\"Train Set Score: {}\".format(grid_adbst_svcLin.score(X_train, y_train)))\n",
    "print(\"Test Set Score: {}\".format(grid_adbst_svcLin.score(X_test,y_test)))"
   ]
  },
  {
   "cell_type": "markdown",
   "metadata": {},
   "source": [
    "\n",
    "\n",
    "\n",
    "\n",
    "### Gradient Boosting"
   ]
  },
  {
   "cell_type": "code",
   "execution_count": 48,
   "metadata": {},
   "outputs": [
    {
     "data": {
      "text/plain": [
       "GridSearchCV(cv=5, error_score='raise',\n",
       "       estimator=GradientBoostingClassifier(criterion='friedman_mse', init=None,\n",
       "              learning_rate=0.1, loss='deviance', max_depth=3,\n",
       "              max_features=None, max_leaf_nodes=None,\n",
       "              min_impurity_decrease=0.0, min_impurity_split=None,\n",
       "              min_samples_leaf=1, min_samples_split=2,\n",
       "              min_weight_fraction_leaf=0.0, n_estimators=100,\n",
       "              presort='auto', random_state=0, subsample=1.0, verbose=0,\n",
       "              warm_start=False),\n",
       "       fit_params=None, iid=True, n_jobs=-1,\n",
       "       param_grid={'max_depth': [1, 2], 'learning_rate': [0.01, 0.1, 1.0], 'n_estimators': [50, 100]},\n",
       "       pre_dispatch='2*n_jobs', refit=True, return_train_score=True,\n",
       "       scoring=None, verbose=0)"
      ]
     },
     "execution_count": 48,
     "metadata": {},
     "output_type": "execute_result"
    }
   ],
   "source": [
    "gbrt_svcLin = GradientBoostingClassifier(random_state=0)\n",
    "param_grid = {'max_depth':[1,2],\n",
    "              'learning_rate' : [0.01,0.1,1.0],\n",
    "              'n_estimators': [50,100]}\n",
    "grid_gbrt_svcLin = GridSearchCV(gbrt_svcLin, param_grid, cv = 5,return_train_score=True,n_jobs=-1)\n",
    "grid_gbrt_svcLin.fit(X_train, y_train)"
   ]
  },
  {
   "cell_type": "code",
   "execution_count": 49,
   "metadata": {},
   "outputs": [
    {
     "name": "stdout",
     "output_type": "stream",
     "text": [
      "Best cross-validation accuracy: 0.97\n",
      "Best parameters: {'learning_rate': 0.1, 'max_depth': 1, 'n_estimators': 50}\n",
      "Train Set Score: 0.9763257575757576\n",
      "Test Set Score: 0.9460227272727273\n"
     ]
    }
   ],
   "source": [
    "print(\"Best cross-validation accuracy: {:.2f}\".format(grid_gbrt_svcLin.best_score_))\n",
    "print(\"Best parameters: {}\".format(grid_gbrt_svcLin.best_params_))\n",
    "print(\"Train Set Score: {}\".format(grid_gbrt_svcLin.score(X_train, y_train)))\n",
    "print(\"Test Set Score: {}\".format(grid_gbrt_svcLin.score(X_test,y_test)))"
   ]
  },
  {
   "cell_type": "markdown",
   "metadata": {},
   "source": [
    "### Model 4 : SVM Kernel RBF"
   ]
  },
  {
   "cell_type": "code",
   "execution_count": 50,
   "metadata": {},
   "outputs": [
    {
     "name": "stdout",
     "output_type": "stream",
     "text": [
      "Parameter grid for Linear SVR: {'C': [0.01, 0.1, 1, 10], 'gamma': [0.01, 0.1, 1, 10]}\n"
     ]
    },
    {
     "data": {
      "text/plain": [
       "GridSearchCV(cv=5, error_score='raise',\n",
       "       estimator=SVC(C=1.0, cache_size=200, class_weight=None, coef0=0.0,\n",
       "  decision_function_shape='ovr', degree=3, gamma='auto', kernel='rbf',\n",
       "  max_iter=-1, probability=False, random_state=None, shrinking=True,\n",
       "  tol=0.001, verbose=False),\n",
       "       fit_params=None, iid=True, n_jobs=-1,\n",
       "       param_grid={'C': [0.01, 0.1, 1, 10], 'gamma': [0.01, 0.1, 1, 10]},\n",
       "       pre_dispatch='2*n_jobs', refit=True, return_train_score='warn',\n",
       "       scoring='roc_auc', verbose=0)"
      ]
     },
     "execution_count": 50,
     "metadata": {},
     "output_type": "execute_result"
    }
   ],
   "source": [
    "svc_rbf = SVC(kernel = 'rbf') \n",
    "param_grid = {'C':[0.01, 0.1, 1, 10], 'gamma':[0.01,0.1,1,10]}\n",
    "print(\"Parameter grid for Linear SVR: {}\".format(param_grid))\n",
    "\n",
    "grid_svcRbf = GridSearchCV(svc_rbf, param_grid = param_grid, cv = 5, n_jobs = -1, scoring='roc_auc')\n",
    "grid_svcRbf.fit(X_train, y_train)"
   ]
  },
  {
   "cell_type": "code",
   "execution_count": 51,
   "metadata": {},
   "outputs": [
    {
     "name": "stdout",
     "output_type": "stream",
     "text": [
      "Best cross-validation score: 0.99\n",
      "Best parameters term: {'C': 10, 'gamma': 0.01}\n",
      "Training Score: 0.9869\n",
      "Testing Score: 0.9868\n"
     ]
    }
   ],
   "source": [
    "print(\"Best cross-validation score: {:.2f}\".format(grid_svcRbf.best_score_))\n",
    "print('Best parameters term:',grid_svcRbf.best_params_)\n",
    "print(\"Training Score: {:.4f}\".format(grid_svcRbf.score(X_train, y_train)))\n",
    "print(\"Testing Score: {:.4f}\".format(grid_svcRbf.score(X_test, y_test)))"
   ]
  },
  {
   "cell_type": "code",
   "execution_count": 52,
   "metadata": {},
   "outputs": [],
   "source": [
    "best_svc_Rbf = SVC(kernel = 'rbf',C=grid_svcRbf.best_params_['C'],gamma=grid_svcRbf.best_params_['gamma'],probability=True) \n",
    "\n"
   ]
  },
  {
   "cell_type": "markdown",
   "metadata": {},
   "source": [
    "### Bagging"
   ]
  },
  {
   "cell_type": "code",
   "execution_count": 53,
   "metadata": {},
   "outputs": [
    {
     "data": {
      "text/plain": [
       "GridSearchCV(cv=5, error_score='raise',\n",
       "       estimator=BaggingClassifier(base_estimator=SVC(C=10, cache_size=200, class_weight=None, coef0=0.0,\n",
       "  decision_function_shape='ovr', degree=3, gamma=0.01, kernel='rbf',\n",
       "  max_iter=-1, probability=True, random_state=None, shrinking=True,\n",
       "  tol=0.001, verbose=False),\n",
       "         bootstrap=True, bootstrap_features=False, max_features=1.0,\n",
       "         max_samples=1.0, n_estimators=10, n_jobs=1, oob_score=True,\n",
       "         random_state=0, verbose=0, warm_start=False),\n",
       "       fit_params=None, iid=True, n_jobs=-1,\n",
       "       param_grid={'n_estimators': [100]}, pre_dispatch='2*n_jobs',\n",
       "       refit=True, return_train_score=True, scoring=None, verbose=0)"
      ]
     },
     "execution_count": 53,
     "metadata": {},
     "output_type": "execute_result"
    }
   ],
   "source": [
    "bag_SvmRbf = BaggingClassifier(best_svc_Rbf, bootstrap = True,oob_score=True,random_state=0)\n",
    "param_grid = {'n_estimators': [100]}\n",
    "grid_bag_SvmRbf = GridSearchCV(bag_SvmRbf, param_grid, cv = 5,return_train_score=True,n_jobs = -1)\n",
    "grid_bag_SvmRbf.fit(X_train, y_train)"
   ]
  },
  {
   "cell_type": "code",
   "execution_count": 54,
   "metadata": {},
   "outputs": [
    {
     "name": "stdout",
     "output_type": "stream",
     "text": [
      "Best parameters: {'n_estimators': 100}\n"
     ]
    }
   ],
   "source": [
    "print(\"Best parameters: {}\".format(grid_bag_SvmRbf.best_params_))"
   ]
  },
  {
   "cell_type": "code",
   "execution_count": 55,
   "metadata": {},
   "outputs": [
    {
     "name": "stdout",
     "output_type": "stream",
     "text": [
      "Best cross-validation accuracy: 0.95\n",
      "Train Set Score: 0.946969696969697\n",
      "Test Set Score: 0.9488636363636364\n",
      "Oob Score: 0.9450757575757576\n"
     ]
    }
   ],
   "source": [
    "best_bag_SvcRbf = BaggingClassifier(best_svc_Rbf,n_estimators = grid_bag_SvmRbf.best_params_['n_estimators'],bootstrap = True,oob_score=True,random_state=0)\n",
    "best_bag_SvcRbf.fit(X_train, y_train)\n",
    "print(\"Best cross-validation accuracy: {:.2f}\".format(grid_bag_SvmRbf.best_score_))\n",
    "print(\"Train Set Score: {}\".format(grid_bag_SvmRbf.score(X_train, y_train)))\n",
    "print(\"Test Set Score: {}\".format(grid_bag_SvmRbf.score(X_test,y_test)))\n",
    "print(\"Oob Score: {}\".format(best_bag_SvcRbf.oob_score_))"
   ]
  },
  {
   "cell_type": "markdown",
   "metadata": {},
   "source": [
    "### Pasting"
   ]
  },
  {
   "cell_type": "code",
   "execution_count": 56,
   "metadata": {},
   "outputs": [
    {
     "data": {
      "text/plain": [
       "GridSearchCV(cv=5, error_score='raise',\n",
       "       estimator=BaggingClassifier(base_estimator=SVC(C=10, cache_size=200, class_weight=None, coef0=0.0,\n",
       "  decision_function_shape='ovr', degree=3, gamma=0.01, kernel='rbf',\n",
       "  max_iter=-1, probability=True, random_state=None, shrinking=True,\n",
       "  tol=0.001, verbose=False),\n",
       "         bootstrap=False, bootstrap_features=False, max_features=1.0,\n",
       "         max_samples=1.0, n_estimators=10, n_jobs=1, oob_score=False,\n",
       "         random_state=0, verbose=0, warm_start=False),\n",
       "       fit_params=None, iid=True, n_jobs=-1,\n",
       "       param_grid={'n_estimators': [100]}, pre_dispatch='2*n_jobs',\n",
       "       refit=True, return_train_score=True, scoring=None, verbose=0)"
      ]
     },
     "execution_count": 56,
     "metadata": {},
     "output_type": "execute_result"
    }
   ],
   "source": [
    "p_svc_Rbf = BaggingClassifier(best_svc_Rbf, bootstrap = False,random_state=0)\n",
    "param_grid = {'n_estimators': [100]}\n",
    "grid_p_svc_Rbf = GridSearchCV(p_svc_Rbf, param_grid, cv = 5,return_train_score=True,n_jobs = -1)\n",
    "grid_p_svc_Rbf.fit(X_train, y_train)"
   ]
  },
  {
   "cell_type": "code",
   "execution_count": 57,
   "metadata": {},
   "outputs": [
    {
     "name": "stdout",
     "output_type": "stream",
     "text": [
      "Best cross-validation accuracy: 0.95\n",
      "Train Set Score: 0.946969696969697\n",
      "Test Set Score: 0.9488636363636364\n"
     ]
    }
   ],
   "source": [
    "print(\"Best cross-validation accuracy: {:.2f}\".format(grid_p_svc_Rbf.best_score_))\n",
    "print(\"Train Set Score: {}\".format(grid_p_svc_Rbf.score(X_train, y_train)))\n",
    "print(\"Test Set Score: {}\".format(grid_p_svc_Rbf.score(X_test,y_test)))"
   ]
  },
  {
   "cell_type": "markdown",
   "metadata": {},
   "source": [
    "### AdaBoost"
   ]
  },
  {
   "cell_type": "code",
   "execution_count": 58,
   "metadata": {},
   "outputs": [
    {
     "data": {
      "text/plain": [
       "GridSearchCV(cv=5, error_score='raise',\n",
       "       estimator=AdaBoostClassifier(algorithm='SAMME',\n",
       "          base_estimator=SVC(C=10, cache_size=200, class_weight=None, coef0=0.0,\n",
       "  decision_function_shape='ovr', degree=3, gamma=0.01, kernel='rbf',\n",
       "  max_iter=-1, probability=True, random_state=None, shrinking=True,\n",
       "  tol=0.001, verbose=False),\n",
       "          learning_rate=1.0, n_estimators=50, random_state=0),\n",
       "       fit_params=None, iid=True, n_jobs=-1,\n",
       "       param_grid={'learning_rate': [0.01, 0.1, 1.0], 'n_estimators': [50, 100]},\n",
       "       pre_dispatch='2*n_jobs', refit=True, return_train_score=True,\n",
       "       scoring=None, verbose=0)"
      ]
     },
     "execution_count": 58,
     "metadata": {},
     "output_type": "execute_result"
    }
   ],
   "source": [
    "adbst_svc_Rbf = AdaBoostClassifier(best_svc_Rbf,random_state=0,algorithm='SAMME')\n",
    "param_grid = {'learning_rate': [0.01,0.1,1.0],\n",
    "              'n_estimators': [50,100]}\n",
    "grid_adbst_SvcRbf = GridSearchCV(adbst_svc_Rbf, param_grid, cv = 5,return_train_score=True,n_jobs = -1)\n",
    "grid_adbst_SvcRbf.fit(X_train, y_train)"
   ]
  },
  {
   "cell_type": "code",
   "execution_count": 59,
   "metadata": {},
   "outputs": [
    {
     "name": "stdout",
     "output_type": "stream",
     "text": [
      "Best cross-validation accuracy: 0.78\n",
      "Best parameters: {'learning_rate': 0.01, 'n_estimators': 50}\n",
      "Train Set Score: 0.7793560606060606\n",
      "Test Set Score: 0.7727272727272727\n"
     ]
    }
   ],
   "source": [
    "print(\"Best cross-validation accuracy: {:.2f}\".format(grid_adbst_SvcRbf.best_score_))\n",
    "print(\"Best parameters: {}\".format(grid_adbst_SvcRbf.best_params_))\n",
    "print(\"Train Set Score: {}\".format(grid_adbst_SvcRbf.score(X_train, y_train)))\n",
    "print(\"Test Set Score: {}\".format(grid_adbst_SvcRbf.score(X_test,y_test)))"
   ]
  },
  {
   "cell_type": "markdown",
   "metadata": {},
   "source": [
    "### Gradient Boosting"
   ]
  },
  {
   "cell_type": "code",
   "execution_count": 60,
   "metadata": {},
   "outputs": [
    {
     "data": {
      "text/plain": [
       "GridSearchCV(cv=5, error_score='raise',\n",
       "       estimator=GradientBoostingClassifier(criterion='friedman_mse', init=None,\n",
       "              learning_rate=0.1, loss='deviance', max_depth=3,\n",
       "              max_features=None, max_leaf_nodes=None,\n",
       "              min_impurity_decrease=0.0, min_impurity_split=None,\n",
       "              min_samples_leaf=1, min_samples_split=2,\n",
       "              min_weight_fraction_leaf=0.0, n_estimators=100,\n",
       "              presort='auto', random_state=0, subsample=1.0, verbose=0,\n",
       "              warm_start=False),\n",
       "       fit_params=None, iid=True, n_jobs=-1,\n",
       "       param_grid={'max_depth': [1, 2], 'learning_rate': [0.01, 0.1, 1.0], 'n_estimators': [50, 100]},\n",
       "       pre_dispatch='2*n_jobs', refit=True, return_train_score=True,\n",
       "       scoring=None, verbose=0)"
      ]
     },
     "execution_count": 60,
     "metadata": {},
     "output_type": "execute_result"
    }
   ],
   "source": [
    "gbrt_SvcRbf = GradientBoostingClassifier(random_state=0)\n",
    "param_grid = {'max_depth':[1,2],\n",
    "              'learning_rate' : [0.01,0.1,1.0],\n",
    "              'n_estimators': [50,100]}\n",
    "grid_gbrt_SvcRbf = GridSearchCV(gbrt_SvcRbf, param_grid, cv = 5,return_train_score=True,n_jobs = -1)\n",
    "grid_gbrt_SvcRbf.fit(X_train, y_train)"
   ]
  },
  {
   "cell_type": "code",
   "execution_count": 61,
   "metadata": {},
   "outputs": [
    {
     "name": "stdout",
     "output_type": "stream",
     "text": [
      "Best cross-validation accuracy: 0.97\n",
      "Best parameters: {'learning_rate': 0.1, 'max_depth': 1, 'n_estimators': 50}\n",
      "Train Set Score: 0.9763257575757576\n",
      "Test Set Score: 0.9460227272727273\n"
     ]
    }
   ],
   "source": [
    "print(\"Best cross-validation accuracy: {:.2f}\".format(grid_gbrt_SvcRbf.best_score_))\n",
    "print(\"Best parameters: {}\".format(grid_gbrt_SvcRbf.best_params_))\n",
    "print(\"Train Set Score: {}\".format(grid_gbrt_SvcRbf.score(X_train, y_train)))\n",
    "print(\"Test Set Score: {}\".format(grid_gbrt_SvcRbf.score(X_test,y_test)))"
   ]
  },
  {
   "cell_type": "markdown",
   "metadata": {},
   "source": [
    "### Model 5 : Decision Tree"
   ]
  },
  {
   "cell_type": "code",
   "execution_count": 62,
   "metadata": {},
   "outputs": [
    {
     "data": {
      "text/plain": [
       "GridSearchCV(cv=5, error_score='raise',\n",
       "       estimator=DecisionTreeClassifier(class_weight=None, criterion='gini', max_depth=None,\n",
       "            max_features=None, max_leaf_nodes=None,\n",
       "            min_impurity_decrease=0.0, min_impurity_split=None,\n",
       "            min_samples_leaf=1, min_samples_split=2,\n",
       "            min_weight_fraction_leaf=0.0, presort=False, random_state=None,\n",
       "            splitter='best'),\n",
       "       fit_params=None, iid=True, n_jobs=-1,\n",
       "       param_grid={'max_depth': [1, 2, 3, 4, 5, 6]},\n",
       "       pre_dispatch='2*n_jobs', refit=True, return_train_score=True,\n",
       "       scoring='roc_auc', verbose=0)"
      ]
     },
     "execution_count": 62,
     "metadata": {},
     "output_type": "execute_result"
    }
   ],
   "source": [
    "from sklearn.tree import DecisionTreeClassifier\n",
    "\n",
    "\n",
    "param_grid = {'max_depth':[1, 2, 3, 4, 5, 6]}\n",
    "dtree = DecisionTreeClassifier()\n",
    "\n",
    "grid_tree = GridSearchCV(dtree, param_grid, cv = 5, scoring='roc_auc', return_train_score=True,n_jobs = -1)\n",
    "grid_tree.fit(X_train, y_train)"
   ]
  },
  {
   "cell_type": "code",
   "execution_count": 63,
   "metadata": {},
   "outputs": [
    {
     "name": "stdout",
     "output_type": "stream",
     "text": [
      "Best cross-validation accuracy: 0.96\n",
      "Best parameters: {'max_depth': 2}\n",
      "Train Set Score: 0.9846552182687645\n",
      "Test Set Score: 0.940234375\n"
     ]
    }
   ],
   "source": [
    "print(\"Best cross-validation accuracy: {:.2f}\".format(grid_tree.best_score_))\n",
    "print(\"Best parameters: {}\".format(grid_tree.best_params_))\n",
    "print(\"Train Set Score: {}\".format(grid_tree.score(X_train, y_train)))\n",
    "print(\"Test Set Score: {}\".format(grid_tree.score(X_test,y_test)))"
   ]
  },
  {
   "cell_type": "code",
   "execution_count": 64,
   "metadata": {},
   "outputs": [],
   "source": [
    "best_dtree = DecisionTreeClassifier(max_depth=3)\n"
   ]
  },
  {
   "cell_type": "markdown",
   "metadata": {},
   "source": [
    "### Bagging"
   ]
  },
  {
   "cell_type": "code",
   "execution_count": 65,
   "metadata": {},
   "outputs": [
    {
     "data": {
      "text/plain": [
       "GridSearchCV(cv=5, error_score='raise',\n",
       "       estimator=BaggingClassifier(base_estimator=DecisionTreeClassifier(class_weight=None, criterion='gini', max_depth=3,\n",
       "            max_features=None, max_leaf_nodes=None,\n",
       "            min_impurity_decrease=0.0, min_impurity_split=None,\n",
       "            min_samples_leaf=1, min_samples_split=2,\n",
       "            min....0, n_estimators=10, n_jobs=1, oob_score=True,\n",
       "         random_state=0, verbose=0, warm_start=False),\n",
       "       fit_params=None, iid=True, n_jobs=-1,\n",
       "       param_grid={'n_estimators': [100]}, pre_dispatch='2*n_jobs',\n",
       "       refit=True, return_train_score=True, scoring=None, verbose=0)"
      ]
     },
     "execution_count": 65,
     "metadata": {},
     "output_type": "execute_result"
    }
   ],
   "source": [
    "bagging_dt = BaggingClassifier(best_dtree, bootstrap = True,oob_score=True,random_state=0)\n",
    "param_grid = {'n_estimators': [100]}\n",
    "grid_bagging_dt = GridSearchCV(bagging_dt, param_grid, cv = 5,return_train_score=True,n_jobs = -1)\n",
    "grid_bagging_dt.fit(X_train, y_train)"
   ]
  },
  {
   "cell_type": "code",
   "execution_count": 66,
   "metadata": {},
   "outputs": [
    {
     "name": "stdout",
     "output_type": "stream",
     "text": [
      "Best cross-validation accuracy: 0.96\n",
      "Train Set Score: 0.9829545454545454\n",
      "Test Set Score: 0.9431818181818182\n",
      "Oob Score: 0.9602272727272727\n"
     ]
    }
   ],
   "source": [
    "best_bag_dt = BaggingClassifier(best_dtree,n_estimators = grid_bagging_dt.best_params_['n_estimators'],bootstrap = True,oob_score=True,random_state=0)\n",
    "best_bag_dt.fit(X_train, y_train)\n",
    "print(\"Best cross-validation accuracy: {:.2f}\".format(grid_bagging_dt.best_score_))\n",
    "print(\"Train Set Score: {}\".format(grid_bagging_dt.score(X_train, y_train)))\n",
    "print(\"Test Set Score: {}\".format(grid_bagging_dt.score(X_test,y_test)))\n",
    "print(\"Oob Score: {}\".format(best_bag_dt.oob_score_))"
   ]
  },
  {
   "cell_type": "markdown",
   "metadata": {},
   "source": [
    "### Pasting"
   ]
  },
  {
   "cell_type": "code",
   "execution_count": 67,
   "metadata": {},
   "outputs": [
    {
     "data": {
      "text/plain": [
       "GridSearchCV(cv=5, error_score='raise',\n",
       "       estimator=BaggingClassifier(base_estimator=DecisionTreeClassifier(class_weight=None, criterion='gini', max_depth=3,\n",
       "            max_features=None, max_leaf_nodes=None,\n",
       "            min_impurity_decrease=0.0, min_impurity_split=None,\n",
       "            min_samples_leaf=1, min_samples_split=2,\n",
       "            min...n_estimators=10, n_jobs=1, oob_score=False,\n",
       "         random_state=None, verbose=0, warm_start=False),\n",
       "       fit_params=None, iid=True, n_jobs=-1,\n",
       "       param_grid={'n_estimators': [100]}, pre_dispatch='2*n_jobs',\n",
       "       refit=True, return_train_score=True, scoring=None, verbose=0)"
      ]
     },
     "execution_count": 67,
     "metadata": {},
     "output_type": "execute_result"
    }
   ],
   "source": [
    "pasting_dt = BaggingClassifier(best_dtree, bootstrap = False)\n",
    "param_grid = {'n_estimators': [100]}\n",
    "grid_pasting_dt = GridSearchCV(pasting_dt, param_grid, cv = 5,return_train_score=True,n_jobs = -1)\n",
    "grid_pasting_dt.fit(X_train, y_train)"
   ]
  },
  {
   "cell_type": "code",
   "execution_count": 68,
   "metadata": {},
   "outputs": [
    {
     "name": "stdout",
     "output_type": "stream",
     "text": [
      "Best cross-validation accuracy: 0.96\n",
      "Train Set Score: 0.9829545454545454\n",
      "Test Set Score: 0.9431818181818182\n",
      "Oob Score: 0.9450757575757576\n"
     ]
    }
   ],
   "source": [
    "best_paste_dt = BaggingClassifier(best_svc_Rbf,n_estimators = grid_pasting_dt.best_params_['n_estimators'],bootstrap = True,oob_score=True,random_state=0)\n",
    "best_paste_dt.fit(X_train, y_train)\n",
    "print(\"Best cross-validation accuracy: {:.2f}\".format(grid_bagging_dt.best_score_))\n",
    "print(\"Train Set Score: {}\".format(grid_bagging_dt.score(X_train, y_train)))\n",
    "print(\"Test Set Score: {}\".format(grid_bagging_dt.score(X_test,y_test)))\n",
    "print(\"Oob Score: {}\".format(best_paste_dt.oob_score_))"
   ]
  },
  {
   "cell_type": "markdown",
   "metadata": {},
   "source": [
    "### AdaBoost"
   ]
  },
  {
   "cell_type": "code",
   "execution_count": 69,
   "metadata": {},
   "outputs": [
    {
     "data": {
      "text/plain": [
       "GridSearchCV(cv=5, error_score='raise',\n",
       "       estimator=AdaBoostClassifier(algorithm='SAMME.R',\n",
       "          base_estimator=DecisionTreeClassifier(class_weight=None, criterion='gini', max_depth=3,\n",
       "            max_features=None, max_leaf_nodes=None,\n",
       "            min_impurity_decrease=0.0, min_impurity_split=None,\n",
       "            min_samples_leaf=1, min_samples_split=2,\n",
       "            min_weight_fraction_leaf=0.0, presort=False, random_state=None,\n",
       "            splitter='best'),\n",
       "          learning_rate=1.0, n_estimators=50, random_state=0),\n",
       "       fit_params=None, iid=True, n_jobs=-1,\n",
       "       param_grid={'learning_rate': [0.1, 0.5, 1.0], 'n_estimators': [100, 200]},\n",
       "       pre_dispatch='2*n_jobs', refit=True, return_train_score=True,\n",
       "       scoring=None, verbose=0)"
      ]
     },
     "execution_count": 69,
     "metadata": {},
     "output_type": "execute_result"
    }
   ],
   "source": [
    "#decision tree\n",
    "adaboost_dt = AdaBoostClassifier(base_estimator = best_dtree,random_state=0)\n",
    "param_grid = {'learning_rate': [0.1,0.5,1.0],\n",
    "              'n_estimators': [100,200]}\n",
    "grid_dt = GridSearchCV(adaboost_dt, param_grid, cv = 5,return_train_score=True,n_jobs=-1)\n",
    "grid_dt.fit(X_train, y_train)\n"
   ]
  },
  {
   "cell_type": "code",
   "execution_count": 70,
   "metadata": {},
   "outputs": [
    {
     "name": "stdout",
     "output_type": "stream",
     "text": [
      "Best cross-validation accuracy: 0.96\n",
      "Best parameters: {'learning_rate': 1.0, 'n_estimators': 200}\n",
      "Train Set Score: 1.0\n",
      "Test Set Score: 0.9488636363636364\n"
     ]
    }
   ],
   "source": [
    "print(\"Best cross-validation accuracy: {:.2f}\".format(grid_dt.best_score_))\n",
    "print(\"Best parameters: {}\".format(grid_dt.best_params_))\n",
    "print(\"Train Set Score: {}\".format(grid_dt.score(X_train, y_train)))\n",
    "print(\"Test Set Score: {}\".format(grid_dt.score(X_test,y_test)))\n"
   ]
  },
  {
   "cell_type": "markdown",
   "metadata": {},
   "source": [
    "### Gradient Boosting"
   ]
  },
  {
   "cell_type": "code",
   "execution_count": 71,
   "metadata": {},
   "outputs": [
    {
     "data": {
      "text/plain": [
       "GridSearchCV(cv=5, error_score='raise',\n",
       "       estimator=GradientBoostingClassifier(criterion='friedman_mse', init=None,\n",
       "              learning_rate=0.1, loss='deviance', max_depth=3,\n",
       "              max_features=None, max_leaf_nodes=None,\n",
       "              min_impurity_decrease=0.0, min_impurity_split=None,\n",
       "              min_samples_leaf=1, min_samples_split=2,\n",
       "              min_weight_fraction_leaf=0.0, n_estimators=100,\n",
       "              presort='auto', random_state=0, subsample=1.0, verbose=0,\n",
       "              warm_start=False),\n",
       "       fit_params=None, iid=True, n_jobs=1,\n",
       "       param_grid={'learning_rate': [0.1, 0.5, 1.0], 'n_estimators': [100, 200]},\n",
       "       pre_dispatch='2*n_jobs', refit=True, return_train_score=True,\n",
       "       scoring=None, verbose=0)"
      ]
     },
     "execution_count": 71,
     "metadata": {},
     "output_type": "execute_result"
    }
   ],
   "source": [
    "gb_dt = GradientBoostingClassifier(random_state=0)\n",
    "\n",
    "param_grid = {'learning_rate': [0.1,0.5,1.0],\n",
    "              'n_estimators': [100,200]}\n",
    "grid_gb_dt = GridSearchCV(gb_dt, param_grid, cv = 5,return_train_score=True)\n",
    "grid_gb_dt.fit(X_train, y_train)\n"
   ]
  },
  {
   "cell_type": "code",
   "execution_count": 72,
   "metadata": {},
   "outputs": [
    {
     "name": "stdout",
     "output_type": "stream",
     "text": [
      "Best cross-validation accuracy: 0.96\n",
      "Best parameters: {'learning_rate': 0.1, 'n_estimators': 200}\n",
      "Train Set Score: 1.0\n",
      "Test Set Score: 0.9488636363636364\n"
     ]
    }
   ],
   "source": [
    "print(\"Best cross-validation accuracy: {:.2f}\".format(grid_gb_dt.best_score_))\n",
    "print(\"Best parameters: {}\".format(grid_gb_dt.best_params_))\n",
    "print(\"Train Set Score: {}\".format(grid_gb_dt.score(X_train, y_train)))\n",
    "print(\"Test Set Score: {}\".format(grid_gb_dt.score(X_test,y_test)))"
   ]
  },
  {
   "cell_type": "markdown",
   "metadata": {},
   "source": [
    "### Model 6 : Random Forest Classification"
   ]
  },
  {
   "cell_type": "code",
   "execution_count": 73,
   "metadata": {},
   "outputs": [
    {
     "data": {
      "text/plain": [
       "GridSearchCV(cv=8, error_score='raise',\n",
       "       estimator=RandomForestClassifier(bootstrap=True, class_weight=None, criterion='gini',\n",
       "            max_depth=None, max_features='auto', max_leaf_nodes=None,\n",
       "            min_impurity_decrease=0.0, min_impurity_split=None,\n",
       "            min_samples_leaf=1, min_samples_split=2,\n",
       "            min_weight_fraction_leaf=0.0, n_estimators=10, n_jobs=1,\n",
       "            oob_score=False, random_state=0, verbose=0, warm_start=False),\n",
       "       fit_params=None, iid=True, n_jobs=-1,\n",
       "       param_grid={'max_depth': [5, 10, 20, 50, 100], 'n_estimators': [50, 100, 200]},\n",
       "       pre_dispatch='2*n_jobs', refit=True, return_train_score=True,\n",
       "       scoring=None, verbose=0)"
      ]
     },
     "execution_count": 73,
     "metadata": {},
     "output_type": "execute_result"
    }
   ],
   "source": [
    "from sklearn.ensemble import RandomForestClassifier\n",
    "forest = RandomForestClassifier(random_state=0)\n",
    "param_grid = {'max_depth': [5, 10, 20, 50, 100],\n",
    "              'n_estimators':[50,100,200]}\n",
    "grid_forest = GridSearchCV(forest, param_grid, cv = 8,return_train_score=True,n_jobs=-1)\n",
    "grid_forest.fit(X_train, y_train)\n"
   ]
  },
  {
   "cell_type": "code",
   "execution_count": 74,
   "metadata": {},
   "outputs": [
    {
     "name": "stdout",
     "output_type": "stream",
     "text": [
      "Best cross-validation accuracy: 0.97\n",
      "Best parameters: {'max_depth': 5, 'n_estimators': 200}\n",
      "Train Set Score: 0.9924242424242424\n",
      "Test Set Score: 0.9460227272727273\n"
     ]
    }
   ],
   "source": [
    "print(\"Best cross-validation accuracy: {:.2f}\".format(grid_forest.best_score_))\n",
    "print(\"Best parameters: {}\".format(grid_forest.best_params_))\n",
    "print(\"Train Set Score: {}\".format(grid_forest.score(X_train, y_train)))\n",
    "print(\"Test Set Score: {}\".format(grid_forest.score(X_test,y_test)))"
   ]
  },
  {
   "cell_type": "code",
   "execution_count": 75,
   "metadata": {},
   "outputs": [],
   "source": [
    "best_rf = RandomForestClassifier(max_depth=grid_forest.best_params_['max_depth'],n_estimators = grid_forest.best_params_['n_estimators'], random_state=0)"
   ]
  },
  {
   "cell_type": "markdown",
   "metadata": {},
   "source": [
    "### Bagging"
   ]
  },
  {
   "cell_type": "code",
   "execution_count": null,
   "metadata": {},
   "outputs": [],
   "source": [
    "bagging_rf = BaggingClassifier(best_rf, bootstrap = True,oob_score=True,random_state=0)\n",
    "param_grid = {'n_estimators': [50,100,200]}\n",
    "grid_bagging_rf = GridSearchCV(bagging_rf, param_grid, cv = 5,return_train_score=True,n_jobs = -1)\n",
    "grid_bagging_rf.fit(X_train, y_train)\n",
    "best_bag_rf=BaggingClassifier(best_rf, bootstrap = True,oob_score=True,random_state=0,n_estimators=grid_bagging_rf.best_params_['n_estimators'])\n",
    "best_bag_rf.fit(X_train, y_train)\n",
    "print(\"Best cross-validation accuracy: {:.2f}\".format(grid_bagging_rf.best_score_))\n",
    "print(\"Train Set Score: {}\".format(grid_bagging_rf.score(X_train, y_train)))\n",
    "print(\"Test Set Score: {}\".format(grid_bagging_rf.score(X_test,y_test)))\n",
    "print(\"Oob Score: {}\".format(best_bag_rf.oob_score_))\n"
   ]
  },
  {
   "cell_type": "markdown",
   "metadata": {},
   "source": [
    "### Pasting"
   ]
  },
  {
   "cell_type": "code",
   "execution_count": null,
   "metadata": {},
   "outputs": [],
   "source": [
    "#random forest\n",
    "pastting_rf = BaggingClassifier(best_rf, bootstrap = False,random_state=0)\n",
    "param_grid = {'n_estimators': [50,100,200]}\n",
    "grid_pastting_rf = GridSearchCV(pastting_rf, param_grid, cv = 5,return_train_score=True,n_jobs = -1)\n",
    "grid_pastting_rf.fit(X_train, y_train)\n",
    "print(\"Best cross-validation accuracy: {:.2f}\".format(grid_pastting_rf.best_score_))\n",
    "print(\"Train Set Score: {}\".format(grid_pastting_rf.score(X_train, y_train)))\n",
    "print(\"Test Set Score: {}\".format(grid_pastting_rf.score(X_test,y_test)))"
   ]
  },
  {
   "cell_type": "markdown",
   "metadata": {},
   "source": [
    "### AdaBoost"
   ]
  },
  {
   "cell_type": "code",
   "execution_count": null,
   "metadata": {},
   "outputs": [],
   "source": [
    "#random forest\n",
    "adaboost_rf = AdaBoostClassifier(base_estimator = best_rf,random_state=0)\n",
    "param_grid = {'learning_rate': [0.1,0.5,1.0],\n",
    "               'n_estimators': [100,200]}\n",
    "grid_adaboost_rf= GridSearchCV(adaboost_rf, param_grid, cv = 5,return_train_score=True,n_jobs=-1)\n",
    "grid_adaboost_rf.fit(X_train, y_train)\n",
    "print(\"Best cross-validation accuracy: {:.2f}\".format(grid_adaboost_rf.best_score_))\n",
    "print(\"Best parameters: {}\".format(grid_adaboost_rf.best_params_))\n",
    "print(\"Train Set Score: {}\".format(grid_adaboost_rf.score(X_train, y_train)))\n",
    "print(\"Test Set Score: {}\".format(grid_adaboost_rf.score(X_test,y_test)))"
   ]
  },
  {
   "cell_type": "markdown",
   "metadata": {},
   "source": [
    "### Gradient Boosting"
   ]
  },
  {
   "cell_type": "code",
   "execution_count": null,
   "metadata": {},
   "outputs": [],
   "source": [
    "gb_rf = GradientBoostingClassifier(random_state=0)\n",
    "\n",
    "param_grid = {'max_depth':[1,2],\n",
    "              'learning_rate' : [0.01,0.03,0.1,0.3,1.0],\n",
    "              'n_estimators': [50,100,200]} \n",
    "grid_gb_rf = GridSearchCV(gb_rf, param_grid, cv = 5,return_train_score=True,n_jobs=-1)\n",
    "grid_gb_rf.fit(X_train, y_train)\n",
    "print(\"Best cross-validation accuracy: {:.2f}\".format(grid_gb_rf.best_score_))\n",
    "print(\"Best parameters: {}\".format(grid_gb_rf.best_params_))\n",
    "print(\"Train Set Score: {}\".format(grid_gb_rf.score(X_train, y_train)))\n",
    "print(\"Test Set Score: {}\".format(grid_gb_rf.score(X_test,y_test)))\n"
   ]
  },
  {
   "cell_type": "markdown",
   "metadata": {},
   "source": [
    "# Voting Classifier"
   ]
  },
  {
   "cell_type": "code",
   "execution_count": null,
   "metadata": {},
   "outputs": [],
   "source": [
    "from sklearn.ensemble import VotingClassifier\n"
   ]
  },
  {
   "cell_type": "markdown",
   "metadata": {},
   "source": [
    "### Hard voting\n"
   ]
  },
  {
   "cell_type": "code",
   "execution_count": null,
   "metadata": {},
   "outputs": [],
   "source": [
    "# 1st Hard Voting Classifier"
   ]
  },
  {
   "cell_type": "code",
   "execution_count": null,
   "metadata": {},
   "outputs": [],
   "source": [
    "hard_voting_one = VotingClassifier(estimators=[('knn',best_knn),('lm', best_log_reg),('svc',best_svc_linear)],voting='hard')\n",
    "\n",
    "hard_voting_one.fit(X_train, y_train)\n",
    "print('Train score: {0:0.4f}'.format(hard_voting_one.score(X_train, y_train)))\n",
    "print('Test score: {0:0.4f}'.format(hard_voting_one.score(X_test, y_test)))"
   ]
  },
  {
   "cell_type": "code",
   "execution_count": null,
   "metadata": {},
   "outputs": [],
   "source": [
    "# 2nd Hard Voting Classifier"
   ]
  },
  {
   "cell_type": "code",
   "execution_count": null,
   "metadata": {},
   "outputs": [],
   "source": [
    "hard_voting_two = VotingClassifier(estimators=[('dt',best_dtree),('svc',best_svc_Rbf),('forest',best_rf)],voting = 'hard')\n",
    "hard_voting_two.fit(X_train, y_train)\n",
    "print('Train score: {0:0.4f}'.format(hard_voting_two.score(X_train, y_train)))\n",
    "print('Test score: {0:0.4f}'.format(hard_voting_two.score(X_test, y_test)))"
   ]
  },
  {
   "cell_type": "code",
   "execution_count": null,
   "metadata": {},
   "outputs": [],
   "source": [
    "# 1st Soft Voting Classifier"
   ]
  },
  {
   "cell_type": "code",
   "execution_count": null,
   "metadata": {},
   "outputs": [],
   "source": [
    "soft_voting_one = VotingClassifier(estimators=[('knn',best_knn),('lm', best_log_reg),('svc',best_svc_linear)],voting='soft')\n",
    "\n",
    "soft_voting_one.fit(X_train, y_train)\n",
    "print('Train score: {0:0.4f}'.format(soft_voting_one.score(X_train, y_train)))\n",
    "print('Test score: {0:0.4f}'.format(soft_voting_one.score(X_test, y_test)))"
   ]
  },
  {
   "cell_type": "code",
   "execution_count": null,
   "metadata": {},
   "outputs": [],
   "source": [
    "# 2nd Soft Voting Classifier"
   ]
  },
  {
   "cell_type": "code",
   "execution_count": null,
   "metadata": {},
   "outputs": [],
   "source": [
    "soft_voting_two = VotingClassifier(estimators=[('dt',best_dtree),('svc',best_svc_Rbf),('forest',best_rf)],voting = 'soft')\n",
    "soft_voting_two.fit(X_train, y_train)\n",
    "print('Train score: {0:0.4f}'.format(soft_voting_two.score(X_train, y_train)))\n",
    "print('Test score: {0:0.4f}'.format(soft_voting_two.score(X_test, y_test)))"
   ]
  },
  {
   "cell_type": "markdown",
   "metadata": {},
   "source": [
    "# PCA"
   ]
  },
  {
   "cell_type": "code",
   "execution_count": null,
   "metadata": {},
   "outputs": [],
   "source": [
    "n,mj\n",
    "from sklearn.decomposition import PCA\n",
    "\n",
    "pca = PCA(n_components=0.95)\n",
    "X_reduced_train = pca.fit_transform(X_train)\n",
    "X_reduced_test = pca.transform(X_test)"
   ]
  },
  {
   "cell_type": "code",
   "execution_count": null,
   "metadata": {},
   "outputs": [],
   "source": [
    "X_reduced_train"
   ]
  },
  {
   "cell_type": "code",
   "execution_count": null,
   "metadata": {},
   "outputs": [],
   "source": [
    "X_reduced_test"
   ]
  },
  {
   "cell_type": "code",
   "execution_count": null,
   "metadata": {},
   "outputs": [],
   "source": [
    "### Expalained Variance \n",
    "pca.explained_variance_ratio_.sum()"
   ]
  },
  {
   "cell_type": "code",
   "execution_count": null,
   "metadata": {},
   "outputs": [],
   "source": [
    "### UnExpalained Variance\n",
    "1-pca.explained_variance_ratio_.sum()"
   ]
  },
  {
   "cell_type": "markdown",
   "metadata": {},
   "source": [
    "## Conclusion FOr PCA Pending"
   ]
  },
  {
   "cell_type": "markdown",
   "metadata": {},
   "source": [
    "## Implementing The reduced Value on PCA"
   ]
  },
  {
   "cell_type": "markdown",
   "metadata": {},
   "source": [
    "### Model 1  : Logistic Regression"
   ]
  },
  {
   "cell_type": "code",
   "execution_count": null,
   "metadata": {},
   "outputs": [],
   "source": [
    "from sklearn.linear_model import LogisticRegression\n",
    "from sklearn.model_selection import GridSearchCV\n",
    "param_lr = {'C':[0.01, 0.1, 1, 10, 100, 1000], 'penalty': ['l1','l2']}\n",
    "\n",
    "log_reg = LogisticRegression()\n",
    "\n",
    "grid_LogR = GridSearchCV(log_reg, param_grid = param_lr, cv = 5, scoring='roc_auc',n_jobs=-1)\n",
    "grid_LogR.fit(X_reduced_train, y_train)\n",
    "\n"
   ]
  },
  {
   "cell_type": "code",
   "execution_count": null,
   "metadata": {},
   "outputs": [],
   "source": [
    "print(\"Best cross-validation accuracy: {:.2f}\".format(grid_LogR.best_score_))\n",
    "print(\"Best parameters: {}\".format(grid_LogR.best_params_))\n",
    "print(\"Train Set Score: {:.2f}\".format(grid_LogR.score(X_reduced_train, y_train)))\n",
    "print(\"Test Set Score: {:.2f}\".format(grid_LogR.score(X_reduced_test, y_test)))\n"
   ]
  },
  {
   "cell_type": "code",
   "execution_count": null,
   "metadata": {},
   "outputs": [],
   "source": [
    "LogR_train_predict = grid_LogR.predict(X_reduced_train);\n",
    "LogR_predict = grid_LogR.predict(X_reduced_test);"
   ]
  },
  {
   "cell_type": "code",
   "execution_count": null,
   "metadata": {},
   "outputs": [],
   "source": [
    "from sklearn.metrics import roc_auc_score\n",
    "print('Train roc_auc_score: %.2f'%roc_auc_score(LogR_train_predict, y_train))\n",
    "print('Test roc_auc_score: %.2f '%roc_auc_score(LogR_predict, y_test))"
   ]
  },
  {
   "cell_type": "code",
   "execution_count": null,
   "metadata": {},
   "outputs": [],
   "source": [
    "cv_results = pd.DataFrame.from_dict(grid_LogR.cv_results_)\n",
    "cv_results[['params','param_penalty','mean_train_score','mean_test_score']]"
   ]
  },
  {
   "cell_type": "code",
   "execution_count": null,
   "metadata": {},
   "outputs": [],
   "source": [
    "x_axis = param_lr['C']\n",
    "l1_trn = cv_results[cv_results['param_penalty']=='l1']['mean_train_score']\n",
    "l1_tst = cv_results[cv_results['param_penalty']=='l1']['mean_test_score']\n",
    "l2_trn = cv_results[cv_results['param_penalty']=='l2']['mean_train_score']\n",
    "l2_tst = cv_results[cv_results['param_penalty']=='l2']['mean_test_score']\n"
   ]
  },
  {
   "cell_type": "code",
   "execution_count": null,
   "metadata": {},
   "outputs": [],
   "source": [
    "%matplotlib inline\n",
    "plt.plot(x_axis, l1_trn , label = ' Train Score l1')\n",
    "plt.plot(x_axis, l1_tst , label = ' Test Score l1')\n",
    "plt.plot(x_axis, l2_trn , label = ' Train Score l2')\n",
    "plt.plot(x_axis, l2_tst , label = ' Test Score l2')\n",
    "plt.xlabel('C')\n",
    "plt.xscale('log')\n",
    "plt.ylabel('Accuracy')\n",
    "plt.legend()\n"
   ]
  },
  {
   "cell_type": "code",
   "execution_count": null,
   "metadata": {},
   "outputs": [],
   "source": [
    "report_table = [['Logistic', grid_LogR.best_params_, grid_LogR.score(X_reduced_train, y_train), grid_LogR.score(X_reduced_test, y_test), roc_auc_score(LogR_train_predict, y_train), roc_auc_score(LogR_predict, y_test)]]"
   ]
  },
  {
   "cell_type": "markdown",
   "metadata": {},
   "source": [
    "### Model 2 : KNN Classifier"
   ]
  },
  {
   "cell_type": "code",
   "execution_count": null,
   "metadata": {},
   "outputs": [],
   "source": [
    "from sklearn.neighbors import KNeighborsClassifier\n",
    "\n",
    "Knn = KNeighborsClassifier()\n",
    "param_Knn = {'n_neighbors':[1, 5, 10, 15, 20]}\n",
    "\n",
    "grid_Knn = GridSearchCV(Knn, param_grid=param_Knn, cv = 5, scoring='roc_auc',n_jobs=-1)\n",
    "grid_Knn.fit(X_reduced_train, y_train)"
   ]
  },
  {
   "cell_type": "code",
   "execution_count": null,
   "metadata": {},
   "outputs": [],
   "source": [
    "print(\"Best cross-validation accuracy: {:.2f}\".format(grid_Knn.best_score_))\n",
    "print(\"Best parameters: {}\".format(grid_Knn.best_params_))\n",
    "print(\"Train Set Score: {:.2f}\".format(grid_Knn.score(X_reduced_train, y_train)))\n",
    "print(\"Test Set Score: {:.2f}\".format(grid_Knn.score(X_reduced_test, y_test)))"
   ]
  },
  {
   "cell_type": "code",
   "execution_count": null,
   "metadata": {},
   "outputs": [],
   "source": [
    "Knn_train_predict = grid_Knn.predict(X_reduced_train);\n",
    "Knn_predict = grid_Knn.predict(X_reduced_test);\n",
    "from sklearn.metrics import roc_auc_score\n",
    "print('Train roc_auc_score: %.2f'%roc_auc_score(Knn_train_predict, y_train))\n",
    "print('Test roc_auc_score: %.2f '%roc_auc_score(Knn_predict, y_test))"
   ]
  },
  {
   "cell_type": "code",
   "execution_count": null,
   "metadata": {},
   "outputs": [],
   "source": [
    "cv_results = pd.DataFrame.from_dict(grid_Knn.cv_results_)\n",
    "cv_results[['params','mean_train_score','mean_test_score']]"
   ]
  },
  {
   "cell_type": "code",
   "execution_count": null,
   "metadata": {},
   "outputs": [],
   "source": [
    "x_axis = cv_results['param_n_neighbors']\n",
    "%matplotlib inline\n",
    "plt.plot(x_axis, cv_results['mean_train_score'], label = 'Mean Train Score', c = 'g')\n",
    "plt.plot(x_axis, cv_results['mean_test_score'], label = 'Mean Test Score', c='b')\n",
    "plt.xlabel('Neighbours')\n",
    "plt.ylabel('Accuracy')\n",
    "plt.legend()"
   ]
  },
  {
   "cell_type": "code",
   "execution_count": null,
   "metadata": {},
   "outputs": [],
   "source": [
    "report_table = report_table+[['Knn Classifier', grid_Knn.best_params_, grid_Knn.score(X_reduced_train, y_train), grid_Knn.score(X_reduced_test, y_test), roc_auc_score(Knn_train_predict, y_train), roc_auc_score(Knn_predict, y_test) ]]"
   ]
  },
  {
   "cell_type": "markdown",
   "metadata": {},
   "source": [
    "### Model 3 : Lineara SVC"
   ]
  },
  {
   "cell_type": "code",
   "execution_count": null,
   "metadata": {},
   "outputs": [],
   "source": [
    "from sklearn.svm import LinearSVC\n",
    "\n",
    "LSVC = LinearSVC()\n",
    "param_LSVC = {'C':[0.001, 0.01, 0.1, 1, 10, 100]}\n",
    "print(\"Parameter grid for Linear SVC: {}\".format(param_LSVC))"
   ]
  },
  {
   "cell_type": "code",
   "execution_count": null,
   "metadata": {},
   "outputs": [],
   "source": [
    "grid_LSVC = GridSearchCV(LSVC, param_grid=param_LSVC, cv = 5, scoring='roc_auc', return_train_score=True,n_jobs=-1)\n",
    "grid_LSVC.fit(X_reduced_train, y_train)"
   ]
  },
  {
   "cell_type": "code",
   "execution_count": null,
   "metadata": {},
   "outputs": [],
   "source": [
    "LSCV_predict_train = grid_LSVC.predict(X_reduced_train)\n",
    "LSCV_predict = grid_LSVC.predict(X_reduced_test)"
   ]
  },
  {
   "cell_type": "code",
   "execution_count": null,
   "metadata": {},
   "outputs": [],
   "source": [
    "print(\"Best cross-validation accuracy: {:.2f}\".format(grid_LSVC.best_score_))\n",
    "print(\"Best parameters: {}\".format(grid_LSVC.best_params_))\n",
    "print(\"Train Set Score: {:.2f}\".format(grid_LSVC.score(X_reduced_train, y_train)))\n",
    "print(\"Test Set Score: {:.2f}\".format(grid_LSVC.score(X_reduced_test, y_test)))"
   ]
  },
  {
   "cell_type": "code",
   "execution_count": null,
   "metadata": {},
   "outputs": [],
   "source": [
    "report_table = report_table + [['Linear SVC', grid_LSVC.best_params_, grid_LSVC.score(X_reduced_train, y_train), grid_LSVC.score(X_reduced_test, y_test), roc_auc_score(LSCV_predict_train, y_train), roc_auc_score(LSCV_predict, y_test)]]"
   ]
  },
  {
   "cell_type": "markdown",
   "metadata": {},
   "source": [
    "### Model 4: SVM Kernel 'Linear'"
   ]
  },
  {
   "cell_type": "code",
   "execution_count": null,
   "metadata": {},
   "outputs": [],
   "source": [
    "from sklearn.svm import SVC, LinearSVC\n",
    "\n",
    "svc_linear = SVC(kernel = 'linear') \n",
    "param_grid = {'C':[0.01, 0.1, 1, 10]}\n",
    "print(\"Parameter grid for Linear SVM: {}\".format(param_grid))\n",
    "\n"
   ]
  },
  {
   "cell_type": "code",
   "execution_count": null,
   "metadata": {},
   "outputs": [],
   "source": [
    "grid_svcLinear = GridSearchCV(svc_linear, param_grid = param_grid, cv = 5, n_jobs = -1, scoring='roc_auc')\n",
    "grid_svcLinear.fit(X_reduced_train, y_train)"
   ]
  },
  {
   "cell_type": "code",
   "execution_count": null,
   "metadata": {},
   "outputs": [],
   "source": [
    "cv_results = pd.DataFrame.from_dict(grid_svcLinear.cv_results_)\n",
    "cv_results[['params','mean_train_score','mean_test_score']]\n"
   ]
  },
  {
   "cell_type": "code",
   "execution_count": null,
   "metadata": {},
   "outputs": [],
   "source": [
    "print(\"Best cross-validation score: {:.2f}\".format(grid_svcLinear.best_score_))\n",
    "print('Best penalty term:',grid_svcLinear.best_params_)\n",
    "print(\"Training Score: {:.2f}\".format(grid_svcLinear.score(X_reduced_train, y_train)))\n",
    "print(\"Testing Score: {:.2f}\".format(grid_svcLinear.score(X_reduced_test, y_test)))"
   ]
  },
  {
   "cell_type": "code",
   "execution_count": null,
   "metadata": {},
   "outputs": [],
   "source": [
    "svcLinear_predict_train = grid_svcLinear.predict(X_reduced_train);\n",
    "svcLinear_predict = grid_svcLinear.predict(X_reduced_test);"
   ]
  },
  {
   "cell_type": "code",
   "execution_count": null,
   "metadata": {},
   "outputs": [],
   "source": [
    "report_table = report_table + [['SVC Linear Kernalized', 'C = 10', grid_svcLinear.score(X_reduced_train, y_train), grid_svcLinear.score(X_reduced_test, y_test), roc_auc_score(svcLinear_predict_train, y_train), roc_auc_score(svcLinear_predict, y_test)]]"
   ]
  },
  {
   "cell_type": "markdown",
   "metadata": {},
   "source": [
    "### Model 5 : SVM Kernel'RBF'"
   ]
  },
  {
   "cell_type": "code",
   "execution_count": null,
   "metadata": {},
   "outputs": [],
   "source": [
    "svc_rbf = SVC(kernel = 'rbf') \n",
    "param_grid = {'C':[0.01, 0.1, 1, 10], 'gamma':[0.01,0.1,1,10]}\n",
    "print(\"Parameter grid for Linear SVR: {}\".format(param_grid))\n",
    "\n",
    "grid_svcRbf = GridSearchCV(svc_rbf, param_grid = param_grid, cv = 5, n_jobs = -1, scoring='roc_auc')\n",
    "grid_svcRbf.fit(X_reduced_train, y_train)"
   ]
  },
  {
   "cell_type": "code",
   "execution_count": null,
   "metadata": {},
   "outputs": [],
   "source": [
    "print(\"Best cross-validation score: {:.2f}\".format(grid_svcRbf.best_score_))\n",
    "print('Best parameters term:',grid_svcRbf.best_params_)\n",
    "print(\"Training Score: {:.4f}\".format(grid_svcRbf.score(X_reduced_train, y_train)))\n",
    "print(\"Testing Score: {:.4f}\".format(grid_svcRbf.score(X_reduced_test, y_test)))"
   ]
  },
  {
   "cell_type": "code",
   "execution_count": null,
   "metadata": {},
   "outputs": [],
   "source": [
    "y_svcRbf_predict_train = grid_svcRbf.predict(X_reduced_train)\n",
    "y_svcRbf_predict = grid_svcRbf.predict(X_reduced_test)\n",
    "\n"
   ]
  },
  {
   "cell_type": "code",
   "execution_count": null,
   "metadata": {},
   "outputs": [],
   "source": [
    "report_table = report_table + [['SVC RBF Kernalized', 'C = 10, Gamma = 0.01', grid_svcRbf.score(X_reduced_train, y_train), grid_svcRbf.score(X_reduced_test, y_test), roc_auc_score(y_svcRbf_predict_train, y_train), roc_auc_score(y_svcRbf_predict, y_test)]]"
   ]
  },
  {
   "cell_type": "markdown",
   "metadata": {},
   "source": [
    "### Model 6: Decision Tree"
   ]
  },
  {
   "cell_type": "code",
   "execution_count": null,
   "metadata": {},
   "outputs": [],
   "source": [
    "from sklearn.tree import DecisionTreeClassifier\n",
    "\n",
    "param_grid = {'max_depth':[1, 2, 3, 4, 5, 6]}\n",
    "dtree = DecisionTreeClassifier()\n",
    "\n",
    "grid_tree = GridSearchCV(dtree, param_grid, cv = 5, scoring='roc_auc', return_train_score=True,n_jobs=-1)\n",
    "grid_tree.fit(X_reduced_train, y_train)"
   ]
  },
  {
   "cell_type": "code",
   "execution_count": null,
   "metadata": {},
   "outputs": [],
   "source": [
    "dtree_predict_train = grid_tree.predict(X_reduced_train);\n",
    "dtree_predict = grid_tree.predict(X_reduced_test);"
   ]
  },
  {
   "cell_type": "code",
   "execution_count": null,
   "metadata": {},
   "outputs": [],
   "source": [
    "report_table = report_table + [['Decision Tree', 'max_depth = 4', grid_tree.score(X_reduced_train, y_train), grid_tree.score(X_reduced_test, y_test), roc_auc_score(dtree_predict_train, y_train), roc_auc_score(dtree_predict, y_test)]]"
   ]
  },
  {
   "cell_type": "markdown",
   "metadata": {},
   "source": [
    "### Model 7 : SVM Kernel'Poly'"
   ]
  },
  {
   "cell_type": "code",
   "execution_count": null,
   "metadata": {},
   "outputs": [],
   "source": [
    "svc_poly = SVC(degree = 2) \n",
    "param_grid = {'C':[0.01, 0.1, 1, 10]}\n",
    "\n",
    "grid_svcPoly = GridSearchCV(svc_poly, param_grid = param_grid, cv = 5, n_jobs = -1, scoring='roc_auc')\n",
    "grid_svcPoly.fit(X_reduced_train, y_train)"
   ]
  },
  {
   "cell_type": "code",
   "execution_count": null,
   "metadata": {},
   "outputs": [],
   "source": [
    "cv_results = pd.DataFrame.from_dict(grid_svcPoly.cv_results_)\n",
    "cv_results[['param_C','mean_train_score','mean_test_score']]"
   ]
  },
  {
   "cell_type": "code",
   "execution_count": null,
   "metadata": {},
   "outputs": [],
   "source": [
    "y_svcPoly_predict_train = grid_svcPoly.predict(X_reduced_train);\n",
    "y_svcPoly_predict = grid_svcPoly.predict(X_reduced_test);\n",
    "\n",
    "\n",
    "# roc_auc_score(y_svcPoly_predict_train, y_train) roc_auc_score(y_svcPoly_predict, y_test)\n",
    "# try:\n",
    "#     roc_auc_score(y_true, y_scores)\n",
    "# except ValueError:\n",
    "#     pass"
   ]
  },
  {
   "cell_type": "code",
   "execution_count": null,
   "metadata": {},
   "outputs": [],
   "source": [
    "report_table = report_table + [['SVC Poly', 'C = 10', grid_svcPoly.score(X_reduced_train, y_train), grid_svcPoly.score(X_reduced_test, y_test), roc_auc_score(y_svcPoly_predict_train, y_train), roc_auc_score(y_svcPoly_predict, y_test)]]"
   ]
  },
  {
   "cell_type": "code",
   "execution_count": null,
   "metadata": {},
   "outputs": [],
   "source": [
    "report = pd.DataFrame(report_table,columns = ['Model name', 'Model parameter', 'Train accuracy', 'Test accuracy', 'Train auc score', 'Test auc score'])"
   ]
  },
  {
   "cell_type": "code",
   "execution_count": null,
   "metadata": {},
   "outputs": [],
   "source": [
    "report"
   ]
  },
  {
   "cell_type": "markdown",
   "metadata": {},
   "source": [
    "### Linear SVC is More accurate"
   ]
  },
  {
   "cell_type": "markdown",
   "metadata": {},
   "source": [
    "### Details of Model without applying PCA  \n",
    "#### Copied from Project 2 Table report"
   ]
  },
  {
   "cell_type": "code",
   "execution_count": null,
   "metadata": {
    "scrolled": false
   },
   "outputs": [],
   "source": [
    "report"
   ]
  },
  {
   "cell_type": "markdown",
   "metadata": {},
   "source": [
    "## Conclusion for PCA "
   ]
  },
  {
   "cell_type": "markdown",
   "metadata": {},
   "source": [
    "### We can observe that the accuracy of models have increased for the models in which we used PCA reduced dataset But the score difference between Original and Reduced dataset is very minor. So we can infer that Using the PCA approach has not significantlly altered  score of the models and hence we can consider the original data set for our analysis."
   ]
  },
  {
   "cell_type": "markdown",
   "metadata": {},
   "source": [
    "# ANN "
   ]
  },
  {
   "cell_type": "code",
   "execution_count": null,
   "metadata": {},
   "outputs": [],
   "source": [
    "from keras.models import Sequential\n",
    "from keras.layers import Dense\n",
    "from sklearn.metrics import r2_score, recall_score, precision_score"
   ]
  },
  {
   "cell_type": "code",
   "execution_count": null,
   "metadata": {},
   "outputs": [],
   "source": [
    "model = Sequential()\n",
    "model.add(Dense(15,input_dim=77,activation='relu'))\n",
    "model.add(Dense(8, activation='relu'))\n",
    "model.add(Dense(1, activation='sigmoid'))\n",
    "model.compile(optimizer='adam',loss='binary_crossentropy',metrics=['accuracy'])\n",
    "model.fit(X_train, y_train)"
   ]
  },
  {
   "cell_type": "code",
   "execution_count": null,
   "metadata": {},
   "outputs": [],
   "source": [
    "\n",
    "# evaluate the model\n",
    "scores = model.evaluate(X_test, y_test)\n",
    "print(\"\\n%s: %.2f%%\" % (model.metrics_names[1], scores[1]*100))"
   ]
  },
  {
   "cell_type": "code",
   "execution_count": null,
   "metadata": {},
   "outputs": [],
   "source": [
    "from sklearn.metrics import r2_score, recall_score, precision_score\n",
    "\n",
    "y_train_predict = model.predict(X_train)\n",
    "y_test_predict = model.predict(X_test)\n",
    "\n",
    "print('Train score: {:.2f}'.format(r2_score(y_train, y_train_predict)))\n",
    "print('Test score: {:.2f}'.format(r2_score(y_test, y_test_predict)))"
   ]
  },
  {
   "cell_type": "code",
   "execution_count": null,
   "metadata": {},
   "outputs": [],
   "source": [
    "model.summary()"
   ]
  },
  {
   "cell_type": "code",
   "execution_count": null,
   "metadata": {},
   "outputs": [],
   "source": []
  }
 ],
 "metadata": {
  "kernelspec": {
   "display_name": "Python 3",
   "language": "python",
   "name": "python3"
  },
  "language_info": {
   "codemirror_mode": {
    "name": "ipython",
    "version": 3
   },
   "file_extension": ".py",
   "mimetype": "text/x-python",
   "name": "python",
   "nbconvert_exporter": "python",
   "pygments_lexer": "ipython3",
   "version": "3.8.3"
  }
 },
 "nbformat": 4,
 "nbformat_minor": 2
}
